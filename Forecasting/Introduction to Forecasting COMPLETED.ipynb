{
 "cells": [
  {
   "cell_type": "markdown",
   "metadata": {
    "id": "cx1euGvIDXK1",
    "pycharm": {
     "name": "#%% md\n"
    }
   },
   "source": [
    "# Hands On - Fighting Foodwaste - Introduction to Forecasting"
   ]
  },
  {
   "cell_type": "markdown",
   "metadata": {
    "id": "X9Vf8VnxEL-G",
    "pycharm": {
     "name": "#%% md\n"
    }
   },
   "source": [
    "# Import Data"
   ]
  },
  {
   "cell_type": "code",
   "execution_count": 1,
   "metadata": {
    "id": "p8eQ13i_2Pdk",
    "pycharm": {
     "name": "#%%\n"
    }
   },
   "outputs": [],
   "source": [
    "import pandas as pd\n",
    "bakery = pd.read_csv(\"https://raw.githubusercontent.com/casbdai/datasets/main/bakery_sales.csv\")"
   ]
  },
  {
   "cell_type": "markdown",
   "metadata": {
    "id": "xZ_q2Lpe3ByL",
    "pycharm": {
     "name": "#%% md\n"
    }
   },
   "source": [
    "## Check Structure of Data"
   ]
  },
  {
   "cell_type": "code",
   "execution_count": 2,
   "metadata": {
    "id": "fb7lmlk5EN2M",
    "pycharm": {
     "name": "#%%\n"
    }
   },
   "outputs": [
    {
     "name": "stdout",
     "output_type": "stream",
     "text": [
      "<class 'pandas.core.frame.DataFrame'>\n",
      "RangeIndex: 21293 entries, 0 to 21292\n",
      "Data columns (total 4 columns):\n",
      " #   Column       Non-Null Count  Dtype \n",
      "---  ------       --------------  ----- \n",
      " 0   Date         21293 non-null  object\n",
      " 1   Time         21293 non-null  object\n",
      " 2   Transaction  21293 non-null  int64 \n",
      " 3   Item         21293 non-null  object\n",
      "dtypes: int64(1), object(3)\n",
      "memory usage: 665.5+ KB\n"
     ]
    }
   ],
   "source": [
    "bakery.info()"
   ]
  },
  {
   "cell_type": "code",
   "execution_count": 3,
   "metadata": {
    "id": "tATu7qlhKrfC",
    "pycharm": {
     "name": "#%%\n"
    }
   },
   "outputs": [
    {
     "data": {
      "text/html": [
       "<div>\n",
       "<style scoped>\n",
       "    .dataframe tbody tr th:only-of-type {\n",
       "        vertical-align: middle;\n",
       "    }\n",
       "\n",
       "    .dataframe tbody tr th {\n",
       "        vertical-align: top;\n",
       "    }\n",
       "\n",
       "    .dataframe thead th {\n",
       "        text-align: right;\n",
       "    }\n",
       "</style>\n",
       "<table border=\"1\" class=\"dataframe\">\n",
       "  <thead>\n",
       "    <tr style=\"text-align: right;\">\n",
       "      <th></th>\n",
       "      <th>Date</th>\n",
       "      <th>Time</th>\n",
       "      <th>Transaction</th>\n",
       "      <th>Item</th>\n",
       "    </tr>\n",
       "  </thead>\n",
       "  <tbody>\n",
       "    <tr>\n",
       "      <th>0</th>\n",
       "      <td>2018-10-30</td>\n",
       "      <td>09:58:11</td>\n",
       "      <td>1</td>\n",
       "      <td>Bread</td>\n",
       "    </tr>\n",
       "    <tr>\n",
       "      <th>1</th>\n",
       "      <td>2018-10-30</td>\n",
       "      <td>10:05:34</td>\n",
       "      <td>2</td>\n",
       "      <td>Scandinavian</td>\n",
       "    </tr>\n",
       "    <tr>\n",
       "      <th>2</th>\n",
       "      <td>2018-10-30</td>\n",
       "      <td>10:05:34</td>\n",
       "      <td>2</td>\n",
       "      <td>Scandinavian</td>\n",
       "    </tr>\n",
       "    <tr>\n",
       "      <th>3</th>\n",
       "      <td>2018-10-30</td>\n",
       "      <td>10:07:57</td>\n",
       "      <td>3</td>\n",
       "      <td>Hot chocolate</td>\n",
       "    </tr>\n",
       "    <tr>\n",
       "      <th>4</th>\n",
       "      <td>2018-10-30</td>\n",
       "      <td>10:07:57</td>\n",
       "      <td>3</td>\n",
       "      <td>Jam</td>\n",
       "    </tr>\n",
       "  </tbody>\n",
       "</table>\n",
       "</div>"
      ],
      "text/plain": [
       "         Date      Time  Transaction           Item\n",
       "0  2018-10-30  09:58:11            1          Bread\n",
       "1  2018-10-30  10:05:34            2   Scandinavian\n",
       "2  2018-10-30  10:05:34            2   Scandinavian\n",
       "3  2018-10-30  10:07:57            3  Hot chocolate\n",
       "4  2018-10-30  10:07:57            3            Jam"
      ]
     },
     "execution_count": 3,
     "metadata": {},
     "output_type": "execute_result"
    }
   ],
   "source": [
    "bakery.head()"
   ]
  },
  {
   "cell_type": "markdown",
   "metadata": {
    "id": "VXM0MBdqEXc5",
    "pycharm": {
     "name": "#%% md\n"
    }
   },
   "source": [
    "## Importing Data correctly"
   ]
  },
  {
   "cell_type": "markdown",
   "metadata": {
    "id": "rUwG9xvFmoOX",
    "pycharm": {
     "name": "#%% md\n"
    }
   },
   "source": [
    "Pandas has very good functionalities for dealing with time series - they save a tremendous lot of pre-processing work."
   ]
  },
  {
   "cell_type": "code",
   "execution_count": 4,
   "metadata": {
    "id": "yvQr56qAF2KE",
    "pycharm": {
     "name": "#%%\n"
    }
   },
   "outputs": [],
   "source": [
    "bakery = pd.read_csv(\"https://raw.githubusercontent.com/casbdai/datasets/main/bakery_sales.csv\", index_col=\"Date\", parse_dates=True)"
   ]
  },
  {
   "cell_type": "code",
   "execution_count": 5,
   "metadata": {
    "id": "cMC8Xv7M2rhI",
    "pycharm": {
     "name": "#%%\n"
    }
   },
   "outputs": [
    {
     "name": "stdout",
     "output_type": "stream",
     "text": [
      "<class 'pandas.core.frame.DataFrame'>\n",
      "DatetimeIndex: 21293 entries, 2018-10-30 to 2019-04-09\n",
      "Data columns (total 3 columns):\n",
      " #   Column       Non-Null Count  Dtype \n",
      "---  ------       --------------  ----- \n",
      " 0   Time         21293 non-null  object\n",
      " 1   Transaction  21293 non-null  int64 \n",
      " 2   Item         21293 non-null  object\n",
      "dtypes: int64(1), object(2)\n",
      "memory usage: 665.4+ KB\n"
     ]
    }
   ],
   "source": [
    "bakery.info()"
   ]
  },
  {
   "cell_type": "code",
   "execution_count": 6,
   "metadata": {
    "id": "vEHFU-462xAW",
    "pycharm": {
     "name": "#%%\n"
    }
   },
   "outputs": [
    {
     "data": {
      "text/html": [
       "<div>\n",
       "<style scoped>\n",
       "    .dataframe tbody tr th:only-of-type {\n",
       "        vertical-align: middle;\n",
       "    }\n",
       "\n",
       "    .dataframe tbody tr th {\n",
       "        vertical-align: top;\n",
       "    }\n",
       "\n",
       "    .dataframe thead th {\n",
       "        text-align: right;\n",
       "    }\n",
       "</style>\n",
       "<table border=\"1\" class=\"dataframe\">\n",
       "  <thead>\n",
       "    <tr style=\"text-align: right;\">\n",
       "      <th></th>\n",
       "      <th>Time</th>\n",
       "      <th>Transaction</th>\n",
       "      <th>Item</th>\n",
       "    </tr>\n",
       "    <tr>\n",
       "      <th>Date</th>\n",
       "      <th></th>\n",
       "      <th></th>\n",
       "      <th></th>\n",
       "    </tr>\n",
       "  </thead>\n",
       "  <tbody>\n",
       "    <tr>\n",
       "      <th>2018-10-30</th>\n",
       "      <td>09:58:11</td>\n",
       "      <td>1</td>\n",
       "      <td>Bread</td>\n",
       "    </tr>\n",
       "    <tr>\n",
       "      <th>2018-10-30</th>\n",
       "      <td>10:05:34</td>\n",
       "      <td>2</td>\n",
       "      <td>Scandinavian</td>\n",
       "    </tr>\n",
       "    <tr>\n",
       "      <th>2018-10-30</th>\n",
       "      <td>10:05:34</td>\n",
       "      <td>2</td>\n",
       "      <td>Scandinavian</td>\n",
       "    </tr>\n",
       "    <tr>\n",
       "      <th>2018-10-30</th>\n",
       "      <td>10:07:57</td>\n",
       "      <td>3</td>\n",
       "      <td>Hot chocolate</td>\n",
       "    </tr>\n",
       "    <tr>\n",
       "      <th>2018-10-30</th>\n",
       "      <td>10:07:57</td>\n",
       "      <td>3</td>\n",
       "      <td>Jam</td>\n",
       "    </tr>\n",
       "  </tbody>\n",
       "</table>\n",
       "</div>"
      ],
      "text/plain": [
       "                Time  Transaction           Item\n",
       "Date                                            \n",
       "2018-10-30  09:58:11            1          Bread\n",
       "2018-10-30  10:05:34            2   Scandinavian\n",
       "2018-10-30  10:05:34            2   Scandinavian\n",
       "2018-10-30  10:07:57            3  Hot chocolate\n",
       "2018-10-30  10:07:57            3            Jam"
      ]
     },
     "execution_count": 6,
     "metadata": {},
     "output_type": "execute_result"
    }
   ],
   "source": [
    "bakery.head()"
   ]
  },
  {
   "cell_type": "markdown",
   "metadata": {
    "id": "wKUmhCTiHXPN",
    "pycharm": {
     "name": "#%% md\n"
    }
   },
   "source": [
    "# Exploring Time Series"
   ]
  },
  {
   "cell_type": "markdown",
   "metadata": {
    "id": "QQURrdjOm-M-",
    "pycharm": {
     "name": "#%% md\n"
    }
   },
   "source": [
    "## Select A Product - Bread"
   ]
  },
  {
   "cell_type": "code",
   "execution_count": 7,
   "metadata": {
    "id": "pzJRFqY4B272",
    "pycharm": {
     "name": "#%%\n"
    }
   },
   "outputs": [
    {
     "data": {
      "text/html": [
       "<div>\n",
       "<style scoped>\n",
       "    .dataframe tbody tr th:only-of-type {\n",
       "        vertical-align: middle;\n",
       "    }\n",
       "\n",
       "    .dataframe tbody tr th {\n",
       "        vertical-align: top;\n",
       "    }\n",
       "\n",
       "    .dataframe thead th {\n",
       "        text-align: right;\n",
       "    }\n",
       "</style>\n",
       "<table border=\"1\" class=\"dataframe\">\n",
       "  <thead>\n",
       "    <tr style=\"text-align: right;\">\n",
       "      <th></th>\n",
       "      <th>Time</th>\n",
       "      <th>Transaction</th>\n",
       "      <th>Item</th>\n",
       "      <th>quantity</th>\n",
       "    </tr>\n",
       "    <tr>\n",
       "      <th>Date</th>\n",
       "      <th></th>\n",
       "      <th></th>\n",
       "      <th></th>\n",
       "      <th></th>\n",
       "    </tr>\n",
       "  </thead>\n",
       "  <tbody>\n",
       "    <tr>\n",
       "      <th>2018-10-30</th>\n",
       "      <td>09:58:11</td>\n",
       "      <td>1</td>\n",
       "      <td>Bread</td>\n",
       "      <td>1</td>\n",
       "    </tr>\n",
       "    <tr>\n",
       "      <th>2018-10-30</th>\n",
       "      <td>10:05:34</td>\n",
       "      <td>2</td>\n",
       "      <td>Scandinavian</td>\n",
       "      <td>1</td>\n",
       "    </tr>\n",
       "    <tr>\n",
       "      <th>2018-10-30</th>\n",
       "      <td>10:05:34</td>\n",
       "      <td>2</td>\n",
       "      <td>Scandinavian</td>\n",
       "      <td>1</td>\n",
       "    </tr>\n",
       "    <tr>\n",
       "      <th>2018-10-30</th>\n",
       "      <td>10:07:57</td>\n",
       "      <td>3</td>\n",
       "      <td>Hot chocolate</td>\n",
       "      <td>1</td>\n",
       "    </tr>\n",
       "    <tr>\n",
       "      <th>2018-10-30</th>\n",
       "      <td>10:07:57</td>\n",
       "      <td>3</td>\n",
       "      <td>Jam</td>\n",
       "      <td>1</td>\n",
       "    </tr>\n",
       "  </tbody>\n",
       "</table>\n",
       "</div>"
      ],
      "text/plain": [
       "                Time  Transaction           Item  quantity\n",
       "Date                                                      \n",
       "2018-10-30  09:58:11            1          Bread         1\n",
       "2018-10-30  10:05:34            2   Scandinavian         1\n",
       "2018-10-30  10:05:34            2   Scandinavian         1\n",
       "2018-10-30  10:07:57            3  Hot chocolate         1\n",
       "2018-10-30  10:07:57            3            Jam         1"
      ]
     },
     "execution_count": 7,
     "metadata": {},
     "output_type": "execute_result"
    }
   ],
   "source": [
    "bakery[\"quantity\"] = 1\n",
    "bakery.head()"
   ]
  },
  {
   "cell_type": "code",
   "execution_count": 8,
   "metadata": {
    "id": "PvdLFWzo5TpY",
    "pycharm": {
     "name": "#%%\n"
    }
   },
   "outputs": [
    {
     "data": {
      "text/html": [
       "<div>\n",
       "<style scoped>\n",
       "    .dataframe tbody tr th:only-of-type {\n",
       "        vertical-align: middle;\n",
       "    }\n",
       "\n",
       "    .dataframe tbody tr th {\n",
       "        vertical-align: top;\n",
       "    }\n",
       "\n",
       "    .dataframe thead th {\n",
       "        text-align: right;\n",
       "    }\n",
       "</style>\n",
       "<table border=\"1\" class=\"dataframe\">\n",
       "  <thead>\n",
       "    <tr style=\"text-align: right;\">\n",
       "      <th></th>\n",
       "      <th>Time</th>\n",
       "      <th>Transaction</th>\n",
       "      <th>Item</th>\n",
       "      <th>quantity</th>\n",
       "    </tr>\n",
       "    <tr>\n",
       "      <th>Date</th>\n",
       "      <th></th>\n",
       "      <th></th>\n",
       "      <th></th>\n",
       "      <th></th>\n",
       "    </tr>\n",
       "  </thead>\n",
       "  <tbody>\n",
       "    <tr>\n",
       "      <th>2018-10-30</th>\n",
       "      <td>09:58:11</td>\n",
       "      <td>1</td>\n",
       "      <td>Bread</td>\n",
       "      <td>1</td>\n",
       "    </tr>\n",
       "    <tr>\n",
       "      <th>2018-10-30</th>\n",
       "      <td>10:13:03</td>\n",
       "      <td>5</td>\n",
       "      <td>Bread</td>\n",
       "      <td>1</td>\n",
       "    </tr>\n",
       "    <tr>\n",
       "      <th>2018-10-30</th>\n",
       "      <td>10:20:51</td>\n",
       "      <td>8</td>\n",
       "      <td>Bread</td>\n",
       "      <td>1</td>\n",
       "    </tr>\n",
       "    <tr>\n",
       "      <th>2018-10-30</th>\n",
       "      <td>10:21:59</td>\n",
       "      <td>9</td>\n",
       "      <td>Bread</td>\n",
       "      <td>1</td>\n",
       "    </tr>\n",
       "    <tr>\n",
       "      <th>2018-10-30</th>\n",
       "      <td>10:27:21</td>\n",
       "      <td>11</td>\n",
       "      <td>Bread</td>\n",
       "      <td>1</td>\n",
       "    </tr>\n",
       "  </tbody>\n",
       "</table>\n",
       "</div>"
      ],
      "text/plain": [
       "                Time  Transaction   Item  quantity\n",
       "Date                                              \n",
       "2018-10-30  09:58:11            1  Bread         1\n",
       "2018-10-30  10:13:03            5  Bread         1\n",
       "2018-10-30  10:20:51            8  Bread         1\n",
       "2018-10-30  10:21:59            9  Bread         1\n",
       "2018-10-30  10:27:21           11  Bread         1"
      ]
     },
     "execution_count": 8,
     "metadata": {},
     "output_type": "execute_result"
    }
   ],
   "source": [
    "product = bakery[bakery[\"Item\"]==\"Bread\"]\n",
    "product.head()"
   ]
  },
  {
   "cell_type": "markdown",
   "metadata": {
    "id": "2cgLoI2DFa3s",
    "pycharm": {
     "name": "#%% md\n"
    }
   },
   "source": [
    "## Resampling Time Series\n",
    "\n",
    "Pandas has extremely neat support for time series. The .resample() method easily allows to aggregate (upsample) and expand time series (downsample)\n",
    "\n",
    "- **D** daily level\n",
    "- **W** weekly level\n",
    "- **Q** daily level\n",
    "- **Y** daily level\n"
   ]
  },
  {
   "cell_type": "code",
   "execution_count": 9,
   "metadata": {
    "id": "k-cJ2_2p4xyY",
    "pycharm": {
     "name": "#%%\n"
    }
   },
   "outputs": [
    {
     "data": {
      "text/plain": [
       "Date\n",
       "2018-10-30    29\n",
       "2018-10-31    24\n",
       "2018-11-01    21\n",
       "2018-11-02    17\n",
       "2018-11-03    26\n",
       "              ..\n",
       "2019-04-05    20\n",
       "2019-04-06    16\n",
       "2019-04-07    15\n",
       "2019-04-08    29\n",
       "2019-04-09     9\n",
       "Freq: D, Name: quantity, Length: 162, dtype: int64"
      ]
     },
     "execution_count": 9,
     "metadata": {},
     "output_type": "execute_result"
    }
   ],
   "source": [
    "product.resample(\"D\").quantity.sum()  # daily"
   ]
  },
  {
   "cell_type": "code",
   "execution_count": 10,
   "metadata": {
    "id": "CxZXcmLsHedn",
    "pycharm": {
     "name": "#%%\n"
    }
   },
   "outputs": [
    {
     "data": {
      "text/plain": [
       "Date\n",
       "2018-11-04    147\n",
       "2018-11-11    173\n",
       "2018-11-18    196\n",
       "2018-11-25    149\n",
       "2018-12-02    137\n",
       "2018-12-09    149\n",
       "2018-12-16    149\n",
       "2018-12-23    151\n",
       "2018-12-30    113\n",
       "2019-01-06     87\n",
       "2019-01-13    124\n",
       "2019-01-20    132\n",
       "2019-01-27    139\n",
       "2019-02-03    183\n",
       "2019-02-10    153\n",
       "2019-02-17    137\n",
       "2019-02-24    156\n",
       "2019-03-03    142\n",
       "2019-03-10    143\n",
       "2019-03-17    118\n",
       "2019-03-24    136\n",
       "2019-03-31    136\n",
       "2019-04-07    137\n",
       "2019-04-14     38\n",
       "Freq: W-SUN, Name: quantity, dtype: int64"
      ]
     },
     "execution_count": 10,
     "metadata": {},
     "output_type": "execute_result"
    }
   ],
   "source": [
    "product.resample(\"W\").quantity.sum()  # weeky"
   ]
  },
  {
   "cell_type": "code",
   "execution_count": 11,
   "metadata": {
    "id": "PPg8NiWUHke3",
    "pycharm": {
     "name": "#%%\n"
    }
   },
   "outputs": [
    {
     "data": {
      "text/plain": [
       "Date\n",
       "2018-12-31    1390\n",
       "2019-03-31    1760\n",
       "2019-06-30     175\n",
       "Freq: Q-DEC, Name: quantity, dtype: int64"
      ]
     },
     "execution_count": 11,
     "metadata": {},
     "output_type": "execute_result"
    }
   ],
   "source": [
    "product.resample(\"Q\").quantity.sum()  # quarterly"
   ]
  },
  {
   "cell_type": "markdown",
   "metadata": {
    "id": "7PCt2u_eIMCI",
    "pycharm": {
     "name": "#%% md\n"
    }
   },
   "source": [
    "## Plot Time Series"
   ]
  },
  {
   "cell_type": "code",
   "execution_count": 12,
   "metadata": {
    "id": "a_tnpNZaIEWZ",
    "pycharm": {
     "name": "#%%\n"
    }
   },
   "outputs": [],
   "source": [
    "product_ts = product.resample(\"D\").quantity.sum()"
   ]
  },
  {
   "cell_type": "code",
   "execution_count": 13,
   "metadata": {
    "id": "xOPgN49UIKsw",
    "pycharm": {
     "name": "#%%\n"
    }
   },
   "outputs": [
    {
     "data": {
      "text/plain": [
       "<AxesSubplot:xlabel='Date'>"
      ]
     },
     "execution_count": 13,
     "metadata": {},
     "output_type": "execute_result"
    },
    {
     "data": {
      "image/png": "[encoded data removed]",
      "text/plain": [
       "<Figure size 432x288 with 1 Axes>"
      ]
     },
     "metadata": {
      "needs_background": "light"
     },
     "output_type": "display_data"
    }
   ],
   "source": [
    "product_ts.plot()"
   ]
  },
  {
   "cell_type": "markdown",
   "metadata": {
    "id": "AobptkTYI5tI",
    "pycharm": {
     "name": "#%% md\n"
    }
   },
   "source": [
    "## Create some Time Series Features"
   ]
  },
  {
   "cell_type": "code",
   "execution_count": 14,
   "metadata": {
    "id": "I8S10etgIfTu",
    "pycharm": {
     "name": "#%%\n"
    }
   },
   "outputs": [
    {
     "data": {
      "text/html": [
       "<div>\n",
       "<style scoped>\n",
       "    .dataframe tbody tr th:only-of-type {\n",
       "        vertical-align: middle;\n",
       "    }\n",
       "\n",
       "    .dataframe tbody tr th {\n",
       "        vertical-align: top;\n",
       "    }\n",
       "\n",
       "    .dataframe thead th {\n",
       "        text-align: right;\n",
       "    }\n",
       "</style>\n",
       "<table border=\"1\" class=\"dataframe\">\n",
       "  <thead>\n",
       "    <tr style=\"text-align: right;\">\n",
       "      <th></th>\n",
       "      <th>quantity</th>\n",
       "    </tr>\n",
       "    <tr>\n",
       "      <th>Date</th>\n",
       "      <th></th>\n",
       "    </tr>\n",
       "  </thead>\n",
       "  <tbody>\n",
       "    <tr>\n",
       "      <th>2018-10-30</th>\n",
       "      <td>29</td>\n",
       "    </tr>\n",
       "    <tr>\n",
       "      <th>2018-10-31</th>\n",
       "      <td>24</td>\n",
       "    </tr>\n",
       "    <tr>\n",
       "      <th>2018-11-01</th>\n",
       "      <td>21</td>\n",
       "    </tr>\n",
       "    <tr>\n",
       "      <th>2018-11-02</th>\n",
       "      <td>17</td>\n",
       "    </tr>\n",
       "    <tr>\n",
       "      <th>2018-11-03</th>\n",
       "      <td>26</td>\n",
       "    </tr>\n",
       "  </tbody>\n",
       "</table>\n",
       "</div>"
      ],
      "text/plain": [
       "            quantity\n",
       "Date                \n",
       "2018-10-30        29\n",
       "2018-10-31        24\n",
       "2018-11-01        21\n",
       "2018-11-02        17\n",
       "2018-11-03        26"
      ]
     },
     "execution_count": 14,
     "metadata": {},
     "output_type": "execute_result"
    }
   ],
   "source": [
    "product_df = pd.DataFrame(product_ts)\n",
    "product_df.head()"
   ]
  },
  {
   "cell_type": "markdown",
   "metadata": {
    "id": "ex-2h9MSHDN-",
    "pycharm": {
     "name": "#%% md\n"
    }
   },
   "source": [
    "### Add \"day of the week\" feature"
   ]
  },
  {
   "cell_type": "code",
   "execution_count": 15,
   "metadata": {
    "id": "I8SfKPI0IpX5",
    "pycharm": {
     "name": "#%%\n"
    }
   },
   "outputs": [
    {
     "data": {
      "text/html": [
       "<div>\n",
       "<style scoped>\n",
       "    .dataframe tbody tr th:only-of-type {\n",
       "        vertical-align: middle;\n",
       "    }\n",
       "\n",
       "    .dataframe tbody tr th {\n",
       "        vertical-align: top;\n",
       "    }\n",
       "\n",
       "    .dataframe thead th {\n",
       "        text-align: right;\n",
       "    }\n",
       "</style>\n",
       "<table border=\"1\" class=\"dataframe\">\n",
       "  <thead>\n",
       "    <tr style=\"text-align: right;\">\n",
       "      <th></th>\n",
       "      <th>quantity</th>\n",
       "      <th>day_of_week</th>\n",
       "    </tr>\n",
       "    <tr>\n",
       "      <th>Date</th>\n",
       "      <th></th>\n",
       "      <th></th>\n",
       "    </tr>\n",
       "  </thead>\n",
       "  <tbody>\n",
       "    <tr>\n",
       "      <th>2018-10-30</th>\n",
       "      <td>29</td>\n",
       "      <td>1</td>\n",
       "    </tr>\n",
       "    <tr>\n",
       "      <th>2018-10-31</th>\n",
       "      <td>24</td>\n",
       "      <td>2</td>\n",
       "    </tr>\n",
       "    <tr>\n",
       "      <th>2018-11-01</th>\n",
       "      <td>21</td>\n",
       "      <td>3</td>\n",
       "    </tr>\n",
       "    <tr>\n",
       "      <th>2018-11-02</th>\n",
       "      <td>17</td>\n",
       "      <td>4</td>\n",
       "    </tr>\n",
       "    <tr>\n",
       "      <th>2018-11-03</th>\n",
       "      <td>26</td>\n",
       "      <td>5</td>\n",
       "    </tr>\n",
       "    <tr>\n",
       "      <th>...</th>\n",
       "      <td>...</td>\n",
       "      <td>...</td>\n",
       "    </tr>\n",
       "    <tr>\n",
       "      <th>2019-04-05</th>\n",
       "      <td>20</td>\n",
       "      <td>4</td>\n",
       "    </tr>\n",
       "    <tr>\n",
       "      <th>2019-04-06</th>\n",
       "      <td>16</td>\n",
       "      <td>5</td>\n",
       "    </tr>\n",
       "    <tr>\n",
       "      <th>2019-04-07</th>\n",
       "      <td>15</td>\n",
       "      <td>6</td>\n",
       "    </tr>\n",
       "    <tr>\n",
       "      <th>2019-04-08</th>\n",
       "      <td>29</td>\n",
       "      <td>0</td>\n",
       "    </tr>\n",
       "    <tr>\n",
       "      <th>2019-04-09</th>\n",
       "      <td>9</td>\n",
       "      <td>1</td>\n",
       "    </tr>\n",
       "  </tbody>\n",
       "</table>\n",
       "<p>162 rows × 2 columns</p>\n",
       "</div>"
      ],
      "text/plain": [
       "            quantity  day_of_week\n",
       "Date                             \n",
       "2018-10-30        29            1\n",
       "2018-10-31        24            2\n",
       "2018-11-01        21            3\n",
       "2018-11-02        17            4\n",
       "2018-11-03        26            5\n",
       "...              ...          ...\n",
       "2019-04-05        20            4\n",
       "2019-04-06        16            5\n",
       "2019-04-07        15            6\n",
       "2019-04-08        29            0\n",
       "2019-04-09         9            1\n",
       "\n",
       "[162 rows x 2 columns]"
      ]
     },
     "execution_count": 15,
     "metadata": {},
     "output_type": "execute_result"
    }
   ],
   "source": [
    "product_df[\"day_of_week\"] = product_df.index.weekday\n",
    "product_df"
   ]
  },
  {
   "cell_type": "markdown",
   "metadata": {
    "id": "aiuyKoFTGO80",
    "pycharm": {
     "name": "#%% md\n"
    }
   },
   "source": [
    "In pandas the week starts with 0 (Mondays) and ends with 6 (Sunday). Our data is going from Tuesday to Tuesday. \n",
    "\n",
    "We have data for 23 weeks and 1 day (in total 162 days). We drop the first day such that we have data on 23 full weeks (eases the handling of time series a bit)."
   ]
  },
  {
   "cell_type": "markdown",
   "metadata": {
    "id": "qqORhoAuG6Qw",
    "pycharm": {
     "name": "#%% md\n"
    }
   },
   "source": [
    "Dropping first instance:"
   ]
  },
  {
   "cell_type": "code",
   "execution_count": 16,
   "metadata": {
    "id": "Xy8uU3EpbK1D",
    "pycharm": {
     "name": "#%%\n"
    }
   },
   "outputs": [
    {
     "data": {
      "text/html": [
       "<div>\n",
       "<style scoped>\n",
       "    .dataframe tbody tr th:only-of-type {\n",
       "        vertical-align: middle;\n",
       "    }\n",
       "\n",
       "    .dataframe tbody tr th {\n",
       "        vertical-align: top;\n",
       "    }\n",
       "\n",
       "    .dataframe thead th {\n",
       "        text-align: right;\n",
       "    }\n",
       "</style>\n",
       "<table border=\"1\" class=\"dataframe\">\n",
       "  <thead>\n",
       "    <tr style=\"text-align: right;\">\n",
       "      <th></th>\n",
       "      <th>quantity</th>\n",
       "      <th>day_of_week</th>\n",
       "    </tr>\n",
       "    <tr>\n",
       "      <th>Date</th>\n",
       "      <th></th>\n",
       "      <th></th>\n",
       "    </tr>\n",
       "  </thead>\n",
       "  <tbody>\n",
       "    <tr>\n",
       "      <th>2018-10-31</th>\n",
       "      <td>24</td>\n",
       "      <td>2</td>\n",
       "    </tr>\n",
       "    <tr>\n",
       "      <th>2018-11-01</th>\n",
       "      <td>21</td>\n",
       "      <td>3</td>\n",
       "    </tr>\n",
       "    <tr>\n",
       "      <th>2018-11-02</th>\n",
       "      <td>17</td>\n",
       "      <td>4</td>\n",
       "    </tr>\n",
       "    <tr>\n",
       "      <th>2018-11-03</th>\n",
       "      <td>26</td>\n",
       "      <td>5</td>\n",
       "    </tr>\n",
       "    <tr>\n",
       "      <th>2018-11-04</th>\n",
       "      <td>30</td>\n",
       "      <td>6</td>\n",
       "    </tr>\n",
       "    <tr>\n",
       "      <th>...</th>\n",
       "      <td>...</td>\n",
       "      <td>...</td>\n",
       "    </tr>\n",
       "    <tr>\n",
       "      <th>2019-04-05</th>\n",
       "      <td>20</td>\n",
       "      <td>4</td>\n",
       "    </tr>\n",
       "    <tr>\n",
       "      <th>2019-04-06</th>\n",
       "      <td>16</td>\n",
       "      <td>5</td>\n",
       "    </tr>\n",
       "    <tr>\n",
       "      <th>2019-04-07</th>\n",
       "      <td>15</td>\n",
       "      <td>6</td>\n",
       "    </tr>\n",
       "    <tr>\n",
       "      <th>2019-04-08</th>\n",
       "      <td>29</td>\n",
       "      <td>0</td>\n",
       "    </tr>\n",
       "    <tr>\n",
       "      <th>2019-04-09</th>\n",
       "      <td>9</td>\n",
       "      <td>1</td>\n",
       "    </tr>\n",
       "  </tbody>\n",
       "</table>\n",
       "<p>161 rows × 2 columns</p>\n",
       "</div>"
      ],
      "text/plain": [
       "            quantity  day_of_week\n",
       "Date                             \n",
       "2018-10-31        24            2\n",
       "2018-11-01        21            3\n",
       "2018-11-02        17            4\n",
       "2018-11-03        26            5\n",
       "2018-11-04        30            6\n",
       "...              ...          ...\n",
       "2019-04-05        20            4\n",
       "2019-04-06        16            5\n",
       "2019-04-07        15            6\n",
       "2019-04-08        29            0\n",
       "2019-04-09         9            1\n",
       "\n",
       "[161 rows x 2 columns]"
      ]
     },
     "execution_count": 16,
     "metadata": {},
     "output_type": "execute_result"
    }
   ],
   "source": [
    "product_df = product_df.iloc[1: , :]\n",
    "product_df"
   ]
  },
  {
   "cell_type": "markdown",
   "metadata": {
    "id": "vdVbYuluHNYd",
    "pycharm": {
     "name": "#%% md\n"
    }
   },
   "source": [
    "### Add \"week of year\" Feature"
   ]
  },
  {
   "cell_type": "code",
   "execution_count": 17,
   "metadata": {
    "id": "LhNJf-cdHZ6P",
    "pycharm": {
     "name": "#%%\n"
    }
   },
   "outputs": [
    {
     "data": {
      "text/plain": [
       "Date\n",
       "2018-10-31    44\n",
       "2018-11-01    44\n",
       "2018-11-02    44\n",
       "2018-11-03    44\n",
       "2018-11-04    44\n",
       "              ..\n",
       "2019-04-05    14\n",
       "2019-04-06    14\n",
       "2019-04-07    14\n",
       "2019-04-08    15\n",
       "2019-04-09    15\n",
       "Freq: D, Name: week, Length: 161, dtype: UInt32"
      ]
     },
     "execution_count": 17,
     "metadata": {},
     "output_type": "execute_result"
    }
   ],
   "source": [
    "product_df.index.isocalendar().week"
   ]
  },
  {
   "cell_type": "markdown",
   "metadata": {
    "id": "Dbe76C87HWGw",
    "pycharm": {
     "name": "#%% md\n"
    }
   },
   "source": [
    "Due to the Wednesday to Tuesday structure of the data, we have inequally spaced weeks. \n",
    "\n",
    "But we can shift the weeks by two days such that we have \"effective weeks\""
   ]
  },
  {
   "cell_type": "code",
   "execution_count": 18,
   "metadata": {
    "id": "j68aqc-_IKpx",
    "pycharm": {
     "name": "#%%\n"
    }
   },
   "outputs": [
    {
     "name": "stderr",
     "output_type": "stream",
     "text": [
      "C:\\Users\\PGordetzki\\AppData\\Local\\Temp\\ipykernel_23080\\2199957993.py:1: SettingWithCopyWarning: \n",
      "A value is trying to be set on a copy of a slice from a DataFrame.\n",
      "Try using .loc[row_indexer,col_indexer] = value instead\n",
      "\n",
      "See the caveats in the documentation: https://pandas.pydata.org/pandas-docs/stable/user_guide/indexing.html#returning-a-view-versus-a-copy\n",
      "  product_df[\"week_of_year\"] = product_df.index.shift(periods = - 2, freq = \"D\").isocalendar().week.values\n"
     ]
    },
    {
     "data": {
      "text/html": [
       "<div>\n",
       "<style scoped>\n",
       "    .dataframe tbody tr th:only-of-type {\n",
       "        vertical-align: middle;\n",
       "    }\n",
       "\n",
       "    .dataframe tbody tr th {\n",
       "        vertical-align: top;\n",
       "    }\n",
       "\n",
       "    .dataframe thead th {\n",
       "        text-align: right;\n",
       "    }\n",
       "</style>\n",
       "<table border=\"1\" class=\"dataframe\">\n",
       "  <thead>\n",
       "    <tr style=\"text-align: right;\">\n",
       "      <th></th>\n",
       "      <th>quantity</th>\n",
       "      <th>day_of_week</th>\n",
       "      <th>week_of_year</th>\n",
       "    </tr>\n",
       "    <tr>\n",
       "      <th>Date</th>\n",
       "      <th></th>\n",
       "      <th></th>\n",
       "      <th></th>\n",
       "    </tr>\n",
       "  </thead>\n",
       "  <tbody>\n",
       "    <tr>\n",
       "      <th>2018-10-31</th>\n",
       "      <td>24</td>\n",
       "      <td>2</td>\n",
       "      <td>44</td>\n",
       "    </tr>\n",
       "    <tr>\n",
       "      <th>2018-11-01</th>\n",
       "      <td>21</td>\n",
       "      <td>3</td>\n",
       "      <td>44</td>\n",
       "    </tr>\n",
       "    <tr>\n",
       "      <th>2018-11-02</th>\n",
       "      <td>17</td>\n",
       "      <td>4</td>\n",
       "      <td>44</td>\n",
       "    </tr>\n",
       "    <tr>\n",
       "      <th>2018-11-03</th>\n",
       "      <td>26</td>\n",
       "      <td>5</td>\n",
       "      <td>44</td>\n",
       "    </tr>\n",
       "    <tr>\n",
       "      <th>2018-11-04</th>\n",
       "      <td>30</td>\n",
       "      <td>6</td>\n",
       "      <td>44</td>\n",
       "    </tr>\n",
       "    <tr>\n",
       "      <th>...</th>\n",
       "      <td>...</td>\n",
       "      <td>...</td>\n",
       "      <td>...</td>\n",
       "    </tr>\n",
       "    <tr>\n",
       "      <th>2019-04-05</th>\n",
       "      <td>20</td>\n",
       "      <td>4</td>\n",
       "      <td>14</td>\n",
       "    </tr>\n",
       "    <tr>\n",
       "      <th>2019-04-06</th>\n",
       "      <td>16</td>\n",
       "      <td>5</td>\n",
       "      <td>14</td>\n",
       "    </tr>\n",
       "    <tr>\n",
       "      <th>2019-04-07</th>\n",
       "      <td>15</td>\n",
       "      <td>6</td>\n",
       "      <td>14</td>\n",
       "    </tr>\n",
       "    <tr>\n",
       "      <th>2019-04-08</th>\n",
       "      <td>29</td>\n",
       "      <td>0</td>\n",
       "      <td>14</td>\n",
       "    </tr>\n",
       "    <tr>\n",
       "      <th>2019-04-09</th>\n",
       "      <td>9</td>\n",
       "      <td>1</td>\n",
       "      <td>14</td>\n",
       "    </tr>\n",
       "  </tbody>\n",
       "</table>\n",
       "<p>161 rows × 3 columns</p>\n",
       "</div>"
      ],
      "text/plain": [
       "            quantity  day_of_week  week_of_year\n",
       "Date                                           \n",
       "2018-10-31        24            2            44\n",
       "2018-11-01        21            3            44\n",
       "2018-11-02        17            4            44\n",
       "2018-11-03        26            5            44\n",
       "2018-11-04        30            6            44\n",
       "...              ...          ...           ...\n",
       "2019-04-05        20            4            14\n",
       "2019-04-06        16            5            14\n",
       "2019-04-07        15            6            14\n",
       "2019-04-08        29            0            14\n",
       "2019-04-09         9            1            14\n",
       "\n",
       "[161 rows x 3 columns]"
      ]
     },
     "execution_count": 18,
     "metadata": {},
     "output_type": "execute_result"
    }
   ],
   "source": [
    "product_df[\"week_of_year\"] = product_df.index.shift(periods = - 2, freq = \"D\").isocalendar().week.values\n",
    "product_df"
   ]
  },
  {
   "cell_type": "markdown",
   "metadata": {
    "id": "JEaoURE7IpZw",
    "pycharm": {
     "name": "#%% md\n"
    }
   },
   "source": [
    "### Add \"is_closed\" feature"
   ]
  },
  {
   "cell_type": "code",
   "execution_count": 19,
   "metadata": {
    "id": "WK2ZqzGgZ9pS",
    "pycharm": {
     "name": "#%%\n"
    }
   },
   "outputs": [
    {
     "name": "stderr",
     "output_type": "stream",
     "text": [
      "C:\\Users\\PGordetzki\\AppData\\Local\\Temp\\ipykernel_23080\\2484594928.py:1: SettingWithCopyWarning: \n",
      "A value is trying to be set on a copy of a slice from a DataFrame.\n",
      "Try using .loc[row_indexer,col_indexer] = value instead\n",
      "\n",
      "See the caveats in the documentation: https://pandas.pydata.org/pandas-docs/stable/user_guide/indexing.html#returning-a-view-versus-a-copy\n",
      "  product_df[\"is_closed\"] = (product_df[\"quantity\"]==0).astype(int)\n"
     ]
    },
    {
     "data": {
      "text/html": [
       "<div>\n",
       "<style scoped>\n",
       "    .dataframe tbody tr th:only-of-type {\n",
       "        vertical-align: middle;\n",
       "    }\n",
       "\n",
       "    .dataframe tbody tr th {\n",
       "        vertical-align: top;\n",
       "    }\n",
       "\n",
       "    .dataframe thead th {\n",
       "        text-align: right;\n",
       "    }\n",
       "</style>\n",
       "<table border=\"1\" class=\"dataframe\">\n",
       "  <thead>\n",
       "    <tr style=\"text-align: right;\">\n",
       "      <th></th>\n",
       "      <th>quantity</th>\n",
       "      <th>day_of_week</th>\n",
       "      <th>week_of_year</th>\n",
       "      <th>is_closed</th>\n",
       "    </tr>\n",
       "    <tr>\n",
       "      <th>Date</th>\n",
       "      <th></th>\n",
       "      <th></th>\n",
       "      <th></th>\n",
       "      <th></th>\n",
       "    </tr>\n",
       "  </thead>\n",
       "  <tbody>\n",
       "    <tr>\n",
       "      <th>2018-10-31</th>\n",
       "      <td>24</td>\n",
       "      <td>2</td>\n",
       "      <td>44</td>\n",
       "      <td>0</td>\n",
       "    </tr>\n",
       "    <tr>\n",
       "      <th>2018-11-01</th>\n",
       "      <td>21</td>\n",
       "      <td>3</td>\n",
       "      <td>44</td>\n",
       "      <td>0</td>\n",
       "    </tr>\n",
       "    <tr>\n",
       "      <th>2018-11-02</th>\n",
       "      <td>17</td>\n",
       "      <td>4</td>\n",
       "      <td>44</td>\n",
       "      <td>0</td>\n",
       "    </tr>\n",
       "    <tr>\n",
       "      <th>2018-11-03</th>\n",
       "      <td>26</td>\n",
       "      <td>5</td>\n",
       "      <td>44</td>\n",
       "      <td>0</td>\n",
       "    </tr>\n",
       "    <tr>\n",
       "      <th>2018-11-04</th>\n",
       "      <td>30</td>\n",
       "      <td>6</td>\n",
       "      <td>44</td>\n",
       "      <td>0</td>\n",
       "    </tr>\n",
       "    <tr>\n",
       "      <th>...</th>\n",
       "      <td>...</td>\n",
       "      <td>...</td>\n",
       "      <td>...</td>\n",
       "      <td>...</td>\n",
       "    </tr>\n",
       "    <tr>\n",
       "      <th>2019-04-05</th>\n",
       "      <td>20</td>\n",
       "      <td>4</td>\n",
       "      <td>14</td>\n",
       "      <td>0</td>\n",
       "    </tr>\n",
       "    <tr>\n",
       "      <th>2019-04-06</th>\n",
       "      <td>16</td>\n",
       "      <td>5</td>\n",
       "      <td>14</td>\n",
       "      <td>0</td>\n",
       "    </tr>\n",
       "    <tr>\n",
       "      <th>2019-04-07</th>\n",
       "      <td>15</td>\n",
       "      <td>6</td>\n",
       "      <td>14</td>\n",
       "      <td>0</td>\n",
       "    </tr>\n",
       "    <tr>\n",
       "      <th>2019-04-08</th>\n",
       "      <td>29</td>\n",
       "      <td>0</td>\n",
       "      <td>14</td>\n",
       "      <td>0</td>\n",
       "    </tr>\n",
       "    <tr>\n",
       "      <th>2019-04-09</th>\n",
       "      <td>9</td>\n",
       "      <td>1</td>\n",
       "      <td>14</td>\n",
       "      <td>0</td>\n",
       "    </tr>\n",
       "  </tbody>\n",
       "</table>\n",
       "<p>161 rows × 4 columns</p>\n",
       "</div>"
      ],
      "text/plain": [
       "            quantity  day_of_week  week_of_year  is_closed\n",
       "Date                                                      \n",
       "2018-10-31        24            2            44          0\n",
       "2018-11-01        21            3            44          0\n",
       "2018-11-02        17            4            44          0\n",
       "2018-11-03        26            5            44          0\n",
       "2018-11-04        30            6            44          0\n",
       "...              ...          ...           ...        ...\n",
       "2019-04-05        20            4            14          0\n",
       "2019-04-06        16            5            14          0\n",
       "2019-04-07        15            6            14          0\n",
       "2019-04-08        29            0            14          0\n",
       "2019-04-09         9            1            14          0\n",
       "\n",
       "[161 rows x 4 columns]"
      ]
     },
     "execution_count": 19,
     "metadata": {},
     "output_type": "execute_result"
    }
   ],
   "source": [
    "product_df[\"is_closed\"] = (product_df[\"quantity\"]==0).astype(int)\n",
    "product_df"
   ]
  },
  {
   "cell_type": "markdown",
   "metadata": {
    "id": "wtM71ciQJJc8",
    "pycharm": {
     "name": "#%% md\n"
    }
   },
   "source": [
    "## Seasonal Decomposition"
   ]
  },
  {
   "cell_type": "markdown",
   "metadata": {
    "id": "Hu8hCyHu2OUN",
    "pycharm": {
     "name": "#%% md\n"
    }
   },
   "source": [
    "a standarf plotting function:"
   ]
  },
  {
   "cell_type": "code",
   "execution_count": 20,
   "metadata": {
    "id": "nWZUIMtLTfCq",
    "pycharm": {
     "name": "#%%\n"
    }
   },
   "outputs": [
    {
     "data": {
      "image/png": "[encoded data removed]",
      "text/plain": [
       "<Figure size 432x288 with 4 Axes>"
      ]
     },
     "execution_count": 20,
     "metadata": {},
     "output_type": "execute_result"
    },
    {
     "data": {
      "image/png": "[encoded data removed]",
      "text/plain": [
       "<Figure size 432x288 with 4 Axes>"
      ]
     },
     "metadata": {
      "needs_background": "light"
     },
     "output_type": "display_data"
    }
   ],
   "source": [
    "from statsmodels.tsa.seasonal import seasonal_decompose\n",
    "decomp = seasonal_decompose(product_df[\"quantity\"])\n",
    "decomp.plot()"
   ]
  },
  {
   "cell_type": "markdown",
   "metadata": {
    "id": "jPXtLUEbWstJ",
    "pycharm": {
     "name": "#%% md\n"
    }
   },
   "source": [
    "# Create Test & Train Data"
   ]
  },
  {
   "cell_type": "code",
   "execution_count": 21,
   "metadata": {
    "id": "hzeQl3QhWyNK",
    "pycharm": {
     "name": "#%%\n"
    }
   },
   "outputs": [],
   "source": [
    "test = product_df[-28:] # get last 28 days\n",
    "train = product_df[0:-28] # get data until first day of testing day"
   ]
  },
  {
   "cell_type": "markdown",
   "metadata": {
    "id": "k26ikAS5P7ow",
    "pycharm": {
     "name": "#%% md\n"
    }
   },
   "source": [
    "# Naive Forecasting"
   ]
  },
  {
   "cell_type": "markdown",
   "metadata": {
    "id": "4GYYrSNbQENn",
    "pycharm": {
     "name": "#%% md\n"
    }
   },
   "source": [
    "Import required modules"
   ]
  },
  {
   "cell_type": "code",
   "execution_count": 22,
   "metadata": {
    "id": "06EegUvBQCBV",
    "pycharm": {
     "name": "#%%\n"
    }
   },
   "outputs": [],
   "source": [
    "import numpy as np\n",
    "from sklearn.metrics import mean_squared_error"
   ]
  },
  {
   "cell_type": "markdown",
   "metadata": {
    "id": "zB1BIDBZQNc6",
    "pycharm": {
     "name": "#%% md\n"
    }
   },
   "source": [
    "Make copy of training data \"history\" for walk forward validation"
   ]
  },
  {
   "cell_type": "code",
   "execution_count": 23,
   "metadata": {
    "id": "vXmhir4jQV-k",
    "pycharm": {
     "name": "#%%\n"
    }
   },
   "outputs": [
    {
     "data": {
      "text/html": [
       "<div>\n",
       "<style scoped>\n",
       "    .dataframe tbody tr th:only-of-type {\n",
       "        vertical-align: middle;\n",
       "    }\n",
       "\n",
       "    .dataframe tbody tr th {\n",
       "        vertical-align: top;\n",
       "    }\n",
       "\n",
       "    .dataframe thead th {\n",
       "        text-align: right;\n",
       "    }\n",
       "</style>\n",
       "<table border=\"1\" class=\"dataframe\">\n",
       "  <thead>\n",
       "    <tr style=\"text-align: right;\">\n",
       "      <th></th>\n",
       "      <th>quantity</th>\n",
       "      <th>day_of_week</th>\n",
       "      <th>week_of_year</th>\n",
       "      <th>is_closed</th>\n",
       "    </tr>\n",
       "    <tr>\n",
       "      <th>Date</th>\n",
       "      <th></th>\n",
       "      <th></th>\n",
       "      <th></th>\n",
       "      <th></th>\n",
       "    </tr>\n",
       "  </thead>\n",
       "  <tbody>\n",
       "    <tr>\n",
       "      <th>2018-10-31</th>\n",
       "      <td>24</td>\n",
       "      <td>2</td>\n",
       "      <td>44</td>\n",
       "      <td>0</td>\n",
       "    </tr>\n",
       "    <tr>\n",
       "      <th>2018-11-01</th>\n",
       "      <td>21</td>\n",
       "      <td>3</td>\n",
       "      <td>44</td>\n",
       "      <td>0</td>\n",
       "    </tr>\n",
       "    <tr>\n",
       "      <th>2018-11-02</th>\n",
       "      <td>17</td>\n",
       "      <td>4</td>\n",
       "      <td>44</td>\n",
       "      <td>0</td>\n",
       "    </tr>\n",
       "    <tr>\n",
       "      <th>2018-11-03</th>\n",
       "      <td>26</td>\n",
       "      <td>5</td>\n",
       "      <td>44</td>\n",
       "      <td>0</td>\n",
       "    </tr>\n",
       "    <tr>\n",
       "      <th>2018-11-04</th>\n",
       "      <td>30</td>\n",
       "      <td>6</td>\n",
       "      <td>44</td>\n",
       "      <td>0</td>\n",
       "    </tr>\n",
       "    <tr>\n",
       "      <th>...</th>\n",
       "      <td>...</td>\n",
       "      <td>...</td>\n",
       "      <td>...</td>\n",
       "      <td>...</td>\n",
       "    </tr>\n",
       "    <tr>\n",
       "      <th>2019-03-08</th>\n",
       "      <td>18</td>\n",
       "      <td>4</td>\n",
       "      <td>10</td>\n",
       "      <td>0</td>\n",
       "    </tr>\n",
       "    <tr>\n",
       "      <th>2019-03-09</th>\n",
       "      <td>12</td>\n",
       "      <td>5</td>\n",
       "      <td>10</td>\n",
       "      <td>0</td>\n",
       "    </tr>\n",
       "    <tr>\n",
       "      <th>2019-03-10</th>\n",
       "      <td>28</td>\n",
       "      <td>6</td>\n",
       "      <td>10</td>\n",
       "      <td>0</td>\n",
       "    </tr>\n",
       "    <tr>\n",
       "      <th>2019-03-11</th>\n",
       "      <td>30</td>\n",
       "      <td>0</td>\n",
       "      <td>10</td>\n",
       "      <td>0</td>\n",
       "    </tr>\n",
       "    <tr>\n",
       "      <th>2019-03-12</th>\n",
       "      <td>18</td>\n",
       "      <td>1</td>\n",
       "      <td>10</td>\n",
       "      <td>0</td>\n",
       "    </tr>\n",
       "  </tbody>\n",
       "</table>\n",
       "<p>133 rows × 4 columns</p>\n",
       "</div>"
      ],
      "text/plain": [
       "            quantity  day_of_week  week_of_year  is_closed\n",
       "Date                                                      \n",
       "2018-10-31        24            2            44          0\n",
       "2018-11-01        21            3            44          0\n",
       "2018-11-02        17            4            44          0\n",
       "2018-11-03        26            5            44          0\n",
       "2018-11-04        30            6            44          0\n",
       "...              ...          ...           ...        ...\n",
       "2019-03-08        18            4            10          0\n",
       "2019-03-09        12            5            10          0\n",
       "2019-03-10        28            6            10          0\n",
       "2019-03-11        30            0            10          0\n",
       "2019-03-12        18            1            10          0\n",
       "\n",
       "[133 rows x 4 columns]"
      ]
     },
     "execution_count": 23,
     "metadata": {},
     "output_type": "execute_result"
    }
   ],
   "source": [
    "history = train\n",
    "history"
   ]
  },
  {
   "cell_type": "markdown",
   "metadata": {
    "id": "e9k5-jttQCio",
    "pycharm": {
     "name": "#%% md\n"
    }
   },
   "source": [
    "Initialize empty list for performance metrics in each week of the 4 weeks"
   ]
  },
  {
   "cell_type": "code",
   "execution_count": 24,
   "metadata": {
    "id": "_p_NEyZDQiJh",
    "pycharm": {
     "name": "#%%\n"
    }
   },
   "outputs": [],
   "source": [
    "performance_collector = []"
   ]
  },
  {
   "cell_type": "code",
   "execution_count": 25,
   "metadata": {
    "id": "wiTENqAHi0yl",
    "pycharm": {
     "name": "#%%\n"
    }
   },
   "outputs": [
    {
     "name": "stderr",
     "output_type": "stream",
     "text": [
      "C:\\Users\\PGordetzki\\AppData\\Local\\Temp\\ipykernel_23080\\3981050591.py:5: FutureWarning: The frame.append method is deprecated and will be removed from pandas in a future version. Use pandas.concat instead.\n",
      "  history = history.append(test[test[\"week_of_year\"]==w]) # append training data to history; we shift one week forward in next iteration\n",
      "C:\\Users\\PGordetzki\\AppData\\Local\\Temp\\ipykernel_23080\\3981050591.py:5: FutureWarning: The frame.append method is deprecated and will be removed from pandas in a future version. Use pandas.concat instead.\n",
      "  history = history.append(test[test[\"week_of_year\"]==w]) # append training data to history; we shift one week forward in next iteration\n",
      "C:\\Users\\PGordetzki\\AppData\\Local\\Temp\\ipykernel_23080\\3981050591.py:5: FutureWarning: The frame.append method is deprecated and will be removed from pandas in a future version. Use pandas.concat instead.\n",
      "  history = history.append(test[test[\"week_of_year\"]==w]) # append training data to history; we shift one week forward in next iteration\n",
      "C:\\Users\\PGordetzki\\AppData\\Local\\Temp\\ipykernel_23080\\3981050591.py:5: FutureWarning: The frame.append method is deprecated and will be removed from pandas in a future version. Use pandas.concat instead.\n",
      "  history = history.append(test[test[\"week_of_year\"]==w]) # append training data to history; we shift one week forward in next iteration\n"
     ]
    }
   ],
   "source": [
    "for w in test[\"week_of_year\"].unique():\n",
    "  y_pred = pd.Series([history.tail(1)[\"quantity\"]]*7) # get value of last day of last week in history\n",
    "  actual = test[test[\"week_of_year\"]==w][\"quantity\"] # get actual values to be predicted in week w\n",
    "  \n",
    "  history = history.append(test[test[\"week_of_year\"]==w]) # append training data to history; we shift one week forward in next iteration\n",
    "  performance_collector.append(mean_squared_error(actual,y_pred, squared=False)) #calculalate error in week w"
   ]
  },
  {
   "cell_type": "code",
   "execution_count": 26,
   "metadata": {
    "id": "RRzCXmvMG10T",
    "pycharm": {
     "name": "#%%\n"
    }
   },
   "outputs": [
    {
     "data": {
      "text/plain": [
       "[6.164414002968976, 9.289010404005062, 12.856349181852298, 5.694608979427072]"
      ]
     },
     "execution_count": 26,
     "metadata": {},
     "output_type": "execute_result"
    }
   ],
   "source": [
    "performance_collector"
   ]
  },
  {
   "cell_type": "code",
   "execution_count": 27,
   "metadata": {
    "id": "vIsZzLFOUPdm",
    "pycharm": {
     "name": "#%%\n"
    }
   },
   "outputs": [
    {
     "name": "stdout",
     "output_type": "stream",
     "text": [
      "[6.164414002968976, 9.289010404005062, 12.856349181852298, 5.694608979427072]\n",
      "8.501095642063351\n"
     ]
    }
   ],
   "source": [
    "print(performance_collector)\n",
    "print(np.mean(performance_collector))"
   ]
  },
  {
   "cell_type": "code",
   "execution_count": 28,
   "metadata": {
    "id": "V7plmvFYsDlz",
    "pycharm": {
     "name": "#%%\n"
    }
   },
   "outputs": [
    {
     "data": {
      "text/html": [
       "<div>\n",
       "<style scoped>\n",
       "    .dataframe tbody tr th:only-of-type {\n",
       "        vertical-align: middle;\n",
       "    }\n",
       "\n",
       "    .dataframe tbody tr th {\n",
       "        vertical-align: top;\n",
       "    }\n",
       "\n",
       "    .dataframe thead th {\n",
       "        text-align: right;\n",
       "    }\n",
       "</style>\n",
       "<table border=\"1\" class=\"dataframe\">\n",
       "  <thead>\n",
       "    <tr style=\"text-align: right;\">\n",
       "      <th></th>\n",
       "      <th>NAIVE</th>\n",
       "    </tr>\n",
       "  </thead>\n",
       "  <tbody>\n",
       "    <tr>\n",
       "      <th>0</th>\n",
       "      <td>6.164414</td>\n",
       "    </tr>\n",
       "    <tr>\n",
       "      <th>1</th>\n",
       "      <td>9.289010</td>\n",
       "    </tr>\n",
       "    <tr>\n",
       "      <th>2</th>\n",
       "      <td>12.856349</td>\n",
       "    </tr>\n",
       "    <tr>\n",
       "      <th>3</th>\n",
       "      <td>5.694609</td>\n",
       "    </tr>\n",
       "  </tbody>\n",
       "</table>\n",
       "</div>"
      ],
      "text/plain": [
       "       NAIVE\n",
       "0   6.164414\n",
       "1   9.289010\n",
       "2  12.856349\n",
       "3   5.694609"
      ]
     },
     "execution_count": 28,
     "metadata": {},
     "output_type": "execute_result"
    }
   ],
   "source": [
    "plot_week_NAIVE = pd.DataFrame({\"NAIVE\":performance_collector})\n",
    "plot_week_NAIVE"
   ]
  },
  {
   "cell_type": "code",
   "execution_count": 29,
   "metadata": {
    "id": "30gu-qY0UpCh",
    "pycharm": {
     "name": "#%%\n"
    }
   },
   "outputs": [],
   "source": [
    "def performance_week_plot(list_of_predictions):\n",
    "  import matplotlib.pyplot as plt\n",
    "  pd.concat(list_of_predictions, axis=1).plot(color=[\"#7FC97F\",\"#BEAED4\",\"#FDC086\",\"#FFFF99\"], alpha=0.5, linewidth=5)\n",
    "  plt.ylabel(\"RMSE\")\n",
    "  plt.xlabel(\"Week\")\n",
    "  plt.xticks(ticks=[0,1,2,3],labels=[\"1\",\"2\",\"3\",\"4\"])\n",
    "  plt.title(\"Performance by Week\")\n",
    "  plt.show()"
   ]
  },
  {
   "cell_type": "code",
   "execution_count": 30,
   "metadata": {
    "id": "uhdz_Y2-_p75",
    "pycharm": {
     "name": "#%%\n"
    }
   },
   "outputs": [
    {
     "data": {
      "image/png": "[encoded data removed]",
      "text/plain": [
       "<Figure size 432x288 with 1 Axes>"
      ]
     },
     "metadata": {
      "needs_background": "light"
     },
     "output_type": "display_data"
    }
   ],
   "source": [
    "performance_week_plot([plot_week_NAIVE])"
   ]
  },
  {
   "cell_type": "code",
   "execution_count": 31,
   "metadata": {
    "id": "Jl7lM6THl21H",
    "pycharm": {
     "name": "#%%\n"
    }
   },
   "outputs": [],
   "source": [
    "def performance_avg_plot(list_of_predictions):\n",
    "  import matplotlib.pyplot as plt\n",
    "  pd.concat(list_of_predictions, axis=1).mean().plot(kind=\"bar\",color=[\"#7FC97F\",\"#BEAED4\",\"#FDC086\",\"#FFFF99\"], alpha=0.6)\n",
    "  plt.ylabel(\"RMSE\")\n",
    "  plt.xlabel(\"Approach\")\n",
    "  plt.xticks(rotation=0)\n",
    "  plt.title(\"4 Weeks Average\")\n",
    "  plt.show()"
   ]
  },
  {
   "cell_type": "code",
   "execution_count": 32,
   "metadata": {
    "id": "ihi8BSDRC6PX",
    "pycharm": {
     "name": "#%%\n"
    }
   },
   "outputs": [
    {
     "data": {
      "image/png": "[encoded data removed]",
      "text/plain": [
       "<Figure size 432x288 with 1 Axes>"
      ]
     },
     "metadata": {
      "needs_background": "light"
     },
     "output_type": "display_data"
    }
   ],
   "source": [
    "performance_avg_plot([plot_week_NAIVE])"
   ]
  },
  {
   "cell_type": "markdown",
   "metadata": {
    "id": "zKpjPHk7WBNj",
    "pycharm": {
     "name": "#%% md\n"
    }
   },
   "source": [
    "# SNAIVE Foreacasting"
   ]
  },
  {
   "cell_type": "markdown",
   "metadata": {
    "id": "YfrDTg8hYPCZ",
    "pycharm": {
     "name": "#%% md\n"
    }
   },
   "source": [
    "## Initialize 4 Week-Forward Validation"
   ]
  },
  {
   "cell_type": "code",
   "execution_count": 33,
   "metadata": {
    "id": "YHDlcYC-YQed",
    "pycharm": {
     "name": "#%%\n"
    }
   },
   "outputs": [],
   "source": [
    "import numpy as np\n",
    "from sklearn.metrics import mean_squared_error\n",
    "history = train\n",
    "performance_collector = []"
   ]
  },
  {
   "cell_type": "markdown",
   "metadata": {
    "id": "1yM7XH4WYXk-",
    "pycharm": {
     "name": "#%% md\n"
    }
   },
   "source": [
    "## 4 Week-Forward Validation"
   ]
  },
  {
   "cell_type": "code",
   "execution_count": 34,
   "metadata": {
    "id": "6Ui6jvaVoVak",
    "pycharm": {
     "name": "#%%\n"
    }
   },
   "outputs": [
    {
     "name": "stderr",
     "output_type": "stream",
     "text": [
      "C:\\Users\\PGordetzki\\AppData\\Local\\Temp\\ipykernel_23080\\723819234.py:5: FutureWarning: The frame.append method is deprecated and will be removed from pandas in a future version. Use pandas.concat instead.\n",
      "  history = history.append(test[test[\"week_of_year\"]==w])\n",
      "C:\\Users\\PGordetzki\\AppData\\Local\\Temp\\ipykernel_23080\\723819234.py:5: FutureWarning: The frame.append method is deprecated and will be removed from pandas in a future version. Use pandas.concat instead.\n",
      "  history = history.append(test[test[\"week_of_year\"]==w])\n",
      "C:\\Users\\PGordetzki\\AppData\\Local\\Temp\\ipykernel_23080\\723819234.py:5: FutureWarning: The frame.append method is deprecated and will be removed from pandas in a future version. Use pandas.concat instead.\n",
      "  history = history.append(test[test[\"week_of_year\"]==w])\n",
      "C:\\Users\\PGordetzki\\AppData\\Local\\Temp\\ipykernel_23080\\723819234.py:5: FutureWarning: The frame.append method is deprecated and will be removed from pandas in a future version. Use pandas.concat instead.\n",
      "  history = history.append(test[test[\"week_of_year\"]==w])\n"
     ]
    }
   ],
   "source": [
    "for w in test[\"week_of_year\"].unique():\n",
    "  y_pred = pd.Series(history.tail(7)[\"quantity\"])\n",
    "  actual = test[test[\"week_of_year\"]==w][\"quantity\"]\n",
    "  \n",
    "  history = history.append(test[test[\"week_of_year\"]==w])\n",
    "  \n",
    "  performance_collector.append(mean_squared_error(actual,y_pred, squared=False))"
   ]
  },
  {
   "cell_type": "code",
   "execution_count": 35,
   "metadata": {
    "id": "56lz-PqqYaRg",
    "pycharm": {
     "name": "#%%\n"
    }
   },
   "outputs": [
    {
     "name": "stdout",
     "output_type": "stream",
     "text": [
      "[8.035634920242991, 6.6332495807108, 7.240757655699535, 8.06225774829855]\n",
      "7.492974976237969\n"
     ]
    }
   ],
   "source": [
    "print(performance_collector)\n",
    "print(np.mean(performance_collector))"
   ]
  },
  {
   "cell_type": "code",
   "execution_count": 36,
   "metadata": {
    "id": "VWlpDm04YhCs",
    "pycharm": {
     "name": "#%%\n"
    }
   },
   "outputs": [],
   "source": [
    "plot_week_SNAIVE = pd.DataFrame({\"SNAIVE\":performance_collector})"
   ]
  },
  {
   "cell_type": "code",
   "execution_count": 37,
   "metadata": {
    "id": "lPIWO9RfWbnY",
    "pycharm": {
     "name": "#%%\n"
    }
   },
   "outputs": [
    {
     "data": {
      "image/png": "[encoded data removed]",
      "text/plain": [
       "<Figure size 432x288 with 1 Axes>"
      ]
     },
     "metadata": {
      "needs_background": "light"
     },
     "output_type": "display_data"
    }
   ],
   "source": [
    "performance_week_plot([plot_week_NAIVE, plot_week_SNAIVE])"
   ]
  },
  {
   "cell_type": "code",
   "execution_count": 38,
   "metadata": {
    "id": "-_rOHDhhlyRG",
    "pycharm": {
     "name": "#%%\n"
    }
   },
   "outputs": [
    {
     "data": {
      "image/png": "[encoded data removed]",
      "text/plain": [
       "<Figure size 432x288 with 1 Axes>"
      ]
     },
     "metadata": {
      "needs_background": "light"
     },
     "output_type": "display_data"
    }
   ],
   "source": [
    "performance_avg_plot([plot_week_NAIVE, plot_week_SNAIVE])"
   ]
  },
  {
   "cell_type": "markdown",
   "metadata": {
    "id": "VYhs8nfmXRk5",
    "pycharm": {
     "name": "#%% md\n"
    }
   },
   "source": [
    "# ARIMA Forecasting"
   ]
  },
  {
   "cell_type": "markdown",
   "metadata": {
    "id": "wfNkw88gXVZ7",
    "pycharm": {
     "name": "#%% md\n"
    }
   },
   "source": [
    "## Plot ACF"
   ]
  },
  {
   "cell_type": "code",
   "execution_count": 39,
   "metadata": {
    "id": "iIrnk8GGQ-Qt",
    "pycharm": {
     "name": "#%%\n"
    }
   },
   "outputs": [
    {
     "data": {
      "image/png": "[encoded data removed]",
      "text/plain": [
       "<Figure size 432x288 with 1 Axes>"
      ]
     },
     "metadata": {
      "needs_background": "light"
     },
     "output_type": "display_data"
    }
   ],
   "source": [
    "from statsmodels.graphics.tsaplots import plot_acf\n",
    "acf = plot_acf(product_ts, lags=40,color='g')"
   ]
  },
  {
   "cell_type": "markdown",
   "metadata": {
    "id": "ZWvVr3FKsgK7",
    "pycharm": {
     "name": "#%% md\n"
    }
   },
   "source": [
    "*  Correlation of Time Series with lagged version of itself\n",
    "*  We see strong seasonal patterns: lags at day 7, 14, 21 are correlated with our sales >> there is a \"weekly sales memory\"\n",
    "*   To some extend also the day before\n"
   ]
  },
  {
   "cell_type": "markdown",
   "metadata": {
    "id": "8l__fmHmXZPM",
    "pycharm": {
     "name": "#%% md\n"
    }
   },
   "source": [
    "## Plot PACF"
   ]
  },
  {
   "cell_type": "code",
   "execution_count": 40,
   "metadata": {
    "id": "MCe9wl05Sh1S",
    "pycharm": {
     "name": "#%%\n"
    }
   },
   "outputs": [
    {
     "name": "stderr",
     "output_type": "stream",
     "text": [
      "C:\\Users\\PGordetzki\\Workspace\\DefaultPython\\venv\\lib\\site-packages\\statsmodels\\graphics\\tsaplots.py:348: FutureWarning: The default method 'yw' can produce PACF values outside of the [-1,1] interval. After 0.13, the default will change tounadjusted Yule-Walker ('ywm'). You can use this method now by setting method='ywm'.\n",
      "  warnings.warn(\n"
     ]
    },
    {
     "data": {
      "image/png": "[encoded data removed]",
      "text/plain": [
       "<Figure size 432x288 with 1 Axes>"
      ]
     },
     "metadata": {
      "needs_background": "light"
     },
     "output_type": "display_data"
    }
   ],
   "source": [
    "from statsmodels.graphics.tsaplots import plot_pacf\n",
    "pacf = plot_pacf(product_ts, lags=40,color='g')"
   ]
  },
  {
   "cell_type": "markdown",
   "metadata": {
    "id": "MqN_OLKTtDmo",
    "pycharm": {
     "name": "#%% md\n"
    }
   },
   "source": [
    "*  Pacf are somilar to acf, but pacf reduce the effect of prior lags\n",
    "*  Pacf can be used to decide how many lags to include\n",
    "*  We can see that the \"weekly sales memory\" becomes weaker over time, after week 3 (day 21) past sales does not contain no usable information any more\n"
   ]
  },
  {
   "cell_type": "markdown",
   "metadata": {
    "id": "uogsNmPkXe3x",
    "pycharm": {
     "name": "#%% md\n"
    }
   },
   "source": [
    "## Initialize 4 Week-Forward Validation"
   ]
  },
  {
   "cell_type": "markdown",
   "metadata": {
    "id": "pJmgnPfztsnF",
    "pycharm": {
     "name": "#%% md\n"
    }
   },
   "source": [
    "pmdarima is a very handy package for ARIMA, but it is not installed within the anaconda framework and google collab\n",
    "\n",
    "*   In Jupyter: the following command must be executed once\n",
    "*   In google collab: the following command must be executed everytime pmdarima should be used\n",
    "\n"
   ]
  },
  {
   "cell_type": "code",
   "execution_count": 41,
   "metadata": {
    "id": "HuB5RdYWZDU_",
    "pycharm": {
     "name": "#%%\n"
    }
   },
   "outputs": [
    {
     "name": "stdout",
     "output_type": "stream",
     "text": [
      "Requirement already satisfied: pmdarima in c:\\users\\pgordetzki\\workspace\\defaultpython\\venv\\lib\\site-packages (2.0.1)\n",
      "Requirement already satisfied: numpy>=1.21 in c:\\users\\pgordetzki\\workspace\\defaultpython\\venv\\lib\\site-packages (from pmdarima) (1.22.4)\n",
      "Requirement already satisfied: Cython!=0.29.18,!=0.29.31,>=0.29 in c:\\users\\pgordetzki\\workspace\\defaultpython\\venv\\lib\\site-packages (from pmdarima) (0.29.32)\n",
      "Requirement already satisfied: statsmodels>=0.13.2 in c:\\users\\pgordetzki\\workspace\\defaultpython\\venv\\lib\\site-packages (from pmdarima) (0.13.2)\n",
      "Requirement already satisfied: urllib3 in c:\\users\\pgordetzki\\workspace\\defaultpython\\venv\\lib\\site-packages (from pmdarima) (1.26.12)\n",
      "Requirement already satisfied: setuptools!=50.0.0,>=38.6.0 in c:\\users\\pgordetzki\\workspace\\defaultpython\\venv\\lib\\site-packages (from pmdarima) (60.2.0)\n",
      "Requirement already satisfied: pandas>=0.19 in c:\\users\\pgordetzki\\workspace\\defaultpython\\venv\\lib\\site-packages (from pmdarima) (1.4.2)\n",
      "Requirement already satisfied: scikit-learn>=0.22 in c:\\users\\pgordetzki\\workspace\\defaultpython\\venv\\lib\\site-packages (from pmdarima) (1.1.1)\n",
      "Requirement already satisfied: joblib>=0.11 in c:\\users\\pgordetzki\\workspace\\defaultpython\\venv\\lib\\site-packages (from pmdarima) (1.1.0)\n",
      "Requirement already satisfied: scipy>=1.3.2 in c:\\users\\pgordetzki\\workspace\\defaultpython\\venv\\lib\\site-packages (from pmdarima) (1.8.1)\n",
      "Requirement already satisfied: python-dateutil>=2.8.1 in c:\\users\\pgordetzki\\workspace\\defaultpython\\venv\\lib\\site-packages (from pandas>=0.19->pmdarima) (2.8.2)\n",
      "Requirement already satisfied: pytz>=2020.1 in c:\\users\\pgordetzki\\workspace\\defaultpython\\venv\\lib\\site-packages (from pandas>=0.19->pmdarima) (2022.1)\n",
      "Requirement already satisfied: threadpoolctl>=2.0.0 in c:\\users\\pgordetzki\\workspace\\defaultpython\\venv\\lib\\site-packages (from scikit-learn>=0.22->pmdarima) (3.1.0)\n",
      "Requirement already satisfied: patsy>=0.5.2 in c:\\users\\pgordetzki\\workspace\\defaultpython\\venv\\lib\\site-packages (from statsmodels>=0.13.2->pmdarima) (0.5.2)\n",
      "Requirement already satisfied: packaging>=21.3 in c:\\users\\pgordetzki\\workspace\\defaultpython\\venv\\lib\\site-packages (from statsmodels>=0.13.2->pmdarima) (21.3)\n",
      "Requirement already satisfied: pyparsing!=3.0.5,>=2.0.2 in c:\\users\\pgordetzki\\workspace\\defaultpython\\venv\\lib\\site-packages (from packaging>=21.3->statsmodels>=0.13.2->pmdarima) (3.0.9)\n",
      "Requirement already satisfied: six in c:\\users\\pgordetzki\\workspace\\defaultpython\\venv\\lib\\site-packages (from patsy>=0.5.2->statsmodels>=0.13.2->pmdarima) (1.16.0)\n"
     ]
    },
    {
     "name": "stderr",
     "output_type": "stream",
     "text": [
      "WARNING: You are using pip version 21.3.1; however, version 22.2.2 is available.\n",
      "You should consider upgrading via the 'C:\\Users\\PGordetzki\\Workspace\\DefaultPython\\venv\\Scripts\\python.exe -m pip install --upgrade pip' command.\n"
     ]
    }
   ],
   "source": [
    "!pip install pmdarima "
   ]
  },
  {
   "cell_type": "code",
   "execution_count": 42,
   "metadata": {
    "id": "0mO8z2LGXtKQ",
    "pycharm": {
     "name": "#%%\n"
    }
   },
   "outputs": [],
   "source": [
    "import numpy as np\n",
    "from sklearn.metrics import mean_squared_error\n",
    "from pmdarima.arima import auto_arima\n",
    "history = train\n",
    "performance_collector = []"
   ]
  },
  {
   "cell_type": "markdown",
   "metadata": {
    "id": "Ybqq1YZjXxm8",
    "pycharm": {
     "name": "#%% md\n"
    }
   },
   "source": [
    "## Train Auto ARIMA Model"
   ]
  },
  {
   "cell_type": "code",
   "execution_count": 43,
   "metadata": {
    "id": "nXy-JggWXva0",
    "pycharm": {
     "name": "#%%\n"
    }
   },
   "outputs": [
    {
     "name": "stdout",
     "output_type": "stream",
     "text": [
      "Performing stepwise search to minimize aic\n",
      " ARIMA(2,0,2)(1,0,1)[7] intercept   : AIC=903.898, Time=0.68 sec\n",
      " ARIMA(0,0,0)(0,0,0)[7] intercept   : AIC=954.586, Time=0.02 sec\n",
      " ARIMA(1,0,0)(1,0,0)[7] intercept   : AIC=909.311, Time=0.42 sec\n",
      " ARIMA(0,0,1)(0,0,1)[7] intercept   : AIC=918.404, Time=0.20 sec\n",
      " ARIMA(0,0,0)(0,0,0)[7]             : AIC=1208.871, Time=0.02 sec\n",
      " ARIMA(2,0,2)(0,0,1)[7] intercept   : AIC=913.998, Time=0.80 sec\n",
      " ARIMA(2,0,2)(1,0,0)[7] intercept   : AIC=904.545, Time=0.68 sec\n",
      " ARIMA(2,0,2)(2,0,1)[7] intercept   : AIC=905.791, Time=0.86 sec\n",
      " ARIMA(2,0,2)(1,0,2)[7] intercept   : AIC=905.791, Time=0.91 sec\n",
      " ARIMA(2,0,2)(0,0,0)[7] intercept   : AIC=934.983, Time=0.24 sec\n",
      " ARIMA(2,0,2)(0,0,2)[7] intercept   : AIC=914.843, Time=0.98 sec\n",
      " ARIMA(2,0,2)(2,0,0)[7] intercept   : AIC=904.149, Time=0.99 sec\n",
      " ARIMA(2,0,2)(2,0,2)[7] intercept   : AIC=904.199, Time=1.53 sec\n",
      " ARIMA(1,0,2)(1,0,1)[7] intercept   : AIC=909.033, Time=0.75 sec\n",
      " ARIMA(2,0,1)(1,0,1)[7] intercept   : AIC=inf, Time=0.91 sec\n",
      " ARIMA(3,0,2)(1,0,1)[7] intercept   : AIC=903.580, Time=0.85 sec\n",
      " ARIMA(3,0,2)(0,0,1)[7] intercept   : AIC=920.796, Time=0.72 sec\n",
      " ARIMA(3,0,2)(1,0,0)[7] intercept   : AIC=909.723, Time=0.47 sec\n",
      " ARIMA(3,0,2)(2,0,1)[7] intercept   : AIC=905.713, Time=0.95 sec\n",
      " ARIMA(3,0,2)(1,0,2)[7] intercept   : AIC=904.973, Time=0.98 sec\n",
      " ARIMA(3,0,2)(0,0,0)[7] intercept   : AIC=928.835, Time=0.33 sec\n",
      " ARIMA(3,0,2)(0,0,2)[7] intercept   : AIC=916.092, Time=1.02 sec\n",
      " ARIMA(3,0,2)(2,0,0)[7] intercept   : AIC=908.517, Time=0.93 sec\n",
      " ARIMA(3,0,2)(2,0,2)[7] intercept   : AIC=903.020, Time=1.42 sec\n",
      " ARIMA(3,0,1)(2,0,2)[7] intercept   : AIC=910.018, Time=1.47 sec\n",
      " ARIMA(4,0,2)(2,0,2)[7] intercept   : AIC=904.513, Time=1.72 sec\n",
      " ARIMA(3,0,3)(2,0,2)[7] intercept   : AIC=inf, Time=1.75 sec\n",
      " ARIMA(2,0,1)(2,0,2)[7] intercept   : AIC=914.459, Time=1.10 sec\n",
      " ARIMA(2,0,3)(2,0,2)[7] intercept   : AIC=987.128, Time=1.72 sec\n",
      " ARIMA(4,0,1)(2,0,2)[7] intercept   : AIC=915.411, Time=1.63 sec\n",
      " ARIMA(4,0,3)(2,0,2)[7] intercept   : AIC=918.025, Time=1.72 sec\n",
      " ARIMA(3,0,2)(2,0,2)[7]             : AIC=inf, Time=1.62 sec\n",
      "\n",
      "Best model:  ARIMA(3,0,2)(2,0,2)[7] intercept\n",
      "Total fit time: 30.433 seconds\n"
     ]
    }
   ],
   "source": [
    "arima = auto_arima(train[\"quantity\"], error_action='ignore', trace=True,\n",
    "                   suppress_warnings=True, maxiter=30,\n",
    "                   seasonal=True, m=7)"
   ]
  },
  {
   "cell_type": "markdown",
   "metadata": {
    "id": "4Vl1wCjGX48r",
    "pycharm": {
     "name": "#%% md\n"
    }
   },
   "source": [
    "## 4 Week-Forward Validation"
   ]
  },
  {
   "cell_type": "code",
   "execution_count": 44,
   "metadata": {
    "id": "VYbAHqs-t8jc",
    "pycharm": {
     "name": "#%%\n"
    }
   },
   "outputs": [
    {
     "name": "stderr",
     "output_type": "stream",
     "text": [
      "C:\\Users\\PGordetzki\\AppData\\Local\\Temp\\ipykernel_23080\\3619441536.py:5: FutureWarning: The frame.append method is deprecated and will be removed from pandas in a future version. Use pandas.concat instead.\n",
      "  history = history.append(test[test[\"week_of_year\"]==w])\n",
      "C:\\Users\\PGordetzki\\AppData\\Local\\Temp\\ipykernel_23080\\3619441536.py:5: FutureWarning: The frame.append method is deprecated and will be removed from pandas in a future version. Use pandas.concat instead.\n",
      "  history = history.append(test[test[\"week_of_year\"]==w])\n",
      "C:\\Users\\PGordetzki\\AppData\\Local\\Temp\\ipykernel_23080\\3619441536.py:5: FutureWarning: The frame.append method is deprecated and will be removed from pandas in a future version. Use pandas.concat instead.\n",
      "  history = history.append(test[test[\"week_of_year\"]==w])\n",
      "C:\\Users\\PGordetzki\\AppData\\Local\\Temp\\ipykernel_23080\\3619441536.py:5: FutureWarning: The frame.append method is deprecated and will be removed from pandas in a future version. Use pandas.concat instead.\n",
      "  history = history.append(test[test[\"week_of_year\"]==w])\n"
     ]
    }
   ],
   "source": [
    "for w in test[\"week_of_year\"].unique():\n",
    "  y_pred = pd.Series(arima.predict(7))\n",
    "  actual = test[test[\"week_of_year\"]==w][\"quantity\"]\n",
    "\n",
    "  history = history.append(test[test[\"week_of_year\"]==w])\n",
    "  \n",
    "  performance_collector.append(mean_squared_error(actual,y_pred, squared=False))"
   ]
  },
  {
   "cell_type": "code",
   "execution_count": 45,
   "metadata": {
    "id": "OtpuNnPPZcI6",
    "pycharm": {
     "name": "#%%\n"
    }
   },
   "outputs": [
    {
     "name": "stdout",
     "output_type": "stream",
     "text": [
      "[6.790409619136199, 6.502007951358054, 7.324817831259952, 5.5582773980552815]\n",
      "6.543878199952371\n"
     ]
    }
   ],
   "source": [
    "print(performance_collector)\n",
    "print(np.mean(performance_collector))"
   ]
  },
  {
   "cell_type": "code",
   "execution_count": 46,
   "metadata": {
    "id": "yyIAugcaZ016",
    "pycharm": {
     "name": "#%%\n"
    }
   },
   "outputs": [],
   "source": [
    "plot_week_ARIMA = pd.DataFrame({\"ARIMA\":performance_collector})"
   ]
  },
  {
   "cell_type": "code",
   "execution_count": 47,
   "metadata": {
    "id": "iTwCTC7BlRMb",
    "pycharm": {
     "name": "#%%\n"
    }
   },
   "outputs": [
    {
     "data": {
      "image/png": "[encoded data removed]",
      "text/plain": [
       "<Figure size 432x288 with 1 Axes>"
      ]
     },
     "metadata": {
      "needs_background": "light"
     },
     "output_type": "display_data"
    }
   ],
   "source": [
    "performance_week_plot([plot_week_NAIVE, plot_week_SNAIVE,plot_week_ARIMA])"
   ]
  },
  {
   "cell_type": "code",
   "execution_count": 48,
   "metadata": {
    "id": "0_br-d0zlr7S",
    "pycharm": {
     "name": "#%%\n"
    }
   },
   "outputs": [
    {
     "data": {
      "image/png": "[encoded data removed]",
      "text/plain": [
       "<Figure size 432x288 with 1 Axes>"
      ]
     },
     "metadata": {
      "needs_background": "light"
     },
     "output_type": "display_data"
    }
   ],
   "source": [
    "performance_avg_plot([plot_week_NAIVE, plot_week_SNAIVE,plot_week_ARIMA])"
   ]
  },
  {
   "cell_type": "markdown",
   "metadata": {
    "id": "aM_EbJ3mZdX1",
    "pycharm": {
     "name": "#%% md\n"
    }
   },
   "source": [
    "# Going Machine Learning"
   ]
  },
  {
   "cell_type": "markdown",
   "metadata": {
    "id": "mWK1xtwfaEbI",
    "pycharm": {
     "name": "#%% md\n"
    }
   },
   "source": [
    "## Initial Feature Engineering\n",
    "\n",
    "Manually Define time lags. We have seen in the acf and pacf plots that going up to 2 weeks back in past might yield important information. So, we take day 7 to 14."
   ]
  },
  {
   "cell_type": "code",
   "execution_count": 49,
   "metadata": {
    "id": "cPwY37u44Dl0",
    "pycharm": {
     "name": "#%%\n"
    }
   },
   "outputs": [
    {
     "data": {
      "text/plain": [
       "array([ 7,  8,  9, 10, 11, 12, 13, 14])"
      ]
     },
     "execution_count": 49,
     "metadata": {},
     "output_type": "execute_result"
    }
   ],
   "source": [
    "shifts = np.arange(7, 15).astype(int)\n",
    "shifts"
   ]
  },
  {
   "cell_type": "markdown",
   "metadata": {
    "id": "UpOdAk-bagdJ",
    "pycharm": {
     "name": "#%% md\n"
    }
   },
   "source": [
    "The following codes creates the shifted variables that we defined in **shifts**."
   ]
  },
  {
   "cell_type": "code",
   "execution_count": 50,
   "metadata": {
    "id": "ZVNc-f0DJhYV",
    "pycharm": {
     "name": "#%%\n"
    }
   },
   "outputs": [
    {
     "data": {
      "text/html": [
       "<div>\n",
       "<style scoped>\n",
       "    .dataframe tbody tr th:only-of-type {\n",
       "        vertical-align: middle;\n",
       "    }\n",
       "\n",
       "    .dataframe tbody tr th {\n",
       "        vertical-align: top;\n",
       "    }\n",
       "\n",
       "    .dataframe thead th {\n",
       "        text-align: right;\n",
       "    }\n",
       "</style>\n",
       "<table border=\"1\" class=\"dataframe\">\n",
       "  <thead>\n",
       "    <tr style=\"text-align: right;\">\n",
       "      <th></th>\n",
       "      <th>quantity</th>\n",
       "      <th>day_of_week</th>\n",
       "      <th>week_of_year</th>\n",
       "      <th>is_closed</th>\n",
       "    </tr>\n",
       "    <tr>\n",
       "      <th>Date</th>\n",
       "      <th></th>\n",
       "      <th></th>\n",
       "      <th></th>\n",
       "      <th></th>\n",
       "    </tr>\n",
       "  </thead>\n",
       "  <tbody>\n",
       "    <tr>\n",
       "      <th>2018-10-31</th>\n",
       "      <td>24</td>\n",
       "      <td>2</td>\n",
       "      <td>44</td>\n",
       "      <td>0</td>\n",
       "    </tr>\n",
       "    <tr>\n",
       "      <th>2018-11-01</th>\n",
       "      <td>21</td>\n",
       "      <td>3</td>\n",
       "      <td>44</td>\n",
       "      <td>0</td>\n",
       "    </tr>\n",
       "    <tr>\n",
       "      <th>2018-11-02</th>\n",
       "      <td>17</td>\n",
       "      <td>4</td>\n",
       "      <td>44</td>\n",
       "      <td>0</td>\n",
       "    </tr>\n",
       "    <tr>\n",
       "      <th>2018-11-03</th>\n",
       "      <td>26</td>\n",
       "      <td>5</td>\n",
       "      <td>44</td>\n",
       "      <td>0</td>\n",
       "    </tr>\n",
       "    <tr>\n",
       "      <th>2018-11-04</th>\n",
       "      <td>30</td>\n",
       "      <td>6</td>\n",
       "      <td>44</td>\n",
       "      <td>0</td>\n",
       "    </tr>\n",
       "    <tr>\n",
       "      <th>...</th>\n",
       "      <td>...</td>\n",
       "      <td>...</td>\n",
       "      <td>...</td>\n",
       "      <td>...</td>\n",
       "    </tr>\n",
       "    <tr>\n",
       "      <th>2019-03-08</th>\n",
       "      <td>18</td>\n",
       "      <td>4</td>\n",
       "      <td>10</td>\n",
       "      <td>0</td>\n",
       "    </tr>\n",
       "    <tr>\n",
       "      <th>2019-03-09</th>\n",
       "      <td>12</td>\n",
       "      <td>5</td>\n",
       "      <td>10</td>\n",
       "      <td>0</td>\n",
       "    </tr>\n",
       "    <tr>\n",
       "      <th>2019-03-10</th>\n",
       "      <td>28</td>\n",
       "      <td>6</td>\n",
       "      <td>10</td>\n",
       "      <td>0</td>\n",
       "    </tr>\n",
       "    <tr>\n",
       "      <th>2019-03-11</th>\n",
       "      <td>30</td>\n",
       "      <td>0</td>\n",
       "      <td>10</td>\n",
       "      <td>0</td>\n",
       "    </tr>\n",
       "    <tr>\n",
       "      <th>2019-03-12</th>\n",
       "      <td>18</td>\n",
       "      <td>1</td>\n",
       "      <td>10</td>\n",
       "      <td>0</td>\n",
       "    </tr>\n",
       "  </tbody>\n",
       "</table>\n",
       "<p>133 rows × 4 columns</p>\n",
       "</div>"
      ],
      "text/plain": [
       "            quantity  day_of_week  week_of_year  is_closed\n",
       "Date                                                      \n",
       "2018-10-31        24            2            44          0\n",
       "2018-11-01        21            3            44          0\n",
       "2018-11-02        17            4            44          0\n",
       "2018-11-03        26            5            44          0\n",
       "2018-11-04        30            6            44          0\n",
       "...              ...          ...           ...        ...\n",
       "2019-03-08        18            4            10          0\n",
       "2019-03-09        12            5            10          0\n",
       "2019-03-10        28            6            10          0\n",
       "2019-03-11        30            0            10          0\n",
       "2019-03-12        18            1            10          0\n",
       "\n",
       "[133 rows x 4 columns]"
      ]
     },
     "execution_count": 50,
     "metadata": {},
     "output_type": "execute_result"
    }
   ],
   "source": [
    "train"
   ]
  },
  {
   "cell_type": "code",
   "execution_count": 51,
   "metadata": {
    "id": "CAHTb2815L3T",
    "pycharm": {
     "name": "#%%\n"
    }
   },
   "outputs": [
    {
     "data": {
      "text/html": [
       "<div>\n",
       "<style scoped>\n",
       "    .dataframe tbody tr th:only-of-type {\n",
       "        vertical-align: middle;\n",
       "    }\n",
       "\n",
       "    .dataframe tbody tr th {\n",
       "        vertical-align: top;\n",
       "    }\n",
       "\n",
       "    .dataframe thead th {\n",
       "        text-align: right;\n",
       "    }\n",
       "</style>\n",
       "<table border=\"1\" class=\"dataframe\">\n",
       "  <thead>\n",
       "    <tr style=\"text-align: right;\">\n",
       "      <th></th>\n",
       "      <th>lag_7_day</th>\n",
       "      <th>lag_8_day</th>\n",
       "      <th>lag_9_day</th>\n",
       "      <th>lag_10_day</th>\n",
       "      <th>lag_11_day</th>\n",
       "      <th>lag_12_day</th>\n",
       "      <th>lag_13_day</th>\n",
       "      <th>lag_14_day</th>\n",
       "    </tr>\n",
       "    <tr>\n",
       "      <th>Date</th>\n",
       "      <th></th>\n",
       "      <th></th>\n",
       "      <th></th>\n",
       "      <th></th>\n",
       "      <th></th>\n",
       "      <th></th>\n",
       "      <th></th>\n",
       "      <th></th>\n",
       "    </tr>\n",
       "  </thead>\n",
       "  <tbody>\n",
       "    <tr>\n",
       "      <th>2018-10-31</th>\n",
       "      <td>NaN</td>\n",
       "      <td>NaN</td>\n",
       "      <td>NaN</td>\n",
       "      <td>NaN</td>\n",
       "      <td>NaN</td>\n",
       "      <td>NaN</td>\n",
       "      <td>NaN</td>\n",
       "      <td>NaN</td>\n",
       "    </tr>\n",
       "    <tr>\n",
       "      <th>2018-11-01</th>\n",
       "      <td>NaN</td>\n",
       "      <td>NaN</td>\n",
       "      <td>NaN</td>\n",
       "      <td>NaN</td>\n",
       "      <td>NaN</td>\n",
       "      <td>NaN</td>\n",
       "      <td>NaN</td>\n",
       "      <td>NaN</td>\n",
       "    </tr>\n",
       "    <tr>\n",
       "      <th>2018-11-02</th>\n",
       "      <td>NaN</td>\n",
       "      <td>NaN</td>\n",
       "      <td>NaN</td>\n",
       "      <td>NaN</td>\n",
       "      <td>NaN</td>\n",
       "      <td>NaN</td>\n",
       "      <td>NaN</td>\n",
       "      <td>NaN</td>\n",
       "    </tr>\n",
       "    <tr>\n",
       "      <th>2018-11-03</th>\n",
       "      <td>NaN</td>\n",
       "      <td>NaN</td>\n",
       "      <td>NaN</td>\n",
       "      <td>NaN</td>\n",
       "      <td>NaN</td>\n",
       "      <td>NaN</td>\n",
       "      <td>NaN</td>\n",
       "      <td>NaN</td>\n",
       "    </tr>\n",
       "    <tr>\n",
       "      <th>2018-11-04</th>\n",
       "      <td>NaN</td>\n",
       "      <td>NaN</td>\n",
       "      <td>NaN</td>\n",
       "      <td>NaN</td>\n",
       "      <td>NaN</td>\n",
       "      <td>NaN</td>\n",
       "      <td>NaN</td>\n",
       "      <td>NaN</td>\n",
       "    </tr>\n",
       "    <tr>\n",
       "      <th>2018-11-05</th>\n",
       "      <td>NaN</td>\n",
       "      <td>NaN</td>\n",
       "      <td>NaN</td>\n",
       "      <td>NaN</td>\n",
       "      <td>NaN</td>\n",
       "      <td>NaN</td>\n",
       "      <td>NaN</td>\n",
       "      <td>NaN</td>\n",
       "    </tr>\n",
       "    <tr>\n",
       "      <th>2018-11-06</th>\n",
       "      <td>NaN</td>\n",
       "      <td>NaN</td>\n",
       "      <td>NaN</td>\n",
       "      <td>NaN</td>\n",
       "      <td>NaN</td>\n",
       "      <td>NaN</td>\n",
       "      <td>NaN</td>\n",
       "      <td>NaN</td>\n",
       "    </tr>\n",
       "    <tr>\n",
       "      <th>2018-11-07</th>\n",
       "      <td>24.0</td>\n",
       "      <td>NaN</td>\n",
       "      <td>NaN</td>\n",
       "      <td>NaN</td>\n",
       "      <td>NaN</td>\n",
       "      <td>NaN</td>\n",
       "      <td>NaN</td>\n",
       "      <td>NaN</td>\n",
       "    </tr>\n",
       "    <tr>\n",
       "      <th>2018-11-08</th>\n",
       "      <td>21.0</td>\n",
       "      <td>24.0</td>\n",
       "      <td>NaN</td>\n",
       "      <td>NaN</td>\n",
       "      <td>NaN</td>\n",
       "      <td>NaN</td>\n",
       "      <td>NaN</td>\n",
       "      <td>NaN</td>\n",
       "    </tr>\n",
       "    <tr>\n",
       "      <th>2018-11-09</th>\n",
       "      <td>17.0</td>\n",
       "      <td>21.0</td>\n",
       "      <td>24.0</td>\n",
       "      <td>NaN</td>\n",
       "      <td>NaN</td>\n",
       "      <td>NaN</td>\n",
       "      <td>NaN</td>\n",
       "      <td>NaN</td>\n",
       "    </tr>\n",
       "    <tr>\n",
       "      <th>2018-11-10</th>\n",
       "      <td>26.0</td>\n",
       "      <td>17.0</td>\n",
       "      <td>21.0</td>\n",
       "      <td>24.0</td>\n",
       "      <td>NaN</td>\n",
       "      <td>NaN</td>\n",
       "      <td>NaN</td>\n",
       "      <td>NaN</td>\n",
       "    </tr>\n",
       "    <tr>\n",
       "      <th>2018-11-11</th>\n",
       "      <td>30.0</td>\n",
       "      <td>26.0</td>\n",
       "      <td>17.0</td>\n",
       "      <td>21.0</td>\n",
       "      <td>24.0</td>\n",
       "      <td>NaN</td>\n",
       "      <td>NaN</td>\n",
       "      <td>NaN</td>\n",
       "    </tr>\n",
       "    <tr>\n",
       "      <th>2018-11-12</th>\n",
       "      <td>36.0</td>\n",
       "      <td>30.0</td>\n",
       "      <td>26.0</td>\n",
       "      <td>17.0</td>\n",
       "      <td>21.0</td>\n",
       "      <td>24.0</td>\n",
       "      <td>NaN</td>\n",
       "      <td>NaN</td>\n",
       "    </tr>\n",
       "    <tr>\n",
       "      <th>2018-11-13</th>\n",
       "      <td>23.0</td>\n",
       "      <td>36.0</td>\n",
       "      <td>30.0</td>\n",
       "      <td>26.0</td>\n",
       "      <td>17.0</td>\n",
       "      <td>21.0</td>\n",
       "      <td>24.0</td>\n",
       "      <td>NaN</td>\n",
       "    </tr>\n",
       "    <tr>\n",
       "      <th>2018-11-14</th>\n",
       "      <td>27.0</td>\n",
       "      <td>23.0</td>\n",
       "      <td>36.0</td>\n",
       "      <td>30.0</td>\n",
       "      <td>26.0</td>\n",
       "      <td>17.0</td>\n",
       "      <td>21.0</td>\n",
       "      <td>24.0</td>\n",
       "    </tr>\n",
       "    <tr>\n",
       "      <th>2018-11-15</th>\n",
       "      <td>5.0</td>\n",
       "      <td>27.0</td>\n",
       "      <td>23.0</td>\n",
       "      <td>36.0</td>\n",
       "      <td>30.0</td>\n",
       "      <td>26.0</td>\n",
       "      <td>17.0</td>\n",
       "      <td>21.0</td>\n",
       "    </tr>\n",
       "    <tr>\n",
       "      <th>2018-11-16</th>\n",
       "      <td>21.0</td>\n",
       "      <td>5.0</td>\n",
       "      <td>27.0</td>\n",
       "      <td>23.0</td>\n",
       "      <td>36.0</td>\n",
       "      <td>30.0</td>\n",
       "      <td>26.0</td>\n",
       "      <td>17.0</td>\n",
       "    </tr>\n",
       "    <tr>\n",
       "      <th>2018-11-17</th>\n",
       "      <td>31.0</td>\n",
       "      <td>21.0</td>\n",
       "      <td>5.0</td>\n",
       "      <td>27.0</td>\n",
       "      <td>23.0</td>\n",
       "      <td>36.0</td>\n",
       "      <td>30.0</td>\n",
       "      <td>26.0</td>\n",
       "    </tr>\n",
       "    <tr>\n",
       "      <th>2018-11-18</th>\n",
       "      <td>30.0</td>\n",
       "      <td>31.0</td>\n",
       "      <td>21.0</td>\n",
       "      <td>5.0</td>\n",
       "      <td>27.0</td>\n",
       "      <td>23.0</td>\n",
       "      <td>36.0</td>\n",
       "      <td>30.0</td>\n",
       "    </tr>\n",
       "    <tr>\n",
       "      <th>2018-11-19</th>\n",
       "      <td>38.0</td>\n",
       "      <td>30.0</td>\n",
       "      <td>31.0</td>\n",
       "      <td>21.0</td>\n",
       "      <td>5.0</td>\n",
       "      <td>27.0</td>\n",
       "      <td>23.0</td>\n",
       "      <td>36.0</td>\n",
       "    </tr>\n",
       "  </tbody>\n",
       "</table>\n",
       "</div>"
      ],
      "text/plain": [
       "            lag_7_day  lag_8_day  lag_9_day  lag_10_day  lag_11_day  \\\n",
       "Date                                                                  \n",
       "2018-10-31        NaN        NaN        NaN         NaN         NaN   \n",
       "2018-11-01        NaN        NaN        NaN         NaN         NaN   \n",
       "2018-11-02        NaN        NaN        NaN         NaN         NaN   \n",
       "2018-11-03        NaN        NaN        NaN         NaN         NaN   \n",
       "2018-11-04        NaN        NaN        NaN         NaN         NaN   \n",
       "2018-11-05        NaN        NaN        NaN         NaN         NaN   \n",
       "2018-11-06        NaN        NaN        NaN         NaN         NaN   \n",
       "2018-11-07       24.0        NaN        NaN         NaN         NaN   \n",
       "2018-11-08       21.0       24.0        NaN         NaN         NaN   \n",
       "2018-11-09       17.0       21.0       24.0         NaN         NaN   \n",
       "2018-11-10       26.0       17.0       21.0        24.0         NaN   \n",
       "2018-11-11       30.0       26.0       17.0        21.0        24.0   \n",
       "2018-11-12       36.0       30.0       26.0        17.0        21.0   \n",
       "2018-11-13       23.0       36.0       30.0        26.0        17.0   \n",
       "2018-11-14       27.0       23.0       36.0        30.0        26.0   \n",
       "2018-11-15        5.0       27.0       23.0        36.0        30.0   \n",
       "2018-11-16       21.0        5.0       27.0        23.0        36.0   \n",
       "2018-11-17       31.0       21.0        5.0        27.0        23.0   \n",
       "2018-11-18       30.0       31.0       21.0         5.0        27.0   \n",
       "2018-11-19       38.0       30.0       31.0        21.0         5.0   \n",
       "\n",
       "            lag_12_day  lag_13_day  lag_14_day  \n",
       "Date                                            \n",
       "2018-10-31         NaN         NaN         NaN  \n",
       "2018-11-01         NaN         NaN         NaN  \n",
       "2018-11-02         NaN         NaN         NaN  \n",
       "2018-11-03         NaN         NaN         NaN  \n",
       "2018-11-04         NaN         NaN         NaN  \n",
       "2018-11-05         NaN         NaN         NaN  \n",
       "2018-11-06         NaN         NaN         NaN  \n",
       "2018-11-07         NaN         NaN         NaN  \n",
       "2018-11-08         NaN         NaN         NaN  \n",
       "2018-11-09         NaN         NaN         NaN  \n",
       "2018-11-10         NaN         NaN         NaN  \n",
       "2018-11-11         NaN         NaN         NaN  \n",
       "2018-11-12        24.0         NaN         NaN  \n",
       "2018-11-13        21.0        24.0         NaN  \n",
       "2018-11-14        17.0        21.0        24.0  \n",
       "2018-11-15        26.0        17.0        21.0  \n",
       "2018-11-16        30.0        26.0        17.0  \n",
       "2018-11-17        36.0        30.0        26.0  \n",
       "2018-11-18        23.0        36.0        30.0  \n",
       "2018-11-19        27.0        23.0        36.0  "
      ]
     },
     "execution_count": 51,
     "metadata": {},
     "output_type": "execute_result"
    }
   ],
   "source": [
    "shifted_data = {\"lag_{}_day\".format(day_shift): train[\"quantity\"].shift(day_shift) for day_shift in shifts}\n",
    "shifted_data = pd.DataFrame(shifted_data)\n",
    "shifted_data.head(20)"
   ]
  },
  {
   "cell_type": "markdown",
   "metadata": {
    "id": "_XamSleyazzg",
    "pycharm": {
     "name": "#%% md\n"
    }
   },
   "source": [
    "We merge the shifted variables to our training data"
   ]
  },
  {
   "cell_type": "code",
   "execution_count": 52,
   "metadata": {
    "id": "qfBrF8QV5XAn",
    "pycharm": {
     "name": "#%%\n"
    }
   },
   "outputs": [
    {
     "data": {
      "text/html": [
       "<div>\n",
       "<style scoped>\n",
       "    .dataframe tbody tr th:only-of-type {\n",
       "        vertical-align: middle;\n",
       "    }\n",
       "\n",
       "    .dataframe tbody tr th {\n",
       "        vertical-align: top;\n",
       "    }\n",
       "\n",
       "    .dataframe thead th {\n",
       "        text-align: right;\n",
       "    }\n",
       "</style>\n",
       "<table border=\"1\" class=\"dataframe\">\n",
       "  <thead>\n",
       "    <tr style=\"text-align: right;\">\n",
       "      <th></th>\n",
       "      <th>quantity</th>\n",
       "      <th>day_of_week</th>\n",
       "      <th>week_of_year</th>\n",
       "      <th>is_closed</th>\n",
       "      <th>lag_7_day</th>\n",
       "      <th>lag_8_day</th>\n",
       "      <th>lag_9_day</th>\n",
       "      <th>lag_10_day</th>\n",
       "      <th>lag_11_day</th>\n",
       "      <th>lag_12_day</th>\n",
       "      <th>lag_13_day</th>\n",
       "      <th>lag_14_day</th>\n",
       "    </tr>\n",
       "    <tr>\n",
       "      <th>Date</th>\n",
       "      <th></th>\n",
       "      <th></th>\n",
       "      <th></th>\n",
       "      <th></th>\n",
       "      <th></th>\n",
       "      <th></th>\n",
       "      <th></th>\n",
       "      <th></th>\n",
       "      <th></th>\n",
       "      <th></th>\n",
       "      <th></th>\n",
       "      <th></th>\n",
       "    </tr>\n",
       "  </thead>\n",
       "  <tbody>\n",
       "    <tr>\n",
       "      <th>2018-10-31</th>\n",
       "      <td>24</td>\n",
       "      <td>2</td>\n",
       "      <td>44</td>\n",
       "      <td>0</td>\n",
       "      <td>NaN</td>\n",
       "      <td>NaN</td>\n",
       "      <td>NaN</td>\n",
       "      <td>NaN</td>\n",
       "      <td>NaN</td>\n",
       "      <td>NaN</td>\n",
       "      <td>NaN</td>\n",
       "      <td>NaN</td>\n",
       "    </tr>\n",
       "    <tr>\n",
       "      <th>2018-11-01</th>\n",
       "      <td>21</td>\n",
       "      <td>3</td>\n",
       "      <td>44</td>\n",
       "      <td>0</td>\n",
       "      <td>NaN</td>\n",
       "      <td>NaN</td>\n",
       "      <td>NaN</td>\n",
       "      <td>NaN</td>\n",
       "      <td>NaN</td>\n",
       "      <td>NaN</td>\n",
       "      <td>NaN</td>\n",
       "      <td>NaN</td>\n",
       "    </tr>\n",
       "    <tr>\n",
       "      <th>2018-11-02</th>\n",
       "      <td>17</td>\n",
       "      <td>4</td>\n",
       "      <td>44</td>\n",
       "      <td>0</td>\n",
       "      <td>NaN</td>\n",
       "      <td>NaN</td>\n",
       "      <td>NaN</td>\n",
       "      <td>NaN</td>\n",
       "      <td>NaN</td>\n",
       "      <td>NaN</td>\n",
       "      <td>NaN</td>\n",
       "      <td>NaN</td>\n",
       "    </tr>\n",
       "    <tr>\n",
       "      <th>2018-11-03</th>\n",
       "      <td>26</td>\n",
       "      <td>5</td>\n",
       "      <td>44</td>\n",
       "      <td>0</td>\n",
       "      <td>NaN</td>\n",
       "      <td>NaN</td>\n",
       "      <td>NaN</td>\n",
       "      <td>NaN</td>\n",
       "      <td>NaN</td>\n",
       "      <td>NaN</td>\n",
       "      <td>NaN</td>\n",
       "      <td>NaN</td>\n",
       "    </tr>\n",
       "    <tr>\n",
       "      <th>2018-11-04</th>\n",
       "      <td>30</td>\n",
       "      <td>6</td>\n",
       "      <td>44</td>\n",
       "      <td>0</td>\n",
       "      <td>NaN</td>\n",
       "      <td>NaN</td>\n",
       "      <td>NaN</td>\n",
       "      <td>NaN</td>\n",
       "      <td>NaN</td>\n",
       "      <td>NaN</td>\n",
       "      <td>NaN</td>\n",
       "      <td>NaN</td>\n",
       "    </tr>\n",
       "    <tr>\n",
       "      <th>...</th>\n",
       "      <td>...</td>\n",
       "      <td>...</td>\n",
       "      <td>...</td>\n",
       "      <td>...</td>\n",
       "      <td>...</td>\n",
       "      <td>...</td>\n",
       "      <td>...</td>\n",
       "      <td>...</td>\n",
       "      <td>...</td>\n",
       "      <td>...</td>\n",
       "      <td>...</td>\n",
       "      <td>...</td>\n",
       "    </tr>\n",
       "    <tr>\n",
       "      <th>2019-03-08</th>\n",
       "      <td>18</td>\n",
       "      <td>4</td>\n",
       "      <td>10</td>\n",
       "      <td>0</td>\n",
       "      <td>14.0</td>\n",
       "      <td>27.0</td>\n",
       "      <td>16.0</td>\n",
       "      <td>17.0</td>\n",
       "      <td>27.0</td>\n",
       "      <td>23.0</td>\n",
       "      <td>13.0</td>\n",
       "      <td>19.0</td>\n",
       "    </tr>\n",
       "    <tr>\n",
       "      <th>2019-03-09</th>\n",
       "      <td>12</td>\n",
       "      <td>5</td>\n",
       "      <td>10</td>\n",
       "      <td>0</td>\n",
       "      <td>19.0</td>\n",
       "      <td>14.0</td>\n",
       "      <td>27.0</td>\n",
       "      <td>16.0</td>\n",
       "      <td>17.0</td>\n",
       "      <td>27.0</td>\n",
       "      <td>23.0</td>\n",
       "      <td>13.0</td>\n",
       "    </tr>\n",
       "    <tr>\n",
       "      <th>2019-03-10</th>\n",
       "      <td>28</td>\n",
       "      <td>6</td>\n",
       "      <td>10</td>\n",
       "      <td>0</td>\n",
       "      <td>22.0</td>\n",
       "      <td>19.0</td>\n",
       "      <td>14.0</td>\n",
       "      <td>27.0</td>\n",
       "      <td>16.0</td>\n",
       "      <td>17.0</td>\n",
       "      <td>27.0</td>\n",
       "      <td>23.0</td>\n",
       "    </tr>\n",
       "    <tr>\n",
       "      <th>2019-03-11</th>\n",
       "      <td>30</td>\n",
       "      <td>0</td>\n",
       "      <td>10</td>\n",
       "      <td>0</td>\n",
       "      <td>36.0</td>\n",
       "      <td>22.0</td>\n",
       "      <td>19.0</td>\n",
       "      <td>14.0</td>\n",
       "      <td>27.0</td>\n",
       "      <td>16.0</td>\n",
       "      <td>17.0</td>\n",
       "      <td>27.0</td>\n",
       "    </tr>\n",
       "    <tr>\n",
       "      <th>2019-03-12</th>\n",
       "      <td>18</td>\n",
       "      <td>1</td>\n",
       "      <td>10</td>\n",
       "      <td>0</td>\n",
       "      <td>13.0</td>\n",
       "      <td>36.0</td>\n",
       "      <td>22.0</td>\n",
       "      <td>19.0</td>\n",
       "      <td>14.0</td>\n",
       "      <td>27.0</td>\n",
       "      <td>16.0</td>\n",
       "      <td>17.0</td>\n",
       "    </tr>\n",
       "  </tbody>\n",
       "</table>\n",
       "<p>133 rows × 12 columns</p>\n",
       "</div>"
      ],
      "text/plain": [
       "            quantity  day_of_week  week_of_year  is_closed  lag_7_day  \\\n",
       "Date                                                                    \n",
       "2018-10-31        24            2            44          0        NaN   \n",
       "2018-11-01        21            3            44          0        NaN   \n",
       "2018-11-02        17            4            44          0        NaN   \n",
       "2018-11-03        26            5            44          0        NaN   \n",
       "2018-11-04        30            6            44          0        NaN   \n",
       "...              ...          ...           ...        ...        ...   \n",
       "2019-03-08        18            4            10          0       14.0   \n",
       "2019-03-09        12            5            10          0       19.0   \n",
       "2019-03-10        28            6            10          0       22.0   \n",
       "2019-03-11        30            0            10          0       36.0   \n",
       "2019-03-12        18            1            10          0       13.0   \n",
       "\n",
       "            lag_8_day  lag_9_day  lag_10_day  lag_11_day  lag_12_day  \\\n",
       "Date                                                                   \n",
       "2018-10-31        NaN        NaN         NaN         NaN         NaN   \n",
       "2018-11-01        NaN        NaN         NaN         NaN         NaN   \n",
       "2018-11-02        NaN        NaN         NaN         NaN         NaN   \n",
       "2018-11-03        NaN        NaN         NaN         NaN         NaN   \n",
       "2018-11-04        NaN        NaN         NaN         NaN         NaN   \n",
       "...               ...        ...         ...         ...         ...   \n",
       "2019-03-08       27.0       16.0        17.0        27.0        23.0   \n",
       "2019-03-09       14.0       27.0        16.0        17.0        27.0   \n",
       "2019-03-10       19.0       14.0        27.0        16.0        17.0   \n",
       "2019-03-11       22.0       19.0        14.0        27.0        16.0   \n",
       "2019-03-12       36.0       22.0        19.0        14.0        27.0   \n",
       "\n",
       "            lag_13_day  lag_14_day  \n",
       "Date                                \n",
       "2018-10-31         NaN         NaN  \n",
       "2018-11-01         NaN         NaN  \n",
       "2018-11-02         NaN         NaN  \n",
       "2018-11-03         NaN         NaN  \n",
       "2018-11-04         NaN         NaN  \n",
       "...                ...         ...  \n",
       "2019-03-08        13.0        19.0  \n",
       "2019-03-09        23.0        13.0  \n",
       "2019-03-10        27.0        23.0  \n",
       "2019-03-11        17.0        27.0  \n",
       "2019-03-12        16.0        17.0  \n",
       "\n",
       "[133 rows x 12 columns]"
      ]
     },
     "execution_count": 52,
     "metadata": {},
     "output_type": "execute_result"
    }
   ],
   "source": [
    "train = pd.concat([train,shifted_data],axis=1)\n",
    "train"
   ]
  },
  {
   "cell_type": "markdown",
   "metadata": {
    "id": "YykiZ2tHa45b",
    "pycharm": {
     "name": "#%% md\n"
    }
   },
   "source": [
    "Also we can use the seasonal component of the seasonal decomposition. We see that this patterns repeats all 7 days"
   ]
  },
  {
   "cell_type": "code",
   "execution_count": 53,
   "metadata": {
    "id": "9vGfPdvFbH4c",
    "pycharm": {
     "name": "#%%\n"
    }
   },
   "outputs": [
    {
     "data": {
      "text/plain": [
       "<AxesSubplot:xlabel='Date'>"
      ]
     },
     "execution_count": 53,
     "metadata": {},
     "output_type": "execute_result"
    },
    {
     "data": {
      "image/png": "[encoded data removed]",
      "text/plain": [
       "<Figure size 432x288 with 1 Axes>"
      ]
     },
     "metadata": {
      "needs_background": "light"
     },
     "output_type": "display_data"
    }
   ],
   "source": [
    "decomp.seasonal.plot()"
   ]
  },
  {
   "cell_type": "code",
   "execution_count": 54,
   "metadata": {
    "id": "IwiOjHOM54G9",
    "pycharm": {
     "name": "#%%\n"
    }
   },
   "outputs": [
    {
     "data": {
      "text/html": [
       "<div>\n",
       "<style scoped>\n",
       "    .dataframe tbody tr th:only-of-type {\n",
       "        vertical-align: middle;\n",
       "    }\n",
       "\n",
       "    .dataframe tbody tr th {\n",
       "        vertical-align: top;\n",
       "    }\n",
       "\n",
       "    .dataframe thead th {\n",
       "        text-align: right;\n",
       "    }\n",
       "</style>\n",
       "<table border=\"1\" class=\"dataframe\">\n",
       "  <thead>\n",
       "    <tr style=\"text-align: right;\">\n",
       "      <th></th>\n",
       "      <th>quantity</th>\n",
       "      <th>day_of_week</th>\n",
       "      <th>week_of_year</th>\n",
       "      <th>is_closed</th>\n",
       "      <th>lag_7_day</th>\n",
       "      <th>lag_8_day</th>\n",
       "      <th>lag_9_day</th>\n",
       "      <th>lag_10_day</th>\n",
       "      <th>lag_11_day</th>\n",
       "      <th>lag_12_day</th>\n",
       "      <th>lag_13_day</th>\n",
       "      <th>lag_14_day</th>\n",
       "      <th>seasonality</th>\n",
       "    </tr>\n",
       "    <tr>\n",
       "      <th>Date</th>\n",
       "      <th></th>\n",
       "      <th></th>\n",
       "      <th></th>\n",
       "      <th></th>\n",
       "      <th></th>\n",
       "      <th></th>\n",
       "      <th></th>\n",
       "      <th></th>\n",
       "      <th></th>\n",
       "      <th></th>\n",
       "      <th></th>\n",
       "      <th></th>\n",
       "      <th></th>\n",
       "    </tr>\n",
       "  </thead>\n",
       "  <tbody>\n",
       "    <tr>\n",
       "      <th>2018-10-31</th>\n",
       "      <td>24</td>\n",
       "      <td>2</td>\n",
       "      <td>44</td>\n",
       "      <td>0</td>\n",
       "      <td>NaN</td>\n",
       "      <td>NaN</td>\n",
       "      <td>NaN</td>\n",
       "      <td>NaN</td>\n",
       "      <td>NaN</td>\n",
       "      <td>NaN</td>\n",
       "      <td>NaN</td>\n",
       "      <td>NaN</td>\n",
       "      <td>-5.267484</td>\n",
       "    </tr>\n",
       "    <tr>\n",
       "      <th>2018-11-01</th>\n",
       "      <td>21</td>\n",
       "      <td>3</td>\n",
       "      <td>44</td>\n",
       "      <td>0</td>\n",
       "      <td>NaN</td>\n",
       "      <td>NaN</td>\n",
       "      <td>NaN</td>\n",
       "      <td>NaN</td>\n",
       "      <td>NaN</td>\n",
       "      <td>NaN</td>\n",
       "      <td>NaN</td>\n",
       "      <td>NaN</td>\n",
       "      <td>-5.488263</td>\n",
       "    </tr>\n",
       "    <tr>\n",
       "      <th>2018-11-02</th>\n",
       "      <td>17</td>\n",
       "      <td>4</td>\n",
       "      <td>44</td>\n",
       "      <td>0</td>\n",
       "      <td>NaN</td>\n",
       "      <td>NaN</td>\n",
       "      <td>NaN</td>\n",
       "      <td>NaN</td>\n",
       "      <td>NaN</td>\n",
       "      <td>NaN</td>\n",
       "      <td>NaN</td>\n",
       "      <td>NaN</td>\n",
       "      <td>-2.760991</td>\n",
       "    </tr>\n",
       "    <tr>\n",
       "      <th>2018-11-03</th>\n",
       "      <td>26</td>\n",
       "      <td>5</td>\n",
       "      <td>44</td>\n",
       "      <td>0</td>\n",
       "      <td>NaN</td>\n",
       "      <td>NaN</td>\n",
       "      <td>NaN</td>\n",
       "      <td>NaN</td>\n",
       "      <td>NaN</td>\n",
       "      <td>NaN</td>\n",
       "      <td>NaN</td>\n",
       "      <td>NaN</td>\n",
       "      <td>-0.960031</td>\n",
       "    </tr>\n",
       "    <tr>\n",
       "      <th>2018-11-04</th>\n",
       "      <td>30</td>\n",
       "      <td>6</td>\n",
       "      <td>44</td>\n",
       "      <td>0</td>\n",
       "      <td>NaN</td>\n",
       "      <td>NaN</td>\n",
       "      <td>NaN</td>\n",
       "      <td>NaN</td>\n",
       "      <td>NaN</td>\n",
       "      <td>NaN</td>\n",
       "      <td>NaN</td>\n",
       "      <td>NaN</td>\n",
       "      <td>2.667581</td>\n",
       "    </tr>\n",
       "    <tr>\n",
       "      <th>...</th>\n",
       "      <td>...</td>\n",
       "      <td>...</td>\n",
       "      <td>...</td>\n",
       "      <td>...</td>\n",
       "      <td>...</td>\n",
       "      <td>...</td>\n",
       "      <td>...</td>\n",
       "      <td>...</td>\n",
       "      <td>...</td>\n",
       "      <td>...</td>\n",
       "      <td>...</td>\n",
       "      <td>...</td>\n",
       "      <td>...</td>\n",
       "    </tr>\n",
       "    <tr>\n",
       "      <th>2019-03-08</th>\n",
       "      <td>18</td>\n",
       "      <td>4</td>\n",
       "      <td>10</td>\n",
       "      <td>0</td>\n",
       "      <td>14.0</td>\n",
       "      <td>27.0</td>\n",
       "      <td>16.0</td>\n",
       "      <td>17.0</td>\n",
       "      <td>27.0</td>\n",
       "      <td>23.0</td>\n",
       "      <td>13.0</td>\n",
       "      <td>19.0</td>\n",
       "      <td>-2.760991</td>\n",
       "    </tr>\n",
       "    <tr>\n",
       "      <th>2019-03-09</th>\n",
       "      <td>12</td>\n",
       "      <td>5</td>\n",
       "      <td>10</td>\n",
       "      <td>0</td>\n",
       "      <td>19.0</td>\n",
       "      <td>14.0</td>\n",
       "      <td>27.0</td>\n",
       "      <td>16.0</td>\n",
       "      <td>17.0</td>\n",
       "      <td>27.0</td>\n",
       "      <td>23.0</td>\n",
       "      <td>13.0</td>\n",
       "      <td>-0.960031</td>\n",
       "    </tr>\n",
       "    <tr>\n",
       "      <th>2019-03-10</th>\n",
       "      <td>28</td>\n",
       "      <td>6</td>\n",
       "      <td>10</td>\n",
       "      <td>0</td>\n",
       "      <td>22.0</td>\n",
       "      <td>19.0</td>\n",
       "      <td>14.0</td>\n",
       "      <td>27.0</td>\n",
       "      <td>16.0</td>\n",
       "      <td>17.0</td>\n",
       "      <td>27.0</td>\n",
       "      <td>23.0</td>\n",
       "      <td>2.667581</td>\n",
       "    </tr>\n",
       "    <tr>\n",
       "      <th>2019-03-11</th>\n",
       "      <td>30</td>\n",
       "      <td>0</td>\n",
       "      <td>10</td>\n",
       "      <td>0</td>\n",
       "      <td>36.0</td>\n",
       "      <td>22.0</td>\n",
       "      <td>19.0</td>\n",
       "      <td>14.0</td>\n",
       "      <td>27.0</td>\n",
       "      <td>16.0</td>\n",
       "      <td>17.0</td>\n",
       "      <td>27.0</td>\n",
       "      <td>12.641607</td>\n",
       "    </tr>\n",
       "    <tr>\n",
       "      <th>2019-03-12</th>\n",
       "      <td>18</td>\n",
       "      <td>1</td>\n",
       "      <td>10</td>\n",
       "      <td>0</td>\n",
       "      <td>13.0</td>\n",
       "      <td>36.0</td>\n",
       "      <td>22.0</td>\n",
       "      <td>19.0</td>\n",
       "      <td>14.0</td>\n",
       "      <td>27.0</td>\n",
       "      <td>16.0</td>\n",
       "      <td>17.0</td>\n",
       "      <td>-0.832419</td>\n",
       "    </tr>\n",
       "  </tbody>\n",
       "</table>\n",
       "<p>133 rows × 13 columns</p>\n",
       "</div>"
      ],
      "text/plain": [
       "            quantity  day_of_week  week_of_year  is_closed  lag_7_day  \\\n",
       "Date                                                                    \n",
       "2018-10-31        24            2            44          0        NaN   \n",
       "2018-11-01        21            3            44          0        NaN   \n",
       "2018-11-02        17            4            44          0        NaN   \n",
       "2018-11-03        26            5            44          0        NaN   \n",
       "2018-11-04        30            6            44          0        NaN   \n",
       "...              ...          ...           ...        ...        ...   \n",
       "2019-03-08        18            4            10          0       14.0   \n",
       "2019-03-09        12            5            10          0       19.0   \n",
       "2019-03-10        28            6            10          0       22.0   \n",
       "2019-03-11        30            0            10          0       36.0   \n",
       "2019-03-12        18            1            10          0       13.0   \n",
       "\n",
       "            lag_8_day  lag_9_day  lag_10_day  lag_11_day  lag_12_day  \\\n",
       "Date                                                                   \n",
       "2018-10-31        NaN        NaN         NaN         NaN         NaN   \n",
       "2018-11-01        NaN        NaN         NaN         NaN         NaN   \n",
       "2018-11-02        NaN        NaN         NaN         NaN         NaN   \n",
       "2018-11-03        NaN        NaN         NaN         NaN         NaN   \n",
       "2018-11-04        NaN        NaN         NaN         NaN         NaN   \n",
       "...               ...        ...         ...         ...         ...   \n",
       "2019-03-08       27.0       16.0        17.0        27.0        23.0   \n",
       "2019-03-09       14.0       27.0        16.0        17.0        27.0   \n",
       "2019-03-10       19.0       14.0        27.0        16.0        17.0   \n",
       "2019-03-11       22.0       19.0        14.0        27.0        16.0   \n",
       "2019-03-12       36.0       22.0        19.0        14.0        27.0   \n",
       "\n",
       "            lag_13_day  lag_14_day  seasonality  \n",
       "Date                                             \n",
       "2018-10-31         NaN         NaN    -5.267484  \n",
       "2018-11-01         NaN         NaN    -5.488263  \n",
       "2018-11-02         NaN         NaN    -2.760991  \n",
       "2018-11-03         NaN         NaN    -0.960031  \n",
       "2018-11-04         NaN         NaN     2.667581  \n",
       "...                ...         ...          ...  \n",
       "2019-03-08        13.0        19.0    -2.760991  \n",
       "2019-03-09        23.0        13.0    -0.960031  \n",
       "2019-03-10        27.0        23.0     2.667581  \n",
       "2019-03-11        17.0        27.0    12.641607  \n",
       "2019-03-12        16.0        17.0    -0.832419  \n",
       "\n",
       "[133 rows x 13 columns]"
      ]
     },
     "execution_count": 54,
     "metadata": {},
     "output_type": "execute_result"
    }
   ],
   "source": [
    "train[\"seasonality\"] = decomp.seasonal\n",
    "train"
   ]
  },
  {
   "cell_type": "markdown",
   "metadata": {
    "id": "1UP5wbsfbd5P",
    "pycharm": {
     "name": "#%% md\n"
    }
   },
   "source": [
    "Delete NA from training data"
   ]
  },
  {
   "cell_type": "code",
   "execution_count": 55,
   "metadata": {
    "id": "64ftWm5X6o7K",
    "pycharm": {
     "name": "#%%\n"
    }
   },
   "outputs": [],
   "source": [
    "train = train.dropna()"
   ]
  },
  {
   "cell_type": "markdown",
   "metadata": {
    "id": "RpcBk3tpbk8L",
    "pycharm": {
     "name": "#%% md\n"
    }
   },
   "source": [
    "Separate Feature and Label"
   ]
  },
  {
   "cell_type": "code",
   "execution_count": 56,
   "metadata": {
    "id": "daAHKLvu8cMl",
    "pycharm": {
     "name": "#%%\n"
    }
   },
   "outputs": [],
   "source": [
    "X_train = train.drop(\"quantity\", axis=1)\n",
    "y_train = train[\"quantity\"] "
   ]
  },
  {
   "cell_type": "markdown",
   "metadata": {
    "id": "c6V0r6c0bqoF",
    "pycharm": {
     "name": "#%% md\n"
    }
   },
   "source": [
    "## Train Random Forest"
   ]
  },
  {
   "cell_type": "code",
   "execution_count": 57,
   "metadata": {
    "id": "r5whQhcu64op",
    "pycharm": {
     "name": "#%%\n"
    }
   },
   "outputs": [
    {
     "data": {
      "text/html": [
       "<style>#sk-container-id-1 {color: black;background-color: white;}#sk-container-id-1 pre{padding: 0;}#sk-container-id-1 div.sk-toggleable {background-color: white;}#sk-container-id-1 label.sk-toggleable__label {cursor: pointer;display: block;width: 100%;margin-bottom: 0;padding: 0.3em;box-sizing: border-box;text-align: center;}#sk-container-id-1 label.sk-toggleable__label-arrow:before {content: \"▸\";float: left;margin-right: 0.25em;color: #696969;}#sk-container-id-1 label.sk-toggleable__label-arrow:hover:before {color: black;}#sk-container-id-1 div.sk-estimator:hover label.sk-toggleable__label-arrow:before {color: black;}#sk-container-id-1 div.sk-toggleable__content {max-height: 0;max-width: 0;overflow: hidden;text-align: left;background-color: #f0f8ff;}#sk-container-id-1 div.sk-toggleable__content pre {margin: 0.2em;color: black;border-radius: 0.25em;background-color: #f0f8ff;}#sk-container-id-1 input.sk-toggleable__control:checked~div.sk-toggleable__content {max-height: 200px;max-width: 100%;overflow: auto;}#sk-container-id-1 input.sk-toggleable__control:checked~label.sk-toggleable__label-arrow:before {content: \"▾\";}#sk-container-id-1 div.sk-estimator input.sk-toggleable__control:checked~label.sk-toggleable__label {background-color: #d4ebff;}#sk-container-id-1 div.sk-label input.sk-toggleable__control:checked~label.sk-toggleable__label {background-color: #d4ebff;}#sk-container-id-1 input.sk-hidden--visually {border: 0;clip: rect(1px 1px 1px 1px);clip: rect(1px, 1px, 1px, 1px);height: 1px;margin: -1px;overflow: hidden;padding: 0;position: absolute;width: 1px;}#sk-container-id-1 div.sk-estimator {font-family: monospace;background-color: #f0f8ff;border: 1px dotted black;border-radius: 0.25em;box-sizing: border-box;margin-bottom: 0.5em;}#sk-container-id-1 div.sk-estimator:hover {background-color: #d4ebff;}#sk-container-id-1 div.sk-parallel-item::after {content: \"\";width: 100%;border-bottom: 1px solid gray;flex-grow: 1;}#sk-container-id-1 div.sk-label:hover label.sk-toggleable__label {background-color: #d4ebff;}#sk-container-id-1 div.sk-serial::before {content: \"\";position: absolute;border-left: 1px solid gray;box-sizing: border-box;top: 0;bottom: 0;left: 50%;z-index: 0;}#sk-container-id-1 div.sk-serial {display: flex;flex-direction: column;align-items: center;background-color: white;padding-right: 0.2em;padding-left: 0.2em;position: relative;}#sk-container-id-1 div.sk-item {position: relative;z-index: 1;}#sk-container-id-1 div.sk-parallel {display: flex;align-items: stretch;justify-content: center;background-color: white;position: relative;}#sk-container-id-1 div.sk-item::before, #sk-container-id-1 div.sk-parallel-item::before {content: \"\";position: absolute;border-left: 1px solid gray;box-sizing: border-box;top: 0;bottom: 0;left: 50%;z-index: -1;}#sk-container-id-1 div.sk-parallel-item {display: flex;flex-direction: column;z-index: 1;position: relative;background-color: white;}#sk-container-id-1 div.sk-parallel-item:first-child::after {align-self: flex-end;width: 50%;}#sk-container-id-1 div.sk-parallel-item:last-child::after {align-self: flex-start;width: 50%;}#sk-container-id-1 div.sk-parallel-item:only-child::after {width: 0;}#sk-container-id-1 div.sk-dashed-wrapped {border: 1px dashed gray;margin: 0 0.4em 0.5em 0.4em;box-sizing: border-box;padding-bottom: 0.4em;background-color: white;}#sk-container-id-1 div.sk-label label {font-family: monospace;font-weight: bold;display: inline-block;line-height: 1.2em;}#sk-container-id-1 div.sk-label-container {text-align: center;}#sk-container-id-1 div.sk-container {/* jupyter's `normalize.less` sets `[hidden] { display: none; }` but bootstrap.min.css set `[hidden] { display: none !important; }` so we also need the `!important` here to be able to override the default hidden behavior on the sphinx rendered scikit-learn.org. See: https://github.com/scikit-learn/scikit-learn/issues/21755 */display: inline-block !important;position: relative;}#sk-container-id-1 div.sk-text-repr-fallback {display: none;}</style><div id=\"sk-container-id-1\" class=\"sk-top-container\"><div class=\"sk-text-repr-fallback\"><pre>RandomForestRegressor(n_estimators=10000)</pre><b>In a Jupyter environment, please rerun this cell to show the HTML representation or trust the notebook. <br />On GitHub, the HTML representation is unable to render, please try loading this page with nbviewer.org.</b></div><div class=\"sk-container\" hidden><div class=\"sk-item\"><div class=\"sk-estimator sk-toggleable\"><input class=\"sk-toggleable__control sk-hidden--visually\" id=\"sk-estimator-id-1\" type=\"checkbox\" checked><label for=\"sk-estimator-id-1\" class=\"sk-toggleable__label sk-toggleable__label-arrow\">RandomForestRegressor</label><div class=\"sk-toggleable__content\"><pre>RandomForestRegressor(n_estimators=10000)</pre></div></div></div></div></div>"
      ],
      "text/plain": [
       "RandomForestRegressor(n_estimators=10000)"
      ]
     },
     "execution_count": 57,
     "metadata": {},
     "output_type": "execute_result"
    }
   ],
   "source": [
    "from sklearn.ensemble import RandomForestRegressor\n",
    "forecast_forest = RandomForestRegressor(n_estimators=10000)\n",
    "forecast_forest.fit(X_train, y_train)"
   ]
  },
  {
   "cell_type": "markdown",
   "metadata": {
    "id": "k0OrQGxDb0A8",
    "pycharm": {
     "name": "#%% md\n"
    }
   },
   "source": [
    "## Initialze 4 Week-Forward Validation"
   ]
  },
  {
   "cell_type": "code",
   "execution_count": 58,
   "metadata": {
    "id": "knOR0EY8b3vW",
    "pycharm": {
     "name": "#%%\n"
    }
   },
   "outputs": [],
   "source": [
    "import numpy as np\n",
    "from sklearn.metrics import mean_squared_error\n",
    "history = train\n",
    "performance_collector = []"
   ]
  },
  {
   "cell_type": "markdown",
   "metadata": {
    "id": "PZWldHyacC1P",
    "pycharm": {
     "name": "#%% md\n"
    }
   },
   "source": [
    "## 4 Week-Forward Validation"
   ]
  },
  {
   "cell_type": "code",
   "execution_count": 59,
   "metadata": {
    "id": "WoEPHfqm6jnO",
    "pycharm": {
     "name": "#%%\n"
    }
   },
   "outputs": [
    {
     "name": "stderr",
     "output_type": "stream",
     "text": [
      "C:\\Users\\PGordetzki\\AppData\\Local\\Temp\\ipykernel_23080\\249112291.py:22: FutureWarning: The frame.append method is deprecated and will be removed from pandas in a future version. Use pandas.concat instead.\n",
      "  history = history.append(dat)\n",
      "C:\\Users\\PGordetzki\\AppData\\Local\\Temp\\ipykernel_23080\\249112291.py:22: FutureWarning: The frame.append method is deprecated and will be removed from pandas in a future version. Use pandas.concat instead.\n",
      "  history = history.append(dat)\n",
      "C:\\Users\\PGordetzki\\AppData\\Local\\Temp\\ipykernel_23080\\249112291.py:22: FutureWarning: The frame.append method is deprecated and will be removed from pandas in a future version. Use pandas.concat instead.\n",
      "  history = history.append(dat)\n",
      "C:\\Users\\PGordetzki\\AppData\\Local\\Temp\\ipykernel_23080\\249112291.py:22: FutureWarning: The frame.append method is deprecated and will be removed from pandas in a future version. Use pandas.concat instead.\n",
      "  history = history.append(dat)\n"
     ]
    }
   ],
   "source": [
    "for w in test[\"week_of_year\"].unique():\n",
    "\n",
    "  dat = history.tail(14) # get last 14 days of available data\n",
    "  \n",
    "  dat = pd.concat([dat,test[test[\"week_of_year\"]==w]]) #add test data\n",
    "\n",
    "  shifted_data = {\"lag_{}_day\".format(day_shift): dat[\"quantity\"].shift(day_shift) for day_shift in shifts} # lag training data\n",
    "  shifted_data = pd.DataFrame(shifted_data)\n",
    "\n",
    "  dat= pd.concat([dat[[\"quantity\",\"day_of_week\",\"week_of_year\",\"is_closed\"]],shifted_data],axis=1) # add shifted data\n",
    "\n",
    "  dat = dat.dropna() # delete missing data \n",
    "\n",
    "  dat[\"seasonality\"] = decomp.seasonal.head(7).values #add seasonal data\n",
    "  pred_dat = dat.drop(\"quantity\", axis=1)\n",
    "\n",
    "  y_pred = forecast_forest.predict(pred_dat)\n",
    "  actual = test[test[\"week_of_year\"]==w][\"quantity\"]\n",
    "  \n",
    "  performance_collector.append(mean_squared_error(actual,y_pred, squared=False))\n",
    "\n",
    "  history = history.append(dat)"
   ]
  },
  {
   "cell_type": "code",
   "execution_count": 60,
   "metadata": {
    "id": "onVu0j5Rc1AV",
    "pycharm": {
     "name": "#%%\n"
    }
   },
   "outputs": [
    {
     "name": "stdout",
     "output_type": "stream",
     "text": [
      "[6.030283680486588, 4.677805316140709, 6.63449820429979, 5.4111688163068274]\n",
      "5.688439004308478\n"
     ]
    }
   ],
   "source": [
    "print(performance_collector)\n",
    "print(np.mean(performance_collector))"
   ]
  },
  {
   "cell_type": "code",
   "execution_count": 61,
   "metadata": {
    "id": "RPUeC_BafPxj",
    "pycharm": {
     "name": "#%%\n"
    }
   },
   "outputs": [],
   "source": [
    "plot_week_RF = pd.DataFrame({\"RF\":performance_collector})"
   ]
  },
  {
   "cell_type": "code",
   "execution_count": 62,
   "metadata": {
    "id": "COb8DQohfWht",
    "pycharm": {
     "name": "#%%\n"
    }
   },
   "outputs": [
    {
     "data": {
      "image/png": "[encoded data removed]",
      "text/plain": [
       "<Figure size 432x288 with 1 Axes>"
      ]
     },
     "metadata": {
      "needs_background": "light"
     },
     "output_type": "display_data"
    }
   ],
   "source": [
    "performance_week_plot([plot_week_NAIVE, plot_week_SNAIVE,plot_week_ARIMA,plot_week_RF])"
   ]
  },
  {
   "cell_type": "code",
   "execution_count": 63,
   "metadata": {
    "id": "Kwc-gH0ugDls",
    "pycharm": {
     "name": "#%%\n"
    }
   },
   "outputs": [
    {
     "data": {
      "image/png": "[encoded data removed]",
      "text/plain": [
       "<Figure size 432x288 with 1 Axes>"
      ]
     },
     "metadata": {
      "needs_background": "light"
     },
     "output_type": "display_data"
    }
   ],
   "source": [
    "performance_avg_plot([plot_week_NAIVE, plot_week_SNAIVE,plot_week_ARIMA,plot_week_RF])"
   ]
  }
 ],
 "metadata": {
  "colab": {
   "collapsed_sections": [
    "QQURrdjOm-M-",
    "2cgLoI2DFa3s",
    "7PCt2u_eIMCI",
    "AobptkTYI5tI",
    "ex-2h9MSHDN-",
    "vdVbYuluHNYd",
    "JEaoURE7IpZw",
    "wtM71ciQJJc8",
    "YfrDTg8hYPCZ",
    "1yM7XH4WYXk-",
    "wfNkw88gXVZ7",
    "8l__fmHmXZPM",
    "uogsNmPkXe3x",
    "Ybqq1YZjXxm8",
    "4Vl1wCjGX48r",
    "mWK1xtwfaEbI",
    "c6V0r6c0bqoF",
    "k0OrQGxDb0A8",
    "PZWldHyacC1P"
   ],
   "name": "Introduction to Forecasting COMPLETED.ipynb",
   "provenance": [],
   "toc_visible": true
  },
  "kernelspec": {
   "display_name": "Python 3 (ipykernel)",
   "language": "python",
   "name": "python3"
  },
  "language_info": {
   "codemirror_mode": {
    "name": "ipython",
    "version": 3
   },
   "file_extension": ".py",
   "mimetype": "text/x-python",
   "name": "python",
   "nbconvert_exporter": "python",
   "pygments_lexer": "ipython3",
   "version": "3.9.10"
  }
 },
 "nbformat": 4,
 "nbformat_minor": 1
}
