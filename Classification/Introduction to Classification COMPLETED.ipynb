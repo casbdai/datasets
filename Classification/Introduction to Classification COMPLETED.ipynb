{
 "cells": [
  {
   "cell_type": "markdown",
   "metadata": {
    "id": "-u9in3e0XVXn",
    "pycharm": {
     "name": "#%% md\n"
    }
   },
   "source": [
    "# Hands On - Predicting Customer Churn - Introduction to Classification"
   ]
  },
  {
   "cell_type": "markdown",
   "metadata": {
    "id": "4NA2JhnVX6ZL",
    "pycharm": {
     "name": "#%% md\n"
    }
   },
   "source": [
    "# Import & Prepare Data"
   ]
  },
  {
   "cell_type": "code",
   "execution_count": 1,
   "metadata": {
    "id": "KTcyOOect_tE",
    "pycharm": {
     "name": "#%%\n"
    }
   },
   "outputs": [],
   "source": [
    "import pandas as pd\n",
    "churn = pd.read_csv(\"https://raw.githubusercontent.com/casbdai/datasets/main/churn.csv\")"
   ]
  },
  {
   "cell_type": "markdown",
   "metadata": {
    "id": "94kjRIcJoy53",
    "pycharm": {
     "name": "#%% md\n"
    }
   },
   "source": [
    "## Check Structure of Data"
   ]
  },
  {
   "cell_type": "code",
   "execution_count": 2,
   "metadata": {
    "id": "e3rakrkKpE0m",
    "pycharm": {
     "name": "#%%\n"
    }
   },
   "outputs": [
    {
     "name": "stdout",
     "output_type": "stream",
     "text": [
      "<class 'pandas.core.frame.DataFrame'>\n",
      "RangeIndex: 4863 entries, 0 to 4862\n",
      "Data columns (total 23 columns):\n",
      " #   Column               Non-Null Count  Dtype  \n",
      "---  ------               --------------  -----  \n",
      " 0   age                  4863 non-null   int64  \n",
      " 1   annualincome         4863 non-null   int64  \n",
      " 2   calldroprate         4863 non-null   float64\n",
      " 3   callfailurerate      4863 non-null   float64\n",
      " 4   customersuspended    4863 non-null   object \n",
      " 5   education            4863 non-null   object \n",
      " 6   gender               4863 non-null   object \n",
      " 7   homeowner            4863 non-null   object \n",
      " 8   maritalstatus        4863 non-null   object \n",
      " 9   monthlybilledamount  4863 non-null   int64  \n",
      " 10  complaints           4863 non-null   int64  \n",
      " 11  unpaidmonths         4863 non-null   int64  \n",
      " 12  timetoexpiration     4863 non-null   int64  \n",
      " 13  occupation           4863 non-null   object \n",
      " 14  penaltytoswitch      4863 non-null   int64  \n",
      " 15  lastmonthusage       4863 non-null   int64  \n",
      " 16  unpaidbalance        4863 non-null   int64  \n",
      " 17  usesinternetservice  4863 non-null   object \n",
      " 18  usesvoiceservice     4863 non-null   object \n",
      " 19  outsidecalls         4863 non-null   float64\n",
      " 20  totalcallduration    4863 non-null   int64  \n",
      " 21  avgcallduration      4863 non-null   int64  \n",
      " 22  churn                4863 non-null   int64  \n",
      "dtypes: float64(3), int64(12), object(8)\n",
      "memory usage: 873.9+ KB\n"
     ]
    }
   ],
   "source": [
    "churn.info()"
   ]
  },
  {
   "cell_type": "markdown",
   "metadata": {
    "id": "66scpIgU4yiD",
    "pycharm": {
     "name": "#%% md\n"
    }
   },
   "source": [
    "\n",
    "\n",
    "*   No missing data\n",
    "*   23 Features\n",
    "* Some features are objects (text data). We need to transform them because scikit-learn cannot work with them\n",
    "\n"
   ]
  },
  {
   "cell_type": "code",
   "execution_count": 3,
   "metadata": {
    "id": "oHWHGAZIR9p5",
    "pycharm": {
     "name": "#%%\n"
    }
   },
   "outputs": [
    {
     "data": {
      "text/html": [
       "<div>\n",
       "<style scoped>\n",
       "    .dataframe tbody tr th:only-of-type {\n",
       "        vertical-align: middle;\n",
       "    }\n",
       "\n",
       "    .dataframe tbody tr th {\n",
       "        vertical-align: top;\n",
       "    }\n",
       "\n",
       "    .dataframe thead th {\n",
       "        text-align: right;\n",
       "    }\n",
       "</style>\n",
       "<table border=\"1\" class=\"dataframe\">\n",
       "  <thead>\n",
       "    <tr style=\"text-align: right;\">\n",
       "      <th></th>\n",
       "      <th>age</th>\n",
       "      <th>annualincome</th>\n",
       "      <th>calldroprate</th>\n",
       "      <th>callfailurerate</th>\n",
       "      <th>customersuspended</th>\n",
       "      <th>education</th>\n",
       "      <th>gender</th>\n",
       "      <th>homeowner</th>\n",
       "      <th>maritalstatus</th>\n",
       "      <th>monthlybilledamount</th>\n",
       "      <th>...</th>\n",
       "      <th>occupation</th>\n",
       "      <th>penaltytoswitch</th>\n",
       "      <th>lastmonthusage</th>\n",
       "      <th>unpaidbalance</th>\n",
       "      <th>usesinternetservice</th>\n",
       "      <th>usesvoiceservice</th>\n",
       "      <th>outsidecalls</th>\n",
       "      <th>totalcallduration</th>\n",
       "      <th>avgcallduration</th>\n",
       "      <th>churn</th>\n",
       "    </tr>\n",
       "  </thead>\n",
       "  <tbody>\n",
       "    <tr>\n",
       "      <th>0</th>\n",
       "      <td>40</td>\n",
       "      <td>211044</td>\n",
       "      <td>0.05</td>\n",
       "      <td>0.00</td>\n",
       "      <td>Yes</td>\n",
       "      <td>High School or below</td>\n",
       "      <td>Female</td>\n",
       "      <td>Yes</td>\n",
       "      <td>Married</td>\n",
       "      <td>47</td>\n",
       "      <td>...</td>\n",
       "      <td>Technology Related Job</td>\n",
       "      <td>92</td>\n",
       "      <td>161</td>\n",
       "      <td>87</td>\n",
       "      <td>No</td>\n",
       "      <td>No</td>\n",
       "      <td>0.34</td>\n",
       "      <td>1506</td>\n",
       "      <td>753</td>\n",
       "      <td>0</td>\n",
       "    </tr>\n",
       "    <tr>\n",
       "      <th>1</th>\n",
       "      <td>33</td>\n",
       "      <td>130019</td>\n",
       "      <td>0.06</td>\n",
       "      <td>0.02</td>\n",
       "      <td>Yes</td>\n",
       "      <td>Bachelor or equivalent</td>\n",
       "      <td>Male</td>\n",
       "      <td>Yes</td>\n",
       "      <td>Married</td>\n",
       "      <td>3</td>\n",
       "      <td>...</td>\n",
       "      <td>Technology Related Job</td>\n",
       "      <td>230</td>\n",
       "      <td>43</td>\n",
       "      <td>66</td>\n",
       "      <td>No</td>\n",
       "      <td>No</td>\n",
       "      <td>0.04</td>\n",
       "      <td>2938</td>\n",
       "      <td>419</td>\n",
       "      <td>0</td>\n",
       "    </tr>\n",
       "    <tr>\n",
       "      <th>2</th>\n",
       "      <td>17</td>\n",
       "      <td>189354</td>\n",
       "      <td>0.03</td>\n",
       "      <td>0.00</td>\n",
       "      <td>Yes</td>\n",
       "      <td>High School or below</td>\n",
       "      <td>Female</td>\n",
       "      <td>Yes</td>\n",
       "      <td>Single</td>\n",
       "      <td>103</td>\n",
       "      <td>...</td>\n",
       "      <td>Technology Related Job</td>\n",
       "      <td>382</td>\n",
       "      <td>420</td>\n",
       "      <td>151</td>\n",
       "      <td>No</td>\n",
       "      <td>No</td>\n",
       "      <td>0.46</td>\n",
       "      <td>396</td>\n",
       "      <td>396</td>\n",
       "      <td>1</td>\n",
       "    </tr>\n",
       "    <tr>\n",
       "      <th>3</th>\n",
       "      <td>70</td>\n",
       "      <td>180563</td>\n",
       "      <td>0.03</td>\n",
       "      <td>0.02</td>\n",
       "      <td>Yes</td>\n",
       "      <td>High School or below</td>\n",
       "      <td>Male</td>\n",
       "      <td>Yes</td>\n",
       "      <td>Single</td>\n",
       "      <td>63</td>\n",
       "      <td>...</td>\n",
       "      <td>Others</td>\n",
       "      <td>30</td>\n",
       "      <td>93</td>\n",
       "      <td>244</td>\n",
       "      <td>No</td>\n",
       "      <td>No</td>\n",
       "      <td>0.41</td>\n",
       "      <td>248</td>\n",
       "      <td>248</td>\n",
       "      <td>0</td>\n",
       "    </tr>\n",
       "    <tr>\n",
       "      <th>4</th>\n",
       "      <td>18</td>\n",
       "      <td>1460</td>\n",
       "      <td>0.06</td>\n",
       "      <td>0.01</td>\n",
       "      <td>Yes</td>\n",
       "      <td>High School or below</td>\n",
       "      <td>Male</td>\n",
       "      <td>Yes</td>\n",
       "      <td>Single</td>\n",
       "      <td>58</td>\n",
       "      <td>...</td>\n",
       "      <td>Others</td>\n",
       "      <td>238</td>\n",
       "      <td>200</td>\n",
       "      <td>215</td>\n",
       "      <td>No</td>\n",
       "      <td>Yes</td>\n",
       "      <td>0.45</td>\n",
       "      <td>2129</td>\n",
       "      <td>532</td>\n",
       "      <td>1</td>\n",
       "    </tr>\n",
       "  </tbody>\n",
       "</table>\n",
       "<p>5 rows × 23 columns</p>\n",
       "</div>"
      ],
      "text/plain": [
       "   age  annualincome  calldroprate  callfailurerate customersuspended  \\\n",
       "0   40        211044          0.05             0.00               Yes   \n",
       "1   33        130019          0.06             0.02               Yes   \n",
       "2   17        189354          0.03             0.00               Yes   \n",
       "3   70        180563          0.03             0.02               Yes   \n",
       "4   18          1460          0.06             0.01               Yes   \n",
       "\n",
       "                education  gender homeowner maritalstatus  \\\n",
       "0    High School or below  Female       Yes       Married   \n",
       "1  Bachelor or equivalent    Male       Yes       Married   \n",
       "2    High School or below  Female       Yes        Single   \n",
       "3    High School or below    Male       Yes        Single   \n",
       "4    High School or below    Male       Yes        Single   \n",
       "\n",
       "   monthlybilledamount  ...              occupation  penaltytoswitch  \\\n",
       "0                   47  ...  Technology Related Job               92   \n",
       "1                    3  ...  Technology Related Job              230   \n",
       "2                  103  ...  Technology Related Job              382   \n",
       "3                   63  ...                  Others               30   \n",
       "4                   58  ...                  Others              238   \n",
       "\n",
       "   lastmonthusage unpaidbalance  usesinternetservice  usesvoiceservice  \\\n",
       "0             161            87                   No                No   \n",
       "1              43            66                   No                No   \n",
       "2             420           151                   No                No   \n",
       "3              93           244                   No                No   \n",
       "4             200           215                   No               Yes   \n",
       "\n",
       "   outsidecalls totalcallduration avgcallduration  churn  \n",
       "0          0.34              1506             753      0  \n",
       "1          0.04              2938             419      0  \n",
       "2          0.46               396             396      1  \n",
       "3          0.41               248             248      0  \n",
       "4          0.45              2129             532      1  \n",
       "\n",
       "[5 rows x 23 columns]"
      ]
     },
     "execution_count": 3,
     "metadata": {},
     "output_type": "execute_result"
    }
   ],
   "source": [
    "churn.head()"
   ]
  },
  {
   "cell_type": "markdown",
   "metadata": {
    "id": "6SGlLhLneurF",
    "pycharm": {
     "name": "#%% md\n"
    }
   },
   "source": [
    "## Separate Features and Labels"
   ]
  },
  {
   "cell_type": "code",
   "execution_count": 4,
   "metadata": {
    "id": "-vkKVc94wLU0",
    "pycharm": {
     "name": "#%%\n"
    }
   },
   "outputs": [],
   "source": [
    "X = churn.drop(\"churn\",axis=1) # Features\n",
    "y = churn[\"churn\"] # Target variable"
   ]
  },
  {
   "cell_type": "code",
   "execution_count": 5,
   "metadata": {
    "id": "3zBHmkB6YNZI",
    "pycharm": {
     "name": "#%%\n"
    }
   },
   "outputs": [
    {
     "data": {
      "text/plain": [
       "0       0\n",
       "1       0\n",
       "2       1\n",
       "3       0\n",
       "4       1\n",
       "       ..\n",
       "4858    0\n",
       "4859    0\n",
       "4860    0\n",
       "4861    0\n",
       "4862    1\n",
       "Name: churn, Length: 4863, dtype: int64"
      ]
     },
     "execution_count": 5,
     "metadata": {},
     "output_type": "execute_result"
    }
   ],
   "source": [
    "y"
   ]
  },
  {
   "cell_type": "code",
   "execution_count": 6,
   "metadata": {
    "id": "z4imhqkuYJBG",
    "pycharm": {
     "name": "#%%\n"
    }
   },
   "outputs": [
    {
     "name": "stdout",
     "output_type": "stream",
     "text": [
      "<class 'pandas.core.frame.DataFrame'>\n",
      "RangeIndex: 4863 entries, 0 to 4862\n",
      "Data columns (total 22 columns):\n",
      " #   Column               Non-Null Count  Dtype  \n",
      "---  ------               --------------  -----  \n",
      " 0   age                  4863 non-null   int64  \n",
      " 1   annualincome         4863 non-null   int64  \n",
      " 2   calldroprate         4863 non-null   float64\n",
      " 3   callfailurerate      4863 non-null   float64\n",
      " 4   customersuspended    4863 non-null   object \n",
      " 5   education            4863 non-null   object \n",
      " 6   gender               4863 non-null   object \n",
      " 7   homeowner            4863 non-null   object \n",
      " 8   maritalstatus        4863 non-null   object \n",
      " 9   monthlybilledamount  4863 non-null   int64  \n",
      " 10  complaints           4863 non-null   int64  \n",
      " 11  unpaidmonths         4863 non-null   int64  \n",
      " 12  timetoexpiration     4863 non-null   int64  \n",
      " 13  occupation           4863 non-null   object \n",
      " 14  penaltytoswitch      4863 non-null   int64  \n",
      " 15  lastmonthusage       4863 non-null   int64  \n",
      " 16  unpaidbalance        4863 non-null   int64  \n",
      " 17  usesinternetservice  4863 non-null   object \n",
      " 18  usesvoiceservice     4863 non-null   object \n",
      " 19  outsidecalls         4863 non-null   float64\n",
      " 20  totalcallduration    4863 non-null   int64  \n",
      " 21  avgcallduration      4863 non-null   int64  \n",
      "dtypes: float64(3), int64(11), object(8)\n",
      "memory usage: 836.0+ KB\n"
     ]
    }
   ],
   "source": [
    "X.info()"
   ]
  },
  {
   "cell_type": "markdown",
   "metadata": {
    "id": "RGGSu_imfIpc",
    "pycharm": {
     "name": "#%% md\n"
    }
   },
   "source": [
    "## Recode pandas \"objects\""
   ]
  },
  {
   "cell_type": "markdown",
   "metadata": {
    "id": "Ppw-RjFPfVX8",
    "pycharm": {
     "name": "#%% md\n"
    }
   },
   "source": [
    "\"Objects\" in Pandas are textual variables. Sklearn cannot work with them. We have to recode them"
   ]
  },
  {
   "cell_type": "code",
   "execution_count": 7,
   "metadata": {
    "id": "9JhLfcWvZ9lm",
    "pycharm": {
     "name": "#%%\n"
    }
   },
   "outputs": [
    {
     "data": {
      "text/plain": [
       "array(['Technology Related Job', 'Others', 'Non-technology Related Job'],\n",
       "      dtype=object)"
      ]
     },
     "execution_count": 7,
     "metadata": {},
     "output_type": "execute_result"
    }
   ],
   "source": [
    "churn[\"occupation\"].unique() #unique returns the unique values for a variable"
   ]
  },
  {
   "cell_type": "markdown",
   "metadata": {
    "id": "9s6IdoX4ekB4",
    "pycharm": {
     "name": "#%% md\n"
    }
   },
   "source": [
    "### One-hot encoding"
   ]
  },
  {
   "cell_type": "code",
   "execution_count": 8,
   "metadata": {
    "id": "Eb1BczLycIPf",
    "pycharm": {
     "name": "#%%\n"
    }
   },
   "outputs": [
    {
     "data": {
      "text/html": [
       "<div>\n",
       "<style scoped>\n",
       "    .dataframe tbody tr th:only-of-type {\n",
       "        vertical-align: middle;\n",
       "    }\n",
       "\n",
       "    .dataframe tbody tr th {\n",
       "        vertical-align: top;\n",
       "    }\n",
       "\n",
       "    .dataframe thead th {\n",
       "        text-align: right;\n",
       "    }\n",
       "</style>\n",
       "<table border=\"1\" class=\"dataframe\">\n",
       "  <thead>\n",
       "    <tr style=\"text-align: right;\">\n",
       "      <th></th>\n",
       "      <th>age</th>\n",
       "      <th>annualincome</th>\n",
       "      <th>calldroprate</th>\n",
       "      <th>callfailurerate</th>\n",
       "      <th>monthlybilledamount</th>\n",
       "      <th>complaints</th>\n",
       "      <th>unpaidmonths</th>\n",
       "      <th>timetoexpiration</th>\n",
       "      <th>penaltytoswitch</th>\n",
       "      <th>lastmonthusage</th>\n",
       "      <th>...</th>\n",
       "      <th>homeowner_Yes</th>\n",
       "      <th>maritalstatus_Married</th>\n",
       "      <th>maritalstatus_Single</th>\n",
       "      <th>occupation_Non-technology Related Job</th>\n",
       "      <th>occupation_Others</th>\n",
       "      <th>occupation_Technology Related Job</th>\n",
       "      <th>usesinternetservice_No</th>\n",
       "      <th>usesinternetservice_Yes</th>\n",
       "      <th>usesvoiceservice_No</th>\n",
       "      <th>usesvoiceservice_Yes</th>\n",
       "    </tr>\n",
       "  </thead>\n",
       "  <tbody>\n",
       "    <tr>\n",
       "      <th>0</th>\n",
       "      <td>40</td>\n",
       "      <td>211044</td>\n",
       "      <td>0.05</td>\n",
       "      <td>0.00</td>\n",
       "      <td>47</td>\n",
       "      <td>3</td>\n",
       "      <td>6</td>\n",
       "      <td>76</td>\n",
       "      <td>92</td>\n",
       "      <td>161</td>\n",
       "      <td>...</td>\n",
       "      <td>1</td>\n",
       "      <td>1</td>\n",
       "      <td>0</td>\n",
       "      <td>0</td>\n",
       "      <td>0</td>\n",
       "      <td>1</td>\n",
       "      <td>1</td>\n",
       "      <td>0</td>\n",
       "      <td>1</td>\n",
       "      <td>0</td>\n",
       "    </tr>\n",
       "    <tr>\n",
       "      <th>1</th>\n",
       "      <td>33</td>\n",
       "      <td>130019</td>\n",
       "      <td>0.06</td>\n",
       "      <td>0.02</td>\n",
       "      <td>3</td>\n",
       "      <td>2</td>\n",
       "      <td>6</td>\n",
       "      <td>62</td>\n",
       "      <td>230</td>\n",
       "      <td>43</td>\n",
       "      <td>...</td>\n",
       "      <td>1</td>\n",
       "      <td>1</td>\n",
       "      <td>0</td>\n",
       "      <td>0</td>\n",
       "      <td>0</td>\n",
       "      <td>1</td>\n",
       "      <td>1</td>\n",
       "      <td>0</td>\n",
       "      <td>1</td>\n",
       "      <td>0</td>\n",
       "    </tr>\n",
       "    <tr>\n",
       "      <th>2</th>\n",
       "      <td>17</td>\n",
       "      <td>189354</td>\n",
       "      <td>0.03</td>\n",
       "      <td>0.00</td>\n",
       "      <td>103</td>\n",
       "      <td>0</td>\n",
       "      <td>7</td>\n",
       "      <td>99</td>\n",
       "      <td>382</td>\n",
       "      <td>420</td>\n",
       "      <td>...</td>\n",
       "      <td>1</td>\n",
       "      <td>0</td>\n",
       "      <td>1</td>\n",
       "      <td>0</td>\n",
       "      <td>0</td>\n",
       "      <td>1</td>\n",
       "      <td>1</td>\n",
       "      <td>0</td>\n",
       "      <td>1</td>\n",
       "      <td>0</td>\n",
       "    </tr>\n",
       "    <tr>\n",
       "      <th>3</th>\n",
       "      <td>70</td>\n",
       "      <td>180563</td>\n",
       "      <td>0.03</td>\n",
       "      <td>0.02</td>\n",
       "      <td>63</td>\n",
       "      <td>3</td>\n",
       "      <td>2</td>\n",
       "      <td>18</td>\n",
       "      <td>30</td>\n",
       "      <td>93</td>\n",
       "      <td>...</td>\n",
       "      <td>1</td>\n",
       "      <td>0</td>\n",
       "      <td>1</td>\n",
       "      <td>0</td>\n",
       "      <td>1</td>\n",
       "      <td>0</td>\n",
       "      <td>1</td>\n",
       "      <td>0</td>\n",
       "      <td>1</td>\n",
       "      <td>0</td>\n",
       "    </tr>\n",
       "    <tr>\n",
       "      <th>4</th>\n",
       "      <td>18</td>\n",
       "      <td>1460</td>\n",
       "      <td>0.06</td>\n",
       "      <td>0.01</td>\n",
       "      <td>58</td>\n",
       "      <td>1</td>\n",
       "      <td>3</td>\n",
       "      <td>99</td>\n",
       "      <td>238</td>\n",
       "      <td>200</td>\n",
       "      <td>...</td>\n",
       "      <td>1</td>\n",
       "      <td>0</td>\n",
       "      <td>1</td>\n",
       "      <td>0</td>\n",
       "      <td>1</td>\n",
       "      <td>0</td>\n",
       "      <td>1</td>\n",
       "      <td>0</td>\n",
       "      <td>0</td>\n",
       "      <td>1</td>\n",
       "    </tr>\n",
       "  </tbody>\n",
       "</table>\n",
       "<p>5 rows × 33 columns</p>\n",
       "</div>"
      ],
      "text/plain": [
       "   age  annualincome  calldroprate  callfailurerate  monthlybilledamount  \\\n",
       "0   40        211044          0.05             0.00                   47   \n",
       "1   33        130019          0.06             0.02                    3   \n",
       "2   17        189354          0.03             0.00                  103   \n",
       "3   70        180563          0.03             0.02                   63   \n",
       "4   18          1460          0.06             0.01                   58   \n",
       "\n",
       "   complaints  unpaidmonths  timetoexpiration  penaltytoswitch  \\\n",
       "0           3             6                76               92   \n",
       "1           2             6                62              230   \n",
       "2           0             7                99              382   \n",
       "3           3             2                18               30   \n",
       "4           1             3                99              238   \n",
       "\n",
       "   lastmonthusage  ...  homeowner_Yes  maritalstatus_Married  \\\n",
       "0             161  ...              1                      1   \n",
       "1              43  ...              1                      1   \n",
       "2             420  ...              1                      0   \n",
       "3              93  ...              1                      0   \n",
       "4             200  ...              1                      0   \n",
       "\n",
       "   maritalstatus_Single  occupation_Non-technology Related Job  \\\n",
       "0                     0                                      0   \n",
       "1                     0                                      0   \n",
       "2                     1                                      0   \n",
       "3                     1                                      0   \n",
       "4                     1                                      0   \n",
       "\n",
       "   occupation_Others  occupation_Technology Related Job  \\\n",
       "0                  0                                  1   \n",
       "1                  0                                  1   \n",
       "2                  0                                  1   \n",
       "3                  1                                  0   \n",
       "4                  1                                  0   \n",
       "\n",
       "   usesinternetservice_No  usesinternetservice_Yes  usesvoiceservice_No  \\\n",
       "0                       1                        0                    1   \n",
       "1                       1                        0                    1   \n",
       "2                       1                        0                    1   \n",
       "3                       1                        0                    1   \n",
       "4                       1                        0                    0   \n",
       "\n",
       "   usesvoiceservice_Yes  \n",
       "0                     0  \n",
       "1                     0  \n",
       "2                     0  \n",
       "3                     0  \n",
       "4                     1  \n",
       "\n",
       "[5 rows x 33 columns]"
      ]
     },
     "execution_count": 8,
     "metadata": {},
     "output_type": "execute_result"
    }
   ],
   "source": [
    "X_onehot = pd.get_dummies(X, drop_first = False)\n",
    "X_onehot.head()"
   ]
  },
  {
   "cell_type": "markdown",
   "metadata": {
    "id": "BiaGHntKpSN2",
    "pycharm": {
     "name": "#%% md\n"
    }
   },
   "source": [
    "Check out feature \"customer_suspended\". Due to the onehot encoding there is now a \"customer_suspended_Yes\" and a \"customer_suspended_No\" version. Of course, both variables contain the same information."
   ]
  },
  {
   "cell_type": "markdown",
   "metadata": {
    "id": "S_Z7kWHvgDe8",
    "pycharm": {
     "name": "#%% md\n"
    }
   },
   "source": [
    "### Dummy coding"
   ]
  },
  {
   "cell_type": "code",
   "execution_count": 9,
   "metadata": {
    "id": "zUIEXuxdfz52",
    "pycharm": {
     "name": "#%%\n"
    }
   },
   "outputs": [
    {
     "data": {
      "text/html": [
       "<div>\n",
       "<style scoped>\n",
       "    .dataframe tbody tr th:only-of-type {\n",
       "        vertical-align: middle;\n",
       "    }\n",
       "\n",
       "    .dataframe tbody tr th {\n",
       "        vertical-align: top;\n",
       "    }\n",
       "\n",
       "    .dataframe thead th {\n",
       "        text-align: right;\n",
       "    }\n",
       "</style>\n",
       "<table border=\"1\" class=\"dataframe\">\n",
       "  <thead>\n",
       "    <tr style=\"text-align: right;\">\n",
       "      <th></th>\n",
       "      <th>age</th>\n",
       "      <th>annualincome</th>\n",
       "      <th>calldroprate</th>\n",
       "      <th>callfailurerate</th>\n",
       "      <th>monthlybilledamount</th>\n",
       "      <th>complaints</th>\n",
       "      <th>unpaidmonths</th>\n",
       "      <th>timetoexpiration</th>\n",
       "      <th>penaltytoswitch</th>\n",
       "      <th>lastmonthusage</th>\n",
       "      <th>...</th>\n",
       "      <th>education_High School or below</th>\n",
       "      <th>education_Master or equivalent</th>\n",
       "      <th>education_PhD or equivalent</th>\n",
       "      <th>gender_Male</th>\n",
       "      <th>homeowner_Yes</th>\n",
       "      <th>maritalstatus_Single</th>\n",
       "      <th>occupation_Others</th>\n",
       "      <th>occupation_Technology Related Job</th>\n",
       "      <th>usesinternetservice_Yes</th>\n",
       "      <th>usesvoiceservice_Yes</th>\n",
       "    </tr>\n",
       "  </thead>\n",
       "  <tbody>\n",
       "    <tr>\n",
       "      <th>0</th>\n",
       "      <td>40</td>\n",
       "      <td>211044</td>\n",
       "      <td>0.05</td>\n",
       "      <td>0.00</td>\n",
       "      <td>47</td>\n",
       "      <td>3</td>\n",
       "      <td>6</td>\n",
       "      <td>76</td>\n",
       "      <td>92</td>\n",
       "      <td>161</td>\n",
       "      <td>...</td>\n",
       "      <td>1</td>\n",
       "      <td>0</td>\n",
       "      <td>0</td>\n",
       "      <td>0</td>\n",
       "      <td>1</td>\n",
       "      <td>0</td>\n",
       "      <td>0</td>\n",
       "      <td>1</td>\n",
       "      <td>0</td>\n",
       "      <td>0</td>\n",
       "    </tr>\n",
       "    <tr>\n",
       "      <th>1</th>\n",
       "      <td>33</td>\n",
       "      <td>130019</td>\n",
       "      <td>0.06</td>\n",
       "      <td>0.02</td>\n",
       "      <td>3</td>\n",
       "      <td>2</td>\n",
       "      <td>6</td>\n",
       "      <td>62</td>\n",
       "      <td>230</td>\n",
       "      <td>43</td>\n",
       "      <td>...</td>\n",
       "      <td>0</td>\n",
       "      <td>0</td>\n",
       "      <td>0</td>\n",
       "      <td>1</td>\n",
       "      <td>1</td>\n",
       "      <td>0</td>\n",
       "      <td>0</td>\n",
       "      <td>1</td>\n",
       "      <td>0</td>\n",
       "      <td>0</td>\n",
       "    </tr>\n",
       "    <tr>\n",
       "      <th>2</th>\n",
       "      <td>17</td>\n",
       "      <td>189354</td>\n",
       "      <td>0.03</td>\n",
       "      <td>0.00</td>\n",
       "      <td>103</td>\n",
       "      <td>0</td>\n",
       "      <td>7</td>\n",
       "      <td>99</td>\n",
       "      <td>382</td>\n",
       "      <td>420</td>\n",
       "      <td>...</td>\n",
       "      <td>1</td>\n",
       "      <td>0</td>\n",
       "      <td>0</td>\n",
       "      <td>0</td>\n",
       "      <td>1</td>\n",
       "      <td>1</td>\n",
       "      <td>0</td>\n",
       "      <td>1</td>\n",
       "      <td>0</td>\n",
       "      <td>0</td>\n",
       "    </tr>\n",
       "    <tr>\n",
       "      <th>3</th>\n",
       "      <td>70</td>\n",
       "      <td>180563</td>\n",
       "      <td>0.03</td>\n",
       "      <td>0.02</td>\n",
       "      <td>63</td>\n",
       "      <td>3</td>\n",
       "      <td>2</td>\n",
       "      <td>18</td>\n",
       "      <td>30</td>\n",
       "      <td>93</td>\n",
       "      <td>...</td>\n",
       "      <td>1</td>\n",
       "      <td>0</td>\n",
       "      <td>0</td>\n",
       "      <td>1</td>\n",
       "      <td>1</td>\n",
       "      <td>1</td>\n",
       "      <td>1</td>\n",
       "      <td>0</td>\n",
       "      <td>0</td>\n",
       "      <td>0</td>\n",
       "    </tr>\n",
       "    <tr>\n",
       "      <th>4</th>\n",
       "      <td>18</td>\n",
       "      <td>1460</td>\n",
       "      <td>0.06</td>\n",
       "      <td>0.01</td>\n",
       "      <td>58</td>\n",
       "      <td>1</td>\n",
       "      <td>3</td>\n",
       "      <td>99</td>\n",
       "      <td>238</td>\n",
       "      <td>200</td>\n",
       "      <td>...</td>\n",
       "      <td>1</td>\n",
       "      <td>0</td>\n",
       "      <td>0</td>\n",
       "      <td>1</td>\n",
       "      <td>1</td>\n",
       "      <td>1</td>\n",
       "      <td>1</td>\n",
       "      <td>0</td>\n",
       "      <td>0</td>\n",
       "      <td>1</td>\n",
       "    </tr>\n",
       "  </tbody>\n",
       "</table>\n",
       "<p>5 rows × 25 columns</p>\n",
       "</div>"
      ],
      "text/plain": [
       "   age  annualincome  calldroprate  callfailurerate  monthlybilledamount  \\\n",
       "0   40        211044          0.05             0.00                   47   \n",
       "1   33        130019          0.06             0.02                    3   \n",
       "2   17        189354          0.03             0.00                  103   \n",
       "3   70        180563          0.03             0.02                   63   \n",
       "4   18          1460          0.06             0.01                   58   \n",
       "\n",
       "   complaints  unpaidmonths  timetoexpiration  penaltytoswitch  \\\n",
       "0           3             6                76               92   \n",
       "1           2             6                62              230   \n",
       "2           0             7                99              382   \n",
       "3           3             2                18               30   \n",
       "4           1             3                99              238   \n",
       "\n",
       "   lastmonthusage  ...  education_High School or below  \\\n",
       "0             161  ...                               1   \n",
       "1              43  ...                               0   \n",
       "2             420  ...                               1   \n",
       "3              93  ...                               1   \n",
       "4             200  ...                               1   \n",
       "\n",
       "   education_Master or equivalent  education_PhD or equivalent  gender_Male  \\\n",
       "0                               0                            0            0   \n",
       "1                               0                            0            1   \n",
       "2                               0                            0            0   \n",
       "3                               0                            0            1   \n",
       "4                               0                            0            1   \n",
       "\n",
       "   homeowner_Yes  maritalstatus_Single  occupation_Others  \\\n",
       "0              1                     0                  0   \n",
       "1              1                     0                  0   \n",
       "2              1                     1                  0   \n",
       "3              1                     1                  1   \n",
       "4              1                     1                  1   \n",
       "\n",
       "   occupation_Technology Related Job  usesinternetservice_Yes  \\\n",
       "0                                  1                        0   \n",
       "1                                  1                        0   \n",
       "2                                  1                        0   \n",
       "3                                  0                        0   \n",
       "4                                  0                        0   \n",
       "\n",
       "   usesvoiceservice_Yes  \n",
       "0                     0  \n",
       "1                     0  \n",
       "2                     0  \n",
       "3                     0  \n",
       "4                     1  \n",
       "\n",
       "[5 rows x 25 columns]"
      ]
     },
     "execution_count": 9,
     "metadata": {},
     "output_type": "execute_result"
    }
   ],
   "source": [
    "X = pd.get_dummies(X, drop_first = True)\n",
    "X.head()"
   ]
  },
  {
   "cell_type": "markdown",
   "metadata": {
    "id": "qXK1vSvc5K_B",
    "pycharm": {
     "name": "#%% md\n"
    }
   },
   "source": [
    "Adding the argument \"drop_first = True\" deletes the redundant features.\n",
    "\n",
    "Some algorithms have problems with dealing with the redundant information (e.g. linear models). Thus, dummy coding is a safer bet without loosing any information (= preferred choice)\n",
    "\n",
    "Bet we now have a bigger number of features\n",
    "\n"
   ]
  },
  {
   "cell_type": "code",
   "execution_count": 10,
   "metadata": {
    "id": "AhDcbhix5s0d",
    "pycharm": {
     "name": "#%%\n"
    }
   },
   "outputs": [
    {
     "name": "stdout",
     "output_type": "stream",
     "text": [
      "<class 'pandas.core.frame.DataFrame'>\n",
      "RangeIndex: 4863 entries, 0 to 4862\n",
      "Data columns (total 25 columns):\n",
      " #   Column                             Non-Null Count  Dtype  \n",
      "---  ------                             --------------  -----  \n",
      " 0   age                                4863 non-null   int64  \n",
      " 1   annualincome                       4863 non-null   int64  \n",
      " 2   calldroprate                       4863 non-null   float64\n",
      " 3   callfailurerate                    4863 non-null   float64\n",
      " 4   monthlybilledamount                4863 non-null   int64  \n",
      " 5   complaints                         4863 non-null   int64  \n",
      " 6   unpaidmonths                       4863 non-null   int64  \n",
      " 7   timetoexpiration                   4863 non-null   int64  \n",
      " 8   penaltytoswitch                    4863 non-null   int64  \n",
      " 9   lastmonthusage                     4863 non-null   int64  \n",
      " 10  unpaidbalance                      4863 non-null   int64  \n",
      " 11  outsidecalls                       4863 non-null   float64\n",
      " 12  totalcallduration                  4863 non-null   int64  \n",
      " 13  avgcallduration                    4863 non-null   int64  \n",
      " 14  customersuspended_Yes              4863 non-null   uint8  \n",
      " 15  education_High School or below     4863 non-null   uint8  \n",
      " 16  education_Master or equivalent     4863 non-null   uint8  \n",
      " 17  education_PhD or equivalent        4863 non-null   uint8  \n",
      " 18  gender_Male                        4863 non-null   uint8  \n",
      " 19  homeowner_Yes                      4863 non-null   uint8  \n",
      " 20  maritalstatus_Single               4863 non-null   uint8  \n",
      " 21  occupation_Others                  4863 non-null   uint8  \n",
      " 22  occupation_Technology Related Job  4863 non-null   uint8  \n",
      " 23  usesinternetservice_Yes            4863 non-null   uint8  \n",
      " 24  usesvoiceservice_Yes               4863 non-null   uint8  \n",
      "dtypes: float64(3), int64(11), uint8(11)\n",
      "memory usage: 584.3 KB\n"
     ]
    }
   ],
   "source": [
    "X.info()"
   ]
  },
  {
   "cell_type": "markdown",
   "metadata": {
    "id": "_QtZ2WLybmGX",
    "pycharm": {
     "name": "#%% md\n"
    }
   },
   "source": [
    "# Train and Plot a First Decision Tree\n"
   ]
  },
  {
   "cell_type": "markdown",
   "metadata": {
    "id": "cQfA34KbcZTf",
    "pycharm": {
     "name": "#%% md\n"
    }
   },
   "source": [
    "## 1) Import Model Function"
   ]
  },
  {
   "cell_type": "code",
   "execution_count": 11,
   "metadata": {
    "id": "ZlGzuIPxgbks",
    "pycharm": {
     "name": "#%%\n"
    }
   },
   "outputs": [],
   "source": [
    "from sklearn.tree import DecisionTreeClassifier"
   ]
  },
  {
   "cell_type": "markdown",
   "metadata": {
    "id": "WSFI5ktSgnW9",
    "pycharm": {
     "name": "#%% md\n"
    }
   },
   "source": [
    "## 2) Instantiate Model"
   ]
  },
  {
   "cell_type": "code",
   "execution_count": 12,
   "metadata": {
    "id": "Q7IUHqZvbvDL",
    "pycharm": {
     "name": "#%%\n"
    }
   },
   "outputs": [],
   "source": [
    "tree = DecisionTreeClassifier(criterion=\"entropy\", \n",
    "                              max_depth=2)"
   ]
  },
  {
   "cell_type": "markdown",
   "metadata": {
    "id": "8nYBAfPyb0ML",
    "pycharm": {
     "name": "#%% md\n"
    }
   },
   "source": [
    "Used hyperparameters:\n",
    "\n",
    "* **criterion=\"entropy\":** using informatin gain as measure for splitting\n",
    "* **max_depth:** allowed number of maximum splits\n",
    "\n"
   ]
  },
  {
   "cell_type": "markdown",
   "metadata": {
    "id": "SxevkbVdcmIN",
    "pycharm": {
     "name": "#%% md\n"
    }
   },
   "source": [
    "## 3) Fit Model to Data"
   ]
  },
  {
   "cell_type": "code",
   "execution_count": 13,
   "metadata": {
    "id": "BXRMAMAlcreN",
    "pycharm": {
     "name": "#%%\n"
    }
   },
   "outputs": [
    {
     "data": {
      "text/html": [
       "<style>#sk-container-id-1 {color: black;background-color: white;}#sk-container-id-1 pre{padding: 0;}#sk-container-id-1 div.sk-toggleable {background-color: white;}#sk-container-id-1 label.sk-toggleable__label {cursor: pointer;display: block;width: 100%;margin-bottom: 0;padding: 0.3em;box-sizing: border-box;text-align: center;}#sk-container-id-1 label.sk-toggleable__label-arrow:before {content: \"▸\";float: left;margin-right: 0.25em;color: #696969;}#sk-container-id-1 label.sk-toggleable__label-arrow:hover:before {color: black;}#sk-container-id-1 div.sk-estimator:hover label.sk-toggleable__label-arrow:before {color: black;}#sk-container-id-1 div.sk-toggleable__content {max-height: 0;max-width: 0;overflow: hidden;text-align: left;background-color: #f0f8ff;}#sk-container-id-1 div.sk-toggleable__content pre {margin: 0.2em;color: black;border-radius: 0.25em;background-color: #f0f8ff;}#sk-container-id-1 input.sk-toggleable__control:checked~div.sk-toggleable__content {max-height: 200px;max-width: 100%;overflow: auto;}#sk-container-id-1 input.sk-toggleable__control:checked~label.sk-toggleable__label-arrow:before {content: \"▾\";}#sk-container-id-1 div.sk-estimator input.sk-toggleable__control:checked~label.sk-toggleable__label {background-color: #d4ebff;}#sk-container-id-1 div.sk-label input.sk-toggleable__control:checked~label.sk-toggleable__label {background-color: #d4ebff;}#sk-container-id-1 input.sk-hidden--visually {border: 0;clip: rect(1px 1px 1px 1px);clip: rect(1px, 1px, 1px, 1px);height: 1px;margin: -1px;overflow: hidden;padding: 0;position: absolute;width: 1px;}#sk-container-id-1 div.sk-estimator {font-family: monospace;background-color: #f0f8ff;border: 1px dotted black;border-radius: 0.25em;box-sizing: border-box;margin-bottom: 0.5em;}#sk-container-id-1 div.sk-estimator:hover {background-color: #d4ebff;}#sk-container-id-1 div.sk-parallel-item::after {content: \"\";width: 100%;border-bottom: 1px solid gray;flex-grow: 1;}#sk-container-id-1 div.sk-label:hover label.sk-toggleable__label {background-color: #d4ebff;}#sk-container-id-1 div.sk-serial::before {content: \"\";position: absolute;border-left: 1px solid gray;box-sizing: border-box;top: 0;bottom: 0;left: 50%;z-index: 0;}#sk-container-id-1 div.sk-serial {display: flex;flex-direction: column;align-items: center;background-color: white;padding-right: 0.2em;padding-left: 0.2em;position: relative;}#sk-container-id-1 div.sk-item {position: relative;z-index: 1;}#sk-container-id-1 div.sk-parallel {display: flex;align-items: stretch;justify-content: center;background-color: white;position: relative;}#sk-container-id-1 div.sk-item::before, #sk-container-id-1 div.sk-parallel-item::before {content: \"\";position: absolute;border-left: 1px solid gray;box-sizing: border-box;top: 0;bottom: 0;left: 50%;z-index: -1;}#sk-container-id-1 div.sk-parallel-item {display: flex;flex-direction: column;z-index: 1;position: relative;background-color: white;}#sk-container-id-1 div.sk-parallel-item:first-child::after {align-self: flex-end;width: 50%;}#sk-container-id-1 div.sk-parallel-item:last-child::after {align-self: flex-start;width: 50%;}#sk-container-id-1 div.sk-parallel-item:only-child::after {width: 0;}#sk-container-id-1 div.sk-dashed-wrapped {border: 1px dashed gray;margin: 0 0.4em 0.5em 0.4em;box-sizing: border-box;padding-bottom: 0.4em;background-color: white;}#sk-container-id-1 div.sk-label label {font-family: monospace;font-weight: bold;display: inline-block;line-height: 1.2em;}#sk-container-id-1 div.sk-label-container {text-align: center;}#sk-container-id-1 div.sk-container {/* jupyter's `normalize.less` sets `[hidden] { display: none; }` but bootstrap.min.css set `[hidden] { display: none !important; }` so we also need the `!important` here to be able to override the default hidden behavior on the sphinx rendered scikit-learn.org. See: https://github.com/scikit-learn/scikit-learn/issues/21755 */display: inline-block !important;position: relative;}#sk-container-id-1 div.sk-text-repr-fallback {display: none;}</style><div id=\"sk-container-id-1\" class=\"sk-top-container\"><div class=\"sk-text-repr-fallback\"><pre>DecisionTreeClassifier(criterion=&#x27;entropy&#x27;, max_depth=2)</pre><b>In a Jupyter environment, please rerun this cell to show the HTML representation or trust the notebook. <br />On GitHub, the HTML representation is unable to render, please try loading this page with nbviewer.org.</b></div><div class=\"sk-container\" hidden><div class=\"sk-item\"><div class=\"sk-estimator sk-toggleable\"><input class=\"sk-toggleable__control sk-hidden--visually\" id=\"sk-estimator-id-1\" type=\"checkbox\" checked><label for=\"sk-estimator-id-1\" class=\"sk-toggleable__label sk-toggleable__label-arrow\">DecisionTreeClassifier</label><div class=\"sk-toggleable__content\"><pre>DecisionTreeClassifier(criterion=&#x27;entropy&#x27;, max_depth=2)</pre></div></div></div></div></div>"
      ],
      "text/plain": [
       "DecisionTreeClassifier(criterion='entropy', max_depth=2)"
      ]
     },
     "execution_count": 13,
     "metadata": {},
     "output_type": "execute_result"
    }
   ],
   "source": [
    "tree.fit(X,y)"
   ]
  },
  {
   "cell_type": "markdown",
   "metadata": {
    "id": "6KwH6l0UhhnH",
    "pycharm": {
     "name": "#%% md\n"
    }
   },
   "source": [
    "## 4) Make Predictions"
   ]
  },
  {
   "cell_type": "markdown",
   "metadata": {
    "id": "VIRG6bQbxJ__",
    "pycharm": {
     "name": "#%% md\n"
    }
   },
   "source": [
    ".predict() gets the predicted class. Sklearn is using a default threshold of 0.5. Every predicted probability that is higher is set to 1. Eevery predicted propability that is smaller is set to 0."
   ]
  },
  {
   "cell_type": "code",
   "execution_count": 14,
   "metadata": {
    "id": "saQbDgIZhuWB",
    "pycharm": {
     "name": "#%%\n"
    }
   },
   "outputs": [
    {
     "data": {
      "text/plain": [
       "array([0, 1, 1, ..., 0, 0, 1], dtype=int64)"
      ]
     },
     "execution_count": 14,
     "metadata": {},
     "output_type": "execute_result"
    }
   ],
   "source": [
    "tree.predict(X)"
   ]
  },
  {
   "cell_type": "markdown",
   "metadata": {
    "id": "N-mHF2JsxN_8",
    "pycharm": {
     "name": "#%% md\n"
    }
   },
   "source": [
    "We can also get the predicted probabilities with .preedict_proba(). We get two columents: One for the negative class (remain) and one for the positive class (churn). Both values sum up two 1. \n",
    "\n",
    "The positive class is in the second columm: "
   ]
  },
  {
   "cell_type": "code",
   "execution_count": 15,
   "metadata": {
    "id": "vTUigXsbh9tj",
    "pycharm": {
     "name": "#%%\n"
    }
   },
   "outputs": [
    {
     "data": {
      "text/plain": [
       "array([[0.5392279 , 0.4607721 ],\n",
       "       [0.47670549, 0.52329451],\n",
       "       [0.47670549, 0.52329451],\n",
       "       ...,\n",
       "       [0.5392279 , 0.4607721 ],\n",
       "       [0.5392279 , 0.4607721 ],\n",
       "       [0.47670549, 0.52329451]])"
      ]
     },
     "execution_count": 15,
     "metadata": {},
     "output_type": "execute_result"
    }
   ],
   "source": [
    "tree.predict_proba(X)"
   ]
  },
  {
   "cell_type": "markdown",
   "metadata": {
    "id": "-V3gsABvqOY5",
    "pycharm": {
     "name": "#%% md\n"
    }
   },
   "source": [
    "## Plot Decision Tree"
   ]
  },
  {
   "cell_type": "markdown",
   "metadata": {
    "id": "F9nkuQ-U6Jbs",
    "pycharm": {
     "name": "#%% md\n"
    }
   },
   "source": [
    "The following function can be used to draw a DecistionTreeClassifier Model:"
   ]
  },
  {
   "cell_type": "code",
   "execution_count": 16,
   "metadata": {
    "id": "9pkbUothZtHr",
    "pycharm": {
     "name": "#%%\n"
    }
   },
   "outputs": [],
   "source": [
    "def plot_tree_classification(treemodel, X):\n",
    "    from sklearn import tree\n",
    "    import matplotlib.pyplot as plt\n",
    "    fig = plt.figure(figsize=(60,20))\n",
    "    _ = tree.plot_tree(treemodel,filled=True,class_names=['0','1'],feature_names = X.columns,proportion=True,precision=2)"
   ]
  },
  {
   "cell_type": "code",
   "execution_count": 17,
   "metadata": {
    "id": "3ZN6soUC1VJv",
    "pycharm": {
     "name": "#%%\n"
    }
   },
   "outputs": [
    {
     "data": {
      "image/png": "[encoded data removed]",
      "text/plain": [
       "<Figure size 4320x1440 with 1 Axes>"
      ]
     },
     "metadata": {
      "needs_background": "light"
     },
     "output_type": "display_data"
    }
   ],
   "source": [
    "plot_tree_classification(tree, X)"
   ]
  },
  {
   "cell_type": "markdown",
   "metadata": {
    "id": "a6oL8Iuvd33s",
    "pycharm": {
     "name": "#%% md\n"
    }
   },
   "source": [
    "## Check out other Hyperparameters - How is the tree affected?\n"
   ]
  },
  {
   "cell_type": "markdown",
   "metadata": {
    "id": "hr6ksWXV6k1s",
    "pycharm": {
     "name": "#%% md\n"
    }
   },
   "source": [
    "Hyperparameters to vary\n",
    "\n",
    "* **max_depth:** allowed number of maximum splits\n",
    "* **min_samples_leaf:** The minimum number of samples required to be at a leaf node. Split will be considered if each child leave has at least min_sample_leaf instances.\n",
    "* **min_samples_split:** The minimum number of instances required to split an internal node. Must be at least 2.\n",
    "\n",
    "\n"
   ]
  },
  {
   "cell_type": "markdown",
   "source": [
    "\n",
    "\n",
    "*  Increasing max_depth: ____\n",
    "*  Increasing min_samples_leaf and min_samples_split: ____\n",
    "\n"
   ],
   "metadata": {
    "collapsed": false,
    "pycharm": {
     "name": "#%% md\n"
    }
   }
  },
  {
   "cell_type": "code",
   "execution_count": null,
   "outputs": [],
   "source": [
    "tree = DecisionTreeClassifier(criterion=\"entropy\", \n",
    "                              max_depth=3,\n",
    "                              min_samples_split=2,\n",
    "                              min_samples_leaf=4)\n",
    "tree = tree.fit(X,y)\n",
    "plot_tree_classification(tree, X)"
   ],
   "metadata": {
    "collapsed": false,
    "pycharm": {
     "name": "#%%\n"
    }
   }
  },
  {
   "cell_type": "markdown",
   "source": [
    "# Evaluate Accuracy of Classifier"
   ],
   "metadata": {
    "collapsed": false,
    "pycharm": {
     "name": "#%% md\n"
    }
   }
  },
  {
   "cell_type": "markdown",
   "source": [
    "## 1) Import Model Functions"
   ],
   "metadata": {
    "collapsed": false,
    "pycharm": {
     "name": "#%% md\n"
    }
   }
  },
  {
   "cell_type": "code",
   "execution_count": null,
   "outputs": [],
   "source": [
    "from sklearn.tree import DecisionTreeClassifier\n",
    "from sklearn.model_selection import train_test_split\n",
    "from sklearn.metrics import accuracy_score"
   ],
   "metadata": {
    "collapsed": false,
    "pycharm": {
     "name": "#%%\n"
    }
   }
  },
  {
   "cell_type": "markdown",
   "source": [
    "## 2) Instantiate Model"
   ],
   "metadata": {
    "collapsed": false,
    "pycharm": {
     "name": "#%% md\n"
    }
   }
  },
  {
   "cell_type": "code",
   "execution_count": null,
   "outputs": [],
   "source": [
    "tree_train = DecisionTreeClassifier(criterion=\"entropy\", \n",
    "                                    max_depth=4)"
   ],
   "metadata": {
    "collapsed": false,
    "pycharm": {
     "name": "#%%\n"
    }
   }
  },
  {
   "cell_type": "markdown",
   "source": [
    "## 3) Create Test & Training Data\n"
   ],
   "metadata": {
    "collapsed": false,
    "pycharm": {
     "name": "#%% md\n"
    }
   }
  },
  {
   "cell_type": "code",
   "execution_count": null,
   "outputs": [],
   "source": [
    "X_train, X_test, y_train, y_test = train_test_split(X, y, test_size=0.3, random_state=1)"
   ],
   "metadata": {
    "collapsed": false,
    "pycharm": {
     "name": "#%%\n"
    }
   }
  },
  {
   "cell_type": "markdown",
   "source": [
    "\n",
    "*   **X:** Features to be split into testing and training data\n",
    "*   **y:** Labels to be split into testing and training data\n",
    "*   **test_size:** proportion of the dataset in the test data; usually ~ 30%\n",
    "*   **random_state:** seed for making results reproducible. Instances are randomly distributed among testing and training data. However, every computer splits randomly in a different fashion. Providing a seed, makes results reproducible because with the same seed, all computers split the data in the same fashion.\n",
    "\n",
    "\n"
   ],
   "metadata": {
    "collapsed": false,
    "pycharm": {
     "name": "#%% md\n"
    }
   }
  },
  {
   "cell_type": "markdown",
   "source": [
    "We can use the .shape method to investigate whether data splitting has been succesfull"
   ],
   "metadata": {
    "collapsed": false,
    "pycharm": {
     "name": "#%% md\n"
    }
   }
  },
  {
   "cell_type": "code",
   "execution_count": null,
   "outputs": [],
   "source": [
    "X.shape #4863 instances and 25 variables in the entire dataset"
   ],
   "metadata": {
    "collapsed": false,
    "pycharm": {
     "name": "#%%\n"
    }
   }
  },
  {
   "cell_type": "code",
   "execution_count": null,
   "outputs": [],
   "source": [
    "X_train.shape #3404 instances and 25 variables in the training dataset"
   ],
   "metadata": {
    "collapsed": false,
    "pycharm": {
     "name": "#%%\n"
    }
   }
  },
  {
   "cell_type": "code",
   "execution_count": null,
   "outputs": [],
   "source": [
    "X_test.shape #1459 instances and 25 variables in the training dataset"
   ],
   "metadata": {
    "collapsed": false,
    "pycharm": {
     "name": "#%%\n"
    }
   }
  },
  {
   "cell_type": "markdown",
   "source": [
    "## 4) Fit Model to Training Data\n"
   ],
   "metadata": {
    "collapsed": false,
    "pycharm": {
     "name": "#%% md\n"
    }
   }
  },
  {
   "cell_type": "code",
   "execution_count": null,
   "outputs": [],
   "source": [
    "tree_train.fit(X_train, y_train)"
   ],
   "metadata": {
    "collapsed": false,
    "pycharm": {
     "name": "#%%\n"
    }
   }
  },
  {
   "cell_type": "markdown",
   "source": [
    "## 5) Make Predictions on Testing Data\n"
   ],
   "metadata": {
    "collapsed": false,
    "pycharm": {
     "name": "#%% md\n"
    }
   }
  },
  {
   "cell_type": "code",
   "execution_count": null,
   "outputs": [],
   "source": [
    "y_pred = tree_train.predict(X_test)\n",
    "y_pred"
   ],
   "metadata": {
    "collapsed": false,
    "pycharm": {
     "name": "#%%\n"
    }
   }
  },
  {
   "cell_type": "markdown",
   "source": [
    "## 6) Score Accuracy"
   ],
   "metadata": {
    "collapsed": false,
    "pycharm": {
     "name": "#%% md\n"
    }
   }
  },
  {
   "cell_type": "code",
   "execution_count": null,
   "outputs": [],
   "source": [
    "accuracy_score(y_test, y_pred)"
   ],
   "metadata": {
    "collapsed": false,
    "pycharm": {
     "name": "#%%\n"
    }
   }
  },
  {
   "cell_type": "markdown",
   "source": [
    "## Determining \"The Sunshine Spot\""
   ],
   "metadata": {
    "collapsed": false,
    "pycharm": {
     "name": "#%% md\n"
    }
   }
  },
  {
   "cell_type": "markdown",
   "source": [
    "Calculate the accuracy of the decision tree for a “max_depth“ of 10, 20, 30, 40, 50!"
   ],
   "metadata": {
    "collapsed": false,
    "pycharm": {
     "name": "#%% md\n"
    }
   }
  },
  {
   "cell_type": "code",
   "execution_count": null,
   "outputs": [],
   "source": [
    "tree_train = DecisionTreeClassifier(criterion=\"entropy\", max_depth=50, random_state=12)\n",
    "tree_train.fit(X_train, y_train)\n",
    "y_pred = tree_train.predict(X_test)\n",
    "accuracy_score(y_test, y_pred)"
   ],
   "metadata": {
    "collapsed": false,
    "pycharm": {
     "name": "#%%\n"
    }
   }
  },
  {
   "cell_type": "markdown",
   "source": [
    "We provide random_state = 12 such that we all get identical results. The seed (=number) itself does not matter, it just has to be the same!"
   ],
   "metadata": {
    "collapsed": false,
    "pycharm": {
     "name": "#%% md\n"
    }
   }
  },
  {
   "cell_type": "markdown",
   "source": [
    "# Evaluating Model Performance the Data Scientist Way"
   ],
   "metadata": {
    "collapsed": false,
    "pycharm": {
     "name": "#%% md\n"
    }
   }
  },
  {
   "cell_type": "markdown",
   "source": [
    "## Accuracy Paradox"
   ],
   "metadata": {
    "collapsed": false,
    "pycharm": {
     "name": "#%% md\n"
    }
   }
  },
  {
   "cell_type": "code",
   "execution_count": null,
   "outputs": [],
   "source": [
    "len(y_test)"
   ],
   "metadata": {
    "collapsed": false,
    "pycharm": {
     "name": "#%%\n"
    }
   }
  },
  {
   "cell_type": "code",
   "execution_count": null,
   "outputs": [],
   "source": [
    "accuracy_score(y_test,[0]*1459)"
   ],
   "metadata": {
    "collapsed": false,
    "pycharm": {
     "name": "#%%\n"
    }
   }
  },
  {
   "cell_type": "markdown",
   "source": [
    "## Instantiating a new model at the \"sunshine spot\""
   ],
   "metadata": {
    "collapsed": false,
    "pycharm": {
     "name": "#%% md\n"
    }
   }
  },
  {
   "cell_type": "code",
   "execution_count": null,
   "outputs": [],
   "source": [
    "tree_educatedguess = DecisionTreeClassifier(criterion=\"entropy\", \n",
    "                              max_depth=30,\n",
    "                              min_samples_leaf=50,\n",
    "                              random_state=12)\n",
    "tree_educatedguess.fit(X_train, y_train)\n",
    "y_pred = tree_educatedguess.predict(X_test)"
   ],
   "metadata": {
    "collapsed": false,
    "pycharm": {
     "name": "#%%\n"
    }
   }
  },
  {
   "cell_type": "markdown",
   "source": [
    "min_samples_leaf=50 is added for didactical reasons to show a specific effect"
   ],
   "metadata": {
    "collapsed": false,
    "pycharm": {
     "name": "#%% md\n"
    }
   }
  },
  {
   "cell_type": "markdown",
   "source": [
    "## Get confusion_matrix"
   ],
   "metadata": {
    "collapsed": false,
    "pycharm": {
     "name": "#%% md\n"
    }
   }
  },
  {
   "cell_type": "code",
   "execution_count": null,
   "outputs": [],
   "source": [
    "from sklearn.metrics import confusion_matrix\n",
    "confusion_matrix(y_test, y_pred)"
   ],
   "metadata": {
    "collapsed": false,
    "pycharm": {
     "name": "#%%\n"
    }
   }
  },
  {
   "cell_type": "markdown",
   "source": [
    "- True Negatives = 696\n",
    "- False Positives = 229\n",
    "- False Negatives = 269\n",
    "- True Positives = 265"
   ],
   "metadata": {
    "collapsed": false,
    "pycharm": {
     "name": "#%% md\n"
    }
   }
  },
  {
   "cell_type": "markdown",
   "source": [
    "## Calculating accuracy"
   ],
   "metadata": {
    "collapsed": false,
    "pycharm": {
     "name": "#%% md\n"
    }
   }
  },
  {
   "cell_type": "code",
   "execution_count": null,
   "outputs": [],
   "source": [
    "(696 + 265) / (696 + 265 + 229 + 269)"
   ],
   "metadata": {
    "collapsed": false,
    "pycharm": {
     "name": "#%%\n"
    }
   }
  },
  {
   "cell_type": "markdown",
   "source": [
    "## Calculating Recall / Sensitivity"
   ],
   "metadata": {
    "collapsed": false,
    "pycharm": {
     "name": "#%% md\n"
    }
   }
  },
  {
   "cell_type": "markdown",
   "source": [
    "- True Positives / (True Positives + False Negatives) \n",
    "- Recall / Sensitivity = Proportion of churning customers that we can detect!"
   ],
   "metadata": {
    "collapsed": false,
    "pycharm": {
     "name": "#%% md\n"
    }
   }
  },
  {
   "cell_type": "code",
   "execution_count": null,
   "outputs": [],
   "source": [
    "265 / (265 + 269)"
   ],
   "metadata": {
    "collapsed": false,
    "pycharm": {
     "name": "#%%\n"
    }
   }
  },
  {
   "cell_type": "markdown",
   "source": [
    "## Calculate Precision"
   ],
   "metadata": {
    "collapsed": false,
    "pycharm": {
     "name": "#%% md\n"
    }
   }
  },
  {
   "cell_type": "markdown",
   "source": [
    "- True Positives / (True Positives + False Positives)\n",
    "- Precision = If we flag a customer as churning, what is the chance that this is correct? "
   ],
   "metadata": {
    "collapsed": false,
    "pycharm": {
     "name": "#%% md\n"
    }
   }
  },
  {
   "cell_type": "code",
   "execution_count": null,
   "outputs": [],
   "source": [
    "265 / (265 + 229)"
   ],
   "metadata": {
    "collapsed": false,
    "pycharm": {
     "name": "#%%\n"
    }
   }
  },
  {
   "cell_type": "markdown",
   "source": [
    "## Specificity"
   ],
   "metadata": {
    "collapsed": false,
    "pycharm": {
     "name": "#%% md\n"
    }
   }
  },
  {
   "cell_type": "markdown",
   "source": [
    "- True Negatives / (True Negatives + False Positives)\n",
    "- Specificity = Proportion of not churning customers that we can identify\n",
    "- False Alarm = 1 - Specificity"
   ],
   "metadata": {
    "collapsed": false,
    "pycharm": {
     "name": "#%% md\n"
    }
   }
  },
  {
   "cell_type": "code",
   "execution_count": null,
   "outputs": [],
   "source": [
    "696 / (696 + 229)"
   ],
   "metadata": {
    "collapsed": false,
    "pycharm": {
     "name": "#%%\n"
    }
   }
  },
  {
   "cell_type": "markdown",
   "source": [
    "## Classification Report - Getting it all at once"
   ],
   "metadata": {
    "collapsed": false,
    "pycharm": {
     "name": "#%% md\n"
    }
   }
  },
  {
   "cell_type": "code",
   "execution_count": null,
   "outputs": [],
   "source": [
    "from sklearn.metrics import classification_report\n",
    "print(classification_report(y_test, y_pred))"
   ],
   "metadata": {
    "collapsed": false,
    "pycharm": {
     "name": "#%%\n"
    }
   }
  },
  {
   "cell_type": "markdown",
   "source": [
    "Additional measures:\n",
    "\n",
    "\n",
    "*   **F1-Score:** (harmonic) mean of precision and recall >> very good measure for \"overall accuracy\" as it balances precision and recall\n",
    "*   **Support:** Number of instances that churn (1) / not churn (0)\n",
    "\n"
   ],
   "metadata": {
    "collapsed": false,
    "pycharm": {
     "name": "#%% md\n"
    }
   }
  },
  {
   "cell_type": "markdown",
   "source": [
    "## Variying the threshold for classification\n"
   ],
   "metadata": {
    "collapsed": false,
    "pycharm": {
     "name": "#%% md\n"
    }
   }
  },
  {
   "cell_type": "markdown",
   "source": [
    "By default a class probability of > 0.5 determines a customer as churning!\n",
    "\n",
    "using .predict_proba() we can get predicted probabilities and try out own tresholds:"
   ],
   "metadata": {
    "collapsed": false,
    "pycharm": {
     "name": "#%% md\n"
    }
   }
  },
  {
   "cell_type": "code",
   "execution_count": null,
   "outputs": [],
   "source": [
    "tree_educatedguess.predict_proba(X_test)"
   ],
   "metadata": {
    "collapsed": false,
    "pycharm": {
     "name": "#%%\n"
    }
   }
  },
  {
   "cell_type": "code",
   "execution_count": null,
   "outputs": [],
   "source": [
    "y_pred =  (tree_educatedguess.predict_proba(X_test)[:, 1] > 0.1).astype(int)\n",
    "print(classification_report(y_test, y_pred))"
   ],
   "metadata": {
    "collapsed": false,
    "pycharm": {
     "name": "#%%\n"
    }
   }
  },
  {
   "cell_type": "markdown",
   "source": [
    "* This model has lower accuracy\n",
    "* Perfect Recall (all churning customers can be identified)\n",
    "* Low Precision (Only 49% of predictions are correct)\n",
    "\n",
    "The threshold of 0.1 is very low, each customer with probability of churning than > 10% is flagged as churning (a quite optimistic model)"
   ],
   "metadata": {
    "collapsed": false,
    "pycharm": {
     "name": "#%% md\n"
    }
   }
  },
  {
   "cell_type": "code",
   "execution_count": null,
   "outputs": [],
   "source": [
    "y_pred =  (tree_educatedguess.predict_proba(X_test)[:, 1] > 0.7).astype(int)\n",
    "print(classification_report(y_test, y_pred))"
   ],
   "metadata": {
    "collapsed": false,
    "pycharm": {
     "name": "#%%\n"
    }
   }
  },
  {
   "cell_type": "markdown",
   "source": [
    "* This model has higher accuracy\n",
    "* Lower Recall (only 30% of churning customers are identified)\n",
    "* Higher Precision (59%)\n",
    "\n",
    "The threshold of 0.7 is quite strict, only customers with probability of churning than > 70% are flagged as churning (a quite conservative model)"
   ],
   "metadata": {
    "collapsed": false,
    "pycharm": {
     "name": "#%% md\n"
    }
   }
  },
  {
   "cell_type": "markdown",
   "source": [
    "## ROC and AUC - Model performance independent of threshold"
   ],
   "metadata": {
    "collapsed": false,
    "pycharm": {
     "name": "#%% md\n"
    }
   }
  },
  {
   "cell_type": "code",
   "execution_count": null,
   "outputs": [],
   "source": [
    "def plot_ROC(model, X_test, y_test):\n",
    "  import matplotlib.pyplot as plt\n",
    "  from sklearn.metrics import RocCurveDisplay\n",
    "  tree_ROC = RocCurveDisplay.from_estimator(model, X_test, y_test, color='green', linewidth=3)\n",
    "  plt.title('ROC Curve')\n",
    "  plt.xlabel('False Alarm (1 - Specificity)')\n",
    "  plt.ylabel('Recall (Sensitivity)')\n",
    "  plt.show()"
   ],
   "metadata": {
    "collapsed": false,
    "pycharm": {
     "name": "#%%\n"
    }
   }
  },
  {
   "cell_type": "code",
   "execution_count": null,
   "outputs": [],
   "source": [
    "plot_ROC(tree_educatedguess, X_test, y_test)"
   ],
   "metadata": {
    "collapsed": false,
    "pycharm": {
     "name": "#%%\n"
    }
   }
  },
  {
   "cell_type": "markdown",
   "metadata": {
    "id": "g-gHt0rKt5iI",
    "pycharm": {
     "name": "#%% md\n"
    }
   },
   "source": [
    "# Strategies for Improving Model Performance"
   ]
  },
  {
   "cell_type": "markdown",
   "metadata": {
    "id": "7-5ltG1PszSL",
    "pycharm": {
     "name": "#%% md\n"
    }
   },
   "source": [
    "## Strategy 1: Finding the best model - Hyperparameter Tuning & Cross validation"
   ]
  },
  {
   "cell_type": "markdown",
   "metadata": {
    "id": "evChtC9zjZ5Z",
    "pycharm": {
     "name": "#%% md\n"
    }
   },
   "source": [
    "### 1) Import model functions"
   ]
  },
  {
   "cell_type": "code",
   "execution_count": 43,
   "metadata": {
    "id": "N5Od9cj_kF9w",
    "pycharm": {
     "name": "#%%\n"
    }
   },
   "outputs": [],
   "source": [
    "from sklearn.tree import DecisionTreeClassifier\n",
    "from sklearn.model_selection import GridSearchCV\n",
    "from sklearn.metrics import classification_report"
   ]
  },
  {
   "cell_type": "markdown",
   "metadata": {
    "id": "8L9huq8rkMNv",
    "pycharm": {
     "name": "#%% md\n"
    }
   },
   "source": [
    "### 2) Instantiate Model with Cross-Validation Setup"
   ]
  },
  {
   "cell_type": "code",
   "execution_count": 44,
   "metadata": {
    "id": "GsGKu4ZOkLF0",
    "pycharm": {
     "name": "#%%\n"
    }
   },
   "outputs": [],
   "source": [
    "parameters = {'max_depth':range(1,30), \n",
    "              'min_samples_leaf':[1, 10, 20, 30, 50, 100]}\n",
    "tree_CV = GridSearchCV(DecisionTreeClassifier(criterion=\"entropy\", random_state=1), parameters, cv=5)"
   ]
  },
  {
   "cell_type": "markdown",
   "metadata": {
    "id": "sg1W9TdeOe7s",
    "pycharm": {
     "name": "#%% md\n"
    }
   },
   "source": [
    "*  **cv** number of cross validation folds"
   ]
  },
  {
   "cell_type": "markdown",
   "metadata": {
    "id": "_xFyodOZbAkj",
    "pycharm": {
     "name": "#%% md\n"
    }
   },
   "source": [
    "How many Models are calculated?"
   ]
  },
  {
   "cell_type": "code",
   "execution_count": 45,
   "metadata": {
    "id": "1RdNevzEbGC6",
    "pycharm": {
     "name": "#%%\n"
    }
   },
   "outputs": [
    {
     "data": {
      "text/plain": [
       "870"
      ]
     },
     "execution_count": 45,
     "metadata": {},
     "output_type": "execute_result"
    }
   ],
   "source": [
    "29*6*5"
   ]
  },
  {
   "cell_type": "markdown",
   "metadata": {
    "id": "MnKtImQgkWR8",
    "pycharm": {
     "name": "#%% md\n"
    }
   },
   "source": [
    "### 3) Fit Model to Data using Cross validation "
   ]
  },
  {
   "cell_type": "code",
   "execution_count": 46,
   "metadata": {
    "id": "xI1aeas-kVd_",
    "pycharm": {
     "name": "#%%\n"
    }
   },
   "outputs": [
    {
     "data": {
      "text/html": [
       "<style>#sk-container-id-3 {color: black;background-color: white;}#sk-container-id-3 pre{padding: 0;}#sk-container-id-3 div.sk-toggleable {background-color: white;}#sk-container-id-3 label.sk-toggleable__label {cursor: pointer;display: block;width: 100%;margin-bottom: 0;padding: 0.3em;box-sizing: border-box;text-align: center;}#sk-container-id-3 label.sk-toggleable__label-arrow:before {content: \"▸\";float: left;margin-right: 0.25em;color: #696969;}#sk-container-id-3 label.sk-toggleable__label-arrow:hover:before {color: black;}#sk-container-id-3 div.sk-estimator:hover label.sk-toggleable__label-arrow:before {color: black;}#sk-container-id-3 div.sk-toggleable__content {max-height: 0;max-width: 0;overflow: hidden;text-align: left;background-color: #f0f8ff;}#sk-container-id-3 div.sk-toggleable__content pre {margin: 0.2em;color: black;border-radius: 0.25em;background-color: #f0f8ff;}#sk-container-id-3 input.sk-toggleable__control:checked~div.sk-toggleable__content {max-height: 200px;max-width: 100%;overflow: auto;}#sk-container-id-3 input.sk-toggleable__control:checked~label.sk-toggleable__label-arrow:before {content: \"▾\";}#sk-container-id-3 div.sk-estimator input.sk-toggleable__control:checked~label.sk-toggleable__label {background-color: #d4ebff;}#sk-container-id-3 div.sk-label input.sk-toggleable__control:checked~label.sk-toggleable__label {background-color: #d4ebff;}#sk-container-id-3 input.sk-hidden--visually {border: 0;clip: rect(1px 1px 1px 1px);clip: rect(1px, 1px, 1px, 1px);height: 1px;margin: -1px;overflow: hidden;padding: 0;position: absolute;width: 1px;}#sk-container-id-3 div.sk-estimator {font-family: monospace;background-color: #f0f8ff;border: 1px dotted black;border-radius: 0.25em;box-sizing: border-box;margin-bottom: 0.5em;}#sk-container-id-3 div.sk-estimator:hover {background-color: #d4ebff;}#sk-container-id-3 div.sk-parallel-item::after {content: \"\";width: 100%;border-bottom: 1px solid gray;flex-grow: 1;}#sk-container-id-3 div.sk-label:hover label.sk-toggleable__label {background-color: #d4ebff;}#sk-container-id-3 div.sk-serial::before {content: \"\";position: absolute;border-left: 1px solid gray;box-sizing: border-box;top: 0;bottom: 0;left: 50%;z-index: 0;}#sk-container-id-3 div.sk-serial {display: flex;flex-direction: column;align-items: center;background-color: white;padding-right: 0.2em;padding-left: 0.2em;position: relative;}#sk-container-id-3 div.sk-item {position: relative;z-index: 1;}#sk-container-id-3 div.sk-parallel {display: flex;align-items: stretch;justify-content: center;background-color: white;position: relative;}#sk-container-id-3 div.sk-item::before, #sk-container-id-3 div.sk-parallel-item::before {content: \"\";position: absolute;border-left: 1px solid gray;box-sizing: border-box;top: 0;bottom: 0;left: 50%;z-index: -1;}#sk-container-id-3 div.sk-parallel-item {display: flex;flex-direction: column;z-index: 1;position: relative;background-color: white;}#sk-container-id-3 div.sk-parallel-item:first-child::after {align-self: flex-end;width: 50%;}#sk-container-id-3 div.sk-parallel-item:last-child::after {align-self: flex-start;width: 50%;}#sk-container-id-3 div.sk-parallel-item:only-child::after {width: 0;}#sk-container-id-3 div.sk-dashed-wrapped {border: 1px dashed gray;margin: 0 0.4em 0.5em 0.4em;box-sizing: border-box;padding-bottom: 0.4em;background-color: white;}#sk-container-id-3 div.sk-label label {font-family: monospace;font-weight: bold;display: inline-block;line-height: 1.2em;}#sk-container-id-3 div.sk-label-container {text-align: center;}#sk-container-id-3 div.sk-container {/* jupyter's `normalize.less` sets `[hidden] { display: none; }` but bootstrap.min.css set `[hidden] { display: none !important; }` so we also need the `!important` here to be able to override the default hidden behavior on the sphinx rendered scikit-learn.org. See: https://github.com/scikit-learn/scikit-learn/issues/21755 */display: inline-block !important;position: relative;}#sk-container-id-3 div.sk-text-repr-fallback {display: none;}</style><div id=\"sk-container-id-3\" class=\"sk-top-container\"><div class=\"sk-text-repr-fallback\"><pre>GridSearchCV(cv=5,\n",
       "             estimator=DecisionTreeClassifier(criterion=&#x27;entropy&#x27;,\n",
       "                                              random_state=1),\n",
       "             param_grid={&#x27;max_depth&#x27;: range(1, 30),\n",
       "                         &#x27;min_samples_leaf&#x27;: [1, 10, 20, 30, 50, 100]})</pre><b>In a Jupyter environment, please rerun this cell to show the HTML representation or trust the notebook. <br />On GitHub, the HTML representation is unable to render, please try loading this page with nbviewer.org.</b></div><div class=\"sk-container\" hidden><div class=\"sk-item sk-dashed-wrapped\"><div class=\"sk-label-container\"><div class=\"sk-label sk-toggleable\"><input class=\"sk-toggleable__control sk-hidden--visually\" id=\"sk-estimator-id-3\" type=\"checkbox\" ><label for=\"sk-estimator-id-3\" class=\"sk-toggleable__label sk-toggleable__label-arrow\">GridSearchCV</label><div class=\"sk-toggleable__content\"><pre>GridSearchCV(cv=5,\n",
       "             estimator=DecisionTreeClassifier(criterion=&#x27;entropy&#x27;,\n",
       "                                              random_state=1),\n",
       "             param_grid={&#x27;max_depth&#x27;: range(1, 30),\n",
       "                         &#x27;min_samples_leaf&#x27;: [1, 10, 20, 30, 50, 100]})</pre></div></div></div><div class=\"sk-parallel\"><div class=\"sk-parallel-item\"><div class=\"sk-item\"><div class=\"sk-label-container\"><div class=\"sk-label sk-toggleable\"><input class=\"sk-toggleable__control sk-hidden--visually\" id=\"sk-estimator-id-4\" type=\"checkbox\" ><label for=\"sk-estimator-id-4\" class=\"sk-toggleable__label sk-toggleable__label-arrow\">estimator: DecisionTreeClassifier</label><div class=\"sk-toggleable__content\"><pre>DecisionTreeClassifier(criterion=&#x27;entropy&#x27;, random_state=1)</pre></div></div></div><div class=\"sk-serial\"><div class=\"sk-item\"><div class=\"sk-estimator sk-toggleable\"><input class=\"sk-toggleable__control sk-hidden--visually\" id=\"sk-estimator-id-5\" type=\"checkbox\" ><label for=\"sk-estimator-id-5\" class=\"sk-toggleable__label sk-toggleable__label-arrow\">DecisionTreeClassifier</label><div class=\"sk-toggleable__content\"><pre>DecisionTreeClassifier(criterion=&#x27;entropy&#x27;, random_state=1)</pre></div></div></div></div></div></div></div></div></div></div>"
      ],
      "text/plain": [
       "GridSearchCV(cv=5,\n",
       "             estimator=DecisionTreeClassifier(criterion='entropy',\n",
       "                                              random_state=1),\n",
       "             param_grid={'max_depth': range(1, 30),\n",
       "                         'min_samples_leaf': [1, 10, 20, 30, 50, 100]})"
      ]
     },
     "execution_count": 46,
     "metadata": {},
     "output_type": "execute_result"
    }
   ],
   "source": [
    "tree_CV.fit(X_train, y_train)"
   ]
  },
  {
   "cell_type": "code",
   "execution_count": 47,
   "metadata": {
    "id": "gvtY6Jz9lAA6",
    "pycharm": {
     "name": "#%%\n"
    }
   },
   "outputs": [
    {
     "data": {
      "text/plain": [
       "{'max_depth': 25, 'min_samples_leaf': 1}"
      ]
     },
     "execution_count": 47,
     "metadata": {},
     "output_type": "execute_result"
    }
   ],
   "source": [
    "tree_CV.best_params_"
   ]
  },
  {
   "cell_type": "markdown",
   "metadata": {
    "id": "YfBKIjmZsj6w",
    "pycharm": {
     "name": "#%% md\n"
    }
   },
   "source": [
    "### 4) Make Prediction"
   ]
  },
  {
   "cell_type": "code",
   "execution_count": 48,
   "metadata": {
    "id": "JvlfpHalfAGI",
    "pycharm": {
     "name": "#%%\n"
    }
   },
   "outputs": [],
   "source": [
    "y_pred = tree_CV.predict(X_test)"
   ]
  },
  {
   "cell_type": "markdown",
   "metadata": {
    "id": "3NvHyGEPssou",
    "pycharm": {
     "name": "#%% md\n"
    }
   },
   "source": [
    "### 5) Evaluate Model"
   ]
  },
  {
   "cell_type": "code",
   "execution_count": 49,
   "metadata": {
    "id": "931_jg8kxv8g",
    "pycharm": {
     "name": "#%%\n"
    }
   },
   "outputs": [
    {
     "name": "stdout",
     "output_type": "stream",
     "text": [
      "              precision    recall  f1-score   support\n",
      "\n",
      "           0       0.85      0.74      0.79       925\n",
      "           1       0.63      0.77      0.69       534\n",
      "\n",
      "    accuracy                           0.75      1459\n",
      "   macro avg       0.74      0.75      0.74      1459\n",
      "weighted avg       0.77      0.75      0.75      1459\n",
      "\n"
     ]
    }
   ],
   "source": [
    "print(classification_report(y_test, y_pred))"
   ]
  },
  {
   "cell_type": "code",
   "execution_count": 50,
   "metadata": {
    "id": "zo4--ij2Z_2L",
    "pycharm": {
     "name": "#%%\n"
    }
   },
   "outputs": [
    {
     "data": {
      "image/png": "[encoded data removed]",
      "text/plain": [
       "<Figure size 432x288 with 1 Axes>"
      ]
     },
     "metadata": {
      "needs_background": "light"
     },
     "output_type": "display_data"
    }
   ],
   "source": [
    "plot_ROC(tree_CV, X_test, y_test)"
   ]
  },
  {
   "cell_type": "markdown",
   "metadata": {
    "id": "MB08996FtFyJ",
    "pycharm": {
     "name": "#%% md\n"
    }
   },
   "source": [
    "## Strategy 2: Building Many Models - Ensembling (Random Forests)"
   ]
  },
  {
   "cell_type": "markdown",
   "metadata": {
    "id": "EOAFlV3k03qu",
    "pycharm": {
     "name": "#%% md\n"
    }
   },
   "source": [
    "### 1) Import Model Functions"
   ]
  },
  {
   "cell_type": "code",
   "execution_count": 51,
   "metadata": {
    "id": "a86Hj8D0022O",
    "pycharm": {
     "name": "#%%\n"
    }
   },
   "outputs": [],
   "source": [
    "from sklearn.ensemble import RandomForestClassifier\n",
    "from sklearn.model_selection import train_test_split\n",
    "from sklearn.metrics import classification_report"
   ]
  },
  {
   "cell_type": "markdown",
   "metadata": {
    "id": "fQSKu3wM1XdU",
    "pycharm": {
     "name": "#%% md\n"
    }
   },
   "source": [
    "### 2) Instantiate Model"
   ]
  },
  {
   "cell_type": "code",
   "execution_count": 52,
   "metadata": {
    "id": "ZlN3iUmfwqCq",
    "pycharm": {
     "name": "#%%\n"
    }
   },
   "outputs": [],
   "source": [
    "forest = RandomForestClassifier(n_estimators=1000)"
   ]
  },
  {
   "cell_type": "markdown",
   "metadata": {
    "id": "islk4daMcQla",
    "pycharm": {
     "name": "#%% md\n"
    }
   },
   "source": [
    "* **n_estimators** = Number of Decision Trees in the forest"
   ]
  },
  {
   "cell_type": "markdown",
   "metadata": {
    "id": "qqTUimyQ1gRA",
    "pycharm": {
     "name": "#%% md\n"
    }
   },
   "source": [
    "### 3) Create test and training data"
   ]
  },
  {
   "cell_type": "code",
   "execution_count": 53,
   "metadata": {
    "id": "k7eQu5su162a",
    "pycharm": {
     "name": "#%%\n"
    }
   },
   "outputs": [],
   "source": [
    "X_train, X_test, y_train, y_test = train_test_split(X, y, test_size=0.3, random_state=1)"
   ]
  },
  {
   "cell_type": "markdown",
   "metadata": {
    "id": "05GRqLOh19Bs",
    "pycharm": {
     "name": "#%% md\n"
    }
   },
   "source": [
    "### 4) Fit Model to Training Data"
   ]
  },
  {
   "cell_type": "code",
   "execution_count": 54,
   "metadata": {
    "id": "mHP-ERng16hG",
    "pycharm": {
     "name": "#%%\n"
    }
   },
   "outputs": [
    {
     "data": {
      "text/html": [
       "<style>#sk-container-id-4 {color: black;background-color: white;}#sk-container-id-4 pre{padding: 0;}#sk-container-id-4 div.sk-toggleable {background-color: white;}#sk-container-id-4 label.sk-toggleable__label {cursor: pointer;display: block;width: 100%;margin-bottom: 0;padding: 0.3em;box-sizing: border-box;text-align: center;}#sk-container-id-4 label.sk-toggleable__label-arrow:before {content: \"▸\";float: left;margin-right: 0.25em;color: #696969;}#sk-container-id-4 label.sk-toggleable__label-arrow:hover:before {color: black;}#sk-container-id-4 div.sk-estimator:hover label.sk-toggleable__label-arrow:before {color: black;}#sk-container-id-4 div.sk-toggleable__content {max-height: 0;max-width: 0;overflow: hidden;text-align: left;background-color: #f0f8ff;}#sk-container-id-4 div.sk-toggleable__content pre {margin: 0.2em;color: black;border-radius: 0.25em;background-color: #f0f8ff;}#sk-container-id-4 input.sk-toggleable__control:checked~div.sk-toggleable__content {max-height: 200px;max-width: 100%;overflow: auto;}#sk-container-id-4 input.sk-toggleable__control:checked~label.sk-toggleable__label-arrow:before {content: \"▾\";}#sk-container-id-4 div.sk-estimator input.sk-toggleable__control:checked~label.sk-toggleable__label {background-color: #d4ebff;}#sk-container-id-4 div.sk-label input.sk-toggleable__control:checked~label.sk-toggleable__label {background-color: #d4ebff;}#sk-container-id-4 input.sk-hidden--visually {border: 0;clip: rect(1px 1px 1px 1px);clip: rect(1px, 1px, 1px, 1px);height: 1px;margin: -1px;overflow: hidden;padding: 0;position: absolute;width: 1px;}#sk-container-id-4 div.sk-estimator {font-family: monospace;background-color: #f0f8ff;border: 1px dotted black;border-radius: 0.25em;box-sizing: border-box;margin-bottom: 0.5em;}#sk-container-id-4 div.sk-estimator:hover {background-color: #d4ebff;}#sk-container-id-4 div.sk-parallel-item::after {content: \"\";width: 100%;border-bottom: 1px solid gray;flex-grow: 1;}#sk-container-id-4 div.sk-label:hover label.sk-toggleable__label {background-color: #d4ebff;}#sk-container-id-4 div.sk-serial::before {content: \"\";position: absolute;border-left: 1px solid gray;box-sizing: border-box;top: 0;bottom: 0;left: 50%;z-index: 0;}#sk-container-id-4 div.sk-serial {display: flex;flex-direction: column;align-items: center;background-color: white;padding-right: 0.2em;padding-left: 0.2em;position: relative;}#sk-container-id-4 div.sk-item {position: relative;z-index: 1;}#sk-container-id-4 div.sk-parallel {display: flex;align-items: stretch;justify-content: center;background-color: white;position: relative;}#sk-container-id-4 div.sk-item::before, #sk-container-id-4 div.sk-parallel-item::before {content: \"\";position: absolute;border-left: 1px solid gray;box-sizing: border-box;top: 0;bottom: 0;left: 50%;z-index: -1;}#sk-container-id-4 div.sk-parallel-item {display: flex;flex-direction: column;z-index: 1;position: relative;background-color: white;}#sk-container-id-4 div.sk-parallel-item:first-child::after {align-self: flex-end;width: 50%;}#sk-container-id-4 div.sk-parallel-item:last-child::after {align-self: flex-start;width: 50%;}#sk-container-id-4 div.sk-parallel-item:only-child::after {width: 0;}#sk-container-id-4 div.sk-dashed-wrapped {border: 1px dashed gray;margin: 0 0.4em 0.5em 0.4em;box-sizing: border-box;padding-bottom: 0.4em;background-color: white;}#sk-container-id-4 div.sk-label label {font-family: monospace;font-weight: bold;display: inline-block;line-height: 1.2em;}#sk-container-id-4 div.sk-label-container {text-align: center;}#sk-container-id-4 div.sk-container {/* jupyter's `normalize.less` sets `[hidden] { display: none; }` but bootstrap.min.css set `[hidden] { display: none !important; }` so we also need the `!important` here to be able to override the default hidden behavior on the sphinx rendered scikit-learn.org. See: https://github.com/scikit-learn/scikit-learn/issues/21755 */display: inline-block !important;position: relative;}#sk-container-id-4 div.sk-text-repr-fallback {display: none;}</style><div id=\"sk-container-id-4\" class=\"sk-top-container\"><div class=\"sk-text-repr-fallback\"><pre>RandomForestClassifier(n_estimators=1000)</pre><b>In a Jupyter environment, please rerun this cell to show the HTML representation or trust the notebook. <br />On GitHub, the HTML representation is unable to render, please try loading this page with nbviewer.org.</b></div><div class=\"sk-container\" hidden><div class=\"sk-item\"><div class=\"sk-estimator sk-toggleable\"><input class=\"sk-toggleable__control sk-hidden--visually\" id=\"sk-estimator-id-6\" type=\"checkbox\" checked><label for=\"sk-estimator-id-6\" class=\"sk-toggleable__label sk-toggleable__label-arrow\">RandomForestClassifier</label><div class=\"sk-toggleable__content\"><pre>RandomForestClassifier(n_estimators=1000)</pre></div></div></div></div></div>"
      ],
      "text/plain": [
       "RandomForestClassifier(n_estimators=1000)"
      ]
     },
     "execution_count": 54,
     "metadata": {},
     "output_type": "execute_result"
    }
   ],
   "source": [
    "forest.fit(X_train,y_train)"
   ]
  },
  {
   "cell_type": "markdown",
   "metadata": {
    "id": "gYf-qn9h2Mpl",
    "pycharm": {
     "name": "#%% md\n"
    }
   },
   "source": [
    "### 5) Make Prediction on Testing Data"
   ]
  },
  {
   "cell_type": "code",
   "execution_count": 55,
   "metadata": {
    "id": "GoxVPBIz1geF",
    "pycharm": {
     "name": "#%%\n"
    }
   },
   "outputs": [],
   "source": [
    "y_pred = forest.predict(X_test)"
   ]
  },
  {
   "cell_type": "markdown",
   "metadata": {
    "id": "IQaIdGGL2SG9",
    "pycharm": {
     "name": "#%% md\n"
    }
   },
   "source": [
    "### 6) Evaluate Performance "
   ]
  },
  {
   "cell_type": "code",
   "execution_count": 56,
   "metadata": {
    "id": "wRowE2A7cZZO",
    "pycharm": {
     "name": "#%%\n"
    }
   },
   "outputs": [
    {
     "name": "stdout",
     "output_type": "stream",
     "text": [
      "              precision    recall  f1-score   support\n",
      "\n",
      "           0       0.88      0.86      0.87       925\n",
      "           1       0.77      0.80      0.78       534\n",
      "\n",
      "    accuracy                           0.84      1459\n",
      "   macro avg       0.82      0.83      0.83      1459\n",
      "weighted avg       0.84      0.84      0.84      1459\n",
      "\n"
     ]
    }
   ],
   "source": [
    "print(classification_report(y_test, y_pred))"
   ]
  },
  {
   "cell_type": "markdown",
   "metadata": {
    "id": "Gwn84afXds3V",
    "pycharm": {
     "name": "#%% md\n"
    }
   },
   "source": [
    "Clear improvement over cross-validated tree in every performance metrics -> way better model"
   ]
  },
  {
   "cell_type": "code",
   "execution_count": 57,
   "metadata": {
    "id": "w_ocTvZtxL7C",
    "pycharm": {
     "name": "#%%\n"
    }
   },
   "outputs": [
    {
     "data": {
      "image/png": "[encoded data removed]",
      "text/plain": [
       "<Figure size 432x288 with 1 Axes>"
      ]
     },
     "metadata": {
      "needs_background": "light"
     },
     "output_type": "display_data"
    }
   ],
   "source": [
    "plot_ROC(forest, X_test, y_test)"
   ]
  },
  {
   "cell_type": "markdown",
   "metadata": {
    "id": "JICr0I7S2yT9",
    "pycharm": {
     "name": "#%% md\n"
    }
   },
   "source": [
    "### Determine Variable Importances"
   ]
  },
  {
   "cell_type": "code",
   "execution_count": 58,
   "metadata": {
    "id": "eVMmeDN3OSfx",
    "pycharm": {
     "name": "#%%\n"
    }
   },
   "outputs": [],
   "source": [
    "def plot_variable_importance(model, X_train):\n",
    "  import pandas as pd\n",
    "  import matplotlib.pyplot as plt\n",
    "  importances = pd.Series(data=model.feature_importances_,\n",
    "                          index=X_train.columns)\n",
    "  importances.sort_values().plot(kind='barh', color=\"#00802F\")\n",
    "  plt.title('Features Importances')"
   ]
  },
  {
   "cell_type": "code",
   "execution_count": 59,
   "metadata": {
    "id": "WJlBuM9qENbg",
    "pycharm": {
     "name": "#%%\n"
    }
   },
   "outputs": [
    {
     "data": {
      "image/png": "[encoded data removed]",
      "text/plain": [
       "<Figure size 432x288 with 1 Axes>"
      ]
     },
     "metadata": {
      "needs_background": "light"
     },
     "output_type": "display_data"
    }
   ],
   "source": [
    "plot_variable_importance(forest, X_train)"
   ]
  },
  {
   "cell_type": "markdown",
   "metadata": {
    "id": "gn4Y19-lxvLx",
    "pycharm": {
     "name": "#%% md\n"
    }
   },
   "source": [
    "## Strategy 3: Learning from Past Prediction Errors - Boosting"
   ]
  },
  {
   "cell_type": "markdown",
   "metadata": {
    "id": "eIDMkiTy3csR",
    "pycharm": {
     "name": "#%% md\n"
    }
   },
   "source": [
    "### 1) Import Model Functions"
   ]
  },
  {
   "cell_type": "code",
   "execution_count": 60,
   "metadata": {
    "id": "kReZh0Jy4BsT",
    "pycharm": {
     "name": "#%%\n"
    }
   },
   "outputs": [],
   "source": [
    "from sklearn.ensemble import GradientBoostingClassifier\n",
    "from sklearn.model_selection import train_test_split\n",
    "from sklearn.metrics import classification_report"
   ]
  },
  {
   "cell_type": "markdown",
   "metadata": {
    "id": "VXj_pfXt3lGt",
    "pycharm": {
     "name": "#%% md\n"
    }
   },
   "source": [
    "### 2) Instantiate Model"
   ]
  },
  {
   "cell_type": "code",
   "execution_count": 61,
   "metadata": {
    "id": "Yqcrqjl33ucI",
    "pycharm": {
     "name": "#%%\n"
    }
   },
   "outputs": [],
   "source": [
    "boost = GradientBoostingClassifier(n_estimators=1000, learning_rate=0.5)"
   ]
  },
  {
   "cell_type": "markdown",
   "metadata": {
    "id": "mskeDVckcpH3",
    "pycharm": {
     "name": "#%% md\n"
    }
   },
   "source": [
    "*  **n_estimators:** number of bosted decision trees\n",
    "*  **learning_rate:** degree to which predictions are updated after each round (usually rather small number between 0.01 and 1)\n",
    "\n"
   ]
  },
  {
   "cell_type": "markdown",
   "metadata": {
    "id": "p4Z01Bc73orl",
    "pycharm": {
     "name": "#%% md\n"
    }
   },
   "source": [
    "### 3) Create Test & Training Data"
   ]
  },
  {
   "cell_type": "code",
   "execution_count": 62,
   "metadata": {
    "id": "9ypunGoS4Jh8",
    "pycharm": {
     "name": "#%%\n"
    }
   },
   "outputs": [],
   "source": [
    "X_train, X_test, y_train, y_test = train_test_split(X, y, test_size=0.3, random_state=1)"
   ]
  },
  {
   "cell_type": "markdown",
   "metadata": {
    "id": "hKI7VIVp3mwz",
    "pycharm": {
     "name": "#%% md\n"
    }
   },
   "source": [
    "### 4) Fit Model to Training Data"
   ]
  },
  {
   "cell_type": "code",
   "execution_count": 63,
   "metadata": {
    "id": "zMvZmDkJ4DrS",
    "pycharm": {
     "name": "#%%\n"
    }
   },
   "outputs": [
    {
     "data": {
      "text/html": [
       "<style>#sk-container-id-5 {color: black;background-color: white;}#sk-container-id-5 pre{padding: 0;}#sk-container-id-5 div.sk-toggleable {background-color: white;}#sk-container-id-5 label.sk-toggleable__label {cursor: pointer;display: block;width: 100%;margin-bottom: 0;padding: 0.3em;box-sizing: border-box;text-align: center;}#sk-container-id-5 label.sk-toggleable__label-arrow:before {content: \"▸\";float: left;margin-right: 0.25em;color: #696969;}#sk-container-id-5 label.sk-toggleable__label-arrow:hover:before {color: black;}#sk-container-id-5 div.sk-estimator:hover label.sk-toggleable__label-arrow:before {color: black;}#sk-container-id-5 div.sk-toggleable__content {max-height: 0;max-width: 0;overflow: hidden;text-align: left;background-color: #f0f8ff;}#sk-container-id-5 div.sk-toggleable__content pre {margin: 0.2em;color: black;border-radius: 0.25em;background-color: #f0f8ff;}#sk-container-id-5 input.sk-toggleable__control:checked~div.sk-toggleable__content {max-height: 200px;max-width: 100%;overflow: auto;}#sk-container-id-5 input.sk-toggleable__control:checked~label.sk-toggleable__label-arrow:before {content: \"▾\";}#sk-container-id-5 div.sk-estimator input.sk-toggleable__control:checked~label.sk-toggleable__label {background-color: #d4ebff;}#sk-container-id-5 div.sk-label input.sk-toggleable__control:checked~label.sk-toggleable__label {background-color: #d4ebff;}#sk-container-id-5 input.sk-hidden--visually {border: 0;clip: rect(1px 1px 1px 1px);clip: rect(1px, 1px, 1px, 1px);height: 1px;margin: -1px;overflow: hidden;padding: 0;position: absolute;width: 1px;}#sk-container-id-5 div.sk-estimator {font-family: monospace;background-color: #f0f8ff;border: 1px dotted black;border-radius: 0.25em;box-sizing: border-box;margin-bottom: 0.5em;}#sk-container-id-5 div.sk-estimator:hover {background-color: #d4ebff;}#sk-container-id-5 div.sk-parallel-item::after {content: \"\";width: 100%;border-bottom: 1px solid gray;flex-grow: 1;}#sk-container-id-5 div.sk-label:hover label.sk-toggleable__label {background-color: #d4ebff;}#sk-container-id-5 div.sk-serial::before {content: \"\";position: absolute;border-left: 1px solid gray;box-sizing: border-box;top: 0;bottom: 0;left: 50%;z-index: 0;}#sk-container-id-5 div.sk-serial {display: flex;flex-direction: column;align-items: center;background-color: white;padding-right: 0.2em;padding-left: 0.2em;position: relative;}#sk-container-id-5 div.sk-item {position: relative;z-index: 1;}#sk-container-id-5 div.sk-parallel {display: flex;align-items: stretch;justify-content: center;background-color: white;position: relative;}#sk-container-id-5 div.sk-item::before, #sk-container-id-5 div.sk-parallel-item::before {content: \"\";position: absolute;border-left: 1px solid gray;box-sizing: border-box;top: 0;bottom: 0;left: 50%;z-index: -1;}#sk-container-id-5 div.sk-parallel-item {display: flex;flex-direction: column;z-index: 1;position: relative;background-color: white;}#sk-container-id-5 div.sk-parallel-item:first-child::after {align-self: flex-end;width: 50%;}#sk-container-id-5 div.sk-parallel-item:last-child::after {align-self: flex-start;width: 50%;}#sk-container-id-5 div.sk-parallel-item:only-child::after {width: 0;}#sk-container-id-5 div.sk-dashed-wrapped {border: 1px dashed gray;margin: 0 0.4em 0.5em 0.4em;box-sizing: border-box;padding-bottom: 0.4em;background-color: white;}#sk-container-id-5 div.sk-label label {font-family: monospace;font-weight: bold;display: inline-block;line-height: 1.2em;}#sk-container-id-5 div.sk-label-container {text-align: center;}#sk-container-id-5 div.sk-container {/* jupyter's `normalize.less` sets `[hidden] { display: none; }` but bootstrap.min.css set `[hidden] { display: none !important; }` so we also need the `!important` here to be able to override the default hidden behavior on the sphinx rendered scikit-learn.org. See: https://github.com/scikit-learn/scikit-learn/issues/21755 */display: inline-block !important;position: relative;}#sk-container-id-5 div.sk-text-repr-fallback {display: none;}</style><div id=\"sk-container-id-5\" class=\"sk-top-container\"><div class=\"sk-text-repr-fallback\"><pre>GradientBoostingClassifier(learning_rate=0.5, n_estimators=1000)</pre><b>In a Jupyter environment, please rerun this cell to show the HTML representation or trust the notebook. <br />On GitHub, the HTML representation is unable to render, please try loading this page with nbviewer.org.</b></div><div class=\"sk-container\" hidden><div class=\"sk-item\"><div class=\"sk-estimator sk-toggleable\"><input class=\"sk-toggleable__control sk-hidden--visually\" id=\"sk-estimator-id-7\" type=\"checkbox\" checked><label for=\"sk-estimator-id-7\" class=\"sk-toggleable__label sk-toggleable__label-arrow\">GradientBoostingClassifier</label><div class=\"sk-toggleable__content\"><pre>GradientBoostingClassifier(learning_rate=0.5, n_estimators=1000)</pre></div></div></div></div></div>"
      ],
      "text/plain": [
       "GradientBoostingClassifier(learning_rate=0.5, n_estimators=1000)"
      ]
     },
     "execution_count": 63,
     "metadata": {},
     "output_type": "execute_result"
    }
   ],
   "source": [
    "boost.fit(X_train,y_train)"
   ]
  },
  {
   "cell_type": "markdown",
   "metadata": {
    "id": "bMqEWpXA33Gk",
    "pycharm": {
     "name": "#%% md\n"
    }
   },
   "source": [
    "### 5) Make Predictions on Testing Data "
   ]
  },
  {
   "cell_type": "code",
   "execution_count": 64,
   "metadata": {
    "id": "jXsxUAl84LWc",
    "pycharm": {
     "name": "#%%\n"
    }
   },
   "outputs": [],
   "source": [
    "y_pred = boost.predict(X_test)"
   ]
  },
  {
   "cell_type": "markdown",
   "metadata": {
    "id": "nmfqPOSU37JK",
    "pycharm": {
     "name": "#%% md\n"
    }
   },
   "source": [
    "### 6) Evaluate Performance"
   ]
  },
  {
   "cell_type": "code",
   "execution_count": 65,
   "metadata": {
    "id": "u3yq_GlDyM6P",
    "pycharm": {
     "name": "#%%\n"
    }
   },
   "outputs": [
    {
     "name": "stdout",
     "output_type": "stream",
     "text": [
      "              precision    recall  f1-score   support\n",
      "\n",
      "           0       0.80      0.89      0.84       833\n",
      "           1       0.83      0.71      0.76       626\n",
      "\n",
      "    accuracy                           0.81      1459\n",
      "   macro avg       0.82      0.80      0.80      1459\n",
      "weighted avg       0.81      0.81      0.81      1459\n",
      "\n"
     ]
    }
   ],
   "source": [
    "print(classification_report(y_pred, y_test))"
   ]
  },
  {
   "cell_type": "markdown",
   "metadata": {
    "id": "4_dnATMdd1iA",
    "pycharm": {
     "name": "#%% md\n"
    }
   },
   "source": [
    "Higher pricision, but lower recall than random forest > usage depends on business context (cancer or spam?)"
   ]
  },
  {
   "cell_type": "code",
   "execution_count": 66,
   "metadata": {
    "id": "91Br4awZyRgQ",
    "pycharm": {
     "name": "#%%\n"
    }
   },
   "outputs": [
    {
     "data": {
      "image/png": "[encoded data removed]",
      "text/plain": [
       "<Figure size 432x288 with 1 Axes>"
      ]
     },
     "metadata": {
      "needs_background": "light"
     },
     "output_type": "display_data"
    }
   ],
   "source": [
    "plot_ROC(boost,X_test,y_test)"
   ]
  }
 ],
 "metadata": {
  "colab": {
   "collapsed_sections": [],
   "name": "Introduction to Machine Learning - Classification COMPLETED.ipynb",
   "provenance": []
  },
  "kernelspec": {
   "display_name": "Python 3 (ipykernel)",
   "language": "python",
   "name": "python3"
  },
  "language_info": {
   "codemirror_mode": {
    "name": "ipython",
    "version": 3
   },
   "file_extension": ".py",
   "mimetype": "text/x-python",
   "name": "python",
   "nbconvert_exporter": "python",
   "pygments_lexer": "ipython3",
   "version": "3.9.12"
  }
 },
 "nbformat": 4,
 "nbformat_minor": 1
}