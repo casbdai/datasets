{
 "cells": [
  {
   "cell_type": "markdown",
   "metadata": {
    "id": "-u9in3e0XVXn",
    "pycharm": {
     "name": "#%% md\n"
    }
   },
   "source": [
    "# Classification - Communicating Performance to Business "
   ]
  },
  {
   "cell_type": "markdown",
   "metadata": {
    "id": "4NA2JhnVX6ZL",
    "pycharm": {
     "name": "#%% md\n"
    }
   },
   "source": [
    "## 1) Import & Prepare Data"
   ]
  },
  {
   "cell_type": "code",
   "execution_count": null,
   "metadata": {
    "id": "KTcyOOect_tE",
    "pycharm": {
     "name": "#%%\n"
    }
   },
   "outputs": [],
   "source": [
    "import pandas as pd\n",
    "churn = pd.read_csv(\"https://raw.githubusercontent.com/casbdai/datasets/main/churn.csv\")"
   ]
  },
  {
   "cell_type": "markdown",
   "metadata": {
    "id": "94kjRIcJoy53",
    "pycharm": {
     "name": "#%% md\n"
    }
   },
   "source": [
    "### Check Structure of Data"
   ]
  },
  {
   "cell_type": "code",
   "execution_count": null,
   "metadata": {
    "id": "e3rakrkKpE0m",
    "pycharm": {
     "name": "#%%\n"
    }
   },
   "outputs": [],
   "source": [
    "churn.info()"
   ]
  },
  {
   "cell_type": "markdown",
   "metadata": {
    "id": "6SGlLhLneurF",
    "pycharm": {
     "name": "#%% md\n"
    }
   },
   "source": [
    "### Separate Features and Labels"
   ]
  },
  {
   "cell_type": "code",
   "execution_count": null,
   "metadata": {
    "id": "-vkKVc94wLU0",
    "pycharm": {
     "name": "#%%\n"
    }
   },
   "outputs": [],
   "source": [
    "X = churn.drop(\"churn\",axis=1) # Features\n",
    "y = churn[\"churn\"] # Target variable"
   ]
  },
  {
   "cell_type": "markdown",
   "metadata": {
    "id": "RGGSu_imfIpc",
    "pycharm": {
     "name": "#%% md\n"
    }
   },
   "source": [
    "### Dummy code pandas \"objects\""
   ]
  },
  {
   "cell_type": "code",
   "execution_count": null,
   "metadata": {
    "id": "zUIEXuxdfz52",
    "pycharm": {
     "name": "#%%\n"
    }
   },
   "outputs": [],
   "source": [
    "X = pd.get_dummies(X, drop_first = True)\n",
    "X.head()"
   ]
  },
  {
   "cell_type": "code",
   "execution_count": null,
   "metadata": {
    "id": "AhDcbhix5s0d",
    "pycharm": {
     "name": "#%%\n"
    }
   },
   "outputs": [],
   "source": [
    "X.info()"
   ]
  },
  {
   "cell_type": "markdown",
   "metadata": {
    "pycharm": {
     "name": "#%% md\n"
    }
   },
   "source": [
    "## 2) Create Test & Training Data\n"
   ]
  },
  {
   "cell_type": "code",
   "execution_count": null,
   "metadata": {
    "pycharm": {
     "name": "#%%\n"
    }
   },
   "outputs": [],
   "source": [
    "from sklearn.model_selection import train_test_split"
   ]
  },
  {
   "cell_type": "code",
   "execution_count": null,
   "metadata": {
    "id": "UPhsoSfyr9Ir",
    "pycharm": {
     "name": "#%%\n"
    }
   },
   "outputs": [],
   "source": [
    "X_train, X_test, y_train, y_test = train_test_split(X, y, test_size=0.3, random_state=1)"
   ]
  },
  {
   "cell_type": "markdown",
   "metadata": {
    "id": "ZrUugRObSG5G",
    "pycharm": {
     "name": "#%% md\n"
    }
   },
   "source": [
    "\n",
    "*   **X:** Features to be split into testing and training data\n",
    "*   **y:** Labels to be split into testing and training data\n",
    "*   **test_size:** proportion of the dataset in the test data; usually ~ 30%\n",
    "*   **random_state:** seed for making results reproducible. Instances are randomly distributed among testing and training data. However, every computer splits randomly in a different fashion. Providing a seed, makes results reproducible because with the same seed, all computers split the data in the same fashion.\n",
    "\n",
    "\n"
   ]
  },
  {
   "cell_type": "markdown",
   "metadata": {
    "pycharm": {
     "name": "#%% md\n"
    }
   },
   "source": [
    "## 3) Import, Initiate, and Train Models"
   ]
  },
  {
   "cell_type": "code",
   "execution_count": null,
   "metadata": {
    "pycharm": {
     "name": "#%%\n"
    }
   },
   "outputs": [],
   "source": [
    "from sklearn.tree import DecisionTreeClassifier\n",
    "from sklearn.ensemble import RandomForestClassifier\n",
    "from sklearn.ensemble import GradientBoostingClassifier"
   ]
  },
  {
   "cell_type": "code",
   "execution_count": null,
   "metadata": {
    "pycharm": {
     "name": "#%%\n"
    }
   },
   "outputs": [],
   "source": [
    "tree_educatedguess = DecisionTreeClassifier(criterion=\"entropy\",\n",
    "                              max_depth=30,\n",
    "                              min_samples_leaf=50,\n",
    "                              random_state=12)\n",
    "tree_educatedguess.fit(X_train, y_train)"
   ]
  },
  {
   "cell_type": "code",
   "execution_count": null,
   "metadata": {
    "pycharm": {
     "name": "#%%\n"
    }
   },
   "outputs": [],
   "source": [
    "forest = RandomForestClassifier(n_estimators=1000)\n",
    "forest.fit(X_train,y_train)"
   ]
  },
  {
   "cell_type": "code",
   "execution_count": null,
   "metadata": {
    "pycharm": {
     "name": "#%%\n"
    }
   },
   "outputs": [],
   "source": [
    "boost = GradientBoostingClassifier(n_estimators=1000, learning_rate=0.5)\n",
    "boost.fit(X_train,y_train)"
   ]
  },
  {
   "cell_type": "markdown",
   "metadata": {
    "id": "j7IDN2qY0Hlq",
    "pycharm": {
     "name": "#%% md\n"
    }
   },
   "source": [
    "# Evaluating Model Performance the Business Way"
   ]
  },
  {
   "cell_type": "markdown",
   "metadata": {
    "id": "sOtg9GI5y825",
    "pycharm": {
     "name": "#%% md\n"
    }
   },
   "source": [
    "## Lift Curve"
   ]
  },
  {
   "cell_type": "code",
   "execution_count": null,
   "metadata": {
    "id": "QEelB-s7U7O3",
    "pycharm": {
     "name": "#%%\n"
    }
   },
   "outputs": [],
   "source": [
    "def plot_lift_curve(y_val, y_pred):\n",
    "    \"\"\" calculation and plotting of model lift \"\"\"\n",
    "    \n",
    "    from pandas import DataFrame\n",
    "    from numpy import ceil, arange\n",
    "    import matplotlib.pyplot as plt\n",
    "    \n",
    "    #Define an auxiliar dataframe to plot the curve\n",
    "    aux_lift = DataFrame()\n",
    "    aux_lift['true'] = y_val\n",
    "    aux_lift['predicted'] = y_pred\n",
    "    aux_lift.sort_values('predicted', ascending=False, inplace=True)\n",
    "    \n",
    "    #Create the values that will go into the X axis of our plot\n",
    "    xval = arange(0.01,1.01,0.01) #create sequnence of values from 0.01 to 1.00 in steps of 0.01\n",
    "    lift = [] #create empty list for storing lift values\n",
    "    \n",
    "    #Calculate the total ratio of true events in the data\n",
    "    ratio_true_events_total = aux_lift['true'].sum() / len(aux_lift)\n",
    "    \n",
    "    #Calculate lift for each x value its correspondent y value\n",
    "    for x in xval:\n",
    "        index_xval = int(ceil(x*len(aux_lift))) #get index at specific value of x\n",
    "        dataframe_xval = aux_lift.iloc[:index_xval,:]   #subset dataframe from 0 to index_val\n",
    "        lift_xval = dataframe_xval['true'].sum()/len(dataframe_xval) #calculate lift for subset\n",
    "        lift.append(lift_xval / ratio_true_events_total) #store results\n",
    "    \n",
    "    #Build results dataframe\n",
    "    lift = DataFrame({\"Lift\":lift, \"ProportionSample\":xval})\n",
    "    \n",
    "    #Create plot\n",
    "    fig, ax = plt.subplots(figsize = (13,5), dpi=300)\n",
    "    ax.plot(lift[\"ProportionSample\"],lift[\"Lift\"], color='green', linewidth = 3, label = \"Model\")\n",
    "    ax.plot([0,1],[1,1],color=\"grey\", label=\"Baseline\")\n",
    "    ax.set_xlabel('\\nProportion of sample', fontsize=13)\n",
    "    ax.set_ylabel('Lift\\n', fontsize=13)\n",
    "    ax.set_title('Lift Curve\\n', fontsize=15)\n",
    "    ax.xaxis.set_tick_params(labelsize=11)\n",
    "    ax.yaxis.set_tick_params(labelsize=11)\n",
    "    ax.legend()\n",
    "    plt.show()"
   ]
  },
  {
   "cell_type": "code",
   "execution_count": null,
   "metadata": {
    "id": "sKxlvOF_cnzJ",
    "pycharm": {
     "name": "#%%\n"
    }
   },
   "outputs": [],
   "source": [
    "y_pred = tree_educatedguess.predict_proba(X_test)\n",
    "plot_lift_curve(y_test, y_pred[:,1])"
   ]
  },
  {
   "cell_type": "code",
   "execution_count": null,
   "metadata": {},
   "outputs": [],
   "source": [
    "y_pred = forest.predict_proba(_____)\n",
    "plot_lift_curve(_____, _____)"
   ]
  },
  {
   "cell_type": "code",
   "execution_count": null,
   "metadata": {
    "id": "6IMMO-mpVoaR",
    "pycharm": {
     "name": "#%%\n"
    }
   },
   "outputs": [],
   "source": [
    "_____\n",
    "_____"
   ]
  },
  {
   "cell_type": "markdown",
   "metadata": {
    "id": "eGRyggV0zqUg",
    "pycharm": {
     "name": "#%% md\n"
    }
   },
   "source": [
    "## Expected Value of Models"
   ]
  },
  {
   "cell_type": "markdown",
   "metadata": {
    "id": "M4O22uCF0g5-",
    "pycharm": {
     "name": "#%% md\n"
    }
   },
   "source": [
    "Define value of business outcomes "
   ]
  },
  {
   "cell_type": "code",
   "execution_count": null,
   "metadata": {
    "id": "Upfgyizv0box",
    "pycharm": {
     "name": "#%%\n"
    }
   },
   "outputs": [],
   "source": [
    "value_true_positive = 186\n",
    "value_false_positive = -30"
   ]
  },
  {
   "cell_type": "markdown",
   "metadata": {
    "id": "x47S0fCZ1IHp",
    "pycharm": {
     "name": "#%% md\n"
    }
   },
   "source": [
    "Define Function for Scoring Model:"
   ]
  },
  {
   "cell_type": "code",
   "execution_count": null,
   "metadata": {
    "id": "m_X-qvTsDax-",
    "pycharm": {
     "name": "#%%\n"
    }
   },
   "outputs": [],
   "source": [
    "def calculate_expected_value_model(matrix, value_true_positive, value_false_positive):\n",
    "  \"\"\" works only for confusion matrices in specified form \"\"\"\n",
    "\n",
    "  #calculate prior probability of positive class\n",
    "  p_prior_pos = matrix[1,:].sum() / matrix.sum() \n",
    "  \n",
    "   #calculate conditional probabilities\n",
    "  p_neg_instances = matrix[0,:]/matrix[0,:].sum()\n",
    "  p_pos_instances = matrix[1,:]/matrix[1,:].sum() \n",
    "\n",
    "  # calculate expected values\n",
    "  pos = p_prior_pos * (value_true_positive * p_pos_instances[1] + 0 * p_pos_instances[0])\n",
    "  neg = (1 - p_prior_pos) * (value_false_positive * p_neg_instances[1] + 0 * p_neg_instances[0])\n",
    "  return round(pos + neg, 2)"
   ]
  },
  {
   "cell_type": "markdown",
   "metadata": {
    "id": "gflpVA971R0p",
    "pycharm": {
     "name": "#%% md\n"
    }
   },
   "source": [
    "Get Expected Value for each contacted customer for random forest:"
   ]
  },
  {
   "cell_type": "code",
   "execution_count": null,
   "metadata": {
    "id": "GOEqvikBEj-_",
    "pycharm": {
     "name": "#%%\n"
    }
   },
   "outputs": [],
   "source": [
    "from sklearn.metrics import confusion_matrix\n",
    "y_pred = forest.predict(X_test)\n",
    "matrix = confusion_matrix(y_test,y_pred)\n",
    "calculate_expected_value_model(matrix, value_true_positive, value_false_positive)"
   ]
  },
  {
   "cell_type": "markdown",
   "metadata": {
    "id": "xNyCwH8OIyDx",
    "pycharm": {
     "name": "#%% md\n"
    }
   },
   "source": [
    "Get Expected Value for each contacted customer for decision tree:"
   ]
  },
  {
   "cell_type": "code",
   "execution_count": null,
   "metadata": {
    "pycharm": {
     "name": "#%%\n"
    }
   },
   "outputs": [],
   "source": [
    "from sklearn.metrics import confusion_matrix\n",
    "y_pred = _____\n",
    "matrix = confusion_matrix(_____,_____)\n",
    "calculate_expected_value_model(_____, _____, _____)"
   ]
  },
  {
   "cell_type": "markdown",
   "metadata": {},
   "source": [
    "## Get threshold probability"
   ]
  },
  {
   "cell_type": "code",
   "execution_count": null,
   "metadata": {},
   "outputs": [],
   "source": [
    "def calculate_targeting_threshold(value_true_positive, value_false_positive):\n",
    "    from sympy.solvers import solve\n",
    "    from sympy import Symbol\n",
    "    x = Symbol(\"x\")\n",
    "    p = solve(x*value_true_positive + (1-x)*value_false_positive, x)\n",
    "    return float(p[0])"
   ]
  },
  {
   "cell_type": "code",
   "execution_count": null,
   "metadata": {},
   "outputs": [],
   "source": [
    "calculate_targeting_threshold(value_true_positive, value_false_positive)"
   ]
  }
 ],
 "metadata": {
  "colab": {
   "collapsed_sections": [],
   "name": "Introduction to Machine Learning - Classification COMPLETED.ipynb",
   "provenance": []
  },
  "kernelspec": {
   "display_name": "Python 3 (ipykernel)",
   "language": "python",
   "name": "python3"
  },
  "language_info": {
   "codemirror_mode": {
    "name": "ipython",
    "version": 3
   },
   "file_extension": ".py",
   "mimetype": "text/x-python",
   "name": "python",
   "nbconvert_exporter": "python",
   "pygments_lexer": "ipython3",
   "version": "3.9.12"
  }
 },
 "nbformat": 4,
 "nbformat_minor": 1
}
