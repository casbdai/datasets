{
 "cells": [
  {
   "attachments": {},
   "cell_type": "markdown",
   "metadata": {},
   "source": [
    "# Introduction to Python for Data Analytics"
   ]
  },
  {
   "attachments": {},
   "cell_type": "markdown",
   "metadata": {
    "colab_type": "text",
    "id": "dYAdZArtPJZ9"
   },
   "source": [
    "## Python as calculator"
   ]
  },
  {
   "cell_type": "code",
   "execution_count": null,
   "metadata": {
    "colab": {
     "base_uri": "https://localhost:8080/",
     "height": 34
    },
    "colab_type": "code",
    "id": "37X3ux2ePJZ_",
    "outputId": "06151832-02e6-4de1-bc6b-6ab79d748992"
   },
   "outputs": [],
   "source": [
    "2 * 3"
   ]
  },
  {
   "cell_type": "code",
   "execution_count": null,
   "metadata": {
    "colab": {
     "base_uri": "https://localhost:8080/",
     "height": 34
    },
    "colab_type": "code",
    "id": "8j4zVSMPPJaF",
    "outputId": "071d3d1e-07e0-4780-d056-734e46601d20"
   },
   "outputs": [],
   "source": [
    "10 + 2 - 1 * 3"
   ]
  },
  {
   "cell_type": "code",
   "execution_count": null,
   "metadata": {
    "colab": {
     "base_uri": "https://localhost:8080/",
     "height": 34
    },
    "colab_type": "code",
    "id": "jzPKaVH7PJaI",
    "outputId": "19c88ec7-f407-45ec-9d46-ff37622b28f9"
   },
   "outputs": [],
   "source": [
    "3 ** 2"
   ]
  },
  {
   "attachments": {},
   "cell_type": "markdown",
   "metadata": {
    "colab_type": "text",
    "id": "xu8YJerwPJaK"
   },
   "source": [
    "## Comments"
   ]
  },
  {
   "cell_type": "code",
   "execution_count": null,
   "metadata": {
    "colab": {},
    "colab_type": "code",
    "id": "QzePd0sePJaL"
   },
   "outputs": [],
   "source": [
    "# if some code is beginning with \"#\" it is a comment - python \"ignores\" it when running the code, i.e., it is not shown in the output"
   ]
  },
  {
   "attachments": {},
   "cell_type": "markdown",
   "metadata": {
    "colab_type": "text",
    "id": "Dw0v5pf8mx_p"
   },
   "source": [
    "## Connect Google Colab to Google Drive"
   ]
  },
  {
   "attachments": {},
   "cell_type": "markdown",
   "metadata": {
    "colab_type": "text",
    "id": "OgLfwIIBo38v"
   },
   "source": [
    "First of all, we need to setup the infrastructure. Let's connect Google Collab to Google Drive. We need that for uploading files."
   ]
  },
  {
   "cell_type": "code",
   "execution_count": null,
   "metadata": {
    "colab": {
     "base_uri": "https://localhost:8080/",
     "height": 121
    },
    "colab_type": "code",
    "id": "6nVXsXol8UEX",
    "outputId": "652f3388-3b3e-4a5c-8486-228c64113cc6"
   },
   "outputs": [],
   "source": [
    "from google.colab import drive\n",
    "drive.mount('/content/drive')"
   ]
  },
  {
   "attachments": {},
   "cell_type": "markdown",
   "metadata": {
    "colab_type": "text",
    "id": "fJCl8IgIPJaO"
   },
   "source": [
    "## Variables and Data Types"
   ]
  },
  {
   "attachments": {},
   "cell_type": "markdown",
   "metadata": {
    "colab_type": "text",
    "id": "PVMiXZ9UPJaP"
   },
   "source": [
    "We can store numbers, results of calculations or all kind of other values in variables. \n",
    "\n",
    "Let's make a small example of the University of St. Gallen's gift shop:"
   ]
  },
  {
   "cell_type": "code",
   "execution_count": null,
   "metadata": {
    "colab": {
     "base_uri": "https://localhost:8080/",
     "height": 34
    },
    "colab_type": "code",
    "id": "RSI9RsxYHSjK",
    "outputId": "e713eaf9-d8fb-45de-9455-8aa2d4477b9c"
   },
   "outputs": [],
   "source": [
    "revenue = 10000\n",
    "profit = 1500\n",
    "margin = profit / revenue\n",
    "print(margin)"
   ]
  },
  {
   "attachments": {},
   "cell_type": "markdown",
   "metadata": {
    "colab_type": "text",
    "id": "DX3lrotHIE9Q"
   },
   "source": [
    "### Integers"
   ]
  },
  {
   "attachments": {},
   "cell_type": "markdown",
   "metadata": {
    "colab_type": "text",
    "id": "Z__7yRa3IG8k"
   },
   "source": [
    "Integers are whole numbers like 1, -2, or 3"
   ]
  },
  {
   "cell_type": "code",
   "execution_count": null,
   "metadata": {
    "colab": {
     "base_uri": "https://localhost:8080/",
     "height": 34
    },
    "colab_type": "code",
    "id": "8A_4GFTtINLq",
    "outputId": "c5620ede-eb0d-41e6-a344-094eef9dc11d"
   },
   "outputs": [],
   "source": [
    "type(revenue)"
   ]
  },
  {
   "attachments": {},
   "cell_type": "markdown",
   "metadata": {
    "colab_type": "text",
    "id": "LMzRt-kYITqe"
   },
   "source": [
    "### Floats"
   ]
  },
  {
   "attachments": {},
   "cell_type": "markdown",
   "metadata": {
    "colab_type": "text",
    "id": "vqic8XHKIWhA"
   },
   "source": [
    "Floats are real numbers, numbers that have an integer part and a fraction part, for example 1.23 or -6.32"
   ]
  },
  {
   "cell_type": "code",
   "execution_count": null,
   "metadata": {
    "colab": {
     "base_uri": "https://localhost:8080/",
     "height": 34
    },
    "colab_type": "code",
    "id": "AgSMW9ORIvyA",
    "outputId": "b2bd54f4-c983-4167-d95f-70262e526c20"
   },
   "outputs": [],
   "source": [
    "type(margin)"
   ]
  },
  {
   "attachments": {},
   "cell_type": "markdown",
   "metadata": {
    "colab_type": "text",
    "id": "3uwjh0vRJ2wd"
   },
   "source": [
    "### Strings"
   ]
  },
  {
   "attachments": {},
   "cell_type": "markdown",
   "metadata": {
    "colab_type": "text",
    "id": "Qo3sCeaxJ4Fh"
   },
   "source": [
    "Text is stored as a string variable. Values that are stored as string are usually indicated by parentheses \" \" or ' '"
   ]
  },
  {
   "cell_type": "code",
   "execution_count": null,
   "metadata": {
    "colab": {
     "base_uri": "https://localhost:8080/",
     "height": 34
    },
    "colab_type": "code",
    "id": "Hsmii76hKG2l",
    "outputId": "6c84bb06-44cf-4117-94ec-535b2811f56c"
   },
   "outputs": [],
   "source": [
    "text = \"123\"\n",
    "type(text)"
   ]
  },
  {
   "attachments": {},
   "cell_type": "markdown",
   "metadata": {
    "colab_type": "text",
    "id": "TCKLEP7zLyhg"
   },
   "source": [
    "### Booleans"
   ]
  },
  {
   "attachments": {},
   "cell_type": "markdown",
   "metadata": {
    "colab_type": "text",
    "id": "bF_F-qwYL0lu"
   },
   "source": [
    "Variables that can only take the values of True or False"
   ]
  },
  {
   "cell_type": "code",
   "execution_count": null,
   "metadata": {
    "colab": {
     "base_uri": "https://localhost:8080/",
     "height": 34
    },
    "colab_type": "code",
    "id": "hmOhUFprL-Pj",
    "outputId": "e7f62a10-d109-42d7-da5d-86078f06b16d"
   },
   "outputs": [],
   "source": [
    "x=True\n",
    "type(x)"
   ]
  },
  {
   "attachments": {},
   "cell_type": "markdown",
   "metadata": {
    "colab_type": "text",
    "id": "xGrijNmHM6ll"
   },
   "source": [
    "# Python Lists"
   ]
  },
  {
   "attachments": {},
   "cell_type": "markdown",
   "metadata": {
    "colab_type": "text",
    "id": "QJ5fXrUnMpTx"
   },
   "source": [
    "Variables can only store single values. Lists are \"containers\" that are provided by python that can store several values.\n",
    "\n",
    "Let's have a look at the products of our small shop"
   ]
  },
  {
   "cell_type": "code",
   "execution_count": null,
   "metadata": {
    "colab": {},
    "colab_type": "code",
    "id": "d7zT9W-cM2w3"
   },
   "outputs": [],
   "source": [
    "Shirts = 500 \n",
    "Hoodies = 200\n",
    "Bags = 100"
   ]
  },
  {
   "attachments": {},
   "cell_type": "markdown",
   "metadata": {
    "colab_type": "text",
    "id": "gL2vrtSINRUz"
   },
   "source": [
    "we can create a list with []"
   ]
  },
  {
   "cell_type": "code",
   "execution_count": null,
   "metadata": {
    "colab": {
     "base_uri": "https://localhost:8080/",
     "height": 34
    },
    "colab_type": "code",
    "id": "myGxzlUzNU4C",
    "outputId": "6a6d5661-f375-487f-fe02-1993ac440935"
   },
   "outputs": [],
   "source": [
    "items = [Shirts, Hoodies, Bags]\n",
    "print(items)"
   ]
  },
  {
   "attachments": {},
   "cell_type": "markdown",
   "metadata": {
    "colab_type": "text",
    "id": "c6iM8JOyN5Sq"
   },
   "source": [
    "Lists can handle all types of data (and also other lists)"
   ]
  },
  {
   "cell_type": "code",
   "execution_count": null,
   "metadata": {
    "colab": {
     "base_uri": "https://localhost:8080/",
     "height": 34
    },
    "colab_type": "code",
    "id": "ZPV4jbw1OCBR",
    "outputId": "f137dc3b-2403-4210-fb88-242bfaf400ea"
   },
   "outputs": [],
   "source": [
    "items = [\"Shirts\", Shirts, \"Hoodies\", Hoodies, \"Bags\", Bags, \"Shoes\", 200]\n",
    "print(items)"
   ]
  },
  {
   "attachments": {},
   "cell_type": "markdown",
   "metadata": {
    "colab_type": "text",
    "id": "KY4DzTfGcoKL"
   },
   "source": [
    "## Filtering from Lists (Subsetting)"
   ]
  },
  {
   "attachments": {},
   "cell_type": "markdown",
   "metadata": {
    "colab_type": "text",
    "id": "X_-h6Jltcr04"
   },
   "source": [
    "## Selecting single Elements"
   ]
  },
  {
   "attachments": {},
   "cell_type": "markdown",
   "metadata": {
    "colab_type": "text",
    "id": "eoFrXJWyc2Iz"
   },
   "source": [
    "We can access single values from a list if the put a number in the [ ]. \n",
    "\n",
    "In principle **listname[n]** should return the nth value from the list. However, python uses **zero-based indexing**, i.e., it **starts counting with 0**.\n",
    "\n",
    "Thus, list[n] returns the nth-1 element from the list.\n",
    "\n"
   ]
  },
  {
   "cell_type": "code",
   "execution_count": null,
   "metadata": {
    "colab": {
     "base_uri": "https://localhost:8080/",
     "height": 34
    },
    "colab_type": "code",
    "id": "IGf3_SzReuLe",
    "outputId": "ce9ee687-6027-4653-8e25-fc5b9825d5e9"
   },
   "outputs": [],
   "source": [
    "print(items)"
   ]
  },
  {
   "cell_type": "code",
   "execution_count": null,
   "metadata": {
    "colab": {
     "base_uri": "https://localhost:8080/",
     "height": 67
    },
    "colab_type": "code",
    "id": "f33CdNmtezTi",
    "outputId": "e7d08978-6b4e-4487-e479-5035cd08b575"
   },
   "outputs": [],
   "source": [
    "# get first element\n",
    "print(items[0])\n",
    "\n",
    "# get second element\n",
    "print(items[1])\n",
    "\n",
    "# get last item\n",
    "print(items[-1])"
   ]
  },
  {
   "attachments": {},
   "cell_type": "markdown",
   "metadata": {
    "colab_type": "text",
    "id": "5fGgZvbKhZXh"
   },
   "source": [
    "## Multiple items "
   ]
  },
  {
   "attachments": {},
   "cell_type": "markdown",
   "metadata": {
    "colab_type": "text",
    "id": "c041iJyFhcp7"
   },
   "source": [
    "We can also select \"slices\" of elements. \n",
    "\n",
    "list **[0:2]** selects the first and the second element of our list. The first element is inclusive and end the second element is exclusive: \n",
    "\n",
    "**[ inclusive : exclusive ]**"
   ]
  },
  {
   "cell_type": "code",
   "execution_count": null,
   "metadata": {
    "colab": {
     "base_uri": "https://localhost:8080/",
     "height": 34
    },
    "colab_type": "code",
    "id": "C8cCYcPQhdf2",
    "outputId": "42f419a5-2374-4cc6-ac9a-7a80c689c875"
   },
   "outputs": [],
   "source": [
    "# get the first to elements\n",
    "items[0:2]\n",
    "\n",
    "# get the first four items\n",
    "items[:4]\n",
    "\n",
    "# get the third element and everything beyond\n",
    "items[2:]"
   ]
  },
  {
   "attachments": {},
   "cell_type": "markdown",
   "metadata": {
    "colab_type": "text",
    "id": "URBcB3nIizhU"
   },
   "source": [
    "## Update Lists"
   ]
  },
  {
   "cell_type": "code",
   "execution_count": null,
   "metadata": {
    "colab": {
     "base_uri": "https://localhost:8080/",
     "height": 84
    },
    "colab_type": "code",
    "id": "oy8sfUISi1Rb",
    "outputId": "70c4ac57-d52b-444d-add8-9c07923409df"
   },
   "outputs": [],
   "source": [
    "print(items)\n",
    "\n",
    "# update the first element of a list\n",
    "items[0] = \"T-Shirts\"\n",
    "print(items)\n",
    "\n",
    "# delete items of a list\n",
    "del(items[-1])\n",
    "print(items)\n",
    "\n",
    "# combine different lists\n",
    "items = items + [\"200\", \"Coffee Cups\", \"123\"]\n",
    "print(items)"
   ]
  },
  {
   "attachments": {},
   "cell_type": "markdown",
   "metadata": {
    "colab_type": "text",
    "id": "jevQ7FBs_a0A"
   },
   "source": [
    "# Function and Libraries"
   ]
  },
  {
   "attachments": {},
   "cell_type": "markdown",
   "metadata": {
    "colab_type": "text",
    "id": "nAGWBlEc_f1o"
   },
   "source": [
    "Python offers a magnitude of built-in functions. Functions are code that has been written by other persons that carries out some specific task. Using such functions, we can re-use that code and do not have to write it by ourselves!  \n",
    "\n",
    "We already worked with functions: **type()** or **del()**. \n",
    "\n",
    "Other built-in python functions that are handy for changing data types are\n",
    "- bool()\n",
    "- float()\n",
    "- int()\n",
    "- str() "
   ]
  },
  {
   "attachments": {},
   "cell_type": "markdown",
   "metadata": {
    "colab_type": "text",
    "id": "GiI8-s0W_hap"
   },
   "source": [
    "A function usually consists of two parts. A **\"function name\"** (e.g., \"str\") and one or more inputs that are called **arguments** (e.g., \"data\"):\n",
    "\n",
    "**function_name(argument)**"
   ]
  },
  {
   "cell_type": "code",
   "execution_count": null,
   "metadata": {
    "colab": {
     "base_uri": "https://localhost:8080/",
     "height": 84
    },
    "colab_type": "code",
    "id": "bzS6EjuyBRu6",
    "outputId": "9c233c5c-019e-4742-d139-c35ee2563730"
   },
   "outputs": [],
   "source": [
    "print(revenue)\n",
    "print(type(revenue))\n",
    "\n",
    "revenue_str = str(revenue)\n",
    "print(revenue_str)\n",
    "print(type(revenue_str))"
   ]
  },
  {
   "attachments": {},
   "cell_type": "markdown",
   "metadata": {
    "colab_type": "text",
    "id": "WoK6Bf49ByAF"
   },
   "source": [
    "## Libraries"
   ]
  },
  {
   "attachments": {},
   "cell_type": "markdown",
   "metadata": {
    "colab_type": "text",
    "id": "JEfHWK6PB13a"
   },
   "source": [
    "A library is a collection of functions that have been contributed by the python open source community and that can be used by us"
   ]
  },
  {
   "attachments": {},
   "cell_type": "markdown",
   "metadata": {
    "colab_type": "text",
    "id": "7JaptAhhCLSM"
   },
   "source": [
    "## Pandas"
   ]
  },
  {
   "attachments": {},
   "cell_type": "markdown",
   "metadata": {
    "colab_type": "text",
    "id": "hqtGSkdqCPlt"
   },
   "source": [
    "One of the most important libraries for data analysis in python is called **pandas**. \n",
    "\n",
    "Pandas can be used to \n",
    "- Loading data sets into python \n",
    "- Manipulating data and performing mathematical standard operations on the data\n",
    "- Providing data structures to organize data in rows and columns (as in typical spreadsheet software). \"Spreadsheets\" in python are called **DataFrames**\n",
    "- Perform basic visualization\n",
    "\n",
    "Libraries need to be initialized before they can be used in python. We can easily initialize pandas with the following command:"
   ]
  },
  {
   "cell_type": "code",
   "execution_count": null,
   "metadata": {
    "colab": {},
    "colab_type": "code",
    "id": "AJEkb79WCZj1"
   },
   "outputs": [],
   "source": [
    "import pandas as pd"
   ]
  },
  {
   "attachments": {},
   "cell_type": "markdown",
   "metadata": {
    "colab_type": "text",
    "id": "vb7l2kVrE0Lc"
   },
   "source": [
    "## Import Data"
   ]
  },
  {
   "cell_type": "code",
   "execution_count": null,
   "metadata": {
    "colab": {},
    "colab_type": "code",
    "id": "CjSeRvs9E1qf"
   },
   "outputs": [],
   "source": [
    "df = pd.read_excel(\"https://github.com/casbdai/datasets/raw/main/Module2/Onboarding/Examples/hsgshop.xlsx\", sheet_name=0)"
   ]
  },
  {
   "attachments": {},
   "cell_type": "markdown",
   "metadata": {
    "colab_type": "text",
    "id": "qO31w-69Gpes"
   },
   "source": [
    "## Methods"
   ]
  },
  {
   "attachments": {},
   "cell_type": "markdown",
   "metadata": {
    "colab_type": "text",
    "id": "cQZ6jGMyHGu-"
   },
   "source": [
    "## Methods\n",
    "\n",
    "Methods are similar to functions - they are prepackaged code snippets that can carry out a speficic task. However, they are directly associated to a python object (e.g., the DataFrame \"df\" that we have just created). Methods are called on a given object and applied to the data within that object / DataFrame. \n",
    "\n",
    "The logic for using a method is always\n",
    "\n",
    "**objectname.methodname()**"
   ]
  },
  {
   "cell_type": "code",
   "execution_count": null,
   "metadata": {
    "colab": {
     "base_uri": "https://localhost:8080/",
     "height": 195
    },
    "colab_type": "code",
    "id": "rVtjoaY-HHhm",
    "outputId": "801a03a5-d02d-4e06-f547-7989c470cd76"
   },
   "outputs": [],
   "source": [
    "df.head()"
   ]
  },
  {
   "cell_type": "code",
   "execution_count": null,
   "metadata": {
    "colab": {
     "base_uri": "https://localhost:8080/",
     "height": 168
    },
    "colab_type": "code",
    "id": "tnD7W89QH_2U",
    "outputId": "9ec2a67c-8d72-42c7-a5a4-6c4c2c0c4d5b"
   },
   "outputs": [],
   "source": [
    "df.info()"
   ]
  },
  {
   "attachments": {},
   "cell_type": "markdown",
   "metadata": {
    "colab_type": "text",
    "id": "pnlpeWloJJOA"
   },
   "source": [
    "Pandas provides all kind of summary statistcs for performing exploratory data analysis:"
   ]
  },
  {
   "cell_type": "code",
   "execution_count": null,
   "metadata": {
    "colab": {
     "base_uri": "https://localhost:8080/",
     "height": 101
    },
    "colab_type": "code",
    "id": "XUiV9mQGJQNg",
    "outputId": "bf5666a3-495e-492e-8b19-bc9e352dd3d0"
   },
   "outputs": [],
   "source": [
    "df.mean() # get mean for each variable in data frame\n",
    "df.corr() # returns the correlation between columns in a data frame\n",
    "df.count() # returns the number of non-null values in each data frame column\n",
    "df.std() # returns the standard deviation of each column\n",
    "df.median() # returns the median of each column\n",
    "df.max() # returns the highest value in each column\n",
    "df.min() # returns the lowest value in each colum\n"
   ]
  },
  {
   "attachments": {},
   "cell_type": "markdown",
   "metadata": {
    "colab_type": "text",
    "id": "Ei34Wqu8K17P"
   },
   "source": [
    "## Adding and deleting new Features"
   ]
  },
  {
   "cell_type": "code",
   "execution_count": null,
   "metadata": {
    "colab": {
     "base_uri": "https://localhost:8080/",
     "height": 195
    },
    "colab_type": "code",
    "id": "lIG6BstBK4pI",
    "outputId": "b77ec81b-ba03-43de-c791-46d44deb10e0"
   },
   "outputs": [],
   "source": [
    "df[\"Total Revenue\"] =  df[\"Revenue 2019\"] + df[\"Revenue 2018\"]\n",
    "df[\"Revenue Growth\"] = (df[\"Revenue 2019\"] / df[\"Revenue 2018\"])-1\n",
    "\n",
    "df.head()"
   ]
  },
  {
   "cell_type": "code",
   "execution_count": null,
   "metadata": {
    "colab": {
     "base_uri": "https://localhost:8080/",
     "height": 195
    },
    "colab_type": "code",
    "id": "yTAuoOMPMND6",
    "outputId": "096d7ed7-cdf0-43c2-fad3-d1e294da9bce"
   },
   "outputs": [],
   "source": [
    "del(df[\"Total Revenue\"])\n",
    "\n",
    "df.head()"
   ]
  },
  {
   "attachments": {},
   "cell_type": "markdown",
   "metadata": {
    "colab_type": "text",
    "id": "AHl1bk1INDNI"
   },
   "source": [
    "# Selecting Data in Data Frames"
   ]
  },
  {
   "attachments": {},
   "cell_type": "markdown",
   "metadata": {
    "colab_type": "text",
    "id": "MBPlKXuBNIpo"
   },
   "source": [
    "## integer-location based indexing (iloc)"
   ]
  },
  {
   "attachments": {},
   "cell_type": "markdown",
   "metadata": {
    "colab_type": "text",
    "id": "gSrYIf23NS1u"
   },
   "source": [
    "### selecting rows"
   ]
  },
  {
   "cell_type": "code",
   "execution_count": null,
   "metadata": {
    "colab": {
     "base_uri": "https://localhost:8080/",
     "height": 118
    },
    "colab_type": "code",
    "id": "r7PHxjgMNVdZ",
    "outputId": "17f646ec-e9b0-44da-ee8f-697be28bdaf8"
   },
   "outputs": [],
   "source": [
    "df.iloc[0] # get the first row of a data frame"
   ]
  },
  {
   "cell_type": "code",
   "execution_count": null,
   "metadata": {
    "colab": {
     "base_uri": "https://localhost:8080/",
     "height": 166
    },
    "colab_type": "code",
    "id": "AeFT7vJeNnIO",
    "outputId": "57f63717-cab7-4b5c-e74b-5cd902dcc7ab"
   },
   "outputs": [],
   "source": [
    "df.iloc[[0,1,3,5]] # select row 1,2,4,6"
   ]
  },
  {
   "cell_type": "code",
   "execution_count": null,
   "metadata": {
    "colab": {
     "base_uri": "https://localhost:8080/",
     "height": 195
    },
    "colab_type": "code",
    "id": "q4aWKihKOGrl",
    "outputId": "25f66dcb-7937-4ed9-f753-f7ac710b1c0d"
   },
   "outputs": [],
   "source": [
    "df.iloc[0:5]"
   ]
  },
  {
   "attachments": {},
   "cell_type": "markdown",
   "metadata": {
    "colab_type": "text",
    "id": "IrM9bWpnOnUF"
   },
   "source": [
    "### Selecting columns"
   ]
  },
  {
   "cell_type": "code",
   "execution_count": null,
   "metadata": {
    "colab": {
     "base_uri": "https://localhost:8080/",
     "height": 286
    },
    "colab_type": "code",
    "id": "w5TlcQYUOpk2",
    "outputId": "967495b7-fddf-4231-92a0-3e7b375645a5"
   },
   "outputs": [],
   "source": [
    "df.iloc[:,0] # selects the first column; \":\" indicates to use all rows"
   ]
  },
  {
   "cell_type": "code",
   "execution_count": null,
   "metadata": {
    "colab": {
     "base_uri": "https://localhost:8080/",
     "height": 491
    },
    "colab_type": "code",
    "id": "VQInc3b0QXOu",
    "outputId": "74ea9f91-98cc-4666-fc16-51cf02e3d7e0"
   },
   "outputs": [],
   "source": [
    "df.iloc[:,[1,3]] # select 2nd and 4th columns"
   ]
  },
  {
   "cell_type": "code",
   "execution_count": null,
   "metadata": {
    "colab": {
     "base_uri": "https://localhost:8080/",
     "height": 491
    },
    "colab_type": "code",
    "id": "-yObeX8-Qk7C",
    "outputId": "34ee202a-31d5-43c1-8553-9dcfe11214bb"
   },
   "outputs": [],
   "source": [
    "df.iloc[:,0:2]"
   ]
  },
  {
   "attachments": {},
   "cell_type": "markdown",
   "metadata": {
    "colab_type": "text",
    "id": "a_UV3mJ-Q2vU"
   },
   "source": [
    "### Selecting rows and columns"
   ]
  },
  {
   "cell_type": "code",
   "execution_count": null,
   "metadata": {
    "colab": {
     "base_uri": "https://localhost:8080/",
     "height": 166
    },
    "colab_type": "code",
    "id": "pWYz8Dn2Q5wu",
    "outputId": "a5ef72a4-a0de-4f81-b9ab-49bfee0a2b27"
   },
   "outputs": [],
   "source": [
    "df.iloc[0:4,[0,3]] # we get the first four rows and column 1 and 4"
   ]
  },
  {
   "attachments": {},
   "cell_type": "markdown",
   "metadata": {
    "colab_type": "text",
    "id": "BKKmPANvRR20"
   },
   "source": [
    "### Summary\n",
    "\n",
    "Using the iloc, we can directly select rows and numbers of within our DataFrame. \n",
    "\n",
    "The logic is always: \n",
    "\n",
    "**df.iloc [ \"row selection\" , \"column selection\" ]**"
   ]
  },
  {
   "attachments": {},
   "cell_type": "markdown",
   "metadata": {
    "colab_type": "text",
    "id": "-biA0zeTR4bC"
   },
   "source": [
    "## Location-based indexing (loc)\n",
    "\n",
    "Selecting data based on .loc, works very similar to the .iloc method. The only difference is that we can use the names of the variables.\n",
    "\n"
   ]
  },
  {
   "cell_type": "code",
   "execution_count": null,
   "metadata": {
    "colab": {
     "base_uri": "https://localhost:8080/",
     "height": 195
    },
    "colab_type": "code",
    "id": "QStCTJ8MSHW3",
    "outputId": "adb5eb89-be78-4807-f83a-262cdf5b9116"
   },
   "outputs": [],
   "source": [
    "df.head()"
   ]
  },
  {
   "cell_type": "code",
   "execution_count": null,
   "metadata": {
    "colab": {
     "base_uri": "https://localhost:8080/",
     "height": 166
    },
    "colab_type": "code",
    "id": "-elcey0bSfqc",
    "outputId": "2375dac8-46ab-435a-9b41-c52bfb9ee73f"
   },
   "outputs": [],
   "source": [
    "df.loc[0:3,[\"Revenue 2018\", \"Revenue 2019\"]] "
   ]
  },
  {
   "attachments": {},
   "cell_type": "markdown",
   "metadata": {
    "colab_type": "text",
    "id": "MPc682mET5Hh"
   },
   "source": [
    "### Boolean Indexing \n",
    "\n",
    "Using the .loc method, we can select data based on certain conditions. This is called boolean indexing.\n",
    "\n",
    "Some Boolean Operators are:\n",
    "\n",
    "- greater than   >\n",
    "- smaller than   <\n",
    "- equals         ==\n",
    "- does not equal !=\n"
   ]
  },
  {
   "cell_type": "code",
   "execution_count": null,
   "metadata": {
    "colab": {
     "base_uri": "https://localhost:8080/",
     "height": 67
    },
    "colab_type": "code",
    "id": "bGHpwZxoUPxM",
    "outputId": "4174d20f-4d2b-4136-a3f6-4f911e822c61"
   },
   "outputs": [],
   "source": [
    "print(5 > 3)\n",
    "print(5 == 3)\n",
    "print(5 != 3)"
   ]
  },
  {
   "cell_type": "code",
   "execution_count": null,
   "metadata": {
    "colab": {
     "base_uri": "https://localhost:8080/",
     "height": 314
    },
    "colab_type": "code",
    "id": "bUtFa8B_Uqqi",
    "outputId": "ac31222b-8572-410f-a7af-e6931a344497"
   },
   "outputs": [],
   "source": [
    "df.loc[df[\"Revenue 2018\"] > 25000,]"
   ]
  },
  {
   "attachments": {},
   "cell_type": "markdown",
   "metadata": {
    "colab_type": "text",
    "id": "xfWjj6Z3WdeP"
   },
   "source": [
    "AND / OR Operators"
   ]
  },
  {
   "cell_type": "code",
   "execution_count": null,
   "metadata": {
    "colab": {
     "base_uri": "https://localhost:8080/",
     "height": 34
    },
    "colab_type": "code",
    "id": "lKFhvaqlWf7G",
    "outputId": "1eba9c45-9b8c-400f-c69c-0058ca86b290"
   },
   "outputs": [],
   "source": [
    "(5 > 3) & (5 == 3) # AND-Operators return True if all conditions are True"
   ]
  },
  {
   "cell_type": "code",
   "execution_count": null,
   "metadata": {
    "colab": {
     "base_uri": "https://localhost:8080/",
     "height": 34
    },
    "colab_type": "code",
    "id": "cfb11_uIXDsH",
    "outputId": "8b2ecabf-4697-4cd5-dd20-ddeced3c4da8"
   },
   "outputs": [],
   "source": [
    "(5 > 3) | (5 == 3) # OR-Operators return True if one of the conditions is True"
   ]
  },
  {
   "cell_type": "code",
   "execution_count": null,
   "metadata": {
    "colab": {
     "base_uri": "https://localhost:8080/",
     "height": 254
    },
    "colab_type": "code",
    "id": "Tne72P4rXqJD",
    "outputId": "48a9bc3d-9724-41b3-8a9b-ff9c0a35b097"
   },
   "outputs": [],
   "source": [
    "df.loc[ (df[\"Revenue Growth\"] > 0) & (df[\"Product\"] != \"Sweatshirts\") & (df[\"Product\"] != \"Sweetshirts\"),]"
   ]
  },
  {
   "attachments": {},
   "cell_type": "markdown",
   "metadata": {
    "colab_type": "text",
    "id": "GJWK6KAKY6re"
   },
   "source": [
    "## Basic Plotting with Pandas"
   ]
  },
  {
   "cell_type": "code",
   "execution_count": null,
   "metadata": {
    "colab": {
     "base_uri": "https://localhost:8080/",
     "height": 331
    },
    "colab_type": "code",
    "id": "4UessurzY-EC",
    "outputId": "8a29e417-99c8-41e5-f487-62e53efa4867"
   },
   "outputs": [],
   "source": [
    "df.hist(column=[\"Revenue Growth\", \"Revenue 2019\"]) #creating a histogram"
   ]
  },
  {
   "cell_type": "code",
   "execution_count": null,
   "metadata": {
    "colab": {
     "base_uri": "https://localhost:8080/",
     "height": 346
    },
    "colab_type": "code",
    "id": "tAt41hqGZNi0",
    "outputId": "3c92e0c7-2b69-4b86-c951-2aec6995052b"
   },
   "outputs": [],
   "source": [
    "df.plot(kind=\"bar\", x=\"Product\", y=\"Revenue 2019\")"
   ]
  },
  {
   "cell_type": "code",
   "execution_count": null,
   "metadata": {
    "colab": {
     "base_uri": "https://localhost:8080/",
     "height": 296
    },
    "colab_type": "code",
    "id": "1eDhhI4mZqCg",
    "outputId": "63c43baa-9874-4c8f-de4c-63ff304beb43"
   },
   "outputs": [],
   "source": [
    "df.plot(kind=\"line\", x=\"Product\", y=\"Revenue 2019\")"
   ]
  },
  {
   "cell_type": "code",
   "execution_count": null,
   "metadata": {
    "colab": {
     "base_uri": "https://localhost:8080/",
     "height": 296
    },
    "colab_type": "code",
    "id": "5karfbjEZuts",
    "outputId": "37cc2266-2700-4d04-b537-8f39796a77b2"
   },
   "outputs": [],
   "source": [
    "df.plot(kind=\"scatter\", x=\"Revenue 2018\", y=\"Revenue 2019\")"
   ]
  }
 ],
 "metadata": {
  "colab": {
   "collapsed_sections": [],
   "name": "Copy of introduction_to_pyhton.ipynb",
   "provenance": [],
   "toc_visible": true
  },
  "kernelspec": {
   "display_name": "Python 3 (ipykernel)",
   "language": "python",
   "name": "python3"
  },
  "language_info": {
   "codemirror_mode": {
    "name": "ipython",
    "version": 3
   },
   "file_extension": ".py",
   "mimetype": "text/x-python",
   "name": "python",
   "nbconvert_exporter": "python",
   "pygments_lexer": "ipython3",
   "version": "3.8.12"
  }
 },
 "nbformat": 4,
 "nbformat_minor": 1
}
