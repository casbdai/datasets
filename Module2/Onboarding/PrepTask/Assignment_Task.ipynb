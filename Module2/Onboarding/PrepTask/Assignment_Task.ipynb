{
  "cells": [
    {
      "attachments": {},
      "cell_type": "markdown",
      "metadata": {
        "colab_type": "text",
        "id": "XbBmAASFH0Ip"
      },
      "source": [
        "# Assignment 2: Airbnb - Exploring Pandas"
      ]
    },
    {
      "attachments": {},
      "cell_type": "markdown",
      "metadata": {
        "colab_type": "text",
        "id": "m2ndXIjlwaLy"
      },
      "source": [
        "Airbnb, Inc. is an online marketplace for arranging or offering lodging, primarily homestays, or tourism experiences. The company does not own any of the real estate listings, nor does it host events; it acts as a broker, receiving commissions from each booking (Wikipedia 2023).\n",
        "\n",
        "For these exercises, we use original data from Airbnb for Boston that have been collected in December 2017 by the Airbnb API. The data shows some properties of Boston's real estate listings:\n",
        "\n",
        "- Host information: year of registration, location, about, response time, response rate, acceptance rate, „is superhost“, total listings (number of accommodations), verifications, „has profile pic“, „identity verified“\n",
        "- Location: Latitude, Longitude\n",
        "- Property: property type, room type, accommodates, bathrooms, bedrooms, beds, price, security deposit, cleaning fee, guests included, extra people, min. nights, max. nights ,...\n",
        "- Reviews: number of reviews, various reviews score, reviews per month\n",
        "\n",
        "Let's exercise pandas and explore the airbnb data?\n"
      ]
    },
    {
      "attachments": {},
      "cell_type": "markdown",
      "metadata": {
        "colab_type": "text",
        "id": "WGWPV70YxUcK"
      },
      "source": [
        "## 1) Import Pandas"
      ]
    },
    {
      "cell_type": "code",
      "execution_count": null,
      "metadata": {
        "colab": {},
        "colab_type": "code",
        "id": "GmbWv4D4xgWw",
        "vscode": {
          "languageId": "python"
        }
      },
      "outputs": [],
      "source": [
        "import _____ __ __"
      ]
    },
    {
      "attachments": {},
      "cell_type": "markdown",
      "metadata": {
        "colab_type": "text",
        "id": "x7CZESk2xqDJ"
      },
      "source": [
        "## 2) Read in the Airbnb Data with Pandas\n",
        "\n",
        "Use the .read_ecxel() function of pandas to import the airbnb data. \n",
        "\n",
        "Hint: please double check whether google drive has been connected. "
      ]
    },
    {
      "cell_type": "code",
      "execution_count": null,
      "metadata": {
        "colab": {},
        "colab_type": "code",
        "id": "fZhbe4e5B17Q",
        "vscode": {
          "languageId": "python"
        }
      },
      "outputs": [],
      "source": [
        "airbnb = __._____(____)"
      ]
    },
    {
      "attachments": {},
      "cell_type": "markdown",
      "metadata": {
        "colab_type": "text",
        "id": "ceSDhqjnyjaB"
      },
      "source": [
        "## 3) Explore Size of Data Set\n",
        "\n",
        "Use the .head() and .info() methods on the airbnb-DataFrame. \n",
        "\n",
        "How many Instances and Features has the airbnb data set?\n",
        "What data types are present in the data set? What is a data type of type object?\n"
      ]
    },
    {
      "cell_type": "code",
      "execution_count": null,
      "metadata": {
        "colab": {},
        "colab_type": "code",
        "id": "bYPeiFf3BlTo",
        "vscode": {
          "languageId": "python"
        }
      },
      "outputs": [],
      "source": [
        "# using head()\n",
        "airbnb.____()"
      ]
    },
    {
      "cell_type": "code",
      "execution_count": null,
      "metadata": {
        "colab": {},
        "colab_type": "code",
        "id": "yyKQeKPHLmPv",
        "vscode": {
          "languageId": "python"
        }
      },
      "outputs": [],
      "source": [
        "# using info()\n",
        "______"
      ]
    },
    {
      "attachments": {},
      "cell_type": "markdown",
      "metadata": {
        "colab_type": "text",
        "id": "g47RwEkID17R"
      },
      "source": [
        "Number of features: _______\n",
        "\n",
        "Number of instances: _______\n",
        "\n",
        "The dataframe consists of following data types: _______\n",
        "\n",
        "The data object/s is/are: _______\n"
      ]
    },
    {
      "attachments": {},
      "cell_type": "markdown",
      "metadata": {
        "colab_type": "text",
        "id": "g5tDh1TuB3pP"
      },
      "source": [
        "## 4) Selecting the Feature \"price\"\n",
        "\n",
        "Select the variable \"price\" and select it in the screen"
      ]
    },
    {
      "cell_type": "code",
      "execution_count": null,
      "metadata": {
        "colab": {},
        "colab_type": "code",
        "id": "DSaniaixCMzR",
        "vscode": {
          "languageId": "python"
        }
      },
      "outputs": [],
      "source": [
        "# select the variable \"price\" from the airbnb dataframe\n",
        "airbnb[_____]"
      ]
    },
    {
      "cell_type": "code",
      "execution_count": null,
      "metadata": {
        "colab": {},
        "colab_type": "code",
        "id": "Sfc195v8Lz6e",
        "vscode": {
          "languageId": "python"
        }
      },
      "outputs": [],
      "source": [
        "# select the variables \"price\" and \"room_type\" (use a list...) and the first 3 rows from the airbnb dataframe\n",
        "airbnb.____[____,[___]]"
      ]
    },
    {
      "cell_type": "code",
      "execution_count": null,
      "metadata": {
        "colab": {},
        "colab_type": "code",
        "id": "tLXNjBA0L1c2",
        "vscode": {
          "languageId": "python"
        }
      },
      "outputs": [],
      "source": [
        "# select the first three features as well as rows 31 to 33 from the airbnb dataframe \n",
        "airbnb.____[___:___]"
      ]
    },
    {
      "attachments": {},
      "cell_type": "markdown",
      "metadata": {
        "colab_type": "text",
        "id": "45Qc9tXDQSbQ"
      },
      "source": [
        "## 5) Creating and deleting new variables\n",
        "\n",
        "Create a new variable revenues per year. "
      ]
    },
    {
      "cell_type": "code",
      "execution_count": null,
      "metadata": {
        "colab": {},
        "colab_type": "code",
        "id": "CnixCGhNQ6S5",
        "vscode": {
          "languageId": "python"
        }
      },
      "outputs": [],
      "source": [
        "# create a feature \"number_of_years\" by subtracting \"first_review\" from \"last_review\"\n",
        "airbnb[_____] = _____ - ______\n",
        "\n",
        "# inspect results\n",
        "airbnb[_____]"
      ]
    },
    {
      "attachments": {},
      "cell_type": "markdown",
      "metadata": {
        "colab_type": "text",
        "id": "y7Fway7ZSPOQ"
      },
      "source": [
        "Inspect the results: Why are there so many zeros in the output? What do they mean?"
      ]
    },
    {
      "attachments": {},
      "cell_type": "markdown",
      "metadata": {
        "colab_type": "text",
        "id": "OFTpAuyWSUZa"
      },
      "source": [
        "Answer: ________"
      ]
    },
    {
      "cell_type": "code",
      "execution_count": null,
      "metadata": {
        "colab": {},
        "colab_type": "code",
        "id": "lA-IndqRRpSZ",
        "vscode": {
          "languageId": "python"
        }
      },
      "outputs": [],
      "source": [
        "# add 1 to your newly created variable \"number_of_years\" in order to fix that\n",
        "______ = ______ + 1\n",
        "\n",
        "# inspect results\n",
        "______"
      ]
    },
    {
      "cell_type": "code",
      "execution_count": null,
      "metadata": {
        "colab": {},
        "colab_type": "code",
        "id": "7XybgBdHR_-a",
        "vscode": {
          "languageId": "python"
        }
      },
      "outputs": [],
      "source": [
        "# create a variable \"reviews_per_year\"\n",
        "_______ = ________\n",
        "\n",
        "# inspect results\n",
        "_______"
      ]
    },
    {
      "attachments": {},
      "cell_type": "markdown",
      "metadata": {
        "colab_type": "text",
        "id": "m11DtGMWCNMh"
      },
      "source": [
        "## 5) Summary Statistics"
      ]
    },
    {
      "attachments": {},
      "cell_type": "markdown",
      "metadata": {
        "colab_type": "text",
        "id": "WE9hSYEvMqtQ"
      },
      "source": [
        "Pandas provides a series of useful functions for performing exploratory data analysis. Apply the method .mean() on the airbnb dataframe\n",
        "\n",
        "What is the output?"
      ]
    },
    {
      "cell_type": "code",
      "execution_count": null,
      "metadata": {
        "colab": {},
        "colab_type": "code",
        "id": "7qvmeA7TM1Kn",
        "vscode": {
          "languageId": "python"
        }
      },
      "outputs": [],
      "source": [
        "# apply .mean() on airbnb()\n",
        "_____._____"
      ]
    },
    {
      "attachments": {},
      "cell_type": "markdown",
      "metadata": {
        "colab_type": "text",
        "id": "vedyn7EfM4DH"
      },
      "source": [
        "The output describes: _________"
      ]
    },
    {
      "attachments": {},
      "cell_type": "markdown",
      "metadata": {
        "colab_type": "text",
        "id": "jpKPdLLJCaLI"
      },
      "source": [
        "Now, calculate the mean, median, and the standard deviation of the feature \"price\". \n",
        "\n",
        "Hint: Select the variable price and apply the mean method on that variable selection. \n",
        "\n",
        "What is the difference of the three measures?"
      ]
    },
    {
      "cell_type": "code",
      "execution_count": null,
      "metadata": {
        "colab": {},
        "colab_type": "code",
        "id": "eh7oLLR-CNYn",
        "vscode": {
          "languageId": "python"
        }
      },
      "outputs": [],
      "source": [
        "# calculate the mean price\n",
        "airbnb[_____]._____"
      ]
    },
    {
      "cell_type": "code",
      "execution_count": null,
      "metadata": {
        "colab": {},
        "colab_type": "code",
        "id": "2j1WLS-rNIOp",
        "vscode": {
          "languageId": "python"
        }
      },
      "outputs": [],
      "source": [
        "# calculate the median price\n",
        "airbnb[_____]._____"
      ]
    },
    {
      "cell_type": "code",
      "execution_count": null,
      "metadata": {
        "colab": {},
        "colab_type": "code",
        "id": "SN9CBk2LNIVp",
        "vscode": {
          "languageId": "python"
        }
      },
      "outputs": [],
      "source": [
        "# calculate the standard deviation for price\n",
        "_____"
      ]
    },
    {
      "attachments": {},
      "cell_type": "markdown",
      "metadata": {
        "colab_type": "text",
        "id": "6lFXXegnDJCa"
      },
      "source": [
        "The difference between the three measures is ________"
      ]
    },
    {
      "attachments": {},
      "cell_type": "markdown",
      "metadata": {
        "colab_type": "text",
        "id": "nkoWsFbDDOLb"
      },
      "source": [
        "## 6) Plotting\n",
        "\n",
        "\n",
        "Create a scatterplot for the variables \"price\" and \"number_of_reviews\" . How would you interpret the results?"
      ]
    },
    {
      "cell_type": "code",
      "execution_count": null,
      "metadata": {
        "colab": {},
        "colab_type": "code",
        "id": "gcip2lTuEi7f",
        "vscode": {
          "languageId": "python"
        }
      },
      "outputs": [],
      "source": [
        "# create scatterplot\n",
        "airbnb._______(kind=_______, x=\"price\", y=_______)"
      ]
    },
    {
      "attachments": {},
      "cell_type": "markdown",
      "metadata": {
        "colab_type": "text",
        "id": "Z2IN-pQ3E3rO"
      },
      "source": [
        "Your interpretation: ________"
      ]
    },
    {
      "attachments": {},
      "cell_type": "markdown",
      "metadata": {
        "colab_type": "text",
        "id": "0z7VP9jsE8if"
      },
      "source": [
        "Create a scatterplot for the variables longitude and latitude. How would you describe the results now? Hint: The data is from Boston...."
      ]
    },
    {
      "cell_type": "code",
      "execution_count": null,
      "metadata": {
        "colab": {},
        "colab_type": "code",
        "id": "lUfdUAgEFOid",
        "vscode": {
          "languageId": "python"
        }
      },
      "outputs": [],
      "source": [
        "# create scatterplot\n",
        "airbnb._______(kind=_______, x=\"price\", y=_______)"
      ]
    },
    {
      "attachments": {},
      "cell_type": "markdown",
      "metadata": {
        "colab_type": "text",
        "id": "z4m1knJrFMzf"
      },
      "source": [
        "## 7) Subsetting Data \n",
        "\n",
        "\n",
        "Select all instances which have more than 0 reviews"
      ]
    },
    {
      "cell_type": "code",
      "execution_count": null,
      "metadata": {
        "colab": {},
        "colab_type": "code",
        "id": "UY95V2M-GgNz",
        "vscode": {
          "languageId": "python"
        }
      },
      "outputs": [],
      "source": [
        "airbnb.____[_________ > 0 _]"
      ]
    },
    {
      "attachments": {},
      "cell_type": "markdown",
      "metadata": {
        "colab_type": "text",
        "id": "y4-Kvz3pGuHL"
      },
      "source": [
        "Select all instances which are of \"room_type\" \"Shared room\" or \"Private room\". \n",
        "\n",
        "Save the results to a new dataframe \"airbnb_small\" and use the info() method on this new dataframe. What has changed in comparison to the original airbnb dataframe"
      ]
    },
    {
      "cell_type": "code",
      "execution_count": null,
      "metadata": {
        "colab": {},
        "colab_type": "code",
        "id": "KXmqzo5iGumt",
        "vscode": {
          "languageId": "python"
        }
      },
      "outputs": [],
      "source": [
        "# Select room types \"Shared room\" and \"Private Room\" and assign results to a new dataframe\n",
        "airbnb_small = ____[ (_____ == ______) & ____________,]\n",
        "\n",
        "#apply .info() method on new dataframe\n",
        "______"
      ]
    }
  ],
  "metadata": {
    "colab": {
      "collapsed_sections": [],
      "name": "Assignment_Solution.ipynb",
      "provenance": []
    },
    "kernelspec": {
      "display_name": "Python 3",
      "name": "python3"
    }
  },
  "nbformat": 4,
  "nbformat_minor": 0
}
