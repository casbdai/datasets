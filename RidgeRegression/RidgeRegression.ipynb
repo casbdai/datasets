{
 "cells": [
  {
   "cell_type": "markdown",
   "metadata": {
    "id": "HtXEcvNWPZpr"
   },
   "source": [
    "# Hands On - Ridge Regressions for more accurate Bordeaux Equations"
   ]
  },
  {
   "cell_type": "markdown",
   "metadata": {
    "id": "by2o89GI97z5"
   },
   "source": [
    "## Import Data & Check Structure\n",
    "\n"
   ]
  },
  {
   "cell_type": "code",
   "execution_count": 1,
   "metadata": {
    "id": "SQWjq9jR-O7L"
   },
   "outputs": [],
   "source": [
    "import pandas as pd\n",
    "wine = pd.read_csv(\"https://raw.githubusercontent.com/casbdai/datasets/main/wine_regression.csv\")"
   ]
  },
  {
   "cell_type": "markdown",
   "metadata": {
    "id": "yAV-m4f5-tX0"
   },
   "source": [
    "## Separate Features and Targets"
   ]
  },
  {
   "cell_type": "code",
   "execution_count": 2,
   "metadata": {
    "id": "replRE6zVsd5"
   },
   "outputs": [],
   "source": [
    "X = wine.drop(\"price\", axis = 1)\n",
    "X = X.drop(\"vintage\", axis = 1)\n",
    "y = wine[\"price\"]"
   ]
  },
  {
   "cell_type": "markdown",
   "metadata": {
    "id": "B3gewMHz-0q8"
   },
   "source": [
    "# Compare Linear and Ridge Regression"
   ]
  },
  {
   "cell_type": "markdown",
   "metadata": {
    "id": "zFwCy5qB7dCI"
   },
   "source": [
    "### Linear Regression"
   ]
  },
  {
   "cell_type": "code",
   "execution_count": 3,
   "metadata": {
    "colab": {
     "base_uri": "https://localhost:8080/"
    },
    "executionInfo": {
     "elapsed": 203,
     "status": "ok",
     "timestamp": 1631130734851,
     "user": {
      "displayName": "Ivo Blohm",
      "photoUrl": "",
      "userId": "03588522102684867783"
     },
     "user_tz": -120
    },
    "id": "g5kT3B7oUrsL",
    "outputId": "bdde889c-2aff-444d-92e5-6383b3dd1950"
   },
   "outputs": [
    {
     "data": {
      "text/plain": [
       "17.394945061631525"
      ]
     },
     "execution_count": 3,
     "metadata": {},
     "output_type": "execute_result"
    }
   ],
   "source": [
    "from sklearn.linear_model import LinearRegression\n",
    "from sklearn.metrics import mean_squared_error\n",
    "from sklearn.model_selection import train_test_split\n",
    "\n",
    "linreg = LinearRegression()\n",
    "X_train, X_test, y_train, y_test = train_test_split(X, y, test_size=0.12, shuffle=False, random_state=11)\n",
    "linreg.fit(X_train,y_train)\n",
    "\n",
    "y_pred = linreg.predict(X_test)\n",
    "mean_squared_error(y_test, y_pred, squared=False)"
   ]
  },
  {
   "cell_type": "markdown",
   "metadata": {
    "id": "EBNcBWD3U5IZ"
   },
   "source": [
    "## Ridge Regression"
   ]
  },
  {
   "cell_type": "markdown",
   "metadata": {
    "id": "9i1rvOWR_jQs"
   },
   "source": [
    "The only change that we have to made is importing Ridge instead of Linear Regression. \n",
    "\n",
    "Ridge Regression has a penalty called alpha. The higher alpha, the stronger the reguluraization. That means that we penalty on overfitting and highly correlating is stronger and that the model tries to correct these negative influences.\n",
    "\n",
    "If we set alpha = 0 Ridge Regression is equivalent to the Linear Regression (no penalty)."
   ]
  },
  {
   "cell_type": "code",
   "execution_count": 4,
   "metadata": {
    "colab": {
     "base_uri": "https://localhost:8080/"
    },
    "executionInfo": {
     "elapsed": 318,
     "status": "ok",
     "timestamp": 1631131545643,
     "user": {
      "displayName": "Ivo Blohm",
      "photoUrl": "",
      "userId": "03588522102684867783"
     },
     "user_tz": -120
    },
    "id": "WkW6Y7GSU71C",
    "outputId": "6d23b7c8-1ce8-457c-9fbe-cc019039ecc4"
   },
   "outputs": [
    {
     "data": {
      "text/plain": [
       "17.394945061631613"
      ]
     },
     "execution_count": 4,
     "metadata": {},
     "output_type": "execute_result"
    }
   ],
   "source": [
    "from sklearn.linear_model import Ridge #import ridge\n",
    "from sklearn.metrics import mean_squared_error\n",
    "from sklearn.model_selection import train_test_split\n",
    "\n",
    "ridgereg = Ridge(alpha=0) # set alpha to 0 > equivalent to linear model\n",
    "X_train, X_test, y_train, y_test = train_test_split(X, y, test_size=0.12, shuffle=False, random_state=11)\n",
    "ridgereg.fit(X_train,y_train)\n",
    "\n",
    "y_pred = ridgereg.predict(X_test)\n",
    "mean_squared_error(y_test, y_pred, squared=False)"
   ]
  },
  {
   "cell_type": "markdown",
   "metadata": {
    "id": "mRjIv6-IVDj3"
   },
   "source": [
    "## Compare Regression Coefficients"
   ]
  },
  {
   "cell_type": "markdown",
   "metadata": {
    "id": "QDf3pXRB_Dt5"
   },
   "source": [
    "Let's define a small helper function that helps us interpreting the regression coefficients!\n"
   ]
  },
  {
   "cell_type": "code",
   "execution_count": 5,
   "metadata": {
    "id": "1emwf09SQ4oS"
   },
   "outputs": [],
   "source": [
    "def get_coefs(model, X_train):\n",
    "  coef_table = pd.DataFrame(list(X_train.columns)).copy()\n",
    "  coef_table.insert(len(coef_table.columns),\"Coefs\",model.coef_.transpose())\n",
    "  return coef_table"
   ]
  },
  {
   "cell_type": "markdown",
   "metadata": {
    "id": "nltPIy5RAOca"
   },
   "source": [
    "Regression Coefficients for the Linear Regression:"
   ]
  },
  {
   "cell_type": "code",
   "execution_count": 6,
   "metadata": {
    "colab": {
     "base_uri": "https://localhost:8080/",
     "height": 235
    },
    "executionInfo": {
     "elapsed": 5,
     "status": "ok",
     "timestamp": 1631131548617,
     "user": {
      "displayName": "Ivo Blohm",
      "photoUrl": "",
      "userId": "03588522102684867783"
     },
     "user_tz": -120
    },
    "id": "ZXmq_Tlr86dT",
    "outputId": "84ce2419-b5d2-46c1-94fd-47c87ea1edcf"
   },
   "outputs": [
    {
     "data": {
      "text/html": [
       "<div>\n",
       "<style scoped>\n",
       "    .dataframe tbody tr th:only-of-type {\n",
       "        vertical-align: middle;\n",
       "    }\n",
       "\n",
       "    .dataframe tbody tr th {\n",
       "        vertical-align: top;\n",
       "    }\n",
       "\n",
       "    .dataframe thead th {\n",
       "        text-align: right;\n",
       "    }\n",
       "</style>\n",
       "<table border=\"1\" class=\"dataframe\">\n",
       "  <thead>\n",
       "    <tr style=\"text-align: right;\">\n",
       "      <th></th>\n",
       "      <th>0</th>\n",
       "      <th>Coefs</th>\n",
       "    </tr>\n",
       "  </thead>\n",
       "  <tbody>\n",
       "    <tr>\n",
       "      <th>0</th>\n",
       "      <td>winter.rain</td>\n",
       "      <td>0.043272</td>\n",
       "    </tr>\n",
       "    <tr>\n",
       "      <th>1</th>\n",
       "      <td>harvest.rain</td>\n",
       "      <td>-0.058125</td>\n",
       "    </tr>\n",
       "    <tr>\n",
       "      <th>2</th>\n",
       "      <td>grow.temp</td>\n",
       "      <td>21.353799</td>\n",
       "    </tr>\n",
       "    <tr>\n",
       "      <th>3</th>\n",
       "      <td>harvest.temp</td>\n",
       "      <td>8.214618</td>\n",
       "    </tr>\n",
       "    <tr>\n",
       "      <th>4</th>\n",
       "      <td>purchasing.power</td>\n",
       "      <td>-0.002755</td>\n",
       "    </tr>\n",
       "    <tr>\n",
       "      <th>5</th>\n",
       "      <td>age</td>\n",
       "      <td>0.138745</td>\n",
       "    </tr>\n",
       "  </tbody>\n",
       "</table>\n",
       "</div>"
      ],
      "text/plain": [
       "                  0      Coefs\n",
       "0       winter.rain   0.043272\n",
       "1      harvest.rain  -0.058125\n",
       "2         grow.temp  21.353799\n",
       "3      harvest.temp   8.214618\n",
       "4  purchasing.power  -0.002755\n",
       "5               age   0.138745"
      ]
     },
     "execution_count": 6,
     "metadata": {},
     "output_type": "execute_result"
    }
   ],
   "source": [
    "get_coefs(linreg, X_train)"
   ]
  },
  {
   "cell_type": "markdown",
   "metadata": {
    "id": "Dmf2-SVyATyV"
   },
   "source": [
    "Identical Regression Coefficients for the Ridge Regression"
   ]
  },
  {
   "cell_type": "code",
   "execution_count": 7,
   "metadata": {
    "colab": {
     "base_uri": "https://localhost:8080/",
     "height": 235
    },
    "executionInfo": {
     "elapsed": 319,
     "status": "ok",
     "timestamp": 1631131551068,
     "user": {
      "displayName": "Ivo Blohm",
      "photoUrl": "",
      "userId": "03588522102684867783"
     },
     "user_tz": -120
    },
    "id": "pHDNYW3N9C_u",
    "outputId": "32855f1d-1c9d-458a-aeb9-93c9da45b0d7"
   },
   "outputs": [
    {
     "data": {
      "text/html": [
       "<div>\n",
       "<style scoped>\n",
       "    .dataframe tbody tr th:only-of-type {\n",
       "        vertical-align: middle;\n",
       "    }\n",
       "\n",
       "    .dataframe tbody tr th {\n",
       "        vertical-align: top;\n",
       "    }\n",
       "\n",
       "    .dataframe thead th {\n",
       "        text-align: right;\n",
       "    }\n",
       "</style>\n",
       "<table border=\"1\" class=\"dataframe\">\n",
       "  <thead>\n",
       "    <tr style=\"text-align: right;\">\n",
       "      <th></th>\n",
       "      <th>0</th>\n",
       "      <th>Coefs</th>\n",
       "    </tr>\n",
       "  </thead>\n",
       "  <tbody>\n",
       "    <tr>\n",
       "      <th>0</th>\n",
       "      <td>winter.rain</td>\n",
       "      <td>0.043272</td>\n",
       "    </tr>\n",
       "    <tr>\n",
       "      <th>1</th>\n",
       "      <td>harvest.rain</td>\n",
       "      <td>-0.058125</td>\n",
       "    </tr>\n",
       "    <tr>\n",
       "      <th>2</th>\n",
       "      <td>grow.temp</td>\n",
       "      <td>21.353799</td>\n",
       "    </tr>\n",
       "    <tr>\n",
       "      <th>3</th>\n",
       "      <td>harvest.temp</td>\n",
       "      <td>8.214618</td>\n",
       "    </tr>\n",
       "    <tr>\n",
       "      <th>4</th>\n",
       "      <td>purchasing.power</td>\n",
       "      <td>-0.002755</td>\n",
       "    </tr>\n",
       "    <tr>\n",
       "      <th>5</th>\n",
       "      <td>age</td>\n",
       "      <td>0.138745</td>\n",
       "    </tr>\n",
       "  </tbody>\n",
       "</table>\n",
       "</div>"
      ],
      "text/plain": [
       "                  0      Coefs\n",
       "0       winter.rain   0.043272\n",
       "1      harvest.rain  -0.058125\n",
       "2         grow.temp  21.353799\n",
       "3      harvest.temp   8.214618\n",
       "4  purchasing.power  -0.002755\n",
       "5               age   0.138745"
      ]
     },
     "execution_count": 7,
     "metadata": {},
     "output_type": "execute_result"
    }
   ],
   "source": [
    "get_coefs(ridgereg, X_train)"
   ]
  },
  {
   "cell_type": "markdown",
   "metadata": {
    "id": "_vDkBAQnsjmq"
   },
   "source": [
    "## Let's Penalize our Regression: Increasing alpha to 20"
   ]
  },
  {
   "cell_type": "code",
   "execution_count": 8,
   "metadata": {
    "colab": {
     "base_uri": "https://localhost:8080/"
    },
    "executionInfo": {
     "elapsed": 316,
     "status": "ok",
     "timestamp": 1631131585475,
     "user": {
      "displayName": "Ivo Blohm",
      "photoUrl": "",
      "userId": "03588522102684867783"
     },
     "user_tz": -120
    },
    "id": "s16IG6UCdKG2",
    "outputId": "cf8fcdc6-6557-49fc-dc73-377239b99207"
   },
   "outputs": [
    {
     "data": {
      "text/plain": [
       "10.374894628961144"
      ]
     },
     "execution_count": 8,
     "metadata": {},
     "output_type": "execute_result"
    }
   ],
   "source": [
    "ridgereg = Ridge(alpha=20) # set alpha from 0 to 20 (alpha must be >0)\n",
    "X_train, X_test, y_train, y_test = train_test_split(X, y, test_size=0.12, shuffle=False, random_state=11)\n",
    "ridgereg.fit(X_train,y_train)\n",
    "\n",
    "y_pred = ridgereg.predict(X_test)\n",
    "mean_squared_error(y_test, y_pred, squared=False)"
   ]
  },
  {
   "cell_type": "markdown",
   "metadata": {
    "id": "1G5PGTMr-8az"
   },
   "source": [
    "Increasing an alpha an putting a stronger penalty on variables the are highly correlating with other variables and that increase overfitting, we get a more accurate model!"
   ]
  },
  {
   "cell_type": "code",
   "execution_count": 9,
   "metadata": {
    "colab": {
     "base_uri": "https://localhost:8080/",
     "height": 235
    },
    "executionInfo": {
     "elapsed": 317,
     "status": "ok",
     "timestamp": 1631131587089,
     "user": {
      "displayName": "Ivo Blohm",
      "photoUrl": "",
      "userId": "03588522102684867783"
     },
     "user_tz": -120
    },
    "id": "c2QqYKdL-hbb",
    "outputId": "b1b56b98-316f-47e3-8f2d-01b3d9502c0a"
   },
   "outputs": [
    {
     "data": {
      "text/html": [
       "<div>\n",
       "<style scoped>\n",
       "    .dataframe tbody tr th:only-of-type {\n",
       "        vertical-align: middle;\n",
       "    }\n",
       "\n",
       "    .dataframe tbody tr th {\n",
       "        vertical-align: top;\n",
       "    }\n",
       "\n",
       "    .dataframe thead th {\n",
       "        text-align: right;\n",
       "    }\n",
       "</style>\n",
       "<table border=\"1\" class=\"dataframe\">\n",
       "  <thead>\n",
       "    <tr style=\"text-align: right;\">\n",
       "      <th></th>\n",
       "      <th>0</th>\n",
       "      <th>Coefs</th>\n",
       "    </tr>\n",
       "  </thead>\n",
       "  <tbody>\n",
       "    <tr>\n",
       "      <th>0</th>\n",
       "      <td>winter.rain</td>\n",
       "      <td>0.039519</td>\n",
       "    </tr>\n",
       "    <tr>\n",
       "      <th>1</th>\n",
       "      <td>harvest.rain</td>\n",
       "      <td>-0.020800</td>\n",
       "    </tr>\n",
       "    <tr>\n",
       "      <th>2</th>\n",
       "      <td>grow.temp</td>\n",
       "      <td>8.979948</td>\n",
       "    </tr>\n",
       "    <tr>\n",
       "      <th>3</th>\n",
       "      <td>harvest.temp</td>\n",
       "      <td>6.976016</td>\n",
       "    </tr>\n",
       "    <tr>\n",
       "      <th>4</th>\n",
       "      <td>purchasing.power</td>\n",
       "      <td>-0.001612</td>\n",
       "    </tr>\n",
       "    <tr>\n",
       "      <th>5</th>\n",
       "      <td>age</td>\n",
       "      <td>0.554995</td>\n",
       "    </tr>\n",
       "  </tbody>\n",
       "</table>\n",
       "</div>"
      ],
      "text/plain": [
       "                  0     Coefs\n",
       "0       winter.rain  0.039519\n",
       "1      harvest.rain -0.020800\n",
       "2         grow.temp  8.979948\n",
       "3      harvest.temp  6.976016\n",
       "4  purchasing.power -0.001612\n",
       "5               age  0.554995"
      ]
     },
     "execution_count": 9,
     "metadata": {},
     "output_type": "execute_result"
    }
   ],
   "source": [
    "get_coefs(ridgereg, X_train)"
   ]
  },
  {
   "cell_type": "markdown",
   "metadata": {
    "id": "lrYPFu3A_JvI"
   },
   "source": [
    "We regression coefficients have changed quite drastically! Look at grow.temp its influence has been decreased from 21.35 in the linear regression to 8.97 in the Ridge Regression Model!"
   ]
  },
  {
   "cell_type": "markdown",
   "metadata": {
    "id": "_-8iftHcBtVp"
   },
   "source": [
    "# Can you find a better alpha for increasing model performance?"
   ]
  }
 ],
 "metadata": {
  "colab": {
   "collapsed_sections": [],
   "name": "RidgeRegression.ipynb",
   "provenance": [
    {
     "file_id": "1WlIq4bsjXXBJykerHEAF6UDMJSs-6Jlw",
     "timestamp": 1631124815235
    },
    {
     "file_id": "18im53fXJIjYw3NTAdwxOcOWfrkftkt8b",
     "timestamp": 1592485140678
    }
   ]
  },
  "kernelspec": {
   "display_name": "Python 3 (ipykernel)",
   "language": "python",
   "name": "python3"
  },
  "language_info": {
   "codemirror_mode": {
    "name": "ipython",
    "version": 3
   },
   "file_extension": ".py",
   "mimetype": "text/x-python",
   "name": "python",
   "nbconvert_exporter": "python",
   "pygments_lexer": "ipython3",
   "version": "3.9.10"
  }
 },
 "nbformat": 4,
 "nbformat_minor": 1
}
