{
 "cells": [
  {
   "cell_type": "markdown",
   "metadata": {
    "id": "HtXEcvNWPZpr",
    "pycharm": {
     "name": "#%% md\n"
    }
   },
   "source": [
    "# Hands On - Predicting Entertainment Hits - Introduction to Clustering and Recommenders"
   ]
  },
  {
   "cell_type": "markdown",
   "metadata": {
    "id": "shbARdpqP29x",
    "pycharm": {
     "name": "#%% md\n"
    }
   },
   "source": [
    "## Import"
   ]
  },
  {
   "cell_type": "code",
   "execution_count": null,
   "metadata": {
    "executionInfo": {
     "elapsed": 313,
     "status": "ok",
     "timestamp": 1631476798848,
     "user": {
      "displayName": "Ivo Blohm",
      "photoUrl": "https://lh3.googleusercontent.com/a/default-user=s64",
      "userId": "03588522102684867783"
     },
     "user_tz": -120
    },
    "id": "wNxGBdh5M9Pd",
    "pycharm": {
     "name": "#%%\n"
    }
   },
   "outputs": [],
   "source": [
    "import pandas as pd\n",
    "movies = pd.read_csv(\"https://raw.githubusercontent.com/casbdai/datasets/main/movie_data.csv\")"
   ]
  },
  {
   "cell_type": "markdown",
   "metadata": {
    "id": "OvzSd2J4P5Yh",
    "pycharm": {
     "name": "#%% md\n"
    }
   },
   "source": [
    "## Checking Structure"
   ]
  },
  {
   "cell_type": "code",
   "execution_count": null,
   "metadata": {
    "colab": {
     "base_uri": "https://localhost:8080/"
    },
    "executionInfo": {
     "elapsed": 310,
     "status": "ok",
     "timestamp": 1631476800579,
     "user": {
      "displayName": "Ivo Blohm",
      "photoUrl": "https://lh3.googleusercontent.com/a/default-user=s64",
      "userId": "03588522102684867783"
     },
     "user_tz": -120
    },
    "id": "FiPlcB9GIpnx",
    "outputId": "ca4fff35-d25c-420b-b244-3d06e1f0d841",
    "pycharm": {
     "name": "#%%\n"
    }
   },
   "outputs": [],
   "source": [
    "movies.____"
   ]
  },
  {
   "cell_type": "code",
   "execution_count": null,
   "metadata": {
    "colab": {
     "base_uri": "https://localhost:8080/",
     "height": 204
    },
    "executionInfo": {
     "elapsed": 202,
     "status": "ok",
     "timestamp": 1631476804325,
     "user": {
      "displayName": "Ivo Blohm",
      "photoUrl": "https://lh3.googleusercontent.com/a/default-user=s64",
      "userId": "03588522102684867783"
     },
     "user_tz": -120
    },
    "id": "9fvxpfgWumsa",
    "outputId": "ce9fcdda-564b-4505-aa67-27fd488294bd",
    "pycharm": {
     "name": "#%%\n"
    }
   },
   "outputs": [],
   "source": [
    "movies.____"
   ]
  },
  {
   "cell_type": "code",
   "execution_count": null,
   "metadata": {
    "colab": {
     "base_uri": "https://localhost:8080/"
    },
    "executionInfo": {
     "elapsed": 197,
     "status": "ok",
     "timestamp": 1631476806244,
     "user": {
      "displayName": "Ivo Blohm",
      "photoUrl": "https://lh3.googleusercontent.com/a/default-user=s64",
      "userId": "03588522102684867783"
     },
     "user_tz": -120
    },
    "id": "replRE6zVsd5",
    "outputId": "2cca017e-f9de-4775-c563-94ef8795dd94",
    "pycharm": {
     "name": "#%%\n"
    }
   },
   "outputs": [],
   "source": [
    "genre_data = ____.iloc[:,3:21]\n",
    "genre_data.____"
   ]
  },
  {
   "cell_type": "markdown",
   "metadata": {
    "id": "B3gewMHz-0q8",
    "pycharm": {
     "name": "#%% md\n"
    }
   },
   "source": [
    "# Workflow for Hierarchical Clustering"
   ]
  },
  {
   "cell_type": "markdown",
   "metadata": {
    "id": "UBpK8BojUjFU",
    "pycharm": {
     "name": "#%% md\n"
    }
   },
   "source": [
    "## 1) Inspect Dendrogram"
   ]
  },
  {
   "cell_type": "code",
   "execution_count": null,
   "metadata": {
    "colab": {
     "base_uri": "https://localhost:8080/",
     "height": 272
    },
    "executionInfo": {
     "elapsed": 16154,
     "status": "ok",
     "timestamp": 1631476824610,
     "user": {
      "displayName": "Ivo Blohm",
      "photoUrl": "https://lh3.googleusercontent.com/a/default-user=s64",
      "userId": "03588522102684867783"
     },
     "user_tz": -120
    },
    "id": "g5kT3B7oUrsL",
    "outputId": "29d0fc22-9dc3-4099-82a8-2ed7c44fff8b",
    "pycharm": {
     "name": "#%%\n"
    }
   },
   "outputs": [],
   "source": [
    "from scipy.cluster.hierarchy import dendrogram, linkage\n",
    "\n",
    "# prepare data for dendogram\n",
    "Z = linkage(____, 'ward')\n",
    "\n",
    "# plot dendrogram\n",
    "dn = dendrogram(Z, p=500, ____=\"lastp\")"
   ]
  },
  {
   "cell_type": "markdown",
   "metadata": {
    "id": "CT4T3kdcak4U",
    "pycharm": {
     "name": "#%% md\n"
    }
   },
   "source": [
    "## 2) Create Clustering"
   ]
  },
  {
   "cell_type": "code",
   "execution_count": null,
   "metadata": {
    "executionInfo": {
     "elapsed": 4878,
     "status": "ok",
     "timestamp": 1631476829483,
     "user": {
      "displayName": "Ivo Blohm",
      "photoUrl": "https://lh3.googleusercontent.com/a/default-user=s64",
      "userId": "03588522102684867783"
     },
     "user_tz": -120
    },
    "id": "IR05lpIQOz1s",
    "pycharm": {
     "name": "#%%\n"
    }
   },
   "outputs": [],
   "source": [
    "from sklearn.cluster import AgglomerativeClustering\n",
    "clusters3 = AgglomerativeClustering(____=3).fit(____)\n",
    "clusters8 = AgglomerativeClustering(____=8).fit(____)"
   ]
  },
  {
   "cell_type": "code",
   "execution_count": null,
   "metadata": {
    "executionInfo": {
     "elapsed": 10,
     "status": "ok",
     "timestamp": 1631476829483,
     "user": {
      "displayName": "Ivo Blohm",
      "photoUrl": "https://lh3.googleusercontent.com/a/default-user=s64",
      "userId": "03588522102684867783"
     },
     "user_tz": -120
    },
    "id": "AkjkQHU9asuM",
    "pycharm": {
     "name": "#%%\n"
    }
   },
   "outputs": [],
   "source": [
    "labels3 = ____.labels_\n",
    "labels8 = ____.labels_"
   ]
  },
  {
   "cell_type": "markdown",
   "metadata": {
    "id": "EBNcBWD3U5IZ",
    "pycharm": {
     "name": "#%% md\n"
    }
   },
   "source": [
    "## 3) Compare Clustering"
   ]
  },
  {
   "cell_type": "code",
   "execution_count": null,
   "metadata": {
    "colab": {
     "base_uri": "https://localhost:8080/",
     "height": 142
    },
    "executionInfo": {
     "elapsed": 8,
     "status": "ok",
     "timestamp": 1631476829484,
     "user": {
      "displayName": "Ivo Blohm",
      "photoUrl": "https://lh3.googleusercontent.com/a/default-user=s64",
      "userId": "03588522102684867783"
     },
     "user_tz": -120
    },
    "id": "WkW6Y7GSU71C",
    "outputId": "1746c928-d662-4ecc-b5e4-04a9be18d7a6",
    "pycharm": {
     "name": "#%%\n"
    }
   },
   "outputs": [],
   "source": [
    "means3 = genre_data.____(labels3).____()\n",
    "means3"
   ]
  },
  {
   "cell_type": "code",
   "execution_count": null,
   "metadata": {
    "colab": {
     "base_uri": "https://localhost:8080/",
     "height": 297
    },
    "executionInfo": {
     "elapsed": 6,
     "status": "ok",
     "timestamp": 1631476829484,
     "user": {
      "displayName": "Ivo Blohm",
      "photoUrl": "https://lh3.googleusercontent.com/a/default-user=s64",
      "userId": "03588522102684867783"
     },
     "user_tz": -120
    },
    "id": "njco5n9uUFkD",
    "outputId": "665e6777-980d-4cab-f75d-ae148680945a",
    "pycharm": {
     "name": "#%%\n"
    }
   },
   "outputs": [],
   "source": [
    "means8 = genre_data.____(_____).____()\n",
    "_____"
   ]
  },
  {
   "cell_type": "markdown",
   "source": [
    "You can use a heatmap to visualize this matrix. A popular implementation can be found in the [Seaborn Package](https://seaborn.pydata.org/generated/seaborn.heatmap.html)."
   ],
   "metadata": {
    "collapsed": false,
    "pycharm": {
     "name": "#%% md\n"
    }
   }
  },
  {
   "cell_type": "code",
   "execution_count": null,
   "outputs": [],
   "source": [
    "# !pip install seaborn # Comment out this line if you are having ModuleNotFound errors, e.g., if you are using Anaconda\n",
    "from seaborn import heatmap\n",
    "\n",
    "heatmap(____, cmap=\"YlGnBu\")"
   ],
   "metadata": {
    "collapsed": false,
    "pycharm": {
     "name": "#%%\n"
    }
   }
  },
  {
   "cell_type": "code",
   "execution_count": null,
   "outputs": [],
   "source": [
    "_____(____, cmap=\"YlGnBu\")"
   ],
   "metadata": {
    "collapsed": false,
    "pycharm": {
     "name": "#%%\n"
    }
   }
  },
  {
   "cell_type": "markdown",
   "metadata": {
    "id": "mRjIv6-IVDj3",
    "pycharm": {
     "name": "#%% md\n"
    }
   },
   "source": [
    "## 4) Evaluate Clustering"
   ]
  },
  {
   "cell_type": "code",
   "execution_count": null,
   "metadata": {
    "colab": {
     "base_uri": "https://localhost:8080/"
    },
    "executionInfo": {
     "elapsed": 316,
     "status": "ok",
     "timestamp": 1631476829795,
     "user": {
      "displayName": "Ivo Blohm",
      "photoUrl": "https://lh3.googleusercontent.com/a/default-user=s64",
      "userId": "03588522102684867783"
     },
     "user_tz": -120
    },
    "id": "5RJjnL2hajuX",
    "outputId": "ae03ca04-1bf0-45a4-bf2e-877d007b6715",
    "pycharm": {
     "name": "#%%\n"
    }
   },
   "outputs": [],
   "source": [
    "from sklearn.metrics import ____\n",
    "print(silhouette_score(genre_data, labels3))\n",
    "print(silhouette_score(genre_data, labels8))"
   ]
  },
  {
   "cell_type": "markdown",
   "metadata": {
    "id": "O_gF9VY4erEP",
    "pycharm": {
     "name": "#%% md\n"
    }
   },
   "source": [
    "# Repeating with Kmeans"
   ]
  },
  {
   "cell_type": "code",
   "execution_count": null,
   "metadata": {
    "colab": {
     "base_uri": "https://localhost:8080/"
    },
    "executionInfo": {
     "elapsed": 1109,
     "status": "ok",
     "timestamp": 1631477090138,
     "user": {
      "displayName": "Ivo Blohm",
      "photoUrl": "https://lh3.googleusercontent.com/a/default-user=s64",
      "userId": "03588522102684867783"
     },
     "user_tz": -120
    },
    "id": "LsUresyhbx4x",
    "outputId": "3b4aeaa6-3639-4d5a-b5e8-7b31cc9ceb7c",
    "pycharm": {
     "name": "#%%\n"
    }
   },
   "outputs": [],
   "source": [
    "from sklearn.cluster import KMeans\n",
    "kmeans3 = ____(____=3, random_state=1).____(____)\n",
    "kmeans8  = ____(____=8, random_state=1).____(____)\n",
    "\n",
    "kmeans_labels3 = kmeans3.labels_\n",
    "kmeans_labels8 = kmeans8.labels_\n",
    "\n",
    "from sklearn.metrics import ____\n",
    "print(silhouette_score(____, kmeans_labels3))\n",
    "print(silhouette_score(____, kmeans_labels8))"
   ]
  },
  {
   "cell_type": "markdown",
   "metadata": {
    "id": "6ILmUAfAew6P",
    "pycharm": {
     "name": "#%% md\n"
    }
   },
   "source": [
    "# Building a Mini-Recommender"
   ]
  },
  {
   "cell_type": "code",
   "execution_count": null,
   "metadata": {
    "colab": {
     "base_uri": "https://localhost:8080/",
     "height": 80
    },
    "executionInfo": {
     "elapsed": 321,
     "status": "ok",
     "timestamp": 1631477132444,
     "user": {
      "displayName": "Ivo Blohm",
      "photoUrl": "https://lh3.googleusercontent.com/a/default-user=s64",
      "userId": "03588522102684867783"
     },
     "user_tz": -120
    },
    "id": "OJtOPS5FdPOi",
    "outputId": "711db1f3-3d5e-43cf-c35f-191c9d19e4bf",
    "pycharm": {
     "name": "#%%\n"
    }
   },
   "outputs": [],
   "source": [
    "movies[\"cluster\"] = kmeans_labels8\n",
    "movies.loc[____.title ==\"Toy Story\",:]"
   ]
  },
  {
   "cell_type": "code",
   "execution_count": null,
   "metadata": {
    "colab": {
     "base_uri": "https://localhost:8080/",
     "height": 566
    },
    "executionInfo": {
     "elapsed": 306,
     "status": "ok",
     "timestamp": 1631477134288,
     "user": {
      "displayName": "Ivo Blohm",
      "photoUrl": "https://lh3.googleusercontent.com/a/default-user=s64",
      "userId": "03588522102684867783"
     },
     "user_tz": -120
    },
    "id": "4m6jCbMtj4FI",
    "outputId": "e2522c38-6080-47e2-bf25-690bae142d94",
    "pycharm": {
     "name": "#%%\n"
    }
   },
   "outputs": [],
   "source": [
    "movies.loc[movies.cluster==0,:].sort_values([\"year\",\"rating\"], ascending=False).head(10)"
   ]
  }
 ],
 "metadata": {
  "colab": {
   "collapsed_sections": [],
   "name": "Introduction to Clustering COMPLETED.ipynb",
   "provenance": [
    {
     "file_id": "1WlIq4bsjXXBJykerHEAF6UDMJSs-6Jlw",
     "timestamp": 1631124815235
    },
    {
     "file_id": "18im53fXJIjYw3NTAdwxOcOWfrkftkt8b",
     "timestamp": 1592485140678
    }
   ]
  },
  "kernelspec": {
   "display_name": "Python 3 (ipykernel)",
   "language": "python",
   "name": "python3"
  },
  "language_info": {
   "codemirror_mode": {
    "name": "ipython",
    "version": 3
   },
   "file_extension": ".py",
   "mimetype": "text/x-python",
   "name": "python",
   "nbconvert_exporter": "python",
   "pygments_lexer": "ipython3",
   "version": "3.9.10"
  }
 },
 "nbformat": 4,
 "nbformat_minor": 1
}