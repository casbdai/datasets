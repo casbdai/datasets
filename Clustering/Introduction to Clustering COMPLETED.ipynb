{
 "cells": [
  {
   "cell_type": "markdown",
   "metadata": {
    "id": "HtXEcvNWPZpr",
    "pycharm": {
     "name": "#%% md\n"
    }
   },
   "source": [
    "# Hands On - Predicting Entertainment Hits - Introduction to Clustering and Recommenders"
   ]
  },
  {
   "cell_type": "markdown",
   "metadata": {
    "id": "shbARdpqP29x",
    "pycharm": {
     "name": "#%% md\n"
    }
   },
   "source": [
    "## Import"
   ]
  },
  {
   "cell_type": "code",
   "execution_count": 1,
   "metadata": {
    "executionInfo": {
     "elapsed": 313,
     "status": "ok",
     "timestamp": 1631476798848,
     "user": {
      "displayName": "Ivo Blohm",
      "photoUrl": "https://lh3.googleusercontent.com/a/default-user=s64",
      "userId": "03588522102684867783"
     },
     "user_tz": -120
    },
    "id": "wNxGBdh5M9Pd",
    "pycharm": {
     "name": "#%%\n"
    }
   },
   "outputs": [],
   "source": [
    "import pandas as pd\n",
    "movies = pd.read_csv(\"https://raw.githubusercontent.com/casbdai/datasets/main/movie_data.csv\")"
   ]
  },
  {
   "cell_type": "markdown",
   "metadata": {
    "id": "OvzSd2J4P5Yh",
    "pycharm": {
     "name": "#%% md\n"
    }
   },
   "source": [
    "## Checking Structure"
   ]
  },
  {
   "cell_type": "code",
   "execution_count": 2,
   "metadata": {
    "colab": {
     "base_uri": "https://localhost:8080/"
    },
    "executionInfo": {
     "elapsed": 310,
     "status": "ok",
     "timestamp": 1631476800579,
     "user": {
      "displayName": "Ivo Blohm",
      "photoUrl": "https://lh3.googleusercontent.com/a/default-user=s64",
      "userId": "03588522102684867783"
     },
     "user_tz": -120
    },
    "id": "FiPlcB9GIpnx",
    "outputId": "ca4fff35-d25c-420b-b244-3d06e1f0d841",
    "pycharm": {
     "name": "#%%\n"
    }
   },
   "outputs": [
    {
     "name": "stdout",
     "output_type": "stream",
     "text": [
      "<class 'pandas.core.frame.DataFrame'>\n",
      "RangeIndex: 8546 entries, 0 to 8545\n",
      "Data columns (total 22 columns):\n",
      " #   Column       Non-Null Count  Dtype  \n",
      "---  ------       --------------  -----  \n",
      " 0   movieId      8546 non-null   int64  \n",
      " 1   title        8546 non-null   object \n",
      " 2   year         8546 non-null   int64  \n",
      " 3   Action       8546 non-null   int64  \n",
      " 4   Adventure    8546 non-null   int64  \n",
      " 5   Animation    8546 non-null   int64  \n",
      " 6   Children     8546 non-null   int64  \n",
      " 7   Comedy       8546 non-null   int64  \n",
      " 8   Crime        8546 non-null   int64  \n",
      " 9   Documentary  8546 non-null   int64  \n",
      " 10  Drama        8546 non-null   int64  \n",
      " 11  Fantasy      8546 non-null   int64  \n",
      " 12  FilmNoir     8546 non-null   int64  \n",
      " 13  Horror       8546 non-null   int64  \n",
      " 14  Musical      8546 non-null   int64  \n",
      " 15  Mystery      8546 non-null   int64  \n",
      " 16  Romance      8546 non-null   int64  \n",
      " 17  SciFi        8546 non-null   int64  \n",
      " 18  Thriller     8546 non-null   int64  \n",
      " 19  War          8546 non-null   int64  \n",
      " 20  Western      8546 non-null   int64  \n",
      " 21  rating       8546 non-null   float64\n",
      "dtypes: float64(1), int64(20), object(1)\n",
      "memory usage: 1.4+ MB\n"
     ]
    }
   ],
   "source": [
    "movies.info()"
   ]
  },
  {
   "cell_type": "code",
   "execution_count": 3,
   "metadata": {
    "colab": {
     "base_uri": "https://localhost:8080/",
     "height": 204
    },
    "executionInfo": {
     "elapsed": 202,
     "status": "ok",
     "timestamp": 1631476804325,
     "user": {
      "displayName": "Ivo Blohm",
      "photoUrl": "https://lh3.googleusercontent.com/a/default-user=s64",
      "userId": "03588522102684867783"
     },
     "user_tz": -120
    },
    "id": "9fvxpfgWumsa",
    "outputId": "ce9fcdda-564b-4505-aa67-27fd488294bd",
    "pycharm": {
     "name": "#%%\n"
    }
   },
   "outputs": [
    {
     "data": {
      "text/html": [
       "<div>\n",
       "<style scoped>\n",
       "    .dataframe tbody tr th:only-of-type {\n",
       "        vertical-align: middle;\n",
       "    }\n",
       "\n",
       "    .dataframe tbody tr th {\n",
       "        vertical-align: top;\n",
       "    }\n",
       "\n",
       "    .dataframe thead th {\n",
       "        text-align: right;\n",
       "    }\n",
       "</style>\n",
       "<table border=\"1\" class=\"dataframe\">\n",
       "  <thead>\n",
       "    <tr style=\"text-align: right;\">\n",
       "      <th></th>\n",
       "      <th>movieId</th>\n",
       "      <th>title</th>\n",
       "      <th>year</th>\n",
       "      <th>Action</th>\n",
       "      <th>Adventure</th>\n",
       "      <th>Animation</th>\n",
       "      <th>Children</th>\n",
       "      <th>Comedy</th>\n",
       "      <th>Crime</th>\n",
       "      <th>Documentary</th>\n",
       "      <th>...</th>\n",
       "      <th>FilmNoir</th>\n",
       "      <th>Horror</th>\n",
       "      <th>Musical</th>\n",
       "      <th>Mystery</th>\n",
       "      <th>Romance</th>\n",
       "      <th>SciFi</th>\n",
       "      <th>Thriller</th>\n",
       "      <th>War</th>\n",
       "      <th>Western</th>\n",
       "      <th>rating</th>\n",
       "    </tr>\n",
       "  </thead>\n",
       "  <tbody>\n",
       "    <tr>\n",
       "      <th>0</th>\n",
       "      <td>1</td>\n",
       "      <td>Toy Story</td>\n",
       "      <td>1995</td>\n",
       "      <td>0</td>\n",
       "      <td>1</td>\n",
       "      <td>1</td>\n",
       "      <td>1</td>\n",
       "      <td>1</td>\n",
       "      <td>0</td>\n",
       "      <td>0</td>\n",
       "      <td>...</td>\n",
       "      <td>0</td>\n",
       "      <td>0</td>\n",
       "      <td>0</td>\n",
       "      <td>0</td>\n",
       "      <td>0</td>\n",
       "      <td>0</td>\n",
       "      <td>0</td>\n",
       "      <td>0</td>\n",
       "      <td>0</td>\n",
       "      <td>3.872470</td>\n",
       "    </tr>\n",
       "    <tr>\n",
       "      <th>1</th>\n",
       "      <td>2</td>\n",
       "      <td>Jumanji</td>\n",
       "      <td>1995</td>\n",
       "      <td>0</td>\n",
       "      <td>1</td>\n",
       "      <td>0</td>\n",
       "      <td>1</td>\n",
       "      <td>0</td>\n",
       "      <td>0</td>\n",
       "      <td>0</td>\n",
       "      <td>...</td>\n",
       "      <td>0</td>\n",
       "      <td>0</td>\n",
       "      <td>0</td>\n",
       "      <td>0</td>\n",
       "      <td>0</td>\n",
       "      <td>0</td>\n",
       "      <td>0</td>\n",
       "      <td>0</td>\n",
       "      <td>0</td>\n",
       "      <td>3.401869</td>\n",
       "    </tr>\n",
       "    <tr>\n",
       "      <th>2</th>\n",
       "      <td>3</td>\n",
       "      <td>Grumpier Old Men</td>\n",
       "      <td>1995</td>\n",
       "      <td>0</td>\n",
       "      <td>0</td>\n",
       "      <td>0</td>\n",
       "      <td>0</td>\n",
       "      <td>1</td>\n",
       "      <td>0</td>\n",
       "      <td>0</td>\n",
       "      <td>...</td>\n",
       "      <td>0</td>\n",
       "      <td>0</td>\n",
       "      <td>0</td>\n",
       "      <td>0</td>\n",
       "      <td>1</td>\n",
       "      <td>0</td>\n",
       "      <td>0</td>\n",
       "      <td>0</td>\n",
       "      <td>0</td>\n",
       "      <td>3.161017</td>\n",
       "    </tr>\n",
       "    <tr>\n",
       "      <th>3</th>\n",
       "      <td>4</td>\n",
       "      <td>Waiting to Exhale</td>\n",
       "      <td>1995</td>\n",
       "      <td>0</td>\n",
       "      <td>0</td>\n",
       "      <td>0</td>\n",
       "      <td>0</td>\n",
       "      <td>1</td>\n",
       "      <td>0</td>\n",
       "      <td>0</td>\n",
       "      <td>...</td>\n",
       "      <td>0</td>\n",
       "      <td>0</td>\n",
       "      <td>0</td>\n",
       "      <td>0</td>\n",
       "      <td>1</td>\n",
       "      <td>0</td>\n",
       "      <td>0</td>\n",
       "      <td>0</td>\n",
       "      <td>0</td>\n",
       "      <td>2.384615</td>\n",
       "    </tr>\n",
       "    <tr>\n",
       "      <th>4</th>\n",
       "      <td>5</td>\n",
       "      <td>Father of the Bride Part II</td>\n",
       "      <td>1995</td>\n",
       "      <td>0</td>\n",
       "      <td>0</td>\n",
       "      <td>0</td>\n",
       "      <td>0</td>\n",
       "      <td>1</td>\n",
       "      <td>0</td>\n",
       "      <td>0</td>\n",
       "      <td>...</td>\n",
       "      <td>0</td>\n",
       "      <td>0</td>\n",
       "      <td>0</td>\n",
       "      <td>0</td>\n",
       "      <td>0</td>\n",
       "      <td>0</td>\n",
       "      <td>0</td>\n",
       "      <td>0</td>\n",
       "      <td>0</td>\n",
       "      <td>3.267857</td>\n",
       "    </tr>\n",
       "  </tbody>\n",
       "</table>\n",
       "<p>5 rows × 22 columns</p>\n",
       "</div>"
      ],
      "text/plain": [
       "   movieId                        title  year  Action  Adventure  Animation  \\\n",
       "0        1                    Toy Story  1995       0          1          1   \n",
       "1        2                      Jumanji  1995       0          1          0   \n",
       "2        3             Grumpier Old Men  1995       0          0          0   \n",
       "3        4            Waiting to Exhale  1995       0          0          0   \n",
       "4        5  Father of the Bride Part II  1995       0          0          0   \n",
       "\n",
       "   Children  Comedy  Crime  Documentary  ...  FilmNoir  Horror  Musical  \\\n",
       "0         1       1      0            0  ...         0       0        0   \n",
       "1         1       0      0            0  ...         0       0        0   \n",
       "2         0       1      0            0  ...         0       0        0   \n",
       "3         0       1      0            0  ...         0       0        0   \n",
       "4         0       1      0            0  ...         0       0        0   \n",
       "\n",
       "   Mystery  Romance  SciFi  Thriller  War  Western    rating  \n",
       "0        0        0      0         0    0        0  3.872470  \n",
       "1        0        0      0         0    0        0  3.401869  \n",
       "2        0        1      0         0    0        0  3.161017  \n",
       "3        0        1      0         0    0        0  2.384615  \n",
       "4        0        0      0         0    0        0  3.267857  \n",
       "\n",
       "[5 rows x 22 columns]"
      ]
     },
     "execution_count": 3,
     "metadata": {},
     "output_type": "execute_result"
    }
   ],
   "source": [
    "movies.head()"
   ]
  },
  {
   "cell_type": "code",
   "execution_count": 4,
   "metadata": {
    "colab": {
     "base_uri": "https://localhost:8080/"
    },
    "executionInfo": {
     "elapsed": 197,
     "status": "ok",
     "timestamp": 1631476806244,
     "user": {
      "displayName": "Ivo Blohm",
      "photoUrl": "https://lh3.googleusercontent.com/a/default-user=s64",
      "userId": "03588522102684867783"
     },
     "user_tz": -120
    },
    "id": "replRE6zVsd5",
    "outputId": "2cca017e-f9de-4775-c563-94ef8795dd94",
    "pycharm": {
     "name": "#%%\n"
    }
   },
   "outputs": [
    {
     "name": "stdout",
     "output_type": "stream",
     "text": [
      "<class 'pandas.core.frame.DataFrame'>\n",
      "RangeIndex: 8546 entries, 0 to 8545\n",
      "Data columns (total 18 columns):\n",
      " #   Column       Non-Null Count  Dtype\n",
      "---  ------       --------------  -----\n",
      " 0   Action       8546 non-null   int64\n",
      " 1   Adventure    8546 non-null   int64\n",
      " 2   Animation    8546 non-null   int64\n",
      " 3   Children     8546 non-null   int64\n",
      " 4   Comedy       8546 non-null   int64\n",
      " 5   Crime        8546 non-null   int64\n",
      " 6   Documentary  8546 non-null   int64\n",
      " 7   Drama        8546 non-null   int64\n",
      " 8   Fantasy      8546 non-null   int64\n",
      " 9   FilmNoir     8546 non-null   int64\n",
      " 10  Horror       8546 non-null   int64\n",
      " 11  Musical      8546 non-null   int64\n",
      " 12  Mystery      8546 non-null   int64\n",
      " 13  Romance      8546 non-null   int64\n",
      " 14  SciFi        8546 non-null   int64\n",
      " 15  Thriller     8546 non-null   int64\n",
      " 16  War          8546 non-null   int64\n",
      " 17  Western      8546 non-null   int64\n",
      "dtypes: int64(18)\n",
      "memory usage: 1.2 MB\n"
     ]
    }
   ],
   "source": [
    "genre_data = movies.iloc[:,3:21]\n",
    "genre_data.info()"
   ]
  },
  {
   "cell_type": "markdown",
   "metadata": {
    "id": "B3gewMHz-0q8",
    "pycharm": {
     "name": "#%% md\n"
    }
   },
   "source": [
    "# Workflow for Hierarchical Clustering"
   ]
  },
  {
   "cell_type": "markdown",
   "metadata": {
    "id": "UBpK8BojUjFU",
    "pycharm": {
     "name": "#%% md\n"
    }
   },
   "source": [
    "## 1) Inspect Dendrogram"
   ]
  },
  {
   "cell_type": "code",
   "execution_count": 5,
   "metadata": {
    "colab": {
     "base_uri": "https://localhost:8080/",
     "height": 272
    },
    "executionInfo": {
     "elapsed": 16154,
     "status": "ok",
     "timestamp": 1631476824610,
     "user": {
      "displayName": "Ivo Blohm",
      "photoUrl": "https://lh3.googleusercontent.com/a/default-user=s64",
      "userId": "03588522102684867783"
     },
     "user_tz": -120
    },
    "id": "g5kT3B7oUrsL",
    "outputId": "29d0fc22-9dc3-4099-82a8-2ed7c44fff8b",
    "pycharm": {
     "name": "#%%\n"
    }
   },
   "outputs": [
    {
     "data": {
      "image/png": "[encoded data removed]",
      "text/plain": [
       "<Figure size 432x288 with 1 Axes>"
      ]
     },
     "metadata": {
      "needs_background": "light"
     },
     "output_type": "display_data"
    }
   ],
   "source": [
    "from scipy.cluster.hierarchy import dendrogram, linkage\n",
    "\n",
    "# prepare data for dendogram\n",
    "Z = linkage(genre_data, 'ward')\n",
    "\n",
    "# plot dendrogram\n",
    "dn = dendrogram(Z, p=500, truncate_mode=\"lastp\")"
   ]
  },
  {
   "cell_type": "markdown",
   "metadata": {
    "id": "CT4T3kdcak4U",
    "pycharm": {
     "name": "#%% md\n"
    }
   },
   "source": [
    "## 2) Create Clustering"
   ]
  },
  {
   "cell_type": "code",
   "execution_count": 6,
   "metadata": {
    "executionInfo": {
     "elapsed": 4878,
     "status": "ok",
     "timestamp": 1631476829483,
     "user": {
      "displayName": "Ivo Blohm",
      "photoUrl": "https://lh3.googleusercontent.com/a/default-user=s64",
      "userId": "03588522102684867783"
     },
     "user_tz": -120
    },
    "id": "IR05lpIQOz1s",
    "pycharm": {
     "name": "#%%\n"
    }
   },
   "outputs": [],
   "source": [
    "from sklearn.cluster import AgglomerativeClustering\n",
    "clusters3 = AgglomerativeClustering(n_clusters=3).fit(genre_data)\n",
    "clusters8 = AgglomerativeClustering(n_clusters=8).fit(genre_data)"
   ]
  },
  {
   "cell_type": "code",
   "execution_count": 7,
   "metadata": {
    "executionInfo": {
     "elapsed": 10,
     "status": "ok",
     "timestamp": 1631476829483,
     "user": {
      "displayName": "Ivo Blohm",
      "photoUrl": "https://lh3.googleusercontent.com/a/default-user=s64",
      "userId": "03588522102684867783"
     },
     "user_tz": -120
    },
    "id": "AkjkQHU9asuM",
    "pycharm": {
     "name": "#%%\n"
    }
   },
   "outputs": [],
   "source": [
    "labels3 = clusters3.labels_\n",
    "labels8 = clusters8.labels_"
   ]
  },
  {
   "cell_type": "markdown",
   "metadata": {
    "id": "EBNcBWD3U5IZ",
    "pycharm": {
     "name": "#%% md\n"
    }
   },
   "source": [
    "## 3) Compare Clustering"
   ]
  },
  {
   "cell_type": "code",
   "execution_count": 8,
   "metadata": {
    "colab": {
     "base_uri": "https://localhost:8080/",
     "height": 142
    },
    "executionInfo": {
     "elapsed": 8,
     "status": "ok",
     "timestamp": 1631476829484,
     "user": {
      "displayName": "Ivo Blohm",
      "photoUrl": "https://lh3.googleusercontent.com/a/default-user=s64",
      "userId": "03588522102684867783"
     },
     "user_tz": -120
    },
    "id": "WkW6Y7GSU71C",
    "outputId": "1746c928-d662-4ecc-b5e4-04a9be18d7a6",
    "pycharm": {
     "name": "#%%\n"
    }
   },
   "outputs": [
    {
     "data": {
      "text/html": [
       "<div>\n",
       "<style scoped>\n",
       "    .dataframe tbody tr th:only-of-type {\n",
       "        vertical-align: middle;\n",
       "    }\n",
       "\n",
       "    .dataframe tbody tr th {\n",
       "        vertical-align: top;\n",
       "    }\n",
       "\n",
       "    .dataframe thead th {\n",
       "        text-align: right;\n",
       "    }\n",
       "</style>\n",
       "<table border=\"1\" class=\"dataframe\">\n",
       "  <thead>\n",
       "    <tr style=\"text-align: right;\">\n",
       "      <th></th>\n",
       "      <th>Action</th>\n",
       "      <th>Adventure</th>\n",
       "      <th>Animation</th>\n",
       "      <th>Children</th>\n",
       "      <th>Comedy</th>\n",
       "      <th>Crime</th>\n",
       "      <th>Documentary</th>\n",
       "      <th>Drama</th>\n",
       "      <th>Fantasy</th>\n",
       "      <th>FilmNoir</th>\n",
       "      <th>Horror</th>\n",
       "      <th>Musical</th>\n",
       "      <th>Mystery</th>\n",
       "      <th>Romance</th>\n",
       "      <th>SciFi</th>\n",
       "      <th>Thriller</th>\n",
       "      <th>War</th>\n",
       "      <th>Western</th>\n",
       "    </tr>\n",
       "  </thead>\n",
       "  <tbody>\n",
       "    <tr>\n",
       "      <th>0</th>\n",
       "      <td>0.026962</td>\n",
       "      <td>0.010060</td>\n",
       "      <td>0.001610</td>\n",
       "      <td>0.006036</td>\n",
       "      <td>0.820523</td>\n",
       "      <td>0.088531</td>\n",
       "      <td>0.000000</td>\n",
       "      <td>0.478471</td>\n",
       "      <td>0.004829</td>\n",
       "      <td>0.000805</td>\n",
       "      <td>0.007646</td>\n",
       "      <td>0.000402</td>\n",
       "      <td>0.024547</td>\n",
       "      <td>0.434608</td>\n",
       "      <td>0.001207</td>\n",
       "      <td>0.053521</td>\n",
       "      <td>0.004024</td>\n",
       "      <td>0.000402</td>\n",
       "    </tr>\n",
       "    <tr>\n",
       "      <th>1</th>\n",
       "      <td>0.392284</td>\n",
       "      <td>0.245476</td>\n",
       "      <td>0.115056</td>\n",
       "      <td>0.124274</td>\n",
       "      <td>0.266644</td>\n",
       "      <td>0.121202</td>\n",
       "      <td>0.149539</td>\n",
       "      <td>0.168317</td>\n",
       "      <td>0.191533</td>\n",
       "      <td>0.000683</td>\n",
       "      <td>0.243769</td>\n",
       "      <td>0.049164</td>\n",
       "      <td>0.035848</td>\n",
       "      <td>0.051553</td>\n",
       "      <td>0.157733</td>\n",
       "      <td>0.270399</td>\n",
       "      <td>0.012632</td>\n",
       "      <td>0.003756</td>\n",
       "    </tr>\n",
       "    <tr>\n",
       "      <th>2</th>\n",
       "      <td>0.054917</td>\n",
       "      <td>0.090038</td>\n",
       "      <td>0.018838</td>\n",
       "      <td>0.049808</td>\n",
       "      <td>0.093231</td>\n",
       "      <td>0.140805</td>\n",
       "      <td>0.007024</td>\n",
       "      <td>0.795977</td>\n",
       "      <td>0.014368</td>\n",
       "      <td>0.036398</td>\n",
       "      <td>0.015964</td>\n",
       "      <td>0.074074</td>\n",
       "      <td>0.107918</td>\n",
       "      <td>0.083014</td>\n",
       "      <td>0.077905</td>\n",
       "      <td>0.212005</td>\n",
       "      <td>0.097382</td>\n",
       "      <td>0.047573</td>\n",
       "    </tr>\n",
       "  </tbody>\n",
       "</table>\n",
       "</div>"
      ],
      "text/plain": [
       "     Action  Adventure  Animation  Children    Comedy     Crime  Documentary  \\\n",
       "0  0.026962   0.010060   0.001610  0.006036  0.820523  0.088531     0.000000   \n",
       "1  0.392284   0.245476   0.115056  0.124274  0.266644  0.121202     0.149539   \n",
       "2  0.054917   0.090038   0.018838  0.049808  0.093231  0.140805     0.007024   \n",
       "\n",
       "      Drama   Fantasy  FilmNoir    Horror   Musical   Mystery   Romance  \\\n",
       "0  0.478471  0.004829  0.000805  0.007646  0.000402  0.024547  0.434608   \n",
       "1  0.168317  0.191533  0.000683  0.243769  0.049164  0.035848  0.051553   \n",
       "2  0.795977  0.014368  0.036398  0.015964  0.074074  0.107918  0.083014   \n",
       "\n",
       "      SciFi  Thriller       War   Western  \n",
       "0  0.001207  0.053521  0.004024  0.000402  \n",
       "1  0.157733  0.270399  0.012632  0.003756  \n",
       "2  0.077905  0.212005  0.097382  0.047573  "
      ]
     },
     "execution_count": 8,
     "metadata": {},
     "output_type": "execute_result"
    }
   ],
   "source": [
    "means3 = genre_data.groupby(labels3).mean()\n",
    "means3"
   ]
  },
  {
   "cell_type": "code",
   "execution_count": 9,
   "metadata": {
    "colab": {
     "base_uri": "https://localhost:8080/",
     "height": 297
    },
    "executionInfo": {
     "elapsed": 6,
     "status": "ok",
     "timestamp": 1631476829484,
     "user": {
      "displayName": "Ivo Blohm",
      "photoUrl": "https://lh3.googleusercontent.com/a/default-user=s64",
      "userId": "03588522102684867783"
     },
     "user_tz": -120
    },
    "id": "njco5n9uUFkD",
    "outputId": "665e6777-980d-4cab-f75d-ae148680945a",
    "pycharm": {
     "name": "#%%\n"
    }
   },
   "outputs": [
    {
     "data": {
      "text/html": [
       "<div>\n",
       "<style scoped>\n",
       "    .dataframe tbody tr th:only-of-type {\n",
       "        vertical-align: middle;\n",
       "    }\n",
       "\n",
       "    .dataframe tbody tr th {\n",
       "        vertical-align: top;\n",
       "    }\n",
       "\n",
       "    .dataframe thead th {\n",
       "        text-align: right;\n",
       "    }\n",
       "</style>\n",
       "<table border=\"1\" class=\"dataframe\">\n",
       "  <thead>\n",
       "    <tr style=\"text-align: right;\">\n",
       "      <th></th>\n",
       "      <th>Action</th>\n",
       "      <th>Adventure</th>\n",
       "      <th>Animation</th>\n",
       "      <th>Children</th>\n",
       "      <th>Comedy</th>\n",
       "      <th>Crime</th>\n",
       "      <th>Documentary</th>\n",
       "      <th>Drama</th>\n",
       "      <th>Fantasy</th>\n",
       "      <th>FilmNoir</th>\n",
       "      <th>Horror</th>\n",
       "      <th>Musical</th>\n",
       "      <th>Mystery</th>\n",
       "      <th>Romance</th>\n",
       "      <th>SciFi</th>\n",
       "      <th>Thriller</th>\n",
       "      <th>War</th>\n",
       "      <th>Western</th>\n",
       "    </tr>\n",
       "  </thead>\n",
       "  <tbody>\n",
       "    <tr>\n",
       "      <th>0</th>\n",
       "      <td>0.054329</td>\n",
       "      <td>0.120141</td>\n",
       "      <td>0.025618</td>\n",
       "      <td>0.068905</td>\n",
       "      <td>0.127208</td>\n",
       "      <td>0.017226</td>\n",
       "      <td>0.009276</td>\n",
       "      <td>0.801678</td>\n",
       "      <td>0.016343</td>\n",
       "      <td>0.000442</td>\n",
       "      <td>0.007951</td>\n",
       "      <td>0.102473</td>\n",
       "      <td>0.015459</td>\n",
       "      <td>0.095406</td>\n",
       "      <td>0.102473</td>\n",
       "      <td>0.034452</td>\n",
       "      <td>0.133834</td>\n",
       "      <td>0.065813</td>\n",
       "    </tr>\n",
       "    <tr>\n",
       "      <th>1</th>\n",
       "      <td>0.037037</td>\n",
       "      <td>0.014815</td>\n",
       "      <td>0.003704</td>\n",
       "      <td>0.010185</td>\n",
       "      <td>0.587037</td>\n",
       "      <td>0.056481</td>\n",
       "      <td>0.000000</td>\n",
       "      <td>0.634259</td>\n",
       "      <td>0.005556</td>\n",
       "      <td>0.000926</td>\n",
       "      <td>0.015741</td>\n",
       "      <td>0.000926</td>\n",
       "      <td>0.012963</td>\n",
       "      <td>1.000000</td>\n",
       "      <td>0.000926</td>\n",
       "      <td>0.059259</td>\n",
       "      <td>0.008333</td>\n",
       "      <td>0.000926</td>\n",
       "    </tr>\n",
       "    <tr>\n",
       "      <th>2</th>\n",
       "      <td>0.854902</td>\n",
       "      <td>0.358824</td>\n",
       "      <td>0.012745</td>\n",
       "      <td>0.003922</td>\n",
       "      <td>0.260784</td>\n",
       "      <td>0.300980</td>\n",
       "      <td>0.005882</td>\n",
       "      <td>0.246078</td>\n",
       "      <td>0.006863</td>\n",
       "      <td>0.000980</td>\n",
       "      <td>0.013725</td>\n",
       "      <td>0.000980</td>\n",
       "      <td>0.016667</td>\n",
       "      <td>0.045098</td>\n",
       "      <td>0.243137</td>\n",
       "      <td>0.423529</td>\n",
       "      <td>0.029412</td>\n",
       "      <td>0.002941</td>\n",
       "    </tr>\n",
       "    <tr>\n",
       "      <th>3</th>\n",
       "      <td>0.019217</td>\n",
       "      <td>0.006406</td>\n",
       "      <td>0.000000</td>\n",
       "      <td>0.002847</td>\n",
       "      <td>1.000000</td>\n",
       "      <td>0.113167</td>\n",
       "      <td>0.000000</td>\n",
       "      <td>0.358719</td>\n",
       "      <td>0.004270</td>\n",
       "      <td>0.000712</td>\n",
       "      <td>0.001423</td>\n",
       "      <td>0.000000</td>\n",
       "      <td>0.033452</td>\n",
       "      <td>0.000000</td>\n",
       "      <td>0.001423</td>\n",
       "      <td>0.049110</td>\n",
       "      <td>0.000712</td>\n",
       "      <td>0.000000</td>\n",
       "    </tr>\n",
       "    <tr>\n",
       "      <th>4</th>\n",
       "      <td>0.230100</td>\n",
       "      <td>0.422886</td>\n",
       "      <td>0.399254</td>\n",
       "      <td>0.447761</td>\n",
       "      <td>0.467662</td>\n",
       "      <td>0.017413</td>\n",
       "      <td>0.006219</td>\n",
       "      <td>0.161692</td>\n",
       "      <td>0.645522</td>\n",
       "      <td>0.001244</td>\n",
       "      <td>0.054726</td>\n",
       "      <td>0.140547</td>\n",
       "      <td>0.018657</td>\n",
       "      <td>0.124378</td>\n",
       "      <td>0.077114</td>\n",
       "      <td>0.041045</td>\n",
       "      <td>0.004975</td>\n",
       "      <td>0.009950</td>\n",
       "    </tr>\n",
       "    <tr>\n",
       "      <th>5</th>\n",
       "      <td>0.133627</td>\n",
       "      <td>0.019090</td>\n",
       "      <td>0.004405</td>\n",
       "      <td>0.000000</td>\n",
       "      <td>0.148311</td>\n",
       "      <td>0.049927</td>\n",
       "      <td>0.004405</td>\n",
       "      <td>0.138032</td>\n",
       "      <td>0.051395</td>\n",
       "      <td>0.000000</td>\n",
       "      <td>0.963289</td>\n",
       "      <td>0.005874</td>\n",
       "      <td>0.107195</td>\n",
       "      <td>0.007342</td>\n",
       "      <td>0.220264</td>\n",
       "      <td>0.480176</td>\n",
       "      <td>0.004405</td>\n",
       "      <td>0.000000</td>\n",
       "    </tr>\n",
       "    <tr>\n",
       "      <th>6</th>\n",
       "      <td>0.002358</td>\n",
       "      <td>0.000000</td>\n",
       "      <td>0.000000</td>\n",
       "      <td>0.000000</td>\n",
       "      <td>0.089623</td>\n",
       "      <td>0.000000</td>\n",
       "      <td>1.000000</td>\n",
       "      <td>0.042453</td>\n",
       "      <td>0.000000</td>\n",
       "      <td>0.000000</td>\n",
       "      <td>0.000000</td>\n",
       "      <td>0.061321</td>\n",
       "      <td>0.000000</td>\n",
       "      <td>0.000000</td>\n",
       "      <td>0.004717</td>\n",
       "      <td>0.000000</td>\n",
       "      <td>0.000000</td>\n",
       "      <td>0.000000</td>\n",
       "    </tr>\n",
       "    <tr>\n",
       "      <th>7</th>\n",
       "      <td>0.056452</td>\n",
       "      <td>0.011521</td>\n",
       "      <td>0.001152</td>\n",
       "      <td>0.000000</td>\n",
       "      <td>0.004608</td>\n",
       "      <td>0.463134</td>\n",
       "      <td>0.001152</td>\n",
       "      <td>0.781106</td>\n",
       "      <td>0.009217</td>\n",
       "      <td>0.130184</td>\n",
       "      <td>0.036866</td>\n",
       "      <td>0.000000</td>\n",
       "      <td>0.349078</td>\n",
       "      <td>0.050691</td>\n",
       "      <td>0.013825</td>\n",
       "      <td>0.675115</td>\n",
       "      <td>0.002304</td>\n",
       "      <td>0.000000</td>\n",
       "    </tr>\n",
       "  </tbody>\n",
       "</table>\n",
       "</div>"
      ],
      "text/plain": [
       "     Action  Adventure  Animation  Children    Comedy     Crime  Documentary  \\\n",
       "0  0.054329   0.120141   0.025618  0.068905  0.127208  0.017226     0.009276   \n",
       "1  0.037037   0.014815   0.003704  0.010185  0.587037  0.056481     0.000000   \n",
       "2  0.854902   0.358824   0.012745  0.003922  0.260784  0.300980     0.005882   \n",
       "3  0.019217   0.006406   0.000000  0.002847  1.000000  0.113167     0.000000   \n",
       "4  0.230100   0.422886   0.399254  0.447761  0.467662  0.017413     0.006219   \n",
       "5  0.133627   0.019090   0.004405  0.000000  0.148311  0.049927     0.004405   \n",
       "6  0.002358   0.000000   0.000000  0.000000  0.089623  0.000000     1.000000   \n",
       "7  0.056452   0.011521   0.001152  0.000000  0.004608  0.463134     0.001152   \n",
       "\n",
       "      Drama   Fantasy  FilmNoir    Horror   Musical   Mystery   Romance  \\\n",
       "0  0.801678  0.016343  0.000442  0.007951  0.102473  0.015459  0.095406   \n",
       "1  0.634259  0.005556  0.000926  0.015741  0.000926  0.012963  1.000000   \n",
       "2  0.246078  0.006863  0.000980  0.013725  0.000980  0.016667  0.045098   \n",
       "3  0.358719  0.004270  0.000712  0.001423  0.000000  0.033452  0.000000   \n",
       "4  0.161692  0.645522  0.001244  0.054726  0.140547  0.018657  0.124378   \n",
       "5  0.138032  0.051395  0.000000  0.963289  0.005874  0.107195  0.007342   \n",
       "6  0.042453  0.000000  0.000000  0.000000  0.061321  0.000000  0.000000   \n",
       "7  0.781106  0.009217  0.130184  0.036866  0.000000  0.349078  0.050691   \n",
       "\n",
       "      SciFi  Thriller       War   Western  \n",
       "0  0.102473  0.034452  0.133834  0.065813  \n",
       "1  0.000926  0.059259  0.008333  0.000926  \n",
       "2  0.243137  0.423529  0.029412  0.002941  \n",
       "3  0.001423  0.049110  0.000712  0.000000  \n",
       "4  0.077114  0.041045  0.004975  0.009950  \n",
       "5  0.220264  0.480176  0.004405  0.000000  \n",
       "6  0.004717  0.000000  0.000000  0.000000  \n",
       "7  0.013825  0.675115  0.002304  0.000000  "
      ]
     },
     "execution_count": 9,
     "metadata": {},
     "output_type": "execute_result"
    }
   ],
   "source": [
    "means8 = genre_data.groupby(labels8).mean()\n",
    "means8"
   ]
  },
  {
   "cell_type": "markdown",
   "metadata": {
    "pycharm": {
     "name": "#%% md\n"
    }
   },
   "source": [
    "You can use a heatmap to visualize this matrix. A popular implementation can be found in the [Seaborn Package](https://seaborn.pydata.org/generated/seaborn.heatmap.html)."
   ]
  },
  {
   "cell_type": "code",
   "execution_count": 10,
   "metadata": {
    "pycharm": {
     "name": "#%%\n"
    }
   },
   "outputs": [
    {
     "data": {
      "text/plain": [
       "<AxesSubplot:>"
      ]
     },
     "execution_count": 10,
     "metadata": {},
     "output_type": "execute_result"
    },
    {
     "data": {
      "image/png": "[encoded data removed]",
      "text/plain": [
       "<Figure size 432x288 with 2 Axes>"
      ]
     },
     "metadata": {
      "needs_background": "light"
     },
     "output_type": "display_data"
    }
   ],
   "source": [
    "# !pip install seaborn # Comment out this line if you are having ModuleNotFound errors, e.g., if you are using Anaconda\n",
    "from seaborn import heatmap\n",
    "\n",
    "heatmap(means3, cmap=\"YlGnBu\")"
   ]
  },
  {
   "cell_type": "code",
   "execution_count": 11,
   "metadata": {
    "pycharm": {
     "name": "#%%\n"
    }
   },
   "outputs": [
    {
     "data": {
      "text/plain": [
       "<AxesSubplot:>"
      ]
     },
     "execution_count": 11,
     "metadata": {},
     "output_type": "execute_result"
    },
    {
     "data": {
      "image/png": "[encoded data removed]",
      "text/plain": [
       "<Figure size 432x288 with 2 Axes>"
      ]
     },
     "metadata": {
      "needs_background": "light"
     },
     "output_type": "display_data"
    }
   ],
   "source": [
    "heatmap(means8, cmap=\"YlGnBu\")"
   ]
  },
  {
   "cell_type": "markdown",
   "metadata": {
    "id": "mRjIv6-IVDj3",
    "pycharm": {
     "name": "#%% md\n"
    }
   },
   "source": [
    "## 4) Evaluate Clustering"
   ]
  },
  {
   "cell_type": "code",
   "execution_count": 12,
   "metadata": {
    "colab": {
     "base_uri": "https://localhost:8080/"
    },
    "executionInfo": {
     "elapsed": 316,
     "status": "ok",
     "timestamp": 1631476829795,
     "user": {
      "displayName": "Ivo Blohm",
      "photoUrl": "https://lh3.googleusercontent.com/a/default-user=s64",
      "userId": "03588522102684867783"
     },
     "user_tz": -120
    },
    "id": "5RJjnL2hajuX",
    "outputId": "ae03ca04-1bf0-45a4-bf2e-877d007b6715",
    "pycharm": {
     "name": "#%%\n"
    }
   },
   "outputs": [
    {
     "name": "stdout",
     "output_type": "stream",
     "text": [
      "0.1323540474902286\n",
      "0.2307680213117143\n"
     ]
    }
   ],
   "source": [
    "from sklearn.metrics import silhouette_score\n",
    "print(silhouette_score(genre_data, labels3))\n",
    "print(silhouette_score(genre_data, labels8))"
   ]
  },
  {
   "cell_type": "markdown",
   "metadata": {
    "id": "O_gF9VY4erEP",
    "pycharm": {
     "name": "#%% md\n"
    }
   },
   "source": [
    "# Repeating with Kmeans"
   ]
  },
  {
   "cell_type": "code",
   "execution_count": 13,
   "metadata": {
    "colab": {
     "base_uri": "https://localhost:8080/"
    },
    "executionInfo": {
     "elapsed": 1109,
     "status": "ok",
     "timestamp": 1631477090138,
     "user": {
      "displayName": "Ivo Blohm",
      "photoUrl": "https://lh3.googleusercontent.com/a/default-user=s64",
      "userId": "03588522102684867783"
     },
     "user_tz": -120
    },
    "id": "LsUresyhbx4x",
    "outputId": "3b4aeaa6-3639-4d5a-b5e8-7b31cc9ceb7c",
    "pycharm": {
     "name": "#%%\n"
    }
   },
   "outputs": [
    {
     "name": "stdout",
     "output_type": "stream",
     "text": [
      "0.2425397155612789\n",
      "0.2913530657163521\n"
     ]
    }
   ],
   "source": [
    "from sklearn.cluster import KMeans\n",
    "kmeans3 = KMeans(n_clusters=3, random_state=1).fit(genre_data)\n",
    "kmeans8  = KMeans(n_clusters=8, random_state=1).fit(genre_data)\n",
    "\n",
    "kmeans_labels3 = kmeans3.labels_\n",
    "kmeans_labels8 = kmeans8.labels_\n",
    "\n",
    "from sklearn.metrics import silhouette_score\n",
    "print(silhouette_score(genre_data, kmeans_labels3))\n",
    "print(silhouette_score(genre_data, kmeans_labels8))"
   ]
  },
  {
   "cell_type": "markdown",
   "metadata": {
    "id": "6ILmUAfAew6P",
    "pycharm": {
     "name": "#%% md\n"
    }
   },
   "source": [
    "# Building a Mini-Recommender"
   ]
  },
  {
   "cell_type": "code",
   "execution_count": 14,
   "metadata": {
    "colab": {
     "base_uri": "https://localhost:8080/",
     "height": 80
    },
    "executionInfo": {
     "elapsed": 321,
     "status": "ok",
     "timestamp": 1631477132444,
     "user": {
      "displayName": "Ivo Blohm",
      "photoUrl": "https://lh3.googleusercontent.com/a/default-user=s64",
      "userId": "03588522102684867783"
     },
     "user_tz": -120
    },
    "id": "OJtOPS5FdPOi",
    "outputId": "711db1f3-3d5e-43cf-c35f-191c9d19e4bf",
    "pycharm": {
     "name": "#%%\n"
    }
   },
   "outputs": [
    {
     "data": {
      "text/html": [
       "<div>\n",
       "<style scoped>\n",
       "    .dataframe tbody tr th:only-of-type {\n",
       "        vertical-align: middle;\n",
       "    }\n",
       "\n",
       "    .dataframe tbody tr th {\n",
       "        vertical-align: top;\n",
       "    }\n",
       "\n",
       "    .dataframe thead th {\n",
       "        text-align: right;\n",
       "    }\n",
       "</style>\n",
       "<table border=\"1\" class=\"dataframe\">\n",
       "  <thead>\n",
       "    <tr style=\"text-align: right;\">\n",
       "      <th></th>\n",
       "      <th>movieId</th>\n",
       "      <th>title</th>\n",
       "      <th>year</th>\n",
       "      <th>Action</th>\n",
       "      <th>Adventure</th>\n",
       "      <th>Animation</th>\n",
       "      <th>Children</th>\n",
       "      <th>Comedy</th>\n",
       "      <th>Crime</th>\n",
       "      <th>Documentary</th>\n",
       "      <th>...</th>\n",
       "      <th>Horror</th>\n",
       "      <th>Musical</th>\n",
       "      <th>Mystery</th>\n",
       "      <th>Romance</th>\n",
       "      <th>SciFi</th>\n",
       "      <th>Thriller</th>\n",
       "      <th>War</th>\n",
       "      <th>Western</th>\n",
       "      <th>rating</th>\n",
       "      <th>cluster</th>\n",
       "    </tr>\n",
       "  </thead>\n",
       "  <tbody>\n",
       "    <tr>\n",
       "      <th>0</th>\n",
       "      <td>1</td>\n",
       "      <td>Toy Story</td>\n",
       "      <td>1995</td>\n",
       "      <td>0</td>\n",
       "      <td>1</td>\n",
       "      <td>1</td>\n",
       "      <td>1</td>\n",
       "      <td>1</td>\n",
       "      <td>0</td>\n",
       "      <td>0</td>\n",
       "      <td>...</td>\n",
       "      <td>0</td>\n",
       "      <td>0</td>\n",
       "      <td>0</td>\n",
       "      <td>0</td>\n",
       "      <td>0</td>\n",
       "      <td>0</td>\n",
       "      <td>0</td>\n",
       "      <td>0</td>\n",
       "      <td>3.87247</td>\n",
       "      <td>0</td>\n",
       "    </tr>\n",
       "  </tbody>\n",
       "</table>\n",
       "<p>1 rows × 23 columns</p>\n",
       "</div>"
      ],
      "text/plain": [
       "   movieId      title  year  Action  Adventure  Animation  Children  Comedy  \\\n",
       "0        1  Toy Story  1995       0          1          1         1       1   \n",
       "\n",
       "   Crime  Documentary  ...  Horror  Musical  Mystery  Romance  SciFi  \\\n",
       "0      0            0  ...       0        0        0        0      0   \n",
       "\n",
       "   Thriller  War  Western   rating  cluster  \n",
       "0         0    0        0  3.87247        0  \n",
       "\n",
       "[1 rows x 23 columns]"
      ]
     },
     "execution_count": 14,
     "metadata": {},
     "output_type": "execute_result"
    }
   ],
   "source": [
    "movies[\"cluster\"] = kmeans_labels8\n",
    "movies.loc[movies.title ==\"Toy Story\",:]"
   ]
  },
  {
   "cell_type": "code",
   "execution_count": 15,
   "metadata": {
    "colab": {
     "base_uri": "https://localhost:8080/",
     "height": 566
    },
    "executionInfo": {
     "elapsed": 306,
     "status": "ok",
     "timestamp": 1631477134288,
     "user": {
      "displayName": "Ivo Blohm",
      "photoUrl": "https://lh3.googleusercontent.com/a/default-user=s64",
      "userId": "03588522102684867783"
     },
     "user_tz": -120
    },
    "id": "4m6jCbMtj4FI",
    "outputId": "e2522c38-6080-47e2-bf25-690bae142d94",
    "pycharm": {
     "name": "#%%\n"
    }
   },
   "outputs": [
    {
     "data": {
      "text/html": [
       "<div>\n",
       "<style scoped>\n",
       "    .dataframe tbody tr th:only-of-type {\n",
       "        vertical-align: middle;\n",
       "    }\n",
       "\n",
       "    .dataframe tbody tr th {\n",
       "        vertical-align: top;\n",
       "    }\n",
       "\n",
       "    .dataframe thead th {\n",
       "        text-align: right;\n",
       "    }\n",
       "</style>\n",
       "<table border=\"1\" class=\"dataframe\">\n",
       "  <thead>\n",
       "    <tr style=\"text-align: right;\">\n",
       "      <th></th>\n",
       "      <th>movieId</th>\n",
       "      <th>title</th>\n",
       "      <th>year</th>\n",
       "      <th>Action</th>\n",
       "      <th>Adventure</th>\n",
       "      <th>Animation</th>\n",
       "      <th>Children</th>\n",
       "      <th>Comedy</th>\n",
       "      <th>Crime</th>\n",
       "      <th>Documentary</th>\n",
       "      <th>...</th>\n",
       "      <th>Horror</th>\n",
       "      <th>Musical</th>\n",
       "      <th>Mystery</th>\n",
       "      <th>Romance</th>\n",
       "      <th>SciFi</th>\n",
       "      <th>Thriller</th>\n",
       "      <th>War</th>\n",
       "      <th>Western</th>\n",
       "      <th>rating</th>\n",
       "      <th>cluster</th>\n",
       "    </tr>\n",
       "  </thead>\n",
       "  <tbody>\n",
       "    <tr>\n",
       "      <th>8512</th>\n",
       "      <td>156025</td>\n",
       "      <td>Ice Age: The Great Egg-Scapade</td>\n",
       "      <td>2016</td>\n",
       "      <td>0</td>\n",
       "      <td>1</td>\n",
       "      <td>1</td>\n",
       "      <td>1</td>\n",
       "      <td>1</td>\n",
       "      <td>0</td>\n",
       "      <td>0</td>\n",
       "      <td>...</td>\n",
       "      <td>0</td>\n",
       "      <td>0</td>\n",
       "      <td>0</td>\n",
       "      <td>0</td>\n",
       "      <td>0</td>\n",
       "      <td>0</td>\n",
       "      <td>0</td>\n",
       "      <td>0</td>\n",
       "      <td>5.000000</td>\n",
       "      <td>0</td>\n",
       "    </tr>\n",
       "    <tr>\n",
       "      <th>8504</th>\n",
       "      <td>152081</td>\n",
       "      <td>Zootopia</td>\n",
       "      <td>2016</td>\n",
       "      <td>1</td>\n",
       "      <td>1</td>\n",
       "      <td>1</td>\n",
       "      <td>1</td>\n",
       "      <td>0</td>\n",
       "      <td>0</td>\n",
       "      <td>0</td>\n",
       "      <td>...</td>\n",
       "      <td>0</td>\n",
       "      <td>0</td>\n",
       "      <td>0</td>\n",
       "      <td>0</td>\n",
       "      <td>0</td>\n",
       "      <td>0</td>\n",
       "      <td>0</td>\n",
       "      <td>0</td>\n",
       "      <td>4.000000</td>\n",
       "      <td>0</td>\n",
       "    </tr>\n",
       "    <tr>\n",
       "      <th>8537</th>\n",
       "      <td>160718</td>\n",
       "      <td>Piper</td>\n",
       "      <td>2016</td>\n",
       "      <td>0</td>\n",
       "      <td>0</td>\n",
       "      <td>1</td>\n",
       "      <td>0</td>\n",
       "      <td>0</td>\n",
       "      <td>0</td>\n",
       "      <td>0</td>\n",
       "      <td>...</td>\n",
       "      <td>0</td>\n",
       "      <td>0</td>\n",
       "      <td>0</td>\n",
       "      <td>0</td>\n",
       "      <td>0</td>\n",
       "      <td>0</td>\n",
       "      <td>0</td>\n",
       "      <td>0</td>\n",
       "      <td>4.000000</td>\n",
       "      <td>0</td>\n",
       "    </tr>\n",
       "    <tr>\n",
       "      <th>8517</th>\n",
       "      <td>157296</td>\n",
       "      <td>Finding Dory</td>\n",
       "      <td>2016</td>\n",
       "      <td>0</td>\n",
       "      <td>1</td>\n",
       "      <td>1</td>\n",
       "      <td>0</td>\n",
       "      <td>1</td>\n",
       "      <td>0</td>\n",
       "      <td>0</td>\n",
       "      <td>...</td>\n",
       "      <td>0</td>\n",
       "      <td>0</td>\n",
       "      <td>0</td>\n",
       "      <td>0</td>\n",
       "      <td>0</td>\n",
       "      <td>0</td>\n",
       "      <td>0</td>\n",
       "      <td>0</td>\n",
       "      <td>3.333333</td>\n",
       "      <td>0</td>\n",
       "    </tr>\n",
       "    <tr>\n",
       "      <th>8379</th>\n",
       "      <td>136016</td>\n",
       "      <td>The Good Dinosaur</td>\n",
       "      <td>2015</td>\n",
       "      <td>0</td>\n",
       "      <td>1</td>\n",
       "      <td>1</td>\n",
       "      <td>1</td>\n",
       "      <td>1</td>\n",
       "      <td>0</td>\n",
       "      <td>0</td>\n",
       "      <td>...</td>\n",
       "      <td>0</td>\n",
       "      <td>0</td>\n",
       "      <td>0</td>\n",
       "      <td>0</td>\n",
       "      <td>0</td>\n",
       "      <td>0</td>\n",
       "      <td>0</td>\n",
       "      <td>0</td>\n",
       "      <td>4.500000</td>\n",
       "      <td>0</td>\n",
       "    </tr>\n",
       "    <tr>\n",
       "      <th>8367</th>\n",
       "      <td>134853</td>\n",
       "      <td>Inside Out</td>\n",
       "      <td>2015</td>\n",
       "      <td>0</td>\n",
       "      <td>1</td>\n",
       "      <td>1</td>\n",
       "      <td>1</td>\n",
       "      <td>1</td>\n",
       "      <td>0</td>\n",
       "      <td>0</td>\n",
       "      <td>...</td>\n",
       "      <td>0</td>\n",
       "      <td>0</td>\n",
       "      <td>0</td>\n",
       "      <td>0</td>\n",
       "      <td>0</td>\n",
       "      <td>0</td>\n",
       "      <td>0</td>\n",
       "      <td>0</td>\n",
       "      <td>4.041667</td>\n",
       "      <td>0</td>\n",
       "    </tr>\n",
       "    <tr>\n",
       "      <th>8319</th>\n",
       "      <td>130520</td>\n",
       "      <td>Home</td>\n",
       "      <td>2015</td>\n",
       "      <td>0</td>\n",
       "      <td>1</td>\n",
       "      <td>1</td>\n",
       "      <td>1</td>\n",
       "      <td>1</td>\n",
       "      <td>0</td>\n",
       "      <td>0</td>\n",
       "      <td>...</td>\n",
       "      <td>0</td>\n",
       "      <td>0</td>\n",
       "      <td>0</td>\n",
       "      <td>0</td>\n",
       "      <td>1</td>\n",
       "      <td>0</td>\n",
       "      <td>0</td>\n",
       "      <td>0</td>\n",
       "      <td>4.000000</td>\n",
       "      <td>0</td>\n",
       "    </tr>\n",
       "    <tr>\n",
       "      <th>8469</th>\n",
       "      <td>145935</td>\n",
       "      <td>Peanuts Movie, The</td>\n",
       "      <td>2015</td>\n",
       "      <td>0</td>\n",
       "      <td>1</td>\n",
       "      <td>1</td>\n",
       "      <td>1</td>\n",
       "      <td>1</td>\n",
       "      <td>0</td>\n",
       "      <td>0</td>\n",
       "      <td>...</td>\n",
       "      <td>0</td>\n",
       "      <td>0</td>\n",
       "      <td>0</td>\n",
       "      <td>0</td>\n",
       "      <td>0</td>\n",
       "      <td>0</td>\n",
       "      <td>0</td>\n",
       "      <td>0</td>\n",
       "      <td>4.000000</td>\n",
       "      <td>0</td>\n",
       "    </tr>\n",
       "    <tr>\n",
       "      <th>8378</th>\n",
       "      <td>135887</td>\n",
       "      <td>Minions</td>\n",
       "      <td>2015</td>\n",
       "      <td>0</td>\n",
       "      <td>1</td>\n",
       "      <td>1</td>\n",
       "      <td>1</td>\n",
       "      <td>1</td>\n",
       "      <td>0</td>\n",
       "      <td>0</td>\n",
       "      <td>...</td>\n",
       "      <td>0</td>\n",
       "      <td>0</td>\n",
       "      <td>0</td>\n",
       "      <td>0</td>\n",
       "      <td>0</td>\n",
       "      <td>0</td>\n",
       "      <td>0</td>\n",
       "      <td>0</td>\n",
       "      <td>2.900000</td>\n",
       "      <td>0</td>\n",
       "    </tr>\n",
       "    <tr>\n",
       "      <th>8411</th>\n",
       "      <td>139855</td>\n",
       "      <td>Anomalisa</td>\n",
       "      <td>2015</td>\n",
       "      <td>0</td>\n",
       "      <td>0</td>\n",
       "      <td>1</td>\n",
       "      <td>0</td>\n",
       "      <td>1</td>\n",
       "      <td>0</td>\n",
       "      <td>0</td>\n",
       "      <td>...</td>\n",
       "      <td>0</td>\n",
       "      <td>0</td>\n",
       "      <td>0</td>\n",
       "      <td>0</td>\n",
       "      <td>0</td>\n",
       "      <td>0</td>\n",
       "      <td>0</td>\n",
       "      <td>0</td>\n",
       "      <td>2.000000</td>\n",
       "      <td>0</td>\n",
       "    </tr>\n",
       "  </tbody>\n",
       "</table>\n",
       "<p>10 rows × 23 columns</p>\n",
       "</div>"
      ],
      "text/plain": [
       "      movieId                           title  year  Action  Adventure  \\\n",
       "8512   156025  Ice Age: The Great Egg-Scapade  2016       0          1   \n",
       "8504   152081                        Zootopia  2016       1          1   \n",
       "8537   160718                           Piper  2016       0          0   \n",
       "8517   157296                    Finding Dory  2016       0          1   \n",
       "8379   136016               The Good Dinosaur  2015       0          1   \n",
       "8367   134853                      Inside Out  2015       0          1   \n",
       "8319   130520                            Home  2015       0          1   \n",
       "8469   145935              Peanuts Movie, The  2015       0          1   \n",
       "8378   135887                         Minions  2015       0          1   \n",
       "8411   139855                       Anomalisa  2015       0          0   \n",
       "\n",
       "      Animation  Children  Comedy  Crime  Documentary  ...  Horror  Musical  \\\n",
       "8512          1         1       1      0            0  ...       0        0   \n",
       "8504          1         1       0      0            0  ...       0        0   \n",
       "8537          1         0       0      0            0  ...       0        0   \n",
       "8517          1         0       1      0            0  ...       0        0   \n",
       "8379          1         1       1      0            0  ...       0        0   \n",
       "8367          1         1       1      0            0  ...       0        0   \n",
       "8319          1         1       1      0            0  ...       0        0   \n",
       "8469          1         1       1      0            0  ...       0        0   \n",
       "8378          1         1       1      0            0  ...       0        0   \n",
       "8411          1         0       1      0            0  ...       0        0   \n",
       "\n",
       "      Mystery  Romance  SciFi  Thriller  War  Western    rating  cluster  \n",
       "8512        0        0      0         0    0        0  5.000000        0  \n",
       "8504        0        0      0         0    0        0  4.000000        0  \n",
       "8537        0        0      0         0    0        0  4.000000        0  \n",
       "8517        0        0      0         0    0        0  3.333333        0  \n",
       "8379        0        0      0         0    0        0  4.500000        0  \n",
       "8367        0        0      0         0    0        0  4.041667        0  \n",
       "8319        0        0      1         0    0        0  4.000000        0  \n",
       "8469        0        0      0         0    0        0  4.000000        0  \n",
       "8378        0        0      0         0    0        0  2.900000        0  \n",
       "8411        0        0      0         0    0        0  2.000000        0  \n",
       "\n",
       "[10 rows x 23 columns]"
      ]
     },
     "execution_count": 15,
     "metadata": {},
     "output_type": "execute_result"
    }
   ],
   "source": [
    "movies.loc[movies.cluster==0,:].sort_values([\"year\",\"rating\"], ascending=False).head(10)"
   ]
  }
 ],
 "metadata": {
  "colab": {
   "collapsed_sections": [],
   "name": "Introduction to Clustering COMPLETED.ipynb",
   "provenance": [
    {
     "file_id": "1WlIq4bsjXXBJykerHEAF6UDMJSs-6Jlw",
     "timestamp": 1631124815235
    },
    {
     "file_id": "18im53fXJIjYw3NTAdwxOcOWfrkftkt8b",
     "timestamp": 1592485140678
    }
   ]
  },
  "kernelspec": {
   "display_name": "Python 3 (ipykernel)",
   "language": "python",
   "name": "python3"
  },
  "language_info": {
   "codemirror_mode": {
    "name": "ipython",
    "version": 3
   },
   "file_extension": ".py",
   "mimetype": "text/x-python",
   "name": "python",
   "nbconvert_exporter": "python",
   "pygments_lexer": "ipython3",
   "version": "3.9.10"
  }
 },
 "nbformat": 4,
 "nbformat_minor": 1
}