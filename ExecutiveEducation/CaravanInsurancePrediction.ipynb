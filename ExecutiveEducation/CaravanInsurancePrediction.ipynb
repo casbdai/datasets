{
  "cells": [
    {
      "cell_type": "markdown",
      "metadata": {
        "nteract": {
          "transient": {
            "deleting": false
          }
        },
        "id": "h3L15rR8h5My"
      },
      "source": [
        "# Initial Setup\n",
        "\n",
        "We import key functions to train a machine learning model as well as download the dataset we want to use.\n",
        "\n",
        "Last but not least, we define a function that we use to plot a decision tree"
      ]
    },
    {
      "cell_type": "code",
      "execution_count": null,
      "metadata": {
        "gather": {
          "logged": 1687436556289
        },
        "id": "bawu7iJ_h5M0"
      },
      "outputs": [],
      "source": [
        "#Importing Functions\n",
        "import pandas as pd\n",
        "from sklearn.tree import DecisionTreeClassifier\n",
        "from sklearn.metrics import accuracy_score, confusion_matrix, classification_report\n",
        "from sklearn.model_selection import train_test_split\n",
        "\n",
        "#Downloading the dataset\n",
        "caravan = pd.read_csv(\"https://raw.githubusercontent.com/casbdai/datasets/main/caravan_data.csv\", sep=\";\")\n",
        "\n",
        "#Defining a function for plotting decision trees\n",
        "def plot_tree_classification(treemodel, X):\n",
        "    from sklearn import tree\n",
        "    import matplotlib.pyplot as plt\n",
        "    fig = plt.figure(figsize=(60,20))\n",
        "    _ = tree.plot_tree(treemodel,filled=True,class_names=['0','1'],feature_names = X.columns,proportion=True,precision=2, impurity=False)"
      ]
    },
    {
      "cell_type": "markdown",
      "metadata": {
        "nteract": {
          "transient": {
            "deleting": false
          }
        },
        "id": "VtPYvtgGh5M2"
      },
      "source": [
        "# Inspect the Data Set"
      ]
    },
    {
      "cell_type": "code",
      "execution_count": null,
      "metadata": {
        "gather": {
          "logged": 1687436638010
        },
        "jupyter": {
          "outputs_hidden": false,
          "source_hidden": false
        },
        "nteract": {
          "transient": {
            "deleting": false
          }
        },
        "id": "D3BSPZylh5M2"
      },
      "outputs": [],
      "source": [
        "caravan"
      ]
    },
    {
      "cell_type": "markdown",
      "metadata": {
        "nteract": {
          "transient": {
            "deleting": false
          }
        },
        "id": "aMqnOYaYh5M3"
      },
      "source": [
        "# Lab Session 1: Training a first Decision Tree\n",
        "\n",
        "The dataset \"caravan\" consists of the label \"CARAVAN\" and 85 other features. To train a mashine learning model, we need to separate them into two objects. The label is called \"y\" and the features are called \"X\".\n"
      ]
    },
    {
      "cell_type": "code",
      "execution_count": null,
      "metadata": {
        "gather": {
          "logged": 1687436861858
        },
        "jupyter": {
          "outputs_hidden": false,
          "source_hidden": false
        },
        "nteract": {
          "transient": {
            "deleting": false
          }
        },
        "id": "FL0hEPYRh5M3"
      },
      "outputs": [],
      "source": [
        "X = caravan.drop(\"CARAVAN\",axis=1) #Create a copy of the \"caravan\" data set with deleting \"CARAVAN\" feature.\n",
        "y = caravan[\"CARAVAN\"] #Saving the feature CARAVAN as\"y\""
      ]
    },
    {
      "cell_type": "code",
      "execution_count": null,
      "metadata": {
        "gather": {
          "logged": 1687436889763
        },
        "jupyter": {
          "outputs_hidden": false,
          "source_hidden": false
        },
        "nteract": {
          "transient": {
            "deleting": false
          }
        },
        "id": "wEDpcZqph5M3"
      },
      "outputs": [],
      "source": [
        "y"
      ]
    },
    {
      "cell_type": "markdown",
      "metadata": {
        "nteract": {
          "transient": {
            "deleting": false
          }
        },
        "id": "vHmI_uNgh5M3"
      },
      "source": [
        "We first train a decision tree with a \"max_depth\" of 2. After splitting twice, the process is stopped."
      ]
    },
    {
      "cell_type": "code",
      "execution_count": null,
      "metadata": {
        "gather": {
          "logged": 1687436965890
        },
        "jupyter": {
          "outputs_hidden": false,
          "source_hidden": false
        },
        "nteract": {
          "transient": {
            "deleting": false
          }
        },
        "id": "7j711-96h5M3"
      },
      "outputs": [],
      "source": [
        "tree = DecisionTreeClassifier(max_depth=2).fit(X,y)"
      ]
    },
    {
      "cell_type": "markdown",
      "metadata": {
        "nteract": {
          "transient": {
            "deleting": false
          }
        },
        "id": "tdc121F9h5M4"
      },
      "source": [
        "Plotting the trained decision tree"
      ]
    },
    {
      "cell_type": "code",
      "execution_count": null,
      "metadata": {
        "gather": {
          "logged": 1687436988639
        },
        "jupyter": {
          "outputs_hidden": false,
          "source_hidden": false
        },
        "nteract": {
          "transient": {
            "deleting": false
          }
        },
        "id": "GvzW3wmUh5M4"
      },
      "outputs": [],
      "source": [
        "plot_tree_classification(tree, X)"
      ]
    },
    {
      "cell_type": "markdown",
      "metadata": {
        "nteract": {
          "transient": {
            "deleting": false
          }
        },
        "id": "eFcpXhxvh5M4"
      },
      "source": [
        "We create predictions: \"predict_proba\" gives us the predictions. The first column gives the probability that a customer **will not** purchase a caravan insurance. The second column gives the probability that a customer is buying caravan insurance. Logically, the values add up to 1."
      ]
    },
    {
      "cell_type": "code",
      "execution_count": null,
      "metadata": {
        "gather": {
          "logged": 1687437196292
        },
        "jupyter": {
          "outputs_hidden": false,
          "source_hidden": false
        },
        "nteract": {
          "transient": {
            "deleting": false
          }
        },
        "id": "Pf24TJEuh5M4"
      },
      "outputs": [],
      "source": [
        "tree.predict_proba(X)"
      ]
    },
    {
      "cell_type": "markdown",
      "metadata": {
        "nteract": {
          "transient": {
            "deleting": false
          }
        },
        "id": "EP45Loddh5M5"
      },
      "source": [
        "\"predict\" provides us with the assignment to the classes \"purchase\" and \"no purchase\". 1 means that a customer will purchase a caravan insurance, 0 means the customer will not purchase. All customers with an estimated purchasing probability of >50% are set to the value 1."
      ]
    },
    {
      "cell_type": "code",
      "execution_count": null,
      "metadata": {
        "gather": {
          "logged": 1687437330787
        },
        "jupyter": {
          "outputs_hidden": false,
          "source_hidden": false
        },
        "nteract": {
          "transient": {
            "deleting": false
          }
        },
        "id": "HMG6tpeah5M5"
      },
      "outputs": [],
      "source": [
        "tree.predict(X)"
      ]
    },
    {
      "cell_type": "markdown",
      "metadata": {
        "nteract": {
          "transient": {
            "deleting": false
          }
        },
        "id": "4HMj0Kvbh5M5"
      },
      "source": [
        "## Let's play around with Hyperparameters"
      ]
    },
    {
      "cell_type": "markdown",
      "metadata": {
        "nteract": {
          "transient": {
            "deleting": false
          }
        },
        "id": "-uzk6d8Qh5M5"
      },
      "source": [
        "Hyperparameters to be varied:\n",
        "\n",
        "- **max_depth:** Maximum number of splits allowed.\n",
        "- **min_samples_leaf:** The minimum number of clients that must be present in a leaf node."
      ]
    },
    {
      "cell_type": "code",
      "execution_count": null,
      "metadata": {
        "gather": {
          "logged": 1687369096326
        },
        "jupyter": {
          "outputs_hidden": false,
          "source_hidden": false
        },
        "nteract": {
          "transient": {
            "deleting": false
          }
        },
        "id": "JNKtYubBh5M5"
      },
      "outputs": [],
      "source": [
        "tree = DecisionTreeClassifier(max_depth=2, min_samples_leaf=1).fit(X,y)\n",
        "plot_tree_classification(tree, X)"
      ]
    },
    {
      "cell_type": "markdown",
      "metadata": {
        "nteract": {
          "transient": {
            "deleting": false
          }
        },
        "id": "Hm--JcQOh5M5"
      },
      "source": [
        "# Lab Session 2: Determining the Accuracy of our Predictions"
      ]
    },
    {
      "cell_type": "markdown",
      "metadata": {
        "nteract": {
          "transient": {
            "deleting": false
          }
        },
        "id": "xwYJ0c_8h5M5"
      },
      "source": [
        "To determine if the predictions made are accurate, we need to split our data into test and training data. We have already created two partial datasets in a previous step: y and X.\n",
        "\n",
        "These are now transformed into a test and a training part respectively"
      ]
    },
    {
      "cell_type": "code",
      "execution_count": null,
      "metadata": {
        "gather": {
          "logged": 1687438924585
        },
        "jupyter": {
          "outputs_hidden": false,
          "source_hidden": false
        },
        "nteract": {
          "transient": {
            "deleting": false
          }
        },
        "id": "ixCx3LKxh5M6"
      },
      "outputs": [],
      "source": [
        "X_train, X_test, y_train, y_test = train_test_split(X, y, test_size=0.3, random_state=1)"
      ]
    },
    {
      "cell_type": "markdown",
      "metadata": {
        "nteract": {
          "transient": {
            "deleting": false
          }
        },
        "id": "VtM5vdN8h5M6"
      },
      "source": [
        "We train again a new decision tree with a max_depth of 3"
      ]
    },
    {
      "cell_type": "code",
      "execution_count": null,
      "metadata": {
        "gather": {
          "logged": 1687439440886
        },
        "jupyter": {
          "outputs_hidden": false,
          "source_hidden": false
        },
        "nteract": {
          "transient": {
            "deleting": false
          }
        },
        "id": "pAhZK-o5h5M6"
      },
      "outputs": [],
      "source": [
        "tree = DecisionTreeClassifier(max_depth=6, random_state=1).fit(X_train, y_train)"
      ]
    },
    {
      "cell_type": "markdown",
      "metadata": {
        "nteract": {
          "transient": {
            "deleting": false
          }
        },
        "id": "7w3t9gs9h5M6"
      },
      "source": [
        "We create predictions and store them in the \"y_pred\" object."
      ]
    },
    {
      "cell_type": "code",
      "execution_count": null,
      "metadata": {
        "gather": {
          "logged": 1687439444389
        },
        "jupyter": {
          "outputs_hidden": false,
          "source_hidden": false
        },
        "nteract": {
          "transient": {
            "deleting": false
          }
        },
        "id": "yRIWuHrIh5M6"
      },
      "outputs": [],
      "source": [
        "y_pred = tree.predict(X_test)\n",
        "y_pred"
      ]
    },
    {
      "cell_type": "code",
      "execution_count": null,
      "metadata": {
        "gather": {
          "logged": 1687439143210
        },
        "jupyter": {
          "outputs_hidden": false,
          "source_hidden": false
        },
        "nteract": {
          "transient": {
            "deleting": false
          }
        },
        "id": "dMrHk0xsh5M6"
      },
      "outputs": [],
      "source": [
        "y_test"
      ]
    },
    {
      "cell_type": "markdown",
      "metadata": {
        "nteract": {
          "transient": {
            "deleting": false
          }
        },
        "id": "o9UHkDoTh5M7"
      },
      "source": [
        "Determine the accuracy of a model:"
      ]
    },
    {
      "cell_type": "code",
      "execution_count": null,
      "metadata": {
        "gather": {
          "logged": 1687439448074
        },
        "jupyter": {
          "outputs_hidden": false,
          "source_hidden": false
        },
        "nteract": {
          "transient": {
            "deleting": false
          }
        },
        "id": "KECO1iubh5M7"
      },
      "outputs": [],
      "source": [
        "accuracy_score(y_test,y_pred)"
      ]
    }
  ],
  "metadata": {
    "kernel_info": {
      "name": "python310-sdkv2"
    },
    "kernelspec": {
      "display_name": "Python 3 (ipykernel)",
      "language": "python",
      "name": "python3"
    },
    "language_info": {
      "codemirror_mode": {
        "name": "ipython",
        "version": 3
      },
      "file_extension": ".py",
      "mimetype": "text/x-python",
      "name": "python",
      "nbconvert_exporter": "python",
      "pygments_lexer": "ipython3",
      "version": "3.9.12"
    },
    "microsoft": {
      "host": {
        "AzureML": {
          "notebookHasBeenCompleted": true
        }
      },
      "ms_spell_check": {
        "ms_spell_check_language": "en"
      }
    },
    "nteract": {
      "version": "nteract-front-end@1.0.0"
    },
    "colab": {
      "provenance": []
    }
  },
  "nbformat": 4,
  "nbformat_minor": 0
}