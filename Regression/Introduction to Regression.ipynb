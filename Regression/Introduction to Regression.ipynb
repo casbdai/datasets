{
 "cells": [
  {
   "cell_type": "markdown",
   "metadata": {
    "id": "HtXEcvNWPZpr",
    "pycharm": {
     "name": "#%% md\n"
    }
   },
   "source": [
    "# Hands On - Predicting The Quality Of Wine - Introduction to Regression Models"
   ]
  },
  {
   "cell_type": "markdown",
   "metadata": {
    "id": "by2o89GI97z5",
    "pycharm": {
     "name": "#%% md\n"
    }
   },
   "source": [
    "# Import Data & Check Structure\n",
    "\n"
   ]
  },
  {
   "cell_type": "markdown",
   "metadata": {
    "id": "shbARdpqP29x",
    "pycharm": {
     "name": "#%% md\n"
    }
   },
   "source": [
    "## Import"
   ]
  },
  {
   "cell_type": "code",
   "execution_count": null,
   "metadata": {
    "id": "SQWjq9jR-O7L",
    "pycharm": {
     "name": "#%%\n"
    }
   },
   "outputs": [],
   "source": [
    "import pandas as pd\n",
    "wine = pd.read_csv(\"https://raw.githubusercontent.com/casbdai/datasets/main/wine_regression.csv\")"
   ]
  },
  {
   "cell_type": "markdown",
   "metadata": {
    "id": "OvzSd2J4P5Yh",
    "pycharm": {
     "name": "#%% md\n"
    }
   },
   "source": [
    "## Checking Structure"
   ]
  },
  {
   "cell_type": "code",
   "execution_count": null,
   "metadata": {
    "id": "FiPlcB9GIpnx",
    "pycharm": {
     "name": "#%%\n"
    }
   },
   "outputs": [],
   "source": [
    "wine.____"
   ]
  },
  {
   "cell_type": "code",
   "execution_count": null,
   "metadata": {
    "id": "9fvxpfgWumsa",
    "pycharm": {
     "name": "#%%\n"
    }
   },
   "outputs": [],
   "source": [
    "wine.____"
   ]
  },
  {
   "cell_type": "markdown",
   "metadata": {
    "id": "hS7s-QWsQFwr",
    "pycharm": {
     "name": "#%% md\n"
    }
   },
   "source": [
    "Vintage and age carry the same information. Age is only a mathematical transformation of the vintage year. \n",
    "\n",
    "Taking 2021 as \"reference year\": 2021 - 1952 = 69\n",
    "\n",
    "Thus, we delete the variable \"vintage\": \n"
   ]
  },
  {
   "cell_type": "code",
   "execution_count": null,
   "metadata": {
    "id": "oq7epMIfIsB1",
    "pycharm": {
     "name": "#%%\n"
    }
   },
   "outputs": [],
   "source": [
    "wine = wine.____\n",
    "wine.head()"
   ]
  },
  {
   "cell_type": "markdown",
   "metadata": {
    "id": "yAV-m4f5-tX0",
    "pycharm": {
     "name": "#%% md\n"
    }
   },
   "source": [
    "## Separate Features and Targets"
   ]
  },
  {
   "cell_type": "code",
   "execution_count": null,
   "metadata": {
    "id": "replRE6zVsd5",
    "pycharm": {
     "name": "#%%\n"
    }
   },
   "outputs": [],
   "source": [
    "X = wine.____\n",
    "y = wine____"
   ]
  },
  {
   "cell_type": "markdown",
   "metadata": {
    "id": "B3gewMHz-0q8",
    "pycharm": {
     "name": "#%% md\n"
    }
   },
   "source": [
    "# Workflow for Simple Linear Regression"
   ]
  },
  {
   "cell_type": "markdown",
   "metadata": {
    "id": "UBpK8BojUjFU",
    "pycharm": {
     "name": "#%% md\n"
    }
   },
   "source": [
    "### 1) Import Model Function"
   ]
  },
  {
   "cell_type": "code",
   "execution_count": null,
   "metadata": {
    "id": "g5kT3B7oUrsL",
    "pycharm": {
     "name": "#%%\n"
    }
   },
   "outputs": [],
   "source": [
    "from sklearn.linear_model import LinearRegression\n",
    "from sklearn.metrics import mean_squared_error"
   ]
  },
  {
   "cell_type": "markdown",
   "metadata": {
    "id": "EBNcBWD3U5IZ",
    "pycharm": {
     "name": "#%% md\n"
    }
   },
   "source": [
    "### 2) Instantiate Model"
   ]
  },
  {
   "cell_type": "code",
   "execution_count": null,
   "metadata": {
    "id": "WkW6Y7GSU71C",
    "pycharm": {
     "name": "#%%\n"
    }
   },
   "outputs": [],
   "source": [
    "linreg = LinearRegression()"
   ]
  },
  {
   "cell_type": "markdown",
   "metadata": {
    "id": "mRjIv6-IVDj3",
    "pycharm": {
     "name": "#%% md\n"
    }
   },
   "source": [
    "### 3) Create Test & Training Data"
   ]
  },
  {
   "cell_type": "markdown",
   "metadata": {
    "id": "QDf3pXRB_Dt5",
    "pycharm": {
     "name": "#%% md\n"
    }
   },
   "source": [
    "We want to mantain the temporal order of the data set. So, we set the additional attribute \"shuffle\" to False. \n",
    "\n",
    "Checkout what happens, if we set it to True!\n"
   ]
  },
  {
   "cell_type": "code",
   "execution_count": null,
   "metadata": {
    "id": "1emwf09SQ4oS",
    "pycharm": {
     "name": "#%%\n"
    }
   },
   "outputs": [],
   "source": [
    "from sklearn.model_selection import train_test_split\n",
    "X_train, X_test, y_train, y_test = train_test_split(X, y, test_size=0.12, shuffle=False)"
   ]
  },
  {
   "cell_type": "code",
   "execution_count": null,
   "metadata": {
    "id": "ZXmq_Tlr86dT",
    "pycharm": {
     "name": "#%%\n"
    }
   },
   "outputs": [],
   "source": [
    "X_train.tail()"
   ]
  },
  {
   "cell_type": "code",
   "execution_count": null,
   "metadata": {
    "id": "pHDNYW3N9C_u",
    "pycharm": {
     "name": "#%%\n"
    }
   },
   "outputs": [],
   "source": [
    "X_test.head()"
   ]
  },
  {
   "cell_type": "markdown",
   "metadata": {
    "id": "_vDkBAQnsjmq",
    "pycharm": {
     "name": "#%% md\n"
    }
   },
   "source": [
    "#### Selecting \"Harvest Temperatur\" Variable and redo splitting"
   ]
  },
  {
   "cell_type": "code",
   "execution_count": null,
   "metadata": {
    "id": "s16IG6UCdKG2",
    "pycharm": {
     "name": "#%%\n"
    }
   },
   "outputs": [],
   "source": [
    "X_train, X_test, y_train, y_test = train_test_split(X.loc[:,[\"harvest.temp\"]], y, test_size=0.12, shuffle=False)\n",
    "print(X_train.tail())\n",
    "print(X_test.head())"
   ]
  },
  {
   "cell_type": "markdown",
   "metadata": {
    "id": "ki6wP3_xXt2J",
    "pycharm": {
     "name": "#%% md\n"
    }
   },
   "source": [
    "### 4) Fit Model to Data"
   ]
  },
  {
   "cell_type": "code",
   "execution_count": null,
   "metadata": {
    "id": "dMf5H7zhXyWj",
    "pycharm": {
     "name": "#%%\n"
    }
   },
   "outputs": [],
   "source": [
    "linreg.fit(X_train,y_train)"
   ]
  },
  {
   "cell_type": "markdown",
   "metadata": {
    "id": "geSPJuxEbLWP",
    "pycharm": {
     "name": "#%% md\n"
    }
   },
   "source": [
    "### 5) Make Predictions on Test Data"
   ]
  },
  {
   "cell_type": "code",
   "execution_count": null,
   "metadata": {
    "id": "nw2PiAjqYn9c",
    "pycharm": {
     "name": "#%%\n"
    }
   },
   "outputs": [],
   "source": [
    "y_pred = linreg.predict(X_test)\n",
    "y_pred"
   ]
  },
  {
   "cell_type": "markdown",
   "metadata": {
    "id": "u5BSp51ac6MV",
    "pycharm": {
     "name": "#%% md\n"
    }
   },
   "source": [
    "### 6) Evaluate Performance"
   ]
  },
  {
   "cell_type": "code",
   "execution_count": null,
   "metadata": {
    "id": "Oie_CmD2b0rr",
    "pycharm": {
     "name": "#%%\n"
    }
   },
   "outputs": [],
   "source": [
    "mean_squared_error(y_test, y_pred, squared=False)"
   ]
  },
  {
   "cell_type": "markdown",
   "metadata": {
    "id": "LlMYZMNdgIfc",
    "pycharm": {
     "name": "#%% md\n"
    }
   },
   "source": [
    "## Further investigate results"
   ]
  },
  {
   "cell_type": "markdown",
   "metadata": {
    "id": "Uh62YIFvE7xm",
    "pycharm": {
     "name": "#%% md\n"
    }
   },
   "source": [
    "### Get Regression Coefficient"
   ]
  },
  {
   "cell_type": "code",
   "execution_count": null,
   "metadata": {
    "id": "Z60qTnN-D_js",
    "pycharm": {
     "name": "#%%\n"
    }
   },
   "outputs": [],
   "source": [
    "linreg.coef_"
   ]
  },
  {
   "cell_type": "markdown",
   "metadata": {
    "id": "94M3KuVv_2D-",
    "pycharm": {
     "name": "#%% md\n"
    }
   },
   "source": [
    "For each additional degree Celsius in the harvest season, the price of wine is increasing by 9.63 units!"
   ]
  },
  {
   "cell_type": "markdown",
   "metadata": {
    "id": "eXdm8grjFCSK",
    "pycharm": {
     "name": "#%% md\n"
    }
   },
   "source": [
    "### Calculate MAPE"
   ]
  },
  {
   "cell_type": "code",
   "execution_count": null,
   "metadata": {
    "id": "_1heFAAuY0y5",
    "pycharm": {
     "name": "#%%\n"
    }
   },
   "outputs": [],
   "source": [
    "from sklearn.metrics import mean_absolute_percentage_error\n",
    "mean_absolute_percentage_error(y_test, y_pred)"
   ]
  },
  {
   "cell_type": "markdown",
   "metadata": {
    "id": "89pTH7DTCJuN",
    "pycharm": {
     "name": "#%% md\n"
    }
   },
   "source": [
    "### Draw Regression Line"
   ]
  },
  {
   "cell_type": "code",
   "execution_count": null,
   "metadata": {
    "id": "sAnHqS2BhiXM",
    "pycharm": {
     "name": "#%%\n"
    }
   },
   "outputs": [],
   "source": [
    "import matplotlib.pyplot as plt\n",
    "\n",
    "y_pred = linreg.predict(X_train)\n",
    "\n",
    "plt.scatter(X_train, y_train,  color='blue')\n",
    "plt.plot(X_train, y_pred, color='green', linewidth=3)\n",
    "plt.title(\"Wine Price by Harvest Temperatur\")\n",
    "plt.xlabel(\"Harvest Temperatur\")\n",
    "plt.ylabel(\"Price\")\n",
    "plt.figure(figsize=(20,10))\n",
    "\n",
    "plt.show()"
   ]
  },
  {
   "cell_type": "markdown",
   "metadata": {
    "id": "cbFJ4uBPCdhC",
    "pycharm": {
     "name": "#%% md\n"
    }
   },
   "source": [
    "### Understanding Nature of Effects"
   ]
  },
  {
   "cell_type": "markdown",
   "metadata": {
    "id": "b0MzleJw6zN2",
    "pycharm": {
     "name": "#%% md\n"
    }
   },
   "source": [
    "SKLearn does not calculate significance levels - We need to redo the analysis with a different software library (\"statsmodel\"), if we want that information. \n",
    "\n",
    "The following function is doing that for us: "
   ]
  },
  {
   "cell_type": "code",
   "execution_count": null,
   "metadata": {
    "id": "-fmu8tt1CpA9",
    "pycharm": {
     "name": "#%%\n"
    }
   },
   "outputs": [],
   "source": [
    "def get_summary_report(X_train, y_train):\n",
    "  import statsmodels.api as sm\n",
    "  X_train = sm.add_constant(X_train, prepend=False)\n",
    "  linreg_sm  = sm.OLS(y_train, X_train)\n",
    "  results = linreg_sm.fit()\n",
    "  return results"
   ]
  },
  {
   "cell_type": "markdown",
   "metadata": {
    "id": "IObgo4-V7XnB",
    "pycharm": {
     "name": "#%% md\n"
    }
   },
   "source": [
    "Let's execute that function! The regression coefficient is identical"
   ]
  },
  {
   "cell_type": "code",
   "execution_count": null,
   "metadata": {
    "id": "cbbnCeW17KkP",
    "pycharm": {
     "name": "#%%\n"
    }
   },
   "outputs": [],
   "source": [
    "regression_results = get_summary_report(X_train, y_train)\n",
    "print(regression_results.summary())"
   ]
  },
  {
   "cell_type": "markdown",
   "metadata": {
    "id": "cXICXSw4F20G",
    "pycharm": {
     "name": "#%% md\n"
    }
   },
   "source": [
    "# Workflow for Multipe Linear Regression"
   ]
  },
  {
   "cell_type": "markdown",
   "metadata": {
    "id": "X9nA4vVAF8VI",
    "pycharm": {
     "name": "#%% md\n"
    }
   },
   "source": [
    "### 1) Import Model Function"
   ]
  },
  {
   "cell_type": "code",
   "execution_count": null,
   "metadata": {
    "id": "mLaIQYUqF7vH",
    "pycharm": {
     "name": "#%%\n"
    }
   },
   "outputs": [],
   "source": [
    "from sklearn.____ import ____\n",
    "from sklearn.____ import ____"
   ]
  },
  {
   "cell_type": "markdown",
   "metadata": {
    "id": "7_nLseeTGERm",
    "pycharm": {
     "name": "#%% md\n"
    }
   },
   "source": [
    "### 2) Instantiate Model"
   ]
  },
  {
   "cell_type": "code",
   "execution_count": null,
   "metadata": {
    "id": "EQ_HbXV2GJLu",
    "pycharm": {
     "name": "#%%\n"
    }
   },
   "outputs": [],
   "source": [
    "linreg_full = ____"
   ]
  },
  {
   "cell_type": "markdown",
   "metadata": {
    "id": "c1p2GVANGLl-",
    "pycharm": {
     "name": "#%% md\n"
    }
   },
   "source": [
    "### 3) Create Test and Training Data"
   ]
  },
  {
   "cell_type": "code",
   "execution_count": null,
   "metadata": {
    "id": "GHpZQoiXGRvh",
    "pycharm": {
     "name": "#%%\n"
    }
   },
   "outputs": [],
   "source": [
    "X_train, X_test, y_train, y_test = train_test_split(____, y____, test_size=0.12, shuffle=____)"
   ]
  },
  {
   "cell_type": "markdown",
   "metadata": {
    "id": "gIVbTVavGRh0",
    "pycharm": {
     "name": "#%% md\n"
    }
   },
   "source": [
    "### 4) Fit Model to Data\n"
   ]
  },
  {
   "cell_type": "code",
   "execution_count": null,
   "metadata": {
    "id": "tTlxldCgGYvz",
    "pycharm": {
     "name": "#%%\n"
    }
   },
   "outputs": [],
   "source": [
    "linreg_full.____(____,____)"
   ]
  },
  {
   "cell_type": "markdown",
   "metadata": {
    "id": "dbxss9upGqlm",
    "pycharm": {
     "name": "#%% md\n"
    }
   },
   "source": [
    "### 5) Make Predictions on Test Data"
   ]
  },
  {
   "cell_type": "code",
   "execution_count": null,
   "metadata": {
    "id": "2L7ptGC2Gnpo",
    "pycharm": {
     "name": "#%%\n"
    }
   },
   "outputs": [],
   "source": [
    "y_pred = linreg_full.____(____)\n",
    "y_pred"
   ]
  },
  {
   "cell_type": "markdown",
   "metadata": {
    "id": "pw9mqer6Gu0H",
    "pycharm": {
     "name": "#%% md\n"
    }
   },
   "source": [
    "### 6) Evaluate Performance"
   ]
  },
  {
   "cell_type": "code",
   "execution_count": null,
   "metadata": {
    "id": "-q7RmFp5GoZl",
    "pycharm": {
     "name": "#%%\n"
    }
   },
   "outputs": [],
   "source": [
    "mean_squared_error(____, y_test, squared=False)"
   ]
  },
  {
   "cell_type": "code",
   "execution_count": null,
   "metadata": {
    "id": "BoY42f8rIKLv",
    "pycharm": {
     "name": "#%%\n"
    }
   },
   "outputs": [],
   "source": [
    "mean_absolute_percentage_error(y_test, ____)"
   ]
  },
  {
   "cell_type": "markdown",
   "metadata": {
    "id": "dCWrE7LWaFXo",
    "pycharm": {
     "name": "#%% md\n"
    }
   },
   "source": [
    "## Further Investigate Results"
   ]
  },
  {
   "cell_type": "code",
   "execution_count": null,
   "metadata": {
    "id": "jMSmqrTjKUWm",
    "pycharm": {
     "name": "#%%\n"
    }
   },
   "outputs": [],
   "source": [
    "results = get_summary_report(____, ____)\n",
    "print(results.summary())"
   ]
  },
  {
   "cell_type": "code",
   "execution_count": null,
   "metadata": {
    "id": "Yt1Wypm0K-iM",
    "pycharm": {
     "name": "#%%\n"
    }
   },
   "outputs": [],
   "source": [
    "X_train.corr()"
   ]
  },
  {
   "cell_type": "markdown",
   "metadata": {
    "id": "3R9zPR0Y59dA",
    "pycharm": {
     "name": "#%% md\n"
    }
   },
   "source": [
    "purchasing.power and age are super strongly correlated. It is almost a perfect negative correlation (-1). Such high correlations can cause problems in many algorithms. All correlations of > 0.7 and < - 0.7 should be considered cautiously."
   ]
  },
  {
   "cell_type": "code",
   "execution_count": null,
   "metadata": {
    "id": "JNgjie69Lhvg",
    "pycharm": {
     "name": "#%%\n"
    }
   },
   "outputs": [],
   "source": [
    "X_train.plot(kind=\"scatter\", x=\"purchasing.power\",y=\"age\")"
   ]
  },
  {
   "cell_type": "markdown",
   "metadata": {
    "id": "0u3m1eLD6eeX",
    "pycharm": {
     "name": "#%% md\n"
    }
   },
   "source": [
    "## Re-run Model"
   ]
  },
  {
   "cell_type": "markdown",
   "metadata": {
    "id": "F7qy6eQ06hWU",
    "pycharm": {
     "name": "#%% md\n"
    }
   },
   "source": [
    "drop pruchasing.power from dataset"
   ]
  },
  {
   "cell_type": "code",
   "execution_count": null,
   "metadata": {
    "id": "acPMoXnF5VLR",
    "pycharm": {
     "name": "#%%\n"
    }
   },
   "outputs": [],
   "source": [
    "X = X.drop(\"purchasing.power\", axis = 1)"
   ]
  },
  {
   "cell_type": "markdown",
   "metadata": {
    "id": "dRoqKCNd6kFP",
    "pycharm": {
     "name": "#%% md\n"
    }
   },
   "source": [
    "Rerun model in identical fashion"
   ]
  },
  {
   "cell_type": "code",
   "execution_count": null,
   "metadata": {
    "id": "dUdRJMQT5RHB",
    "pycharm": {
     "name": "#%%\n"
    }
   },
   "outputs": [],
   "source": [
    "____, ____, ____, ____ = train_test_split(X, y, test_size=0.12, shuffle=False)\n",
    "linreg_full.____(____,____)\n",
    "y_pred = linreg_full.____(____)\n",
    "y_pred"
   ]
  },
  {
   "cell_type": "code",
   "execution_count": null,
   "metadata": {
    "id": "luKXhfh8Bcda",
    "pycharm": {
     "name": "#%%\n"
    }
   },
   "outputs": [],
   "source": [
    "results = get_summary_report(____, ____)\n",
    "print(results.summary())"
   ]
  },
  {
   "cell_type": "markdown",
   "metadata": {
    "id": "ZVW1fcem6tsY",
    "pycharm": {
     "name": "#%% md\n"
    }
   },
   "source": [
    "**Now, we have much more intuively understandable results !!!**"
   ]
  },
  {
   "cell_type": "code",
   "execution_count": null,
   "metadata": {
    "id": "uqf_P0VR5148",
    "pycharm": {
     "name": "#%%\n"
    }
   },
   "outputs": [],
   "source": [
    "print(mean_squared_error(y_pred, y_test, squared=False))\n",
    "print(mean_absolute_percentage_error(y_test, y_pred))"
   ]
  },
  {
   "cell_type": "markdown",
   "metadata": {
    "id": "03gBUiXtaQMm",
    "pycharm": {
     "name": "#%% md\n"
    }
   },
   "source": [
    "## Actual Vs Predicted Plot"
   ]
  },
  {
   "cell_type": "code",
   "execution_count": null,
   "metadata": {
    "id": "miF8PiURWbyk",
    "pycharm": {
     "name": "#%%\n"
    }
   },
   "outputs": [],
   "source": [
    "def actual_vs_predicted_plot(y_true, y_pred):\n",
    "  import numpy as np\n",
    "  import matplotlib.pyplot as plt\n",
    "  min_value=np.array([y_true.min(), y_pred.min()]).min()\n",
    "  max_value= min=np.array([y_true.max(), y_pred.max()]).max()\n",
    "  fig = plt.figure()\n",
    "  ax = fig.gca()\n",
    "  ax.scatter(y_true,y_pred, color=\"blue\")\n",
    "  ax.plot([min_value,max_value], [min_value, max_value], lw=4, color=\"green\")\n",
    "  ax.set_xlabel('Actual')\n",
    "  ax.set_ylabel('Predicted')\n",
    "  plt.show()"
   ]
  },
  {
   "cell_type": "code",
   "execution_count": null,
   "metadata": {
    "id": "xd9vi9en1fuI",
    "pycharm": {
     "name": "#%%\n"
    }
   },
   "outputs": [],
   "source": [
    "actual_vs_predicted_plot(y_test, y_pred)"
   ]
  },
  {
   "cell_type": "markdown",
   "metadata": {
    "id": "o8WBhAdchyPT",
    "pycharm": {
     "name": "#%% md\n"
    }
   },
   "source": [
    "# Regression Tree"
   ]
  },
  {
   "cell_type": "markdown",
   "metadata": {
    "id": "LJK1kz-1c1ER",
    "pycharm": {
     "name": "#%% md\n"
    }
   },
   "source": [
    "The logic is almost identical we have to import and instantiate the DecisionTreeRegressor - all else is copy & paste"
   ]
  },
  {
   "cell_type": "markdown",
   "metadata": {
    "id": "_oBixfoXsQIE",
    "pycharm": {
     "name": "#%% md\n"
    }
   },
   "source": [
    "### 1) Import Model Function"
   ]
  },
  {
   "cell_type": "code",
   "execution_count": null,
   "metadata": {
    "id": "EXKAdZ3djC0O",
    "pycharm": {
     "name": "#%%\n"
    }
   },
   "outputs": [],
   "source": [
    "from sklearn.____ import ____\n",
    "from sklearn.metrics import mean_squared_error"
   ]
  },
  {
   "cell_type": "markdown",
   "metadata": {
    "id": "iLT1md4GsUkl",
    "pycharm": {
     "name": "#%% md\n"
    }
   },
   "source": [
    "### 2) Instantiate Model"
   ]
  },
  {
   "cell_type": "code",
   "execution_count": null,
   "metadata": {
    "id": "PdiddltNjDwi",
    "pycharm": {
     "name": "#%%\n"
    }
   },
   "outputs": [],
   "source": [
    "tree = ____(random_state=11)"
   ]
  },
  {
   "cell_type": "markdown",
   "metadata": {
    "id": "CRlKuZ4y2koc",
    "pycharm": {
     "name": "#%% md\n"
    }
   },
   "source": [
    "we add random_state to get identical results everywhere (they can vary a bit for regression trees)"
   ]
  },
  {
   "cell_type": "markdown",
   "metadata": {
    "id": "S8aemj64sV_i",
    "pycharm": {
     "name": "#%% md\n"
    }
   },
   "source": [
    "### 3) Create Test and Training Data"
   ]
  },
  {
   "cell_type": "code",
   "execution_count": null,
   "metadata": {
    "id": "7oyV5RumjGtg",
    "pycharm": {
     "name": "#%%\n"
    }
   },
   "outputs": [],
   "source": [
    "X_train, X_test, y_train, y_test = ____(____, ____, ____=0.12, shuffle=False)"
   ]
  },
  {
   "cell_type": "markdown",
   "metadata": {
    "id": "HogD3WW5sgjh",
    "pycharm": {
     "name": "#%% md\n"
    }
   },
   "source": [
    "### 4) Fit Model to Data"
   ]
  },
  {
   "cell_type": "code",
   "execution_count": null,
   "metadata": {
    "id": "MrdPM_e0jOC_",
    "pycharm": {
     "name": "#%%\n"
    }
   },
   "outputs": [],
   "source": [
    "tree.____(____,____)"
   ]
  },
  {
   "cell_type": "markdown",
   "metadata": {
    "id": "YHSp_wBrsjzI",
    "pycharm": {
     "name": "#%% md\n"
    }
   },
   "source": [
    "### 5) Make Predictions on Test Data"
   ]
  },
  {
   "cell_type": "code",
   "execution_count": null,
   "metadata": {
    "id": "XK8IBUwMjRB-",
    "pycharm": {
     "name": "#%%\n"
    }
   },
   "outputs": [],
   "source": [
    "y_pred = tree.____(____)"
   ]
  },
  {
   "cell_type": "markdown",
   "metadata": {
    "id": "qvniH5wIjRsj",
    "pycharm": {
     "name": "#%% md\n"
    }
   },
   "source": [
    "### 6) Evaluate Performance"
   ]
  },
  {
   "cell_type": "code",
   "execution_count": null,
   "metadata": {
    "id": "6BrerhfajR-F",
    "pycharm": {
     "name": "#%%\n"
    }
   },
   "outputs": [],
   "source": [
    "mean_squared_error(____, ____, squared=____)"
   ]
  },
  {
   "cell_type": "code",
   "execution_count": null,
   "metadata": {
    "id": "xEopb8bStrHY",
    "pycharm": {
     "name": "#%%\n"
    }
   },
   "outputs": [],
   "source": [
    "mean_absolute_percentage_error(____, ____)"
   ]
  },
  {
   "cell_type": "markdown",
   "metadata": {
    "id": "Oj_23mi9dFw9",
    "pycharm": {
     "name": "#%% md\n"
    }
   },
   "source": [
    "The Decision Tree Regressor is so far our ____ model!"
   ]
  },
  {
   "cell_type": "markdown",
   "metadata": {
    "id": "tVzPvK4Wiryl",
    "pycharm": {
     "name": "#%% md\n"
    }
   },
   "source": [
    "### Plot Tree"
   ]
  },
  {
   "cell_type": "code",
   "execution_count": null,
   "metadata": {
    "id": "rO2WrEjYfTSd",
    "pycharm": {
     "name": "#%%\n"
    }
   },
   "outputs": [],
   "source": [
    "def plot_tree_regression(treemodel, X_train):\n",
    "    from sklearn import tree\n",
    "    import matplotlib.pyplot as plt\n",
    "    fig = plt.figure(figsize=(60,20))\n",
    "    _ = tree.plot_tree(treemodel, feature_names=X_train.columns, filled=True, precision=2)"
   ]
  },
  {
   "cell_type": "code",
   "execution_count": null,
   "metadata": {
    "id": "Xxv4VkTU1fuL",
    "pycharm": {
     "name": "#%%\n"
    }
   },
   "outputs": [],
   "source": [
    "plot_tree_regression(tree, X_train)"
   ]
  }
 ],
 "metadata": {
  "colab": {
   "collapsed_sections": [],
   "name": "Introduction to Regression.ipynb",
   "provenance": [
    {
     "file_id": "1jr1GQ0OUu4uQZt7mT-xJioDG3MVtmPsx",
     "timestamp": 1631128952632
    },
    {
     "file_id": "1WlIq4bsjXXBJykerHEAF6UDMJSs-6Jlw",
     "timestamp": 1631124815235
    },
    {
     "file_id": "18im53fXJIjYw3NTAdwxOcOWfrkftkt8b",
     "timestamp": 1592485140678
    }
   ]
  },
  "kernelspec": {
   "display_name": "Python 3 (ipykernel)",
   "language": "python",
   "name": "python3"
  },
  "language_info": {
   "codemirror_mode": {
    "name": "ipython",
    "version": 3
   },
   "file_extension": ".py",
   "mimetype": "text/x-python",
   "name": "python",
   "nbconvert_exporter": "python",
   "pygments_lexer": "ipython3",
   "version": "3.9.12"
  }
 },
 "nbformat": 4,
 "nbformat_minor": 1
}