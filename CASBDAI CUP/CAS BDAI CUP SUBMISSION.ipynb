{
 "cells": [
  {
   "cell_type": "markdown",
   "metadata": {
    "id": "by2o89GI97z5",
    "pycharm": {
     "name": "#%% md\n"
    }
   },
   "source": [
    "# CAS BDAI CUP SUBMISSION NOTEBOOK\n",
    "\n"
   ]
  },
  {
   "cell_type": "markdown",
   "metadata": {
    "id": "BPhxe5DD-JPC",
    "pycharm": {
     "name": "#%% md\n"
    }
   },
   "source": [
    "# Import Data"
   ]
  },
  {
   "cell_type": "code",
   "execution_count": 1,
   "metadata": {
    "executionInfo": {
     "elapsed": 223,
     "status": "ok",
     "timestamp": 1631354045619,
     "user": {
      "displayName": "Ivo Blohm",
      "photoUrl": "https://lh3.googleusercontent.com/a/default-user=s64",
      "userId": "03588522102684867783"
     },
     "user_tz": -120
    },
    "id": "FiPlcB9GIpnx",
    "pycharm": {
     "name": "#%%\n"
    }
   },
   "outputs": [],
   "source": [
    "import pandas as pd\n",
    "train = pd.read_csv(\"https://raw.githubusercontent.com/casbdai/datasets/main/bdai_cup_train.csv\")\n",
    "comp_data = pd.read_csv(\"https://raw.githubusercontent.com/casbdai/datasets/main/bdai_cup_test.csv\")"
   ]
  },
  {
   "cell_type": "code",
   "execution_count": 2,
   "metadata": {
    "colab": {
     "base_uri": "https://localhost:8080/"
    },
    "executionInfo": {
     "elapsed": 11,
     "status": "ok",
     "timestamp": 1631354045837,
     "user": {
      "displayName": "Ivo Blohm",
      "photoUrl": "https://lh3.googleusercontent.com/a/default-user=s64",
      "userId": "03588522102684867783"
     },
     "user_tz": -120
    },
    "id": "9fvxpfgWumsa",
    "outputId": "b1051346-4622-475d-d5b0-25b141d2f8f8",
    "pycharm": {
     "name": "#%%\n"
    }
   },
   "outputs": [
    {
     "name": "stdout",
     "output_type": "stream",
     "text": [
      "<class 'pandas.core.frame.DataFrame'>\n",
      "RangeIndex: 7683 entries, 0 to 7682\n",
      "Columns: 115 entries, Id to paint_color_yellow\n",
      "dtypes: float64(1), int64(114)\n",
      "memory usage: 6.7 MB\n"
     ]
    }
   ],
   "source": [
    "train.info()"
   ]
  },
  {
   "cell_type": "code",
   "execution_count": 3,
   "metadata": {
    "colab": {
     "base_uri": "https://localhost:8080/"
    },
    "executionInfo": {
     "elapsed": 7,
     "status": "ok",
     "timestamp": 1631354045837,
     "user": {
      "displayName": "Ivo Blohm",
      "photoUrl": "https://lh3.googleusercontent.com/a/default-user=s64",
      "userId": "03588522102684867783"
     },
     "user_tz": -120
    },
    "id": "f0CdeZ4vNzvB",
    "outputId": "89fcbc12-ccef-4646-fdb4-039d4f53083f",
    "pycharm": {
     "name": "#%%\n"
    }
   },
   "outputs": [
    {
     "name": "stdout",
     "output_type": "stream",
     "text": [
      "<class 'pandas.core.frame.DataFrame'>\n",
      "RangeIndex: 3958 entries, 0 to 3957\n",
      "Columns: 114 entries, Id to paint_color_yellow\n",
      "dtypes: float64(1), int64(113)\n",
      "memory usage: 3.4 MB\n"
     ]
    }
   ],
   "source": [
    "comp_data.info()"
   ]
  },
  {
   "cell_type": "markdown",
   "metadata": {
    "id": "ki6wP3_xXt2J",
    "pycharm": {
     "name": "#%% md\n"
    }
   },
   "source": [
    "# Build Model"
   ]
  },
  {
   "cell_type": "code",
   "execution_count": 4,
   "metadata": {
    "colab": {
     "base_uri": "https://localhost:8080/"
    },
    "executionInfo": {
     "elapsed": 287,
     "status": "ok",
     "timestamp": 1631354046121,
     "user": {
      "displayName": "Ivo Blohm",
      "photoUrl": "https://lh3.googleusercontent.com/a/default-user=s64",
      "userId": "03588522102684867783"
     },
     "user_tz": -120
    },
    "id": "l_-ZH8xNNKvG",
    "outputId": "1c34f51d-59ca-4b7a-c88d-497b7d39a0d6",
    "pycharm": {
     "name": "#%%\n"
    }
   },
   "outputs": [
    {
     "data": {
      "text/plain": [
       "7541.309925318057"
      ]
     },
     "execution_count": 4,
     "metadata": {},
     "output_type": "execute_result"
    }
   ],
   "source": [
    "# Import Functions\n",
    "from sklearn.linear_model import LinearRegression\n",
    "from sklearn.model_selection import train_test_split\n",
    "from sklearn.metrics import mean_squared_error\n",
    "\n",
    "# Instantiate Model\n",
    "model = LinearRegression()\n",
    "\n",
    "# Create Train Data\n",
    "X = train.drop(\"price\", axis=1)\n",
    "y = train[\"price\"]\n",
    "X_train, X_test, y_train, y_test = train_test_split(X, y, test_size=0.3, random_state=12)\n",
    "\n",
    "# fit model\n",
    "model.fit(X_train, y_train)\n",
    "\n",
    "#make prediction\n",
    "y_pred = model.predict(X_test)\n",
    "\n",
    "# Evaluate Model Performance\n",
    "mean_squared_error(y_test, y_pred, squared=False)"
   ]
  },
  {
   "cell_type": "markdown",
   "metadata": {
    "id": "h-7mh_yDQ5Si",
    "pycharm": {
     "name": "#%% md\n"
    }
   },
   "source": [
    "# Save Results for Submission"
   ]
  },
  {
   "cell_type": "markdown",
   "metadata": {
    "id": "q6YVeDU2u8uM",
    "pycharm": {
     "name": "#%% md\n"
    }
   },
   "source": [
    "Make predictions on the competition data with your trained model"
   ]
  },
  {
   "cell_type": "code",
   "execution_count": 5,
   "metadata": {
    "executionInfo": {
     "elapsed": 9,
     "status": "ok",
     "timestamp": 1631354046122,
     "user": {
      "displayName": "Ivo Blohm",
      "photoUrl": "https://lh3.googleusercontent.com/a/default-user=s64",
      "userId": "03588522102684867783"
     },
     "user_tz": -120
    },
    "id": "mZmvMo3enxfU",
    "pycharm": {
     "name": "#%%\n"
    }
   },
   "outputs": [],
   "source": [
    "comp_predictions= model.predict(comp_data)"
   ]
  },
  {
   "cell_type": "code",
   "execution_count": 6,
   "metadata": {
    "executionInfo": {
     "elapsed": 10,
     "status": "ok",
     "timestamp": 1631354046123,
     "user": {
      "displayName": "Ivo Blohm",
      "photoUrl": "https://lh3.googleusercontent.com/a/default-user=s64",
      "userId": "03588522102684867783"
     },
     "user_tz": -120
    },
    "id": "HY34krAdwQ0l",
    "pycharm": {
     "name": "#%%\n"
    }
   },
   "outputs": [],
   "source": [
    "model_name = \"IvoTestSubmission.csv\""
   ]
  },
  {
   "cell_type": "code",
   "execution_count": 13,
   "metadata": {
    "executionInfo": {
     "elapsed": 10,
     "status": "ok",
     "timestamp": 1631354046123,
     "user": {
      "displayName": "Ivo Blohm",
      "photoUrl": "https://lh3.googleusercontent.com/a/default-user=s64",
      "userId": "03588522102684867783"
     },
     "user_tz": -120
    },
    "id": "K_hMBy32vv8U",
    "pycharm": {
     "name": "#%%\n"
    }
   },
   "outputs": [],
   "source": [
    "def save_submission_for_kaggle(model_name, comp_predictions, comp_data):\n",
    "  import pandas as pd\n",
    "  submission_data = pd.DataFrame({\"Id\": comp_data[\"Id\"], \"Actual\": comp_predictions})\n",
    "  submission_data.to_csv(model_name, index=False)"
   ]
  },
  {
   "cell_type": "markdown",
   "metadata": {
    "pycharm": {
     "name": "#%% md\n"
    }
   },
   "source": [
    "## FOR GOOGLE COLAB USERS ONLY: Download the created file"
   ]
  },
  {
   "cell_type": "code",
   "execution_count": 5,
   "metadata": {
    "pycharm": {
     "name": "#%%\n"
    }
   },
   "outputs": [
    {
     "name": "stdout",
     "output_type": "stream",
     "text": [
      "Not using Google Colab\n"
     ]
    }
   ],
   "source": [
    "try:\n",
    "  from google.colab import files\n",
    "  files.download(model_name)\n",
    "except ModuleNotFoundError:\n",
    "  print(\"Not using Google Colab\")"
   ]
  },
  {
   "cell_type": "markdown",
   "metadata": {
    "pycharm": {
     "name": "#%% md\n"
    }
   },
   "source": [
    "## FOR ANACONDA USERS ONLY: Find the created file in your folder structure\n",
    "\n",
    "The file is located in the same directory as your notebook."
   ]
  },
  {
   "cell_type": "code",
   "execution_count": 6,
   "metadata": {
    "pycharm": {
     "name": "#%%\n"
    }
   },
   "outputs": [
    {
     "name": "stdout",
     "output_type": "stream",
     "text": [
      "C:\\Users\\PGordetzki\\Universität St.Gallen\\IWI7 - Dokumente\\CAS\\2022\\Notebooks\\3_05 CAS BDAI CUP\\CASBDAI_Module3_Day3_CASBDAICUP\n"
     ]
    }
   ],
   "source": [
    "# run this cell if you don't know the location\n",
    "import os\n",
    "print(os.getcwd())"
   ]
  },
  {
   "cell_type": "markdown",
   "metadata": {
    "pycharm": {
     "name": "#%% md\n"
    }
   },
   "source": [
    "## Save submission file"
   ]
  },
  {
   "cell_type": "code",
   "execution_count": 16,
   "metadata": {
    "executionInfo": {
     "elapsed": 234,
     "status": "ok",
     "timestamp": 1631354051998,
     "user": {
      "displayName": "Ivo Blohm",
      "photoUrl": "https://lh3.googleusercontent.com/a/default-user=s64",
      "userId": "03588522102684867783"
     },
     "user_tz": -120
    },
    "id": "ye_dzdbaVn2c",
    "pycharm": {
     "name": "#%%\n"
    }
   },
   "outputs": [],
   "source": [
    "save_submission_for_kaggle(path + model_name, comp_predictions, comp_data)"
   ]
  },
  {
   "cell_type": "markdown",
   "metadata": {
    "id": "Pi6BViVGcUHo",
    "pycharm": {
     "name": "#%% md\n"
    }
   },
   "source": [
    "# How to get Going\n",
    "\n",
    "- Try out other algorithms!\n",
    "- Try out Cross Validation and Hyperparameter Tuning (see coding hint below)\n",
    "- Try to understand why different models perform better or worse. Make Visualizations (Actual vs. Predicted Plots, Feature Importances, etc.)\n",
    "- Try to make ensemble different predictions (average of multiple models)\n",
    "\n",
    "- MOST IMPORTANTLY: Reach out to us - We will help you making your ideas work! "
   ]
  },
  {
   "cell_type": "markdown",
   "metadata": {
    "id": "IoT6AMgxj70w",
    "pycharm": {
     "name": "#%% md\n"
    }
   },
   "source": [
    "# Implementation Help for Cross Validation"
   ]
  },
  {
   "cell_type": "code",
   "execution_count": 9,
   "metadata": {
    "colab": {
     "base_uri": "https://localhost:8080/"
    },
    "executionInfo": {
     "elapsed": 330,
     "status": "ok",
     "timestamp": 1631358516631,
     "user": {
      "displayName": "Ivo Blohm",
      "photoUrl": "https://lh3.googleusercontent.com/a/default-user=s64",
      "userId": "03588522102684867783"
     },
     "user_tz": -120
    },
    "id": "5RWGVIHLg02c",
    "outputId": "e2156452-35a2-49ac-86a1-659707cc5bc9",
    "pycharm": {
     "name": "#%%\n"
    }
   },
   "outputs": [
    {
     "data": {
      "text/html": [
       "<style>#sk-container-id-1 {color: black;background-color: white;}#sk-container-id-1 pre{padding: 0;}#sk-container-id-1 div.sk-toggleable {background-color: white;}#sk-container-id-1 label.sk-toggleable__label {cursor: pointer;display: block;width: 100%;margin-bottom: 0;padding: 0.3em;box-sizing: border-box;text-align: center;}#sk-container-id-1 label.sk-toggleable__label-arrow:before {content: \"▸\";float: left;margin-right: 0.25em;color: #696969;}#sk-container-id-1 label.sk-toggleable__label-arrow:hover:before {color: black;}#sk-container-id-1 div.sk-estimator:hover label.sk-toggleable__label-arrow:before {color: black;}#sk-container-id-1 div.sk-toggleable__content {max-height: 0;max-width: 0;overflow: hidden;text-align: left;background-color: #f0f8ff;}#sk-container-id-1 div.sk-toggleable__content pre {margin: 0.2em;color: black;border-radius: 0.25em;background-color: #f0f8ff;}#sk-container-id-1 input.sk-toggleable__control:checked~div.sk-toggleable__content {max-height: 200px;max-width: 100%;overflow: auto;}#sk-container-id-1 input.sk-toggleable__control:checked~label.sk-toggleable__label-arrow:before {content: \"▾\";}#sk-container-id-1 div.sk-estimator input.sk-toggleable__control:checked~label.sk-toggleable__label {background-color: #d4ebff;}#sk-container-id-1 div.sk-label input.sk-toggleable__control:checked~label.sk-toggleable__label {background-color: #d4ebff;}#sk-container-id-1 input.sk-hidden--visually {border: 0;clip: rect(1px 1px 1px 1px);clip: rect(1px, 1px, 1px, 1px);height: 1px;margin: -1px;overflow: hidden;padding: 0;position: absolute;width: 1px;}#sk-container-id-1 div.sk-estimator {font-family: monospace;background-color: #f0f8ff;border: 1px dotted black;border-radius: 0.25em;box-sizing: border-box;margin-bottom: 0.5em;}#sk-container-id-1 div.sk-estimator:hover {background-color: #d4ebff;}#sk-container-id-1 div.sk-parallel-item::after {content: \"\";width: 100%;border-bottom: 1px solid gray;flex-grow: 1;}#sk-container-id-1 div.sk-label:hover label.sk-toggleable__label {background-color: #d4ebff;}#sk-container-id-1 div.sk-serial::before {content: \"\";position: absolute;border-left: 1px solid gray;box-sizing: border-box;top: 0;bottom: 0;left: 50%;z-index: 0;}#sk-container-id-1 div.sk-serial {display: flex;flex-direction: column;align-items: center;background-color: white;padding-right: 0.2em;padding-left: 0.2em;position: relative;}#sk-container-id-1 div.sk-item {position: relative;z-index: 1;}#sk-container-id-1 div.sk-parallel {display: flex;align-items: stretch;justify-content: center;background-color: white;position: relative;}#sk-container-id-1 div.sk-item::before, #sk-container-id-1 div.sk-parallel-item::before {content: \"\";position: absolute;border-left: 1px solid gray;box-sizing: border-box;top: 0;bottom: 0;left: 50%;z-index: -1;}#sk-container-id-1 div.sk-parallel-item {display: flex;flex-direction: column;z-index: 1;position: relative;background-color: white;}#sk-container-id-1 div.sk-parallel-item:first-child::after {align-self: flex-end;width: 50%;}#sk-container-id-1 div.sk-parallel-item:last-child::after {align-self: flex-start;width: 50%;}#sk-container-id-1 div.sk-parallel-item:only-child::after {width: 0;}#sk-container-id-1 div.sk-dashed-wrapped {border: 1px dashed gray;margin: 0 0.4em 0.5em 0.4em;box-sizing: border-box;padding-bottom: 0.4em;background-color: white;}#sk-container-id-1 div.sk-label label {font-family: monospace;font-weight: bold;display: inline-block;line-height: 1.2em;}#sk-container-id-1 div.sk-label-container {text-align: center;}#sk-container-id-1 div.sk-container {/* jupyter's `normalize.less` sets `[hidden] { display: none; }` but bootstrap.min.css set `[hidden] { display: none !important; }` so we also need the `!important` here to be able to override the default hidden behavior on the sphinx rendered scikit-learn.org. See: https://github.com/scikit-learn/scikit-learn/issues/21755 */display: inline-block !important;position: relative;}#sk-container-id-1 div.sk-text-repr-fallback {display: none;}</style><div id=\"sk-container-id-1\" class=\"sk-top-container\"><div class=\"sk-text-repr-fallback\"><pre>GridSearchCV(cv=5, estimator=DecisionTreeRegressor(),\n",
       "             param_grid={&#x27;max_depth&#x27;: [2, 3]},\n",
       "             scoring=make_scorer(mean_squared_error, squared=False))</pre><b>In a Jupyter environment, please rerun this cell to show the HTML representation or trust the notebook. <br />On GitHub, the HTML representation is unable to render, please try loading this page with nbviewer.org.</b></div><div class=\"sk-container\" hidden><div class=\"sk-item sk-dashed-wrapped\"><div class=\"sk-label-container\"><div class=\"sk-label sk-toggleable\"><input class=\"sk-toggleable__control sk-hidden--visually\" id=\"sk-estimator-id-1\" type=\"checkbox\" ><label for=\"sk-estimator-id-1\" class=\"sk-toggleable__label sk-toggleable__label-arrow\">GridSearchCV</label><div class=\"sk-toggleable__content\"><pre>GridSearchCV(cv=5, estimator=DecisionTreeRegressor(),\n",
       "             param_grid={&#x27;max_depth&#x27;: [2, 3]},\n",
       "             scoring=make_scorer(mean_squared_error, squared=False))</pre></div></div></div><div class=\"sk-parallel\"><div class=\"sk-parallel-item\"><div class=\"sk-item\"><div class=\"sk-label-container\"><div class=\"sk-label sk-toggleable\"><input class=\"sk-toggleable__control sk-hidden--visually\" id=\"sk-estimator-id-2\" type=\"checkbox\" ><label for=\"sk-estimator-id-2\" class=\"sk-toggleable__label sk-toggleable__label-arrow\">estimator: DecisionTreeRegressor</label><div class=\"sk-toggleable__content\"><pre>DecisionTreeRegressor()</pre></div></div></div><div class=\"sk-serial\"><div class=\"sk-item\"><div class=\"sk-estimator sk-toggleable\"><input class=\"sk-toggleable__control sk-hidden--visually\" id=\"sk-estimator-id-3\" type=\"checkbox\" ><label for=\"sk-estimator-id-3\" class=\"sk-toggleable__label sk-toggleable__label-arrow\">DecisionTreeRegressor</label><div class=\"sk-toggleable__content\"><pre>DecisionTreeRegressor()</pre></div></div></div></div></div></div></div></div></div></div>"
      ],
      "text/plain": [
       "GridSearchCV(cv=5, estimator=DecisionTreeRegressor(),\n",
       "             param_grid={'max_depth': [2, 3]},\n",
       "             scoring=make_scorer(mean_squared_error, squared=False))"
      ]
     },
     "execution_count": 9,
     "metadata": {},
     "output_type": "execute_result"
    }
   ],
   "source": [
    "# Import Functions\n",
    "from sklearn.tree import DecisionTreeRegressor #we import an alogorithm with which we can optimize hypeparamerts\n",
    "from sklearn.model_selection import GridSearchCV #We import GridSearchCV instead of train_test_split\n",
    "from sklearn.metrics import mean_squared_error, make_scorer #We import the make_score function that allows to optimize models for RMSE (requested by the competition rules)\n",
    "\n",
    "# Instantiate Model\n",
    "tree = DecisionTreeRegressor()\n",
    "\n",
    "# Create Train Data\n",
    "X = train.drop(\"price\", axis=1)\n",
    "y = train[\"price\"]\n",
    "\n",
    "# fit model\n",
    "RMSE = make_scorer(mean_squared_error, squared = False) #we create an RMSE scoring function\n",
    "parameters = {'max_depth':[2,3]} # We set some hyperparameters to be optimized\n",
    "model_CV = GridSearchCV(tree, parameters, scoring=RMSE, cv=5) # Apply 5 Cross Validiation Folds to find best hyperparameters\n",
    "\n",
    "model_CV.fit(X,y) # perform the analysis\n",
    "\n",
    "# now predictions and evaluations are made with \"tuned\" model > code from the linear regression example can be used"
   ]
  }
 ],
 "metadata": {
  "colab": {
   "authorship_tag": "ABX9TyPeqt/5RaeHYILOulWk3hAc",
   "collapsed_sections": [],
   "mount_file_id": "1ejDPomwiBn8AUgdbXRT8og-v4GLKufQV",
   "name": "CAS BDAI CUP SUBMISSION.ipynb",
   "provenance": [
    {
     "file_id": "18im53fXJIjYw3NTAdwxOcOWfrkftkt8b",
     "timestamp": 1592485140678
    }
   ],
   "toc_visible": true
  },
  "kernelspec": {
   "display_name": "Python 3 (ipykernel)",
   "language": "python",
   "name": "python3"
  },
  "language_info": {
   "codemirror_mode": {
    "name": "ipython",
    "version": 3
   },
   "file_extension": ".py",
   "mimetype": "text/x-python",
   "name": "python",
   "nbconvert_exporter": "python",
   "pygments_lexer": "ipython3",
   "version": "3.9.12"
  }
 },
 "nbformat": 4,
 "nbformat_minor": 1
}