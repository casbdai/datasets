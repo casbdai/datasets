{
 "cells": [
  {
   "cell_type": "markdown",
   "metadata": {
    "id": "rd7-GCABt8QU"
   },
   "source": [
    "# Hands On - Predicting Credit Default - Classification RECAP SESSION"
   ]
  },
  {
   "cell_type": "markdown",
   "metadata": {
    "id": "94kjRIcJoy53"
   },
   "source": [
    "# Import & Prepare Data"
   ]
  },
  {
   "cell_type": "code",
   "execution_count": null,
   "metadata": {
    "id": "e3rakrkKpE0m"
   },
   "outputs": [],
   "source": [
    "import ____ as ____\n",
    "default = pd.read_csv(\"https://raw.githubusercontent.com/casbdai/datasets/main/prosper.data.csv\")"
   ]
  },
  {
   "cell_type": "markdown",
   "metadata": {
    "id": "DAq-97X0uFx2"
   },
   "source": [
    "\n",
    "\n",
    "*   Investigate the structure of the data. \n",
    "*   Delete missing values if required \n",
    "*   Transform objects to dummies \n",
    "*   Seperate features from label (loan.default) in X and y\n"
   ]
  },
  {
   "cell_type": "code",
   "execution_count": null,
   "metadata": {
    "id": "XISUYIOKxbCr"
   },
   "outputs": [],
   "source": [
    "default.info()"
   ]
  },
  {
   "cell_type": "markdown",
   "metadata": {
    "id": "t1Jpkkcrulbp"
   },
   "source": [
    "Delete missing values"
   ]
  },
  {
   "cell_type": "code",
   "execution_count": null,
   "metadata": {
    "id": "oHWHGAZIR9p5"
   },
   "outputs": [],
   "source": [
    "default = default.dropna()\n",
    "default.info()"
   ]
  },
  {
   "cell_type": "markdown",
   "metadata": {
    "id": "0pVQSDSXusfb"
   },
   "source": [
    "Create dummies"
   ]
  },
  {
   "cell_type": "code",
   "execution_count": null,
   "metadata": {
    "id": "t9oYgCg2uva5"
   },
   "outputs": [],
   "source": [
    "default = pd.____(default, drop_first=True)\n",
    "default.info()"
   ]
  },
  {
   "cell_type": "markdown",
   "metadata": {
    "id": "6SGlLhLneurF"
   },
   "source": [
    "Separate Features and Labels"
   ]
  },
  {
   "cell_type": "code",
   "execution_count": null,
   "metadata": {
    "id": "-vkKVc94wLU0"
   },
   "outputs": [],
   "source": [
    "X = default.____(\"loan.default_defaulted\", axis=1)\n",
    "y = default[\"loan.default_defaulted\"]"
   ]
  },
  {
   "cell_type": "markdown",
   "metadata": {
    "id": "_QtZ2WLybmGX"
   },
   "source": [
    "# Train and a Decision Tree\n"
   ]
  },
  {
   "cell_type": "markdown",
   "metadata": {
    "id": "cQfA34KbcZTf"
   },
   "source": [
    "## 1) Import Model Function"
   ]
  },
  {
   "cell_type": "code",
   "execution_count": null,
   "metadata": {
    "id": "ZlGzuIPxgbks"
   },
   "outputs": [],
   "source": [
    "from sklearn.tree import ____\n",
    "from sklearn.model_selection import train_test_split\n",
    "from sklearn.metrics import classification_report"
   ]
  },
  {
   "cell_type": "markdown",
   "metadata": {
    "id": "WSFI5ktSgnW9"
   },
   "source": [
    "## 2) Instantiate Model"
   ]
  },
  {
   "cell_type": "code",
   "execution_count": null,
   "metadata": {
    "id": "Q7IUHqZvbvDL"
   },
   "outputs": [],
   "source": [
    "tree = ____(criterion=\"entropy\", random_state=1)"
   ]
  },
  {
   "cell_type": "markdown",
   "metadata": {
    "id": "eVwgo8y0sO_4"
   },
   "source": [
    "## 3) Create Test & Training Data\n"
   ]
  },
  {
   "cell_type": "code",
   "execution_count": null,
   "metadata": {
    "id": "UPhsoSfyr9Ir"
   },
   "outputs": [],
   "source": [
    "X_train, X_test, y_train, y_test = ____(____, ____, test_size=0.3, random_state=1)"
   ]
  },
  {
   "cell_type": "markdown",
   "metadata": {
    "id": "ZZf8IiTJuzyT"
   },
   "source": [
    "## 4) Fit Model to Training Data\n"
   ]
  },
  {
   "cell_type": "code",
   "execution_count": null,
   "metadata": {
    "id": "Hxf43GnPzp9b"
   },
   "outputs": [],
   "source": [
    "tree.____(____, ____)"
   ]
  },
  {
   "cell_type": "markdown",
   "metadata": {
    "id": "kFU4TkO5tmxI"
   },
   "source": [
    "## 5) Make Predictions on Testing Data\n"
   ]
  },
  {
   "cell_type": "markdown",
   "metadata": {
    "id": "QxMfWBDr4_g4"
   },
   "source": []
  },
  {
   "cell_type": "code",
   "execution_count": null,
   "metadata": {
    "id": "hfEvzjmYtmNC"
   },
   "outputs": [],
   "source": [
    "y_pred = tree.____(____)"
   ]
  },
  {
   "cell_type": "markdown",
   "metadata": {
    "id": "UoleGJwBmwmB"
   },
   "source": [
    "## 6) Score Accuracy"
   ]
  },
  {
   "cell_type": "markdown",
   "metadata": {
    "id": "-hiOPyIzw85k"
   },
   "source": [
    "\n",
    "\n",
    "*   Produce a Classification Report\n",
    "\n"
   ]
  },
  {
   "cell_type": "code",
   "execution_count": null,
   "metadata": {
    "id": "ZTbZiIQkmwOX"
   },
   "outputs": [],
   "source": [
    "print(classification_report(y_test, ____))"
   ]
  },
  {
   "cell_type": "markdown",
   "metadata": {
    "id": "3FSZ-T9Jwv40"
   },
   "source": [
    "Is it good model? Why? Why Not?"
   ]
  },
  {
   "cell_type": "markdown",
   "metadata": {
    "id": "rfxfqx4syOaB"
   },
   "source": [
    "**Answer:**____"
   ]
  },
  {
   "cell_type": "markdown",
   "metadata": {
    "id": "H50r8jaQrmJv"
   },
   "source": [
    "# Build a better model - Apply a Random Forest"
   ]
  },
  {
   "cell_type": "markdown",
   "metadata": {
    "id": "lIc21l16jpww"
   },
   "source": [
    "## 1) Import Model Function"
   ]
  },
  {
   "cell_type": "code",
   "execution_count": null,
   "metadata": {
    "id": "aMKNT981rtp2"
   },
   "outputs": [],
   "source": [
    "from sklearn.ensemble import ____\n",
    "from sklearn.model_selection import train_test_split\n",
    "from sklearn.metrics import classification_report"
   ]
  },
  {
   "cell_type": "markdown",
   "metadata": {
    "id": "FrfQxOKPx29k"
   },
   "source": [
    "## 2) Instantiate Model\n",
    "\n",
    "Build a random forest with 500 Trees"
   ]
  },
  {
   "cell_type": "code",
   "execution_count": null,
   "metadata": {
    "id": "yEpR_vZzx4es"
   },
   "outputs": [],
   "source": [
    "forest = ____(n_estimators=____, random_state = 1)"
   ]
  },
  {
   "cell_type": "markdown",
   "metadata": {
    "id": "rRnzsB4zyHqs"
   },
   "source": [
    "## 3) Create Test & Training Data"
   ]
  },
  {
   "cell_type": "code",
   "execution_count": null,
   "metadata": {
    "id": "Ab-dNUxQYU3A"
   },
   "outputs": [],
   "source": [
    "____, ____, y_train, y_test = ____(X, y, test_size=0.3, random_state=1)"
   ]
  },
  {
   "cell_type": "markdown",
   "metadata": {
    "id": "C9YGJMs0juMf"
   },
   "source": [
    "## 4) Fit Model to Training Data"
   ]
  },
  {
   "cell_type": "code",
   "execution_count": null,
   "metadata": {
    "id": "o9k7Rd8fVTxl"
   },
   "outputs": [],
   "source": [
    "____.fit(X_train, y_train)"
   ]
  },
  {
   "cell_type": "markdown",
   "metadata": {
    "id": "syXwseN9j2MX"
   },
   "source": [
    "## 5) Make Predictions on Testing Data"
   ]
  },
  {
   "cell_type": "code",
   "execution_count": null,
   "metadata": {
    "id": "3P4C-e80xL_Q"
   },
   "outputs": [],
   "source": [
    "y_pred = ____.predict(____)"
   ]
  },
  {
   "cell_type": "markdown",
   "metadata": {
    "id": "5z0tVIMcs7Uj"
   },
   "source": [
    "## 6) Evaluate Performance"
   ]
  },
  {
   "cell_type": "code",
   "execution_count": null,
   "metadata": {
    "id": "YIMWZxHVYYP5"
   },
   "outputs": [],
   "source": [
    "print(____(____, ____))"
   ]
  },
  {
   "cell_type": "markdown",
   "metadata": {
    "id": "unSUQzNc6_rq"
   },
   "source": [
    "Compare the RandomForest to the DedicionTree? Why model is better?"
   ]
  },
  {
   "cell_type": "markdown",
   "metadata": {
    "id": "_bkCebOd0XEm"
   },
   "source": [
    "**Answer:** ____"
   ]
  },
  {
   "cell_type": "markdown",
   "metadata": {
    "id": "d2vQiEGoektL"
   },
   "source": [
    "# Try To Further Improve the RandomForest with Cross Validation"
   ]
  },
  {
   "cell_type": "markdown",
   "metadata": {
    "id": "UP2No7yi6_Rm"
   },
   "source": [
    "Apply GridSearch to The Random Forest vary\n",
    "\n",
    "*   values for max_depth 20,30, and 40\n",
    "*   values for n_estimators (number of trees) to 500 and 1000\n",
    "\n",
    "It may take a couple of minutes....\n",
    "\n",
    "\n"
   ]
  },
  {
   "cell_type": "markdown",
   "metadata": {
    "id": "hto7AECzzx70"
   },
   "source": [
    "## 1) Import GridSearchCV and Define a Parameter Grid"
   ]
  },
  {
   "cell_type": "code",
   "execution_count": null,
   "metadata": {
    "id": "yDoWkQxrZ0I4"
   },
   "outputs": [],
   "source": [
    "from sklearn.model_selection import GridSearchCV\n",
    "\n",
    "parameters = {'max_depth':[____,____,____], \n",
    "              'n_estimators':[____,____]}\n",
    "forest_CV = ____(RandomForestClassifier(random_state=1), parameters, n_jobs=5)"
   ]
  },
  {
   "cell_type": "markdown",
   "metadata": {
    "id": "ZhTxnqBO02Uw"
   },
   "source": [
    "How many Cross Validation Folds does the model training apply?"
   ]
  },
  {
   "cell_type": "markdown",
   "metadata": {
    "id": "k7N-7BGY07U5"
   },
   "source": [
    "**Answer:** ____"
   ]
  },
  {
   "cell_type": "markdown",
   "metadata": {
    "id": "aDwmnCXjz9cc"
   },
   "source": [
    "## 2) Fit forest_CV object"
   ]
  },
  {
   "cell_type": "code",
   "execution_count": null,
   "metadata": {
    "id": "_pAua5iX172r"
   },
   "outputs": [],
   "source": [
    "forest_CV.____(____, ____)"
   ]
  },
  {
   "cell_type": "markdown",
   "metadata": {
    "id": "iVh3fNHz7k5m"
   },
   "source": [
    "## 3) Get best parameters of RandomForest"
   ]
  },
  {
   "cell_type": "code",
   "execution_count": null,
   "metadata": {
    "id": "IzPTvywU6R8u"
   },
   "outputs": [],
   "source": [
    "____.best_params_"
   ]
  },
  {
   "cell_type": "markdown",
   "metadata": {
    "id": "LgyDZwQv7bOw"
   },
   "source": [
    "## 5) Make Prediction on Testing Data"
   ]
  },
  {
   "cell_type": "code",
   "execution_count": null,
   "metadata": {
    "id": "Ou31KfXA4YaH"
   },
   "outputs": [],
   "source": [
    "y_pred = forest_CV.____(____)"
   ]
  },
  {
   "cell_type": "markdown",
   "metadata": {
    "id": "UDOT2dxb8KbT"
   },
   "source": [
    "## 6) Evaluate Performance "
   ]
  },
  {
   "cell_type": "code",
   "execution_count": null,
   "metadata": {
    "id": "7fN3Uz8h1eH9"
   },
   "outputs": [],
   "source": [
    "print(classification_report(y_test, ____))"
   ]
  },
  {
   "cell_type": "markdown",
   "metadata": {
    "id": "fXhg0eLG0TAc"
   },
   "source": [
    "Has we model improved? "
   ]
  },
  {
   "cell_type": "markdown",
   "metadata": {
    "id": "Q-ZXenJl0VaM"
   },
   "source": [
    "**Answer:**  ____"
   ]
  }
 ],
 "metadata": {
  "colab": {
   "collapsed_sections": [],
   "name": "Recap Classification.ipynb",
   "provenance": [],
   "toc_visible": true
  },
  "kernelspec": {
   "display_name": "Python 3 (ipykernel)",
   "language": "python",
   "name": "python3"
  },
  "language_info": {
   "codemirror_mode": {
    "name": "ipython",
    "version": 3
   },
   "file_extension": ".py",
   "mimetype": "text/x-python",
   "name": "python",
   "nbconvert_exporter": "python",
   "pygments_lexer": "ipython3",
   "version": "3.9.10"
  }
 },
 "nbformat": 4,
 "nbformat_minor": 1
}
