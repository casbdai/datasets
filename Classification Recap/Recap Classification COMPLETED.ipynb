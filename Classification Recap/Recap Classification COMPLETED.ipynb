{
 "cells": [
  {
   "cell_type": "markdown",
   "metadata": {
    "id": "rd7-GCABt8QU"
   },
   "source": [
    "# Hands On - Predicting Credit Default - Classification RECAP SESSION"
   ]
  },
  {
   "cell_type": "markdown",
   "metadata": {
    "id": "94kjRIcJoy53"
   },
   "source": [
    "# Import & Prepare Data"
   ]
  },
  {
   "cell_type": "code",
   "execution_count": 1,
   "metadata": {
    "id": "e3rakrkKpE0m"
   },
   "outputs": [],
   "source": [
    "import pandas as pd\n",
    "default = pd.read_csv(\"https://raw.githubusercontent.com/casbdai/datasets/main/prosper.data.csv\")"
   ]
  },
  {
   "cell_type": "markdown",
   "metadata": {
    "id": "DAq-97X0uFx2"
   },
   "source": [
    "\n",
    "\n",
    "*   Investigate the structure of the data. \n",
    "*   Delete missing values if required \n",
    "*   Transform objects to dummies \n",
    "*   Seperate features from label (loan.default) in X and y\n"
   ]
  },
  {
   "cell_type": "code",
   "execution_count": 2,
   "metadata": {
    "id": "XISUYIOKxbCr"
   },
   "outputs": [
    {
     "name": "stdout",
     "output_type": "stream",
     "text": [
      "<class 'pandas.core.frame.DataFrame'>\n",
      "RangeIndex: 5000 entries, 0 to 4999\n",
      "Data columns (total 15 columns):\n",
      " #   Column                       Non-Null Count  Dtype  \n",
      "---  ------                       --------------  -----  \n",
      " 0   loan.default                 5000 non-null   object \n",
      " 1   employment.status            5000 non-null   object \n",
      " 2   borrower.rate                5000 non-null   float64\n",
      " 3   loan.amount                  5000 non-null   int64  \n",
      " 4   term                         5000 non-null   int64  \n",
      " 5   monthly.income               5000 non-null   float64\n",
      " 6   home.ownership               5000 non-null   bool   \n",
      " 7   public.records.last.10years  5000 non-null   int64  \n",
      " 8   inquiries.last.6months       5000 non-null   int64  \n",
      " 9   current.delinquencies        5000 non-null   int64  \n",
      " 10  open.credit.lines            5000 non-null   int64  \n",
      " 11  debt.to.income.ratio         4583 non-null   float64\n",
      " 12  monthly.loan.payment         5000 non-null   float64\n",
      " 13  investors                    5000 non-null   int64  \n",
      " 14  investment.friends.amount    5000 non-null   float64\n",
      "dtypes: bool(1), float64(5), int64(7), object(2)\n",
      "memory usage: 551.9+ KB\n"
     ]
    }
   ],
   "source": [
    "default.info()"
   ]
  },
  {
   "cell_type": "markdown",
   "metadata": {
    "id": "t1Jpkkcrulbp"
   },
   "source": [
    "Delete missing values"
   ]
  },
  {
   "cell_type": "code",
   "execution_count": 3,
   "metadata": {
    "id": "oHWHGAZIR9p5"
   },
   "outputs": [
    {
     "name": "stdout",
     "output_type": "stream",
     "text": [
      "<class 'pandas.core.frame.DataFrame'>\n",
      "Int64Index: 4583 entries, 0 to 4999\n",
      "Data columns (total 15 columns):\n",
      " #   Column                       Non-Null Count  Dtype  \n",
      "---  ------                       --------------  -----  \n",
      " 0   loan.default                 4583 non-null   object \n",
      " 1   employment.status            4583 non-null   object \n",
      " 2   borrower.rate                4583 non-null   float64\n",
      " 3   loan.amount                  4583 non-null   int64  \n",
      " 4   term                         4583 non-null   int64  \n",
      " 5   monthly.income               4583 non-null   float64\n",
      " 6   home.ownership               4583 non-null   bool   \n",
      " 7   public.records.last.10years  4583 non-null   int64  \n",
      " 8   inquiries.last.6months       4583 non-null   int64  \n",
      " 9   current.delinquencies        4583 non-null   int64  \n",
      " 10  open.credit.lines            4583 non-null   int64  \n",
      " 11  debt.to.income.ratio         4583 non-null   float64\n",
      " 12  monthly.loan.payment         4583 non-null   float64\n",
      " 13  investors                    4583 non-null   int64  \n",
      " 14  investment.friends.amount    4583 non-null   float64\n",
      "dtypes: bool(1), float64(5), int64(7), object(2)\n",
      "memory usage: 541.5+ KB\n"
     ]
    }
   ],
   "source": [
    "default = default.dropna()\n",
    "default.info()"
   ]
  },
  {
   "cell_type": "markdown",
   "metadata": {
    "id": "0pVQSDSXusfb"
   },
   "source": [
    "Create dummies"
   ]
  },
  {
   "cell_type": "code",
   "execution_count": 4,
   "metadata": {
    "id": "t9oYgCg2uva5"
   },
   "outputs": [
    {
     "name": "stdout",
     "output_type": "stream",
     "text": [
      "<class 'pandas.core.frame.DataFrame'>\n",
      "Int64Index: 4583 entries, 0 to 4999\n",
      "Data columns (total 20 columns):\n",
      " #   Column                           Non-Null Count  Dtype  \n",
      "---  ------                           --------------  -----  \n",
      " 0   borrower.rate                    4583 non-null   float64\n",
      " 1   loan.amount                      4583 non-null   int64  \n",
      " 2   term                             4583 non-null   int64  \n",
      " 3   monthly.income                   4583 non-null   float64\n",
      " 4   home.ownership                   4583 non-null   bool   \n",
      " 5   public.records.last.10years      4583 non-null   int64  \n",
      " 6   inquiries.last.6months           4583 non-null   int64  \n",
      " 7   current.delinquencies            4583 non-null   int64  \n",
      " 8   open.credit.lines                4583 non-null   int64  \n",
      " 9   debt.to.income.ratio             4583 non-null   float64\n",
      " 10  monthly.loan.payment             4583 non-null   float64\n",
      " 11  investors                        4583 non-null   int64  \n",
      " 12  investment.friends.amount        4583 non-null   float64\n",
      " 13  loan.default_defaulted           4583 non-null   uint8  \n",
      " 14  employment.status_Full-time      4583 non-null   uint8  \n",
      " 15  employment.status_Not employed   4583 non-null   uint8  \n",
      " 16  employment.status_Other          4583 non-null   uint8  \n",
      " 17  employment.status_Part-time      4583 non-null   uint8  \n",
      " 18  employment.status_Retired        4583 non-null   uint8  \n",
      " 19  employment.status_Self-employed  4583 non-null   uint8  \n",
      "dtypes: bool(1), float64(5), int64(7), uint8(7)\n",
      "memory usage: 501.3 KB\n"
     ]
    }
   ],
   "source": [
    "default = pd.get_dummies(default, drop_first=True)\n",
    "default.info()"
   ]
  },
  {
   "cell_type": "markdown",
   "metadata": {
    "id": "6SGlLhLneurF"
   },
   "source": [
    "Separate Features and Labels"
   ]
  },
  {
   "cell_type": "code",
   "execution_count": 5,
   "metadata": {
    "id": "-vkKVc94wLU0"
   },
   "outputs": [],
   "source": [
    "X = default.drop(\"loan.default_defaulted\", axis=1)\n",
    "y = default[\"loan.default_defaulted\"]"
   ]
  },
  {
   "cell_type": "markdown",
   "metadata": {
    "id": "_QtZ2WLybmGX"
   },
   "source": [
    "# Train and a Decision Tree\n"
   ]
  },
  {
   "cell_type": "markdown",
   "metadata": {
    "id": "cQfA34KbcZTf"
   },
   "source": [
    "## 1) Import Model Function"
   ]
  },
  {
   "cell_type": "code",
   "execution_count": 6,
   "metadata": {
    "id": "ZlGzuIPxgbks"
   },
   "outputs": [],
   "source": [
    "from sklearn.tree import DecisionTreeClassifier\n",
    "from sklearn.model_selection import train_test_split\n",
    "from sklearn.metrics import classification_report"
   ]
  },
  {
   "cell_type": "markdown",
   "metadata": {
    "id": "WSFI5ktSgnW9"
   },
   "source": [
    "## 2) Instantiate Model"
   ]
  },
  {
   "cell_type": "code",
   "execution_count": 7,
   "metadata": {
    "id": "Q7IUHqZvbvDL"
   },
   "outputs": [],
   "source": [
    "tree = DecisionTreeClassifier(criterion=\"entropy\", random_state=1)"
   ]
  },
  {
   "cell_type": "markdown",
   "metadata": {
    "id": "eVwgo8y0sO_4"
   },
   "source": [
    "## 3) Create Test & Training Data\n"
   ]
  },
  {
   "cell_type": "code",
   "execution_count": 8,
   "metadata": {
    "id": "UPhsoSfyr9Ir"
   },
   "outputs": [],
   "source": [
    "X_train, X_test, y_train, y_test = train_test_split(X, y, test_size=0.3, random_state=1)"
   ]
  },
  {
   "cell_type": "markdown",
   "metadata": {
    "id": "ZZf8IiTJuzyT"
   },
   "source": [
    "## 4) Fit Model to Training Data\n"
   ]
  },
  {
   "cell_type": "code",
   "execution_count": 9,
   "metadata": {
    "id": "Hxf43GnPzp9b"
   },
   "outputs": [
    {
     "data": {
      "text/html": [
       "<style>#sk-container-id-1 {color: black;background-color: white;}#sk-container-id-1 pre{padding: 0;}#sk-container-id-1 div.sk-toggleable {background-color: white;}#sk-container-id-1 label.sk-toggleable__label {cursor: pointer;display: block;width: 100%;margin-bottom: 0;padding: 0.3em;box-sizing: border-box;text-align: center;}#sk-container-id-1 label.sk-toggleable__label-arrow:before {content: \"▸\";float: left;margin-right: 0.25em;color: #696969;}#sk-container-id-1 label.sk-toggleable__label-arrow:hover:before {color: black;}#sk-container-id-1 div.sk-estimator:hover label.sk-toggleable__label-arrow:before {color: black;}#sk-container-id-1 div.sk-toggleable__content {max-height: 0;max-width: 0;overflow: hidden;text-align: left;background-color: #f0f8ff;}#sk-container-id-1 div.sk-toggleable__content pre {margin: 0.2em;color: black;border-radius: 0.25em;background-color: #f0f8ff;}#sk-container-id-1 input.sk-toggleable__control:checked~div.sk-toggleable__content {max-height: 200px;max-width: 100%;overflow: auto;}#sk-container-id-1 input.sk-toggleable__control:checked~label.sk-toggleable__label-arrow:before {content: \"▾\";}#sk-container-id-1 div.sk-estimator input.sk-toggleable__control:checked~label.sk-toggleable__label {background-color: #d4ebff;}#sk-container-id-1 div.sk-label input.sk-toggleable__control:checked~label.sk-toggleable__label {background-color: #d4ebff;}#sk-container-id-1 input.sk-hidden--visually {border: 0;clip: rect(1px 1px 1px 1px);clip: rect(1px, 1px, 1px, 1px);height: 1px;margin: -1px;overflow: hidden;padding: 0;position: absolute;width: 1px;}#sk-container-id-1 div.sk-estimator {font-family: monospace;background-color: #f0f8ff;border: 1px dotted black;border-radius: 0.25em;box-sizing: border-box;margin-bottom: 0.5em;}#sk-container-id-1 div.sk-estimator:hover {background-color: #d4ebff;}#sk-container-id-1 div.sk-parallel-item::after {content: \"\";width: 100%;border-bottom: 1px solid gray;flex-grow: 1;}#sk-container-id-1 div.sk-label:hover label.sk-toggleable__label {background-color: #d4ebff;}#sk-container-id-1 div.sk-serial::before {content: \"\";position: absolute;border-left: 1px solid gray;box-sizing: border-box;top: 0;bottom: 0;left: 50%;z-index: 0;}#sk-container-id-1 div.sk-serial {display: flex;flex-direction: column;align-items: center;background-color: white;padding-right: 0.2em;padding-left: 0.2em;position: relative;}#sk-container-id-1 div.sk-item {position: relative;z-index: 1;}#sk-container-id-1 div.sk-parallel {display: flex;align-items: stretch;justify-content: center;background-color: white;position: relative;}#sk-container-id-1 div.sk-item::before, #sk-container-id-1 div.sk-parallel-item::before {content: \"\";position: absolute;border-left: 1px solid gray;box-sizing: border-box;top: 0;bottom: 0;left: 50%;z-index: -1;}#sk-container-id-1 div.sk-parallel-item {display: flex;flex-direction: column;z-index: 1;position: relative;background-color: white;}#sk-container-id-1 div.sk-parallel-item:first-child::after {align-self: flex-end;width: 50%;}#sk-container-id-1 div.sk-parallel-item:last-child::after {align-self: flex-start;width: 50%;}#sk-container-id-1 div.sk-parallel-item:only-child::after {width: 0;}#sk-container-id-1 div.sk-dashed-wrapped {border: 1px dashed gray;margin: 0 0.4em 0.5em 0.4em;box-sizing: border-box;padding-bottom: 0.4em;background-color: white;}#sk-container-id-1 div.sk-label label {font-family: monospace;font-weight: bold;display: inline-block;line-height: 1.2em;}#sk-container-id-1 div.sk-label-container {text-align: center;}#sk-container-id-1 div.sk-container {/* jupyter's `normalize.less` sets `[hidden] { display: none; }` but bootstrap.min.css set `[hidden] { display: none !important; }` so we also need the `!important` here to be able to override the default hidden behavior on the sphinx rendered scikit-learn.org. See: https://github.com/scikit-learn/scikit-learn/issues/21755 */display: inline-block !important;position: relative;}#sk-container-id-1 div.sk-text-repr-fallback {display: none;}</style><div id=\"sk-container-id-1\" class=\"sk-top-container\"><div class=\"sk-text-repr-fallback\"><pre>DecisionTreeClassifier(criterion=&#x27;entropy&#x27;, random_state=1)</pre><b>In a Jupyter environment, please rerun this cell to show the HTML representation or trust the notebook. <br />On GitHub, the HTML representation is unable to render, please try loading this page with nbviewer.org.</b></div><div class=\"sk-container\" hidden><div class=\"sk-item\"><div class=\"sk-estimator sk-toggleable\"><input class=\"sk-toggleable__control sk-hidden--visually\" id=\"sk-estimator-id-1\" type=\"checkbox\" checked><label for=\"sk-estimator-id-1\" class=\"sk-toggleable__label sk-toggleable__label-arrow\">DecisionTreeClassifier</label><div class=\"sk-toggleable__content\"><pre>DecisionTreeClassifier(criterion=&#x27;entropy&#x27;, random_state=1)</pre></div></div></div></div></div>"
      ],
      "text/plain": [
       "DecisionTreeClassifier(criterion='entropy', random_state=1)"
      ]
     },
     "execution_count": 9,
     "metadata": {},
     "output_type": "execute_result"
    }
   ],
   "source": [
    "tree.fit(X_train, y_train)"
   ]
  },
  {
   "cell_type": "markdown",
   "metadata": {
    "id": "kFU4TkO5tmxI"
   },
   "source": [
    "## 5) Make Predictions on Testing Data\n"
   ]
  },
  {
   "cell_type": "code",
   "execution_count": 10,
   "metadata": {
    "id": "hfEvzjmYtmNC"
   },
   "outputs": [],
   "source": [
    "y_pred = tree.predict(X_test)"
   ]
  },
  {
   "cell_type": "markdown",
   "metadata": {
    "id": "UoleGJwBmwmB"
   },
   "source": [
    "## 6) Score Accuracy"
   ]
  },
  {
   "cell_type": "markdown",
   "metadata": {
    "id": "-hiOPyIzw85k"
   },
   "source": [
    "\n",
    "\n",
    "*   Produce a Classification Report\n",
    "*   Plot a ROC Curve\n",
    "\n"
   ]
  },
  {
   "cell_type": "code",
   "execution_count": 11,
   "metadata": {
    "id": "ZTbZiIQkmwOX"
   },
   "outputs": [
    {
     "name": "stdout",
     "output_type": "stream",
     "text": [
      "              precision    recall  f1-score   support\n",
      "\n",
      "           0       0.74      0.75      0.75       974\n",
      "           1       0.38      0.37      0.37       401\n",
      "\n",
      "    accuracy                           0.64      1375\n",
      "   macro avg       0.56      0.56      0.56      1375\n",
      "weighted avg       0.64      0.64      0.64      1375\n",
      "\n"
     ]
    }
   ],
   "source": [
    "print(classification_report(y_test, y_pred))"
   ]
  },
  {
   "cell_type": "markdown",
   "metadata": {
    "id": "3FSZ-T9Jwv40"
   },
   "source": [
    "Is it good model? Why? Why Not?"
   ]
  },
  {
   "cell_type": "markdown",
   "metadata": {
    "id": "rfxfqx4syOaB"
   },
   "source": [
    "**Answer:** Not a very good model. Overall Accuracy is 64%, but Recall is 37%: only a third of the defaulting credits can be identified. Precision is 38%: Only 4 out of 10 credits that are flagged as defaulting actually default."
   ]
  },
  {
   "cell_type": "markdown",
   "metadata": {
    "id": "H50r8jaQrmJv"
   },
   "source": [
    "# Build a better model - Apply a Random Forest"
   ]
  },
  {
   "cell_type": "markdown",
   "metadata": {
    "id": "lIc21l16jpww"
   },
   "source": [
    "## 1) Import Model Function"
   ]
  },
  {
   "cell_type": "code",
   "execution_count": 12,
   "metadata": {
    "id": "aMKNT981rtp2"
   },
   "outputs": [],
   "source": [
    "from sklearn.ensemble import RandomForestClassifier\n",
    "from sklearn.model_selection import train_test_split\n",
    "from sklearn.metrics import classification_report"
   ]
  },
  {
   "cell_type": "markdown",
   "metadata": {
    "id": "FrfQxOKPx29k"
   },
   "source": [
    "## 2) Instantiate Model\n",
    "\n",
    "Build a random forest with 500 Trees"
   ]
  },
  {
   "cell_type": "code",
   "execution_count": 13,
   "metadata": {
    "id": "yEpR_vZzx4es"
   },
   "outputs": [],
   "source": [
    "forest = RandomForestClassifier(n_estimators=500, random_state = 1)"
   ]
  },
  {
   "cell_type": "markdown",
   "metadata": {
    "id": "rRnzsB4zyHqs"
   },
   "source": [
    "## 3) Create Test & Training Data"
   ]
  },
  {
   "cell_type": "code",
   "execution_count": 14,
   "metadata": {
    "id": "Ab-dNUxQYU3A"
   },
   "outputs": [],
   "source": [
    "X_train, X_test, y_train, y_test = train_test_split(X, y, test_size=0.3, random_state=1)"
   ]
  },
  {
   "cell_type": "markdown",
   "metadata": {
    "id": "C9YGJMs0juMf"
   },
   "source": [
    "## 4) Fit Model to Training Data"
   ]
  },
  {
   "cell_type": "code",
   "execution_count": 15,
   "metadata": {
    "id": "o9k7Rd8fVTxl"
   },
   "outputs": [
    {
     "data": {
      "text/html": [
       "<style>#sk-container-id-2 {color: black;background-color: white;}#sk-container-id-2 pre{padding: 0;}#sk-container-id-2 div.sk-toggleable {background-color: white;}#sk-container-id-2 label.sk-toggleable__label {cursor: pointer;display: block;width: 100%;margin-bottom: 0;padding: 0.3em;box-sizing: border-box;text-align: center;}#sk-container-id-2 label.sk-toggleable__label-arrow:before {content: \"▸\";float: left;margin-right: 0.25em;color: #696969;}#sk-container-id-2 label.sk-toggleable__label-arrow:hover:before {color: black;}#sk-container-id-2 div.sk-estimator:hover label.sk-toggleable__label-arrow:before {color: black;}#sk-container-id-2 div.sk-toggleable__content {max-height: 0;max-width: 0;overflow: hidden;text-align: left;background-color: #f0f8ff;}#sk-container-id-2 div.sk-toggleable__content pre {margin: 0.2em;color: black;border-radius: 0.25em;background-color: #f0f8ff;}#sk-container-id-2 input.sk-toggleable__control:checked~div.sk-toggleable__content {max-height: 200px;max-width: 100%;overflow: auto;}#sk-container-id-2 input.sk-toggleable__control:checked~label.sk-toggleable__label-arrow:before {content: \"▾\";}#sk-container-id-2 div.sk-estimator input.sk-toggleable__control:checked~label.sk-toggleable__label {background-color: #d4ebff;}#sk-container-id-2 div.sk-label input.sk-toggleable__control:checked~label.sk-toggleable__label {background-color: #d4ebff;}#sk-container-id-2 input.sk-hidden--visually {border: 0;clip: rect(1px 1px 1px 1px);clip: rect(1px, 1px, 1px, 1px);height: 1px;margin: -1px;overflow: hidden;padding: 0;position: absolute;width: 1px;}#sk-container-id-2 div.sk-estimator {font-family: monospace;background-color: #f0f8ff;border: 1px dotted black;border-radius: 0.25em;box-sizing: border-box;margin-bottom: 0.5em;}#sk-container-id-2 div.sk-estimator:hover {background-color: #d4ebff;}#sk-container-id-2 div.sk-parallel-item::after {content: \"\";width: 100%;border-bottom: 1px solid gray;flex-grow: 1;}#sk-container-id-2 div.sk-label:hover label.sk-toggleable__label {background-color: #d4ebff;}#sk-container-id-2 div.sk-serial::before {content: \"\";position: absolute;border-left: 1px solid gray;box-sizing: border-box;top: 0;bottom: 0;left: 50%;z-index: 0;}#sk-container-id-2 div.sk-serial {display: flex;flex-direction: column;align-items: center;background-color: white;padding-right: 0.2em;padding-left: 0.2em;position: relative;}#sk-container-id-2 div.sk-item {position: relative;z-index: 1;}#sk-container-id-2 div.sk-parallel {display: flex;align-items: stretch;justify-content: center;background-color: white;position: relative;}#sk-container-id-2 div.sk-item::before, #sk-container-id-2 div.sk-parallel-item::before {content: \"\";position: absolute;border-left: 1px solid gray;box-sizing: border-box;top: 0;bottom: 0;left: 50%;z-index: -1;}#sk-container-id-2 div.sk-parallel-item {display: flex;flex-direction: column;z-index: 1;position: relative;background-color: white;}#sk-container-id-2 div.sk-parallel-item:first-child::after {align-self: flex-end;width: 50%;}#sk-container-id-2 div.sk-parallel-item:last-child::after {align-self: flex-start;width: 50%;}#sk-container-id-2 div.sk-parallel-item:only-child::after {width: 0;}#sk-container-id-2 div.sk-dashed-wrapped {border: 1px dashed gray;margin: 0 0.4em 0.5em 0.4em;box-sizing: border-box;padding-bottom: 0.4em;background-color: white;}#sk-container-id-2 div.sk-label label {font-family: monospace;font-weight: bold;display: inline-block;line-height: 1.2em;}#sk-container-id-2 div.sk-label-container {text-align: center;}#sk-container-id-2 div.sk-container {/* jupyter's `normalize.less` sets `[hidden] { display: none; }` but bootstrap.min.css set `[hidden] { display: none !important; }` so we also need the `!important` here to be able to override the default hidden behavior on the sphinx rendered scikit-learn.org. See: https://github.com/scikit-learn/scikit-learn/issues/21755 */display: inline-block !important;position: relative;}#sk-container-id-2 div.sk-text-repr-fallback {display: none;}</style><div id=\"sk-container-id-2\" class=\"sk-top-container\"><div class=\"sk-text-repr-fallback\"><pre>RandomForestClassifier(n_estimators=500, random_state=1)</pre><b>In a Jupyter environment, please rerun this cell to show the HTML representation or trust the notebook. <br />On GitHub, the HTML representation is unable to render, please try loading this page with nbviewer.org.</b></div><div class=\"sk-container\" hidden><div class=\"sk-item\"><div class=\"sk-estimator sk-toggleable\"><input class=\"sk-toggleable__control sk-hidden--visually\" id=\"sk-estimator-id-2\" type=\"checkbox\" checked><label for=\"sk-estimator-id-2\" class=\"sk-toggleable__label sk-toggleable__label-arrow\">RandomForestClassifier</label><div class=\"sk-toggleable__content\"><pre>RandomForestClassifier(n_estimators=500, random_state=1)</pre></div></div></div></div></div>"
      ],
      "text/plain": [
       "RandomForestClassifier(n_estimators=500, random_state=1)"
      ]
     },
     "execution_count": 15,
     "metadata": {},
     "output_type": "execute_result"
    }
   ],
   "source": [
    "forest.fit(X_train, y_train)"
   ]
  },
  {
   "cell_type": "markdown",
   "metadata": {
    "id": "syXwseN9j2MX"
   },
   "source": [
    "## 5) Make Predictions on Testing Data"
   ]
  },
  {
   "cell_type": "code",
   "execution_count": 16,
   "metadata": {
    "id": "3P4C-e80xL_Q"
   },
   "outputs": [],
   "source": [
    "y_pred = forest.predict(X_test)"
   ]
  },
  {
   "cell_type": "markdown",
   "metadata": {
    "id": "5z0tVIMcs7Uj"
   },
   "source": [
    "## 6) Evaluate Performance"
   ]
  },
  {
   "cell_type": "code",
   "execution_count": 17,
   "metadata": {
    "id": "YIMWZxHVYYP5"
   },
   "outputs": [
    {
     "name": "stdout",
     "output_type": "stream",
     "text": [
      "              precision    recall  f1-score   support\n",
      "\n",
      "           0       0.75      0.92      0.83       974\n",
      "           1       0.56      0.24      0.33       401\n",
      "\n",
      "    accuracy                           0.72      1375\n",
      "   macro avg       0.65      0.58      0.58      1375\n",
      "weighted avg       0.69      0.72      0.68      1375\n",
      "\n"
     ]
    }
   ],
   "source": [
    "print(classification_report(y_test, y_pred))"
   ]
  },
  {
   "cell_type": "markdown",
   "metadata": {
    "id": "unSUQzNc6_rq"
   },
   "source": [
    "Compare the RandomForest to the DedicionTree? Why model is better?"
   ]
  },
  {
   "cell_type": "markdown",
   "metadata": {
    "id": "_bkCebOd0XEm"
   },
   "source": [
    "**Answer:** Overall accuraccy has increased to 72% (this is quite substantial from 64%). Precision increased to 56% - this is again better and we make more accurate identify defaulting credits. But recall is very low only 24% of defaulting credits are identified."
   ]
  },
  {
   "cell_type": "markdown",
   "metadata": {
    "id": "d2vQiEGoektL"
   },
   "source": [
    "# Try To Further Improve the RandomForest with Cross Validation"
   ]
  },
  {
   "cell_type": "markdown",
   "metadata": {
    "id": "UP2No7yi6_Rm"
   },
   "source": [
    "Apply GridSearch to The Random Forest vary\n",
    "\n",
    "*   values for max_depth 20,30, and 40\n",
    "*   values for n_estimators (number of trees) to 500 and 1000\n",
    "\n",
    "It may take a couple of minutes....\n",
    "\n",
    "\n"
   ]
  },
  {
   "cell_type": "markdown",
   "metadata": {
    "id": "hto7AECzzx70"
   },
   "source": [
    "## 1) Import GridSearchCV and Define a Parameter Grid"
   ]
  },
  {
   "cell_type": "code",
   "execution_count": 18,
   "metadata": {
    "id": "yDoWkQxrZ0I4"
   },
   "outputs": [],
   "source": [
    "from sklearn.model_selection import GridSearchCV\n",
    "\n",
    "parameters = {'max_depth':[20,40,60], \n",
    "              'n_estimators':[500,1000]}\n",
    "forest_CV = GridSearchCV(RandomForestClassifier(random_state=1), parameters, n_jobs=5)"
   ]
  },
  {
   "cell_type": "markdown",
   "metadata": {
    "id": "ZhTxnqBO02Uw"
   },
   "source": [
    "How many Cross Validation Folds does the model training apply?"
   ]
  },
  {
   "cell_type": "markdown",
   "metadata": {
    "id": "k7N-7BGY07U5"
   },
   "source": [
    "**Answer:** 5"
   ]
  },
  {
   "cell_type": "markdown",
   "metadata": {
    "id": "aDwmnCXjz9cc"
   },
   "source": [
    "## 2) Fit forest_CV object"
   ]
  },
  {
   "cell_type": "code",
   "execution_count": 19,
   "metadata": {
    "id": "_pAua5iX172r"
   },
   "outputs": [
    {
     "data": {
      "text/html": [
       "<style>#sk-container-id-3 {color: black;background-color: white;}#sk-container-id-3 pre{padding: 0;}#sk-container-id-3 div.sk-toggleable {background-color: white;}#sk-container-id-3 label.sk-toggleable__label {cursor: pointer;display: block;width: 100%;margin-bottom: 0;padding: 0.3em;box-sizing: border-box;text-align: center;}#sk-container-id-3 label.sk-toggleable__label-arrow:before {content: \"▸\";float: left;margin-right: 0.25em;color: #696969;}#sk-container-id-3 label.sk-toggleable__label-arrow:hover:before {color: black;}#sk-container-id-3 div.sk-estimator:hover label.sk-toggleable__label-arrow:before {color: black;}#sk-container-id-3 div.sk-toggleable__content {max-height: 0;max-width: 0;overflow: hidden;text-align: left;background-color: #f0f8ff;}#sk-container-id-3 div.sk-toggleable__content pre {margin: 0.2em;color: black;border-radius: 0.25em;background-color: #f0f8ff;}#sk-container-id-3 input.sk-toggleable__control:checked~div.sk-toggleable__content {max-height: 200px;max-width: 100%;overflow: auto;}#sk-container-id-3 input.sk-toggleable__control:checked~label.sk-toggleable__label-arrow:before {content: \"▾\";}#sk-container-id-3 div.sk-estimator input.sk-toggleable__control:checked~label.sk-toggleable__label {background-color: #d4ebff;}#sk-container-id-3 div.sk-label input.sk-toggleable__control:checked~label.sk-toggleable__label {background-color: #d4ebff;}#sk-container-id-3 input.sk-hidden--visually {border: 0;clip: rect(1px 1px 1px 1px);clip: rect(1px, 1px, 1px, 1px);height: 1px;margin: -1px;overflow: hidden;padding: 0;position: absolute;width: 1px;}#sk-container-id-3 div.sk-estimator {font-family: monospace;background-color: #f0f8ff;border: 1px dotted black;border-radius: 0.25em;box-sizing: border-box;margin-bottom: 0.5em;}#sk-container-id-3 div.sk-estimator:hover {background-color: #d4ebff;}#sk-container-id-3 div.sk-parallel-item::after {content: \"\";width: 100%;border-bottom: 1px solid gray;flex-grow: 1;}#sk-container-id-3 div.sk-label:hover label.sk-toggleable__label {background-color: #d4ebff;}#sk-container-id-3 div.sk-serial::before {content: \"\";position: absolute;border-left: 1px solid gray;box-sizing: border-box;top: 0;bottom: 0;left: 50%;z-index: 0;}#sk-container-id-3 div.sk-serial {display: flex;flex-direction: column;align-items: center;background-color: white;padding-right: 0.2em;padding-left: 0.2em;position: relative;}#sk-container-id-3 div.sk-item {position: relative;z-index: 1;}#sk-container-id-3 div.sk-parallel {display: flex;align-items: stretch;justify-content: center;background-color: white;position: relative;}#sk-container-id-3 div.sk-item::before, #sk-container-id-3 div.sk-parallel-item::before {content: \"\";position: absolute;border-left: 1px solid gray;box-sizing: border-box;top: 0;bottom: 0;left: 50%;z-index: -1;}#sk-container-id-3 div.sk-parallel-item {display: flex;flex-direction: column;z-index: 1;position: relative;background-color: white;}#sk-container-id-3 div.sk-parallel-item:first-child::after {align-self: flex-end;width: 50%;}#sk-container-id-3 div.sk-parallel-item:last-child::after {align-self: flex-start;width: 50%;}#sk-container-id-3 div.sk-parallel-item:only-child::after {width: 0;}#sk-container-id-3 div.sk-dashed-wrapped {border: 1px dashed gray;margin: 0 0.4em 0.5em 0.4em;box-sizing: border-box;padding-bottom: 0.4em;background-color: white;}#sk-container-id-3 div.sk-label label {font-family: monospace;font-weight: bold;display: inline-block;line-height: 1.2em;}#sk-container-id-3 div.sk-label-container {text-align: center;}#sk-container-id-3 div.sk-container {/* jupyter's `normalize.less` sets `[hidden] { display: none; }` but bootstrap.min.css set `[hidden] { display: none !important; }` so we also need the `!important` here to be able to override the default hidden behavior on the sphinx rendered scikit-learn.org. See: https://github.com/scikit-learn/scikit-learn/issues/21755 */display: inline-block !important;position: relative;}#sk-container-id-3 div.sk-text-repr-fallback {display: none;}</style><div id=\"sk-container-id-3\" class=\"sk-top-container\"><div class=\"sk-text-repr-fallback\"><pre>GridSearchCV(estimator=RandomForestClassifier(random_state=1), n_jobs=5,\n",
       "             param_grid={&#x27;max_depth&#x27;: [20, 40, 60],\n",
       "                         &#x27;n_estimators&#x27;: [500, 1000]})</pre><b>In a Jupyter environment, please rerun this cell to show the HTML representation or trust the notebook. <br />On GitHub, the HTML representation is unable to render, please try loading this page with nbviewer.org.</b></div><div class=\"sk-container\" hidden><div class=\"sk-item sk-dashed-wrapped\"><div class=\"sk-label-container\"><div class=\"sk-label sk-toggleable\"><input class=\"sk-toggleable__control sk-hidden--visually\" id=\"sk-estimator-id-3\" type=\"checkbox\" ><label for=\"sk-estimator-id-3\" class=\"sk-toggleable__label sk-toggleable__label-arrow\">GridSearchCV</label><div class=\"sk-toggleable__content\"><pre>GridSearchCV(estimator=RandomForestClassifier(random_state=1), n_jobs=5,\n",
       "             param_grid={&#x27;max_depth&#x27;: [20, 40, 60],\n",
       "                         &#x27;n_estimators&#x27;: [500, 1000]})</pre></div></div></div><div class=\"sk-parallel\"><div class=\"sk-parallel-item\"><div class=\"sk-item\"><div class=\"sk-label-container\"><div class=\"sk-label sk-toggleable\"><input class=\"sk-toggleable__control sk-hidden--visually\" id=\"sk-estimator-id-4\" type=\"checkbox\" ><label for=\"sk-estimator-id-4\" class=\"sk-toggleable__label sk-toggleable__label-arrow\">estimator: RandomForestClassifier</label><div class=\"sk-toggleable__content\"><pre>RandomForestClassifier(random_state=1)</pre></div></div></div><div class=\"sk-serial\"><div class=\"sk-item\"><div class=\"sk-estimator sk-toggleable\"><input class=\"sk-toggleable__control sk-hidden--visually\" id=\"sk-estimator-id-5\" type=\"checkbox\" ><label for=\"sk-estimator-id-5\" class=\"sk-toggleable__label sk-toggleable__label-arrow\">RandomForestClassifier</label><div class=\"sk-toggleable__content\"><pre>RandomForestClassifier(random_state=1)</pre></div></div></div></div></div></div></div></div></div></div>"
      ],
      "text/plain": [
       "GridSearchCV(estimator=RandomForestClassifier(random_state=1), n_jobs=5,\n",
       "             param_grid={'max_depth': [20, 40, 60],\n",
       "                         'n_estimators': [500, 1000]})"
      ]
     },
     "execution_count": 19,
     "metadata": {},
     "output_type": "execute_result"
    }
   ],
   "source": [
    "forest_CV.fit(X_train, y_train)"
   ]
  },
  {
   "cell_type": "markdown",
   "metadata": {
    "id": "iVh3fNHz7k5m"
   },
   "source": [
    "## 3) Get best parameters of RandomForest"
   ]
  },
  {
   "cell_type": "code",
   "execution_count": 20,
   "metadata": {
    "id": "IzPTvywU6R8u"
   },
   "outputs": [
    {
     "data": {
      "text/plain": [
       "{'max_depth': 20, 'n_estimators': 500}"
      ]
     },
     "execution_count": 20,
     "metadata": {},
     "output_type": "execute_result"
    }
   ],
   "source": [
    "forest_CV.best_params_"
   ]
  },
  {
   "cell_type": "markdown",
   "metadata": {
    "id": "LgyDZwQv7bOw"
   },
   "source": [
    "## 5) Make Prediction on Testing Data"
   ]
  },
  {
   "cell_type": "code",
   "execution_count": 21,
   "metadata": {
    "id": "Ou31KfXA4YaH"
   },
   "outputs": [],
   "source": [
    "y_pred = forest_CV.predict(X_test)"
   ]
  },
  {
   "cell_type": "markdown",
   "metadata": {
    "id": "UDOT2dxb8KbT"
   },
   "source": [
    "## 6) Evaluate Performance "
   ]
  },
  {
   "cell_type": "code",
   "execution_count": 22,
   "metadata": {
    "id": "7fN3Uz8h1eH9"
   },
   "outputs": [
    {
     "name": "stdout",
     "output_type": "stream",
     "text": [
      "              precision    recall  f1-score   support\n",
      "\n",
      "           0       0.75      0.92      0.83       974\n",
      "           1       0.57      0.25      0.35       401\n",
      "\n",
      "    accuracy                           0.73      1375\n",
      "   macro avg       0.66      0.59      0.59      1375\n",
      "weighted avg       0.70      0.73      0.69      1375\n",
      "\n"
     ]
    }
   ],
   "source": [
    "print(classification_report(y_test, y_pred))"
   ]
  },
  {
   "cell_type": "markdown",
   "metadata": {
    "id": "fXhg0eLG0TAc"
   },
   "source": [
    "Has we model improved? "
   ]
  },
  {
   "cell_type": "markdown",
   "metadata": {
    "id": "Q-ZXenJl0VaM"
   },
   "source": [
    "**Answer:**  yes, but marginally"
   ]
  }
 ],
 "metadata": {
  "colab": {
   "collapsed_sections": [
    "FrfQxOKPx29k"
   ],
   "name": "Recap Classification COMPLETED.ipynb",
   "provenance": [],
   "toc_visible": true
  },
  "kernelspec": {
   "display_name": "Python 3 (ipykernel)",
   "language": "python",
   "name": "python3"
  },
  "language_info": {
   "codemirror_mode": {
    "name": "ipython",
    "version": 3
   },
   "file_extension": ".py",
   "mimetype": "text/x-python",
   "name": "python",
   "nbconvert_exporter": "python",
   "pygments_lexer": "ipython3",
   "version": "3.9.12"
  }
 },
 "nbformat": 4,
 "nbformat_minor": 1
}
